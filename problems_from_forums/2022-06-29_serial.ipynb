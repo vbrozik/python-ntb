{
 "cells": [
  {
   "cell_type": "markdown",
   "id": "e8921710-8169-463e-8035-5598bae155f5",
   "metadata": {},
   "source": [
    "* https://discuss.python.org/t/serial-read-with-python/16925?u=vbrozik\n",
    "* https://pyserial.readthedocs.io/en/latest/pyserial.html"
   ]
  },
  {
   "cell_type": "code",
   "execution_count": null,
   "id": "78c80842-01e1-4350-8d85-7a366c10ddb2",
   "metadata": {},
   "outputs": [],
   "source": [
    "import serial\n",
    "\n",
    "with serial.Serial(\n",
    "        port='COM4', timeout=5                     # set your parameters as needed, reading timeout 5 seconds\n",
    "        ) as ser:\n",
    "    while True:\n",
    "        record = ser.read_until(expected=b'\\x00')  # read null-terminated records\n",
    "        if not record or record[-1] != 0:          # incomplete record => timeout => quit the loop\n",
    "            break\n",
    "        value = float(record.rstrip(b'\\r\\n\\x00'))  # remove CR, LF and NULL at the end\n",
    "        print(value)                               # do whatever with the value"
   ]
  }
 ],
 "metadata": {
  "kernelspec": {
   "display_name": "Python 3 (ipykernel)",
   "language": "python",
   "name": "python3"
  },
  "language_info": {
   "codemirror_mode": {
    "name": "ipython",
    "version": 3
   },
   "file_extension": ".py",
   "mimetype": "text/x-python",
   "name": "python",
   "nbconvert_exporter": "python",
   "pygments_lexer": "ipython3",
   "version": "3.10.4"
  }
 },
 "nbformat": 4,
 "nbformat_minor": 5
}
