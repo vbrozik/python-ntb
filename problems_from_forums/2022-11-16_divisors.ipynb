{
 "cells": [
  {
   "cell_type": "markdown",
   "id": "0a83f47e-5854-4ad4-b234-0c1d90d186d8",
   "metadata": {},
   "source": [
    "# Number divisors\n",
    "\n",
    "https://discuss.python.org/t/need-help-with-beginner-math-program/21124?u=vbrozik"
   ]
  },
  {
   "cell_type": "markdown",
   "id": "b196a664-3776-4b9b-b7f5-33db65d7b9b2",
   "metadata": {},
   "source": [
    "For a given number find all divisors except 1 and the number itself. I.e. for a prime number we will get an empty list."
   ]
  },
  {
   "cell_type": "code",
   "execution_count": 1,
   "id": "c39bb462-26f3-4f9f-908d-8cdc00181db9",
   "metadata": {},
   "outputs": [],
   "source": [
    "def divisors(number: int) -> list[int]:\n",
    "    return [\n",
    "            divisor for divisor in range(2, number // 2 + 1)\n",
    "            if number % divisor == 0]"
   ]
  },
  {
   "cell_type": "code",
   "execution_count": 2,
   "id": "01f514a0-a897-462e-8af1-bd4460a15ae7",
   "metadata": {},
   "outputs": [
    {
     "data": {
      "text/plain": [
       "[2, 4]"
      ]
     },
     "execution_count": 2,
     "metadata": {},
     "output_type": "execute_result"
    }
   ],
   "source": [
    "divisors(8)"
   ]
  },
  {
   "cell_type": "code",
   "execution_count": 3,
   "id": "0087a762-bc9d-4531-9a5d-c05863873bb9",
   "metadata": {},
   "outputs": [
    {
     "data": {
      "text/plain": [
       "[]"
      ]
     },
     "execution_count": 3,
     "metadata": {},
     "output_type": "execute_result"
    }
   ],
   "source": [
    "divisors(11)"
   ]
  }
 ],
 "metadata": {
  "kernelspec": {
   "display_name": "Python 3 (ipykernel)",
   "language": "python",
   "name": "python3"
  },
  "language_info": {
   "codemirror_mode": {
    "name": "ipython",
    "version": 3
   },
   "file_extension": ".py",
   "mimetype": "text/x-python",
   "name": "python",
   "nbconvert_exporter": "python",
   "pygments_lexer": "ipython3",
   "version": "3.10.6"
  }
 },
 "nbformat": 4,
 "nbformat_minor": 5
}
