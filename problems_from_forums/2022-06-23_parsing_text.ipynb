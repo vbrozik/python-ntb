{
 "cells": [
  {
   "cell_type": "markdown",
   "id": "cf283e70-effc-4264-8777-8bb5213cbae6",
   "metadata": {
    "tags": []
   },
   "source": [
    "Parsing Text File\n",
    "* https://discuss.python.org/t/parsing-text-file/16767?u=vbrozik\n",
    "\n",
    "Extract values from column `Value/cm-1`"
   ]
  },
  {
   "cell_type": "code",
   "execution_count": 6,
   "id": "b00156b4-b702-4054-9a96-95ff2d1ff4ca",
   "metadata": {},
   "outputs": [
    {
     "name": "stdout",
     "output_type": "stream",
     "text": [
      "Writing 2022-06-23_parsing_text.txt\n"
     ]
    }
   ],
   "source": [
    "%%writefile 2022-06-23_parsing_text.txt\n",
    "11688 Data ; Jmax 90 ; St Dev 0.159\n",
    "#5. 5. 2. 3. 3. .5 Spin Statistics , Spin Y\n",
    "P1 D66 0 1 0 1 P0 D6 0 0 0 0 D1 dip\n",
    "801.0 264.0 1031.5 388.4 0.13778094357E+00 0.42182248646E-07\n",
    "72 0.d+00 0 Para Number ; Model Accuracy Parameters\n",
    "28SiF4\n",
    "Dim 21 fév 2021 16:09:29 CET Hmn Frdm Value/cm-1 St.Dev./cm-1\n",
    "1 2(0,0A1) 0000A1 0000A1 A1 02 224 0.13778023448E+00 0.3915693E-06\n",
    "2 4(0,0A1) 0000A1 0000A1 A1 04 139 -0.41039338392E-07 0.6560125E-10\n",
    "3 4(4,0A1) 0000A1 0000A1 A1 04 536 -0.33591716068E-08 0.4290270E-11\n",
    "4 6(0,0A1) 0000A1 0000A1 A1 06 0 0.00000000000E+00 0.0000000E+00\n",
    "5 6(4,0A1) 0000A1 0000A1 A1 06 0 0.00000000000E+00 0.0000000E+00\n",
    "6 6(6,0A1) 0000A1 0000A1 A1 06 0 0.00000000000E+00 0.0000000E+00\n",
    "7 8(0,0A1) 0000A1 0000A1 A1 08 0 0.00000000000E+00 0.0000000E+00\n",
    "8 8(4,0A1) 0000A1 0000A1 A1 08 0 0.00000000000E+00 0.0000000E+00\n",
    "9 8(6,0A1) 0000A1 0000A1 A1 08 0 0.00000000000E+00 0.0000000E+00\n",
    "10 8(8,0A1) 0000A1 0000A1 A1 08 0 0.00000000000E+00 0.0000000E+00\n",
    "11 0(0,0A1) 0100E 0100E A1 20 330 0.26421941002E+03 0.3967863E-04\n",
    "12 2(0,0A1) 0100E 0100E A1 22 130 -0.14303321917E-03 0.3393096E-07\n",
    "13 2(2,0E ) 0100E 0100E E 22 248 -0.46790609420E-04 0.2657215E-07\n",
    "14 3(3,0A2) 0100E 0100E A2 23 197 0.14085216624E-06 0.2969422E-09\n",
    "15 4(0,0A1) 0100E 0100E A1 24 152 0.38404874052E-09 0.6656298E-11\n",
    "16 4(2,0E ) 0100E 0100E E 24 204 -0.10234422562E-09 0.3485302E-11"
   ]
  },
  {
   "cell_type": "code",
   "execution_count": 1,
   "id": "f6dfa4e9-7656-4185-8d02-42964d898c17",
   "metadata": {},
   "outputs": [],
   "source": [
    "input_lines = \"\"\"\n",
    "11688 Data ; Jmax 90 ; St Dev 0.159\n",
    "#5. 5. 2. 3. 3. .5 Spin Statistics , Spin Y\n",
    "P1 D66 0 1 0 1 P0 D6 0 0 0 0 D1 dip\n",
    "801.0 264.0 1031.5 388.4 0.13778094357E+00 0.42182248646E-07\n",
    "72 0.d+00 0 Para Number ; Model Accuracy Parameters\n",
    "28SiF4\n",
    "Dim 21 fév 2021 16:09:29 CET Hmn Frdm Value/cm-1 St.Dev./cm-1\n",
    "1 2(0,0A1) 0000A1 0000A1 A1 02 224 0.13778023448E+00 0.3915693E-06\n",
    "2 4(0,0A1) 0000A1 0000A1 A1 04 139 -0.41039338392E-07 0.6560125E-10\n",
    "3 4(4,0A1) 0000A1 0000A1 A1 04 536 -0.33591716068E-08 0.4290270E-11\n",
    "4 6(0,0A1) 0000A1 0000A1 A1 06 0 0.00000000000E+00 0.0000000E+00\n",
    "5 6(4,0A1) 0000A1 0000A1 A1 06 0 0.00000000000E+00 0.0000000E+00\n",
    "6 6(6,0A1) 0000A1 0000A1 A1 06 0 0.00000000000E+00 0.0000000E+00\n",
    "7 8(0,0A1) 0000A1 0000A1 A1 08 0 0.00000000000E+00 0.0000000E+00\n",
    "8 8(4,0A1) 0000A1 0000A1 A1 08 0 0.00000000000E+00 0.0000000E+00\n",
    "9 8(6,0A1) 0000A1 0000A1 A1 08 0 0.00000000000E+00 0.0000000E+00\n",
    "10 8(8,0A1) 0000A1 0000A1 A1 08 0 0.00000000000E+00 0.0000000E+00\n",
    "11 0(0,0A1) 0100E 0100E A1 20 330 0.26421941002E+03 0.3967863E-04\n",
    "12 2(0,0A1) 0100E 0100E A1 22 130 -0.14303321917E-03 0.3393096E-07\n",
    "13 2(2,0E ) 0100E 0100E E 22 248 -0.46790609420E-04 0.2657215E-07\n",
    "14 3(3,0A2) 0100E 0100E A2 23 197 0.14085216624E-06 0.2969422E-09\n",
    "15 4(0,0A1) 0100E 0100E A1 24 152 0.38404874052E-09 0.6656298E-11\n",
    "16 4(2,0E ) 0100E 0100E E 24 204 -0.10234422562E-09 0.3485302E-11\n",
    "\"\"\".splitlines()"
   ]
  },
  {
   "cell_type": "code",
   "execution_count": 14,
   "id": "6322c6f0-2b06-4898-9698-417671996f97",
   "metadata": {},
   "outputs": [
    {
     "data": {
      "text/plain": [
       "[0.13778023448,\n",
       " -4.1039338392e-08,\n",
       " -3.3591716068e-09,\n",
       " 0.0,\n",
       " 0.0,\n",
       " 0.0,\n",
       " 0.0,\n",
       " 0.0,\n",
       " 0.0,\n",
       " 0.0,\n",
       " 264.21941002,\n",
       " -0.00014303321917,\n",
       " -4.679060942e-05,\n",
       " 1.4085216624e-07,\n",
       " 3.8404874052e-10,\n",
       " -1.0234422562e-10]"
      ]
     },
     "execution_count": 14,
     "metadata": {},
     "output_type": "execute_result"
    }
   ],
   "source": [
    "import re\n",
    "\n",
    "items_re = r'''(?x)      # verbose regex\n",
    "        \\S*\\([^)]*\\)\\S*  # sequence with parenthesis can contain whitespace\n",
    "        | \\S+            # or sequence of any non-whitespace characters\n",
    "        '''\n",
    "\n",
    "def iterate_values(lines, data_column=-2, data_header='Value/cm-1'):\n",
    "    \"\"\"Iterate values from text lines.\"\"\"\n",
    "    min_fields = data_column + 1 if data_column >= 0 else -data_column\n",
    "    in_table = False\n",
    "    for line in lines:\n",
    "        line_fields = re.findall(items_re, line)\n",
    "        if len(line_fields) >= min_fields:\n",
    "            if in_table:\n",
    "                yield float(line_fields[data_column])\n",
    "            elif line_fields[data_column] == data_header:\n",
    "                in_table = True\n",
    "\n",
    "values = list(iterate_values(input_lines))\n",
    "\n",
    "with open('2022-06-23_parsing_text.txt') as input_file:\n",
    "    values = list(iterate_values(input_file))\n",
    "\n",
    "values"
   ]
  }
 ],
 "metadata": {
  "kernelspec": {
   "display_name": "Python 3 (ipykernel)",
   "language": "python",
   "name": "python3"
  },
  "language_info": {
   "codemirror_mode": {
    "name": "ipython",
    "version": 3
   },
   "file_extension": ".py",
   "mimetype": "text/x-python",
   "name": "python",
   "nbconvert_exporter": "python",
   "pygments_lexer": "ipython3",
   "version": "3.10.4"
  }
 },
 "nbformat": 4,
 "nbformat_minor": 5
}
