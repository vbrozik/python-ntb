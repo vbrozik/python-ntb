{
 "cells": [
  {
   "cell_type": "markdown",
   "id": "30df323d-a961-4976-af1f-71841c83b934",
   "metadata": {},
   "source": [
    "https://discuss.python.org/t/trying-to-delete-specific-cookies-from-google-chrome/16867?u=vbrozik"
   ]
  },
  {
   "cell_type": "code",
   "execution_count": 1,
   "id": "a43c4418-6fb8-4ec5-9594-ac1f9f77bdf3",
   "metadata": {},
   "outputs": [
    {
     "name": "stdout",
     "output_type": "stream",
     "text": [
      ".0cf.io\n",
      ".1dmp.io\n",
      ".1rx.io\n",
      ".360yield.com\n",
      ".3lift.com\n",
      ".4dex.io\n",
      ".6sc.co\n",
      ".a.1gr.cz\n"
     ]
    }
   ],
   "source": [
    "import sqlite3\n",
    "import contextlib\n",
    "\n",
    "database_file = '/mnt/c/Users/vaclav.brozik/AppData/Local/Google/Chrome/User Data/Default/Network/Cookies'\n",
    "\n",
    "with contextlib.closing(sqlite3.connect(database_file)) as connection:\n",
    "    cursor = connection.cursor()\n",
    "    for (host_key,) in cursor.execute('SELECT DISTINCT host_key FROM cookies LIMIT 10'):\n",
    "        if len(host_key) < 20:   # skip names containing UUID\n",
    "            print(host_key)"
   ]
  }
 ],
 "metadata": {
  "kernelspec": {
   "display_name": "Python 3 (ipykernel)",
   "language": "python",
   "name": "python3"
  },
  "language_info": {
   "codemirror_mode": {
    "name": "ipython",
    "version": 3
   },
   "file_extension": ".py",
   "mimetype": "text/x-python",
   "name": "python",
   "nbconvert_exporter": "python",
   "pygments_lexer": "ipython3",
   "version": "3.10.4"
  }
 },
 "nbformat": 4,
 "nbformat_minor": 5
}
