{
 "cells": [
  {
   "cell_type": "markdown",
   "id": "743ea34a-1e33-4dd2-82a6-25582f96a236",
   "metadata": {},
   "source": [
    "Simple operations with numbers"
   ]
  },
  {
   "cell_type": "code",
   "execution_count": 2,
   "id": "ee1b08cb-f5b9-4828-acbe-f5f75cc92d6c",
   "metadata": {
    "tags": []
   },
   "outputs": [],
   "source": [
    "def sum_digits(number: int) -> int:\n",
    "    \"\"\"Sum the digits of the integer number. Ignore the number sign.\"\"\"\n",
    "    return sum(\n",
    "                int(digit)\n",
    "                for digit in str(number)\n",
    "                if digit.isdigit())"
   ]
  },
  {
   "cell_type": "code",
   "execution_count": 3,
   "id": "0e327ae6-da53-4c0e-bb0c-bb57e92658b0",
   "metadata": {},
   "outputs": [
    {
     "data": {
      "text/plain": [
       "10"
      ]
     },
     "execution_count": 3,
     "metadata": {},
     "output_type": "execute_result"
    }
   ],
   "source": [
    "sum_digits(1234)"
   ]
  }
 ],
 "metadata": {
  "kernelspec": {
   "display_name": "Python 3 (ipykernel)",
   "language": "python",
   "name": "python3"
  },
  "language_info": {
   "codemirror_mode": {
    "name": "ipython",
    "version": 3
   },
   "file_extension": ".py",
   "mimetype": "text/x-python",
   "name": "python",
   "nbconvert_exporter": "python",
   "pygments_lexer": "ipython3",
   "version": "3.10.4"
  }
 },
 "nbformat": 4,
 "nbformat_minor": 5
}
