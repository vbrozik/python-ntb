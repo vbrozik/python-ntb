{
 "cells": [
  {
   "cell_type": "markdown",
   "id": "81a5c510-7e49-4c59-b405-f6e5b2fdfacf",
   "metadata": {},
   "source": [
    "Task from forum:\n",
    "https://discuss.python.org/t/lists-sorting-a-list/16144"
   ]
  },
  {
   "cell_type": "code",
   "execution_count": 1,
   "id": "06570ee9-f668-4ce0-80a2-9654c10c07d4",
   "metadata": {},
   "outputs": [],
   "source": [
    "from typing import List\n",
    "\n",
    "logs: List = [\n",
    "    ['30-MAY', 'user1', 'LIKE'],\n",
    "    ['29-MAY', 'user20', 'COMMENT'],\n",
    "    ['31-MAY', 'user11', 'COMMENT'],\n",
    "    ['25-MAY', 'user145', 'LIKE'],\n",
    "    ['27-MAY', 'user16', 'COMMENT'],\n",
    "    ['28-MAY', 'user5', 'COMMENT'],\n",
    "    ['31-MAY', 'user3', 'LIKE'],\n",
    "    ['1-JUNE', 'user8', 'SAVE'],\n",
    "    ['23-MAY', 'user90', 'LIKE'],\n",
    "    ['1-JUNE', 'user12', 'LIKE'],\n",
    "    ['1-JUNE', 'user89', 'SAVE'],\n",
    "]"
   ]
  },
  {
   "cell_type": "code",
   "execution_count": 9,
   "id": "c6e81be2-7d8f-4626-8c2a-47794ae564df",
   "metadata": {},
   "outputs": [
    {
     "data": {
      "text/plain": [
       "[('LIKE', 5), ('COMMENT', 4), ('SAVE', 2)]"
      ]
     },
     "execution_count": 9,
     "metadata": {},
     "output_type": "execute_result"
    }
   ],
   "source": [
    "import collections\n",
    "import operator\n",
    "\n",
    "log_action_counts = collections.Counter(log_event[2] for log_event in logs)\n",
    "log_action_counts_sorted = sorted(log_action_counts.items(), key=operator.itemgetter(1), reverse=True)"
   ]
  },
  {
   "cell_type": "code",
   "execution_count": 10,
   "id": "edd4f60c-8e93-4e2a-afcd-76696d0926ed",
   "metadata": {},
   "outputs": [
    {
     "data": {
      "text/plain": [
       "[('LIKE', 5), ('COMMENT', 4), ('SAVE', 2)]"
      ]
     },
     "execution_count": 10,
     "metadata": {},
     "output_type": "execute_result"
    }
   ],
   "source": [
    "log_action_counts.most_common()"
   ]
  }
 ],
 "metadata": {
  "kernelspec": {
   "display_name": "Python 3 (ipykernel)",
   "language": "python",
   "name": "python3"
  },
  "language_info": {
   "codemirror_mode": {
    "name": "ipython",
    "version": 3
   },
   "file_extension": ".py",
   "mimetype": "text/x-python",
   "name": "python",
   "nbconvert_exporter": "python",
   "pygments_lexer": "ipython3",
   "version": "3.10.4"
  }
 },
 "nbformat": 4,
 "nbformat_minor": 5
}
