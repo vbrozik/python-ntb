{
 "cells": [
  {
   "cell_type": "markdown",
   "id": "22212776-c9ba-4b57-af87-5fa29ec9bf9b",
   "metadata": {},
   "source": [
    "# A way to typehint a return type in parent based on return type of a child\n",
    "https://discuss.python.org/t/a-way-to-typehint-a-return-type-in-parent-based-on-return-type-of-a-child/17020?u=vbrozik"
   ]
  },
  {
   "cell_type": "code",
   "execution_count": 2,
   "id": "c7392871-c22d-40b6-a0c2-85a995c5cbe1",
   "metadata": {},
   "outputs": [
    {
     "name": "stderr",
     "output_type": "stream",
     "text": [
      "Version 1.0.3\n"
     ]
    }
   ],
   "source": [
    "%load_ext nb_mypy"
   ]
  },
  {
   "cell_type": "code",
   "execution_count": 11,
   "id": "1b744aa6-045a-4ff1-8fce-4e8fc47981b7",
   "metadata": {},
   "outputs": [
    {
     "data": {
      "text/plain": [
       "83"
      ]
     },
     "execution_count": 11,
     "metadata": {},
     "output_type": "execute_result"
    }
   ],
   "source": [
    "from abc import abstractmethod, ABC\n",
    "from typing import Any\n",
    "\n",
    "\n",
    "class A(ABC):\n",
    "    def process_child_method(self):\n",
    "        child_return = self.child_method()\n",
    "        # Some actions on the return of the method\n",
    "        ...\n",
    "        return child_return\n",
    "\n",
    "    @abstractmethod\n",
    "    def child_method(self) -> int | str:\n",
    "        pass\n",
    "\n",
    "\n",
    "class B(A):\n",
    "    def child_method(self) -> int:\n",
    "        return 83\n",
    "\n",
    "\n",
    "b = B()\n",
    "b.process_child_method()"
   ]
  }
 ],
 "metadata": {
  "kernelspec": {
   "display_name": "Python 3 (ipykernel)",
   "language": "python",
   "name": "python3"
  },
  "language_info": {
   "codemirror_mode": {
    "name": "ipython",
    "version": 3
   },
   "file_extension": ".py",
   "mimetype": "text/x-python",
   "name": "python",
   "nbconvert_exporter": "python",
   "pygments_lexer": "ipython3",
   "version": "3.10.4"
  }
 },
 "nbformat": 4,
 "nbformat_minor": 5
}
