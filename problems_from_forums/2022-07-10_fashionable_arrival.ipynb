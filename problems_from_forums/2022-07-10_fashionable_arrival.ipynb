{
 "cells": [
  {
   "cell_type": "markdown",
   "id": "14eb6dcb-e8f6-42c4-8c24-efb356ef3ea9",
   "metadata": {},
   "source": [
    "# Fashionable arrivals\n",
    "https://discuss.python.org/t/referencing-the-second-half-and-excluding-the-final-value-of-a-list/17252?u=vbrozik"
   ]
  },
  {
   "cell_type": "code",
   "execution_count": 1,
   "id": "9700ccff-39ed-4c6f-9044-0e866749fe6e",
   "metadata": {},
   "outputs": [],
   "source": [
    "def fashionable_arrivals(arrivals):\n",
    "    \"\"\"Get list of guests who arrived fashionably late.\"\"\"\n",
    "    after_half = (len(arrivals) + 1) // 2  # the first index after the half\n",
    "    return arrivals[after_half:-1]\n",
    "\n",
    "def fashionably_late(arrivals, guest):\n",
    "    \"\"\"Tell if the guest is fashionably late.\n",
    "    \n",
    "    Given an ordered list of arrivals to the party and a name, return whether\n",
    "    the guest with that name was fashionably late.\n",
    "    \"\"\"\n",
    "    return guest in fashionable_arrivals(arrivals)"
   ]
  },
  {
   "cell_type": "code",
   "execution_count": 2,
   "id": "27ade0ae-2089-46ba-a83f-ce55800e42ed",
   "metadata": {},
   "outputs": [
    {
     "name": "stdout",
     "output_type": "stream",
     "text": [
      "list    fashionable part\n",
      "[1..1]  []\n",
      "[1..2]  []\n",
      "[1..3]  []\n",
      "[1..4]  [3]\n",
      "[1..5]  [4]\n",
      "[1..6]  [4, 5]\n",
      "[1..7]  [5, 6]\n",
      "[1..8]  [5, 6, 7]\n",
      "[1..9]  [6, 7, 8]\n"
     ]
    }
   ],
   "source": [
    "# Testing the fashionable part of arrivals\n",
    "print('list    fashionable part')\n",
    "for i in range(1, 10):\n",
    "    print(f'[1..{i}]  {fashionable_arrivals(list(range(1, i+1)))}')"
   ]
  },
  {
   "cell_type": "code",
   "execution_count": 3,
   "id": "c269bd15-fde1-41bf-b7ac-b789192211a6",
   "metadata": {},
   "outputs": [
    {
     "name": "stdout",
     "output_type": "stream",
     "text": [
      "Paul   arrived fashionably late: False\n",
      "John   arrived fashionably late: False\n",
      "Ringo  arrived fashionably late: True\n",
      "George arrived fashionably late: False\n"
     ]
    }
   ],
   "source": [
    "arrivals = ['Paul', 'John', 'Ringo', 'George']\n",
    "for person in arrivals:\n",
    "    print(f\"{person:6} arrived fashionably late: \"\n",
    "          f\"{fashionably_late(arrivals, person)}\")"
   ]
  }
 ],
 "metadata": {
  "kernelspec": {
   "display_name": "Python 3 (ipykernel)",
   "language": "python",
   "name": "python3"
  },
  "language_info": {
   "codemirror_mode": {
    "name": "ipython",
    "version": 3
   },
   "file_extension": ".py",
   "mimetype": "text/x-python",
   "name": "python",
   "nbconvert_exporter": "python",
   "pygments_lexer": "ipython3",
   "version": "3.10.4"
  }
 },
 "nbformat": 4,
 "nbformat_minor": 5
}
