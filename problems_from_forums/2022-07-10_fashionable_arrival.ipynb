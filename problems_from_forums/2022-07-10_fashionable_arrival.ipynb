{
 "cells": [
  {
   "cell_type": "markdown",
   "id": "14eb6dcb-e8f6-42c4-8c24-efb356ef3ea9",
   "metadata": {},
   "source": [
    "https://discuss.python.org/t/referencing-the-second-half-and-excluding-the-final-value-of-a-list/17252?u=vbrozik"
   ]
  },
  {
   "cell_type": "code",
   "execution_count": 1,
   "id": "9700ccff-39ed-4c6f-9044-0e866749fe6e",
   "metadata": {},
   "outputs": [],
   "source": [
    "def fashionable_arrivals(arrivals):\n",
    "    \"\"\"Get list of guests who arrived fashionably late.\"\"\"\n",
    "    after_half = (len(arrivals) + 1) // 2  # the first index after the half\n",
    "    return arrivals[after_half:-1]\n",
    "\n",
    "\n",
    "def fashionably_late(arrivals, guest):\n",
    "    \"\"\"Tell if the guest is fashionably late.\n",
    "    \n",
    "    Given an ordered list of arrivals to the party and a name, return whether\n",
    "    the guest with that name was fashionably late.\n",
    "    \"\"\"\n",
    "    return guest in fashionable_arrivals(arrivals)"
   ]
  },
  {
   "cell_type": "code",
   "execution_count": 21,
   "id": "27ade0ae-2089-46ba-a83f-ce55800e42ed",
   "metadata": {},
   "outputs": [
    {
     "name": "stdout",
     "output_type": "stream",
     "text": [
      "list    fashionable part\n",
      "[0..0]  []\n",
      "[0..1]  []\n",
      "[0..2]  []\n",
      "[0..3]  [2]\n",
      "[0..4]  [3]\n",
      "[0..5]  [3, 4]\n",
      "[0..6]  [4, 5]\n",
      "[0..7]  [4, 5, 6]\n",
      "[0..8]  [5, 6, 7]\n"
     ]
    }
   ],
   "source": [
    "print('list    fashionable part')\n",
    "for i in range(1, 10):\n",
    "    print(f'[0..{i-1}]  {fashionable_arrivals(list(range(i)))}')"
   ]
  },
  {
   "cell_type": "code",
   "execution_count": 3,
   "id": "c269bd15-fde1-41bf-b7ac-b789192211a6",
   "metadata": {},
   "outputs": [
    {
     "data": {
      "text/plain": [
       "True"
      ]
     },
     "execution_count": 3,
     "metadata": {},
     "output_type": "execute_result"
    }
   ],
   "source": [
    "arrivals = ['Paul', 'John', 'Ringo', 'George']\n",
    "fashionably_late(arrivals, 'Ringo')"
   ]
  },
  {
   "cell_type": "code",
   "execution_count": 11,
   "id": "cde9e607-6892-4951-9f6a-eea4c1759d2b",
   "metadata": {},
   "outputs": [
    {
     "data": {
      "text/plain": [
       "[0]"
      ]
     },
     "execution_count": 11,
     "metadata": {},
     "output_type": "execute_result"
    }
   ],
   "source": [
    "list(range(1))"
   ]
  }
 ],
 "metadata": {
  "kernelspec": {
   "display_name": "Python 3 (ipykernel)",
   "language": "python",
   "name": "python3"
  },
  "language_info": {
   "codemirror_mode": {
    "name": "ipython",
    "version": 3
   },
   "file_extension": ".py",
   "mimetype": "text/x-python",
   "name": "python",
   "nbconvert_exporter": "python",
   "pygments_lexer": "ipython3",
   "version": "3.10.4"
  }
 },
 "nbformat": 4,
 "nbformat_minor": 5
}
