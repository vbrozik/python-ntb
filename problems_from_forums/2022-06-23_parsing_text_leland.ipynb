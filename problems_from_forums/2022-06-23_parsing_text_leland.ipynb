{
 "cells": [
  {
   "cell_type": "markdown",
   "id": "5b8d29bc-05c2-429d-9743-f66d74801d6d",
   "metadata": {},
   "source": [
    "https://discuss.python.org/t/parsing-text-file/16767/13?u=vbrozik"
   ]
  },
  {
   "cell_type": "code",
   "execution_count": 1,
   "id": "ee2cc050-93fd-4301-a46e-51c3b88c844f",
   "metadata": {},
   "outputs": [],
   "source": [
    "new_row = []\n",
    "data_table2 = []\n",
    "data_start_marker = '1 '\n",
    "\n",
    "csv_file = open(\"2022-06-23_parsing_text.txt\",'r')         #if the file is too large to fit into memory...\n",
    "csv_rows = csv_file.readlines()             #...loop through the file line-by-line using 'readlines()'\n",
    "\n",
    "for line_num,row in enumerate(csv_rows):\n",
    "    if row.startswith(data_start_marker):   #find the first data line\n",
    "        data_start = line_num\n",
    "        break                               #stop looping; go to the next line of code after the loop\n",
    "\n",
    "col_num = 7     # ←←this is the column you asked for (first item in a list is position 0)\n",
    "data_table1 = [row.split() for row in csv_rows[data_start:]]\n",
    "data_col = [data_table1[i][col_num] for i in range(len(data_table1))]   #print the column"
   ]
  },
  {
   "cell_type": "code",
   "execution_count": 2,
   "id": "d7f1f886-e575-4bcf-847b-13846b8e3a54",
   "metadata": {},
   "outputs": [
    {
     "data": {
      "text/plain": [
       "['0.13778023448E+00',\n",
       " '-0.41039338392E-07',\n",
       " '-0.33591716068E-08',\n",
       " '0.00000000000E+00',\n",
       " '0.00000000000E+00',\n",
       " '0.00000000000E+00',\n",
       " '0.00000000000E+00',\n",
       " '0.00000000000E+00',\n",
       " '0.00000000000E+00',\n",
       " '0.00000000000E+00',\n",
       " '0.26421941002E+03',\n",
       " '-0.14303321917E-03',\n",
       " '248',\n",
       " '0.14085216624E-06',\n",
       " '0.38404874052E-09',\n",
       " '204']"
      ]
     },
     "execution_count": 2,
     "metadata": {},
     "output_type": "execute_result"
    }
   ],
   "source": [
    "data_col"
   ]
  }
 ],
 "metadata": {
  "kernelspec": {
   "display_name": "Python 3 (ipykernel)",
   "language": "python",
   "name": "python3"
  },
  "language_info": {
   "codemirror_mode": {
    "name": "ipython",
    "version": 3
   },
   "file_extension": ".py",
   "mimetype": "text/x-python",
   "name": "python",
   "nbconvert_exporter": "python",
   "pygments_lexer": "ipython3",
   "version": "3.10.4"
  }
 },
 "nbformat": 4,
 "nbformat_minor": 5
}
