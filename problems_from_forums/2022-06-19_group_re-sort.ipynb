{
 "cells": [
  {
   "cell_type": "markdown",
   "id": "c39edbb7-79b2-4283-9817-7f7b4e4ce19b",
   "metadata": {},
   "source": [
    "https://discuss.python.org/t/merging-a-sublist-if-partial-match-exists/16647"
   ]
  },
  {
   "cell_type": "code",
   "execution_count": 15,
   "id": "493d9502-3975-4757-9a83-d561ccd0e8ac",
   "metadata": {},
   "outputs": [],
   "source": [
    "import itertools\n",
    "\n",
    "# TODO: Test printing iterators:\n",
    "\n",
    "def print_iterator(iterator):\n",
    "    iterator, iterator_print = itertools.tee(iterator)\n",
    "    print(list(iterator_print))\n",
    "    return iterator"
   ]
  },
  {
   "cell_type": "code",
   "execution_count": 16,
   "id": "41c4cf3b-2d18-46bc-b7ab-361e39530cc6",
   "metadata": {},
   "outputs": [
    {
     "data": {
      "text/plain": [
       "[(1, ['77', '78', '76']),\n",
       " (0, ['X1: Cheese', ' 99', '98', '97']),\n",
       " (2, ['X1: Cheese', '99', '98', '97', '10', '11']),\n",
       " (3, ['X1: Cheese', '99', '98', '97', '22', '21']),\n",
       " (4, ['X1: NoCheese', '99', '98', '97'])]"
      ]
     },
     "execution_count": 16,
     "metadata": {},
     "output_type": "execute_result"
    }
   ],
   "source": [
    "sz = [\n",
    "        ['X1: Cheese' ,' 99','98','97'],\n",
    "        ['77','78','76'],\n",
    "        ['X1: Cheese','99','98','97','10','11'],\n",
    "        ['X1: Cheese','99','98','97','22','21'],\n",
    "        ['X1: NoCheese', '99','98','97'],\n",
    "    ]\n",
    "\n",
    "def sz_grouping_key(item):\n",
    "    return item[1][0]\n",
    "\n",
    "sz_group_sorted = sorted(enumerate(sz), key=sz_grouping_key)\n",
    "sz_group_sorted"
   ]
  },
  {
   "cell_type": "code",
   "execution_count": 12,
   "id": "4b5c469b-10b7-4df6-b98b-6584b23d90ed",
   "metadata": {},
   "outputs": [
    {
     "data": {
      "text/plain": [
       "[(1, ['77', '76', '78']),\n",
       " (0, ['X1: Cheese', '10', ' 99', '21', '98', '99', '97', '22', '11']),\n",
       " (4, ['X1: NoCheese', '99', '97', '98'])]"
      ]
     },
     "execution_count": 13,
     "metadata": {},
     "output_type": "execute_result"
    }
   ],
   "source": [
    "sz_grouped = itertools.groupby(sz_group_sorted, sz_grouping_key)\n",
    "\n",
    "# sz_grouped = print_iterator(sz_grouped)\n",
    "\n",
    "sz_unsorted_result = []\n",
    "for first_item, group_list in sz_grouped:\n",
    "    original_indexes = []\n",
    "    inner_items = set()   # items should not repeat -> use set, note: ordering lost!\n",
    "    for original_index, group_item in group_list:\n",
    "        original_indexes.append(original_index)\n",
    "        inner_items.update(group_item[1:])  # we have first_item, skip it\n",
    "    sz_unsorted_result.append(\n",
    "            (min(original_indexes), [first_item] + list(inner_items)))\n",
    "sz_unsorted_result"
   ]
  },
  {
   "cell_type": "code",
   "execution_count": 5,
   "id": "74f8d256-0441-4d1f-99cb-ab30cdf133b3",
   "metadata": {},
   "outputs": [
    {
     "data": {
      "text/plain": [
       "[['X1: Cheese', '10', ' 99', '21', '98', '99', '97', '22', '11'],\n",
       " ['77', '76', '78'],\n",
       " ['X1: NoCheese', '99', '97', '98']]"
      ]
     },
     "execution_count": 5,
     "metadata": {},
     "output_type": "execute_result"
    }
   ],
   "source": [
    "sz_processed = [item[1] for item in sorted(sz_unsorted_result)]\n",
    "sz_processed"
   ]
  }
 ],
 "metadata": {
  "kernelspec": {
   "display_name": "Python 3 (ipykernel)",
   "language": "python",
   "name": "python3"
  },
  "language_info": {
   "codemirror_mode": {
    "name": "ipython",
    "version": 3
   },
   "file_extension": ".py",
   "mimetype": "text/x-python",
   "name": "python",
   "nbconvert_exporter": "python",
   "pygments_lexer": "ipython3",
   "version": "3.10.4"
  }
 },
 "nbformat": 4,
 "nbformat_minor": 5
}
