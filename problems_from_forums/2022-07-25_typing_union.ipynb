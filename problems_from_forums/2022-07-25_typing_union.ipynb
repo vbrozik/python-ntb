{
 "cells": [
  {
   "cell_type": "markdown",
   "id": "179120f8-f310-4f3d-9069-055b70408ec1",
   "metadata": {},
   "source": [
    "# Type-hint different number of return values with python mypy\n",
    "* https://stackoverflow.com/questions/73109331/type-hint-different-number-of-return-values-with-python-mypy"
   ]
  },
  {
   "cell_type": "code",
   "execution_count": 1,
   "id": "f3ab2e2b-2e04-455c-9add-b0fe17ad6e76",
   "metadata": {},
   "outputs": [
    {
     "name": "stderr",
     "output_type": "stream",
     "text": [
      "Version 1.0.3\n"
     ]
    }
   ],
   "source": [
    "%load_ext nb_mypy"
   ]
  },
  {
   "cell_type": "code",
   "execution_count": 42,
   "id": "575e6e1b-4074-4cb1-b1ca-ba90421b085d",
   "metadata": {},
   "outputs": [],
   "source": [
    "from typing import Any, Union, Dict, Tuple, cast, overload, Literal, get_args, TypeGuard"
   ]
  },
  {
   "cell_type": "code",
   "execution_count": 3,
   "id": "6c1cd34f-c02d-442f-9c1a-2faafb6be99f",
   "metadata": {},
   "outputs": [],
   "source": [
    "def f(x : bool) -> Union[Tuple[int, int], Tuple[int, int, int]]:\n",
    "    if x:\n",
    "        return 1, 2, 3\n",
    "    return 1, 2"
   ]
  },
  {
   "cell_type": "code",
   "execution_count": 16,
   "id": "cd95fbae-677b-42f0-b2c1-57f415b020bd",
   "metadata": {},
   "outputs": [
    {
     "data": {
      "text/plain": [
       "(1, 2)"
      ]
     },
     "execution_count": 16,
     "metadata": {},
     "output_type": "execute_result"
    }
   ],
   "source": [
    "f_return = f(x=False)\n",
    "assert len(f_return) == 2\n",
    "a, b = f_return\n",
    "a, b"
   ]
  },
  {
   "cell_type": "code",
   "execution_count": 17,
   "id": "8d2c6a6e-a2db-4190-9cf2-cbd4b5b73e87",
   "metadata": {},
   "outputs": [
    {
     "data": {
      "text/plain": [
       "(1, 2, 3)"
      ]
     },
     "execution_count": 17,
     "metadata": {},
     "output_type": "execute_result"
    }
   ],
   "source": [
    "f_return = f(x=True)\n",
    "assert len(f_return) == 3\n",
    "x, y, z = f_return\n",
    "x, y, z"
   ]
  },
  {
   "cell_type": "code",
   "execution_count": 20,
   "id": "6217535e-7230-42c8-a47a-7be56b2461db",
   "metadata": {},
   "outputs": [
    {
     "data": {
      "text/plain": [
       "(1, 2)"
      ]
     },
     "execution_count": 20,
     "metadata": {},
     "output_type": "execute_result"
    }
   ],
   "source": [
    "a, b = cast(Tuple[int, int], f(x=False))\n",
    "a, b"
   ]
  },
  {
   "cell_type": "code",
   "execution_count": 21,
   "id": "d2d41df3-2741-40c5-bbb6-b7be68aa464c",
   "metadata": {},
   "outputs": [
    {
     "data": {
      "text/plain": [
       "(1, 2, 3)"
      ]
     },
     "execution_count": 21,
     "metadata": {},
     "output_type": "execute_result"
    }
   ],
   "source": [
    "x, y, z = cast(Tuple[int, int, int], f(x=True))\n",
    "x, y, z"
   ]
  },
  {
   "cell_type": "code",
   "execution_count": 9,
   "id": "d8482a00-150e-47d2-b61b-1f9596684dc1",
   "metadata": {},
   "outputs": [],
   "source": [
    "def f1(x: bool) -> Union[int, str]:\n",
    "    if x:\n",
    "        return 1\n",
    "    return 'string'"
   ]
  },
  {
   "cell_type": "code",
   "execution_count": 10,
   "id": "96754554-2f4c-49c3-b9e7-7cf5cfe8f477",
   "metadata": {},
   "outputs": [
    {
     "name": "stderr",
     "output_type": "stream",
     "text": [
      "<cell>2: error: Incompatible types in assignment (expression has type \"Union[int, str]\", variable has type \"int\")\n"
     ]
    }
   ],
   "source": [
    "a: int\n",
    "a = f1(True)"
   ]
  },
  {
   "cell_type": "code",
   "execution_count": 22,
   "id": "4eb34925-f6f9-43c3-b306-faa0f5c57af7",
   "metadata": {},
   "outputs": [
    {
     "name": "stderr",
     "output_type": "stream",
     "text": [
      "<cell>1: error: Argument 1 to \"len\" has incompatible type \"object\"; expected \"Sized\"\n"
     ]
    },
    {
     "ename": "TypeError",
     "evalue": "object of type '_GenericAlias' has no len()",
     "output_type": "error",
     "traceback": [
      "\u001b[0;31m---------------------------------------------------------------------------\u001b[0m",
      "\u001b[0;31mTypeError\u001b[0m                                 Traceback (most recent call last)",
      "Input \u001b[0;32mIn [22]\u001b[0m, in \u001b[0;36m<cell line: 1>\u001b[0;34m()\u001b[0m\n\u001b[0;32m----> 1\u001b[0m \u001b[38;5;28;43mlen\u001b[39;49m\u001b[43m(\u001b[49m\u001b[43mTuple\u001b[49m\u001b[43m[\u001b[49m\u001b[38;5;28;43mint\u001b[39;49m\u001b[43m,\u001b[49m\u001b[43m \u001b[49m\u001b[38;5;28;43mbool\u001b[39;49m\u001b[43m]\u001b[49m\u001b[43m)\u001b[49m\n",
      "\u001b[0;31mTypeError\u001b[0m: object of type '_GenericAlias' has no len()"
     ]
    }
   ],
   "source": [
    "len(Tuple[int, bool])"
   ]
  },
  {
   "cell_type": "code",
   "execution_count": 45,
   "id": "39f341e2-e9cb-49ee-a6a0-79b0931d025d",
   "metadata": {},
   "outputs": [],
   "source": [
    "def f(x: str) -> tuple[int, bool]|tuple[int, str, float]:\n",
    "    if 'something' in x:\n",
    "        return 1, 'this', 3.0\n",
    "    return 1, True"
   ]
  },
  {
   "cell_type": "code",
   "execution_count": 46,
   "id": "aef7c548-4a75-436d-afa5-929f476093d1",
   "metadata": {},
   "outputs": [],
   "source": [
    "def is_tuple_int_bool(tuple_arg: tuple) -> TypeGuard[tuple[int, bool]]:\n",
    "    return len(tuple_arg) == 2 and isinstance(tuple_arg[0], int) and isinstance(tuple_arg[1], bool)\n",
    "\n",
    "def is_tuple_int_str_float(tuple_arg: tuple) -> TypeGuard[tuple[int, str, float]]:\n",
    "    return len(tuple_arg) == 3 and isinstance(tuple_arg[0], int) and isinstance(tuple_arg[1], str) and isinstance(tuple_arg[2], float)"
   ]
  },
  {
   "cell_type": "code",
   "execution_count": 48,
   "id": "7ff9bed3-7e02-497e-80ec-7b211f7f2cac",
   "metadata": {},
   "outputs": [
    {
     "name": "stdout",
     "output_type": "stream",
     "text": [
      "1 True\n"
     ]
    }
   ],
   "source": [
    "return_value = f('something')\n",
    "return_value = f('else')\n",
    "if is_tuple_int_bool(return_value):\n",
    "    a, b = return_value\n",
    "    print(a, b)\n",
    "elif is_tuple_int_str_float(return_value):\n",
    "    x, y, z = return_value\n",
    "    print(x, y, z)\n",
    "else:\n",
    "    raise ValueError('Unexpected type')"
   ]
  },
  {
   "cell_type": "code",
   "execution_count": 49,
   "id": "2e9ae8b1-ac7d-4336-909b-7ae606ba836e",
   "metadata": {},
   "outputs": [
    {
     "data": {
      "text/plain": [
       "(1, 'this', 3.0)"
      ]
     },
     "execution_count": 49,
     "metadata": {},
     "output_type": "execute_result"
    }
   ],
   "source": [
    "return_value = f('something')\n",
    "assert is_tuple_int_str_float(return_value)\n",
    "x, y, z = return_value\n",
    "x, y, z"
   ]
  },
  {
   "cell_type": "code",
   "execution_count": 38,
   "id": "f0755445-1f1b-4dc1-8599-4e277ad25bfc",
   "metadata": {},
   "outputs": [
    {
     "name": "stderr",
     "output_type": "stream",
     "text": [
      "<cell>4: error: Parameter 1 of Literal[...] is invalid\n",
      "<cell>4: error: Variable \"__main__.CASE2\" is not valid as a type\n",
      "<cell>4: note: See https://mypy.readthedocs.io/en/stable/common_issues.html#variables-vs-type-aliases\n",
      "<cell>8: error: Overloaded function signature 2 will never be matched: signature 1's parameter type(s) are the same or broader\n"
     ]
    }
   ],
   "source": [
    "CASE2 = 'this is something'\n",
    "\n",
    "@overload\n",
    "def f(x: Literal[CASE2]) -> Tuple[int, str, float]:\n",
    "    ...\n",
    "\n",
    "@overload\n",
    "def f(x: Literal['this is not']) -> Tuple[int, bool]:\n",
    "    ...\n",
    "    \n",
    "def f(x: str) -> Tuple:\n",
    "    if x == 'this is something':\n",
    "        return 1, 'this', 3.0\n",
    "    elif x == 'this is not':\n",
    "        return 1, True\n",
    "    else:\n",
    "        raise ValueError"
   ]
  },
  {
   "cell_type": "code",
   "execution_count": 36,
   "id": "0a6e8612-a443-4b89-8893-e8840544d0aa",
   "metadata": {},
   "outputs": [
    {
     "data": {
      "text/plain": [
       "(1, True)"
      ]
     },
     "execution_count": 36,
     "metadata": {},
     "output_type": "execute_result"
    }
   ],
   "source": [
    "a, b = f('this is not')\n",
    "a, b"
   ]
  },
  {
   "cell_type": "code",
   "execution_count": 37,
   "id": "23c36c44-c85c-48f1-950e-8723ab0ec1b3",
   "metadata": {},
   "outputs": [
    {
     "data": {
      "text/plain": [
       "(1, 'this', 3.0)"
      ]
     },
     "execution_count": 37,
     "metadata": {},
     "output_type": "execute_result"
    }
   ],
   "source": [
    "x, y, z = f('this is something')\n",
    "x, y, z"
   ]
  },
  {
   "cell_type": "code",
   "execution_count": 41,
   "id": "a5af6a71-ba43-4393-ace3-b16cd1d60142",
   "metadata": {},
   "outputs": [
    {
     "data": {
      "text/plain": [
       "('add',)"
      ]
     },
     "execution_count": 41,
     "metadata": {},
     "output_type": "execute_result"
    }
   ],
   "source": [
    "get_args(Literal['add'])"
   ]
  }
 ],
 "metadata": {
  "kernelspec": {
   "display_name": "Python 3 (ipykernel)",
   "language": "python",
   "name": "python3"
  },
  "language_info": {
   "codemirror_mode": {
    "name": "ipython",
    "version": 3
   },
   "file_extension": ".py",
   "mimetype": "text/x-python",
   "name": "python",
   "nbconvert_exporter": "python",
   "pygments_lexer": "ipython3",
   "version": "3.10.4"
  }
 },
 "nbformat": 4,
 "nbformat_minor": 5
}
