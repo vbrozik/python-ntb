{
 "cells": [
  {
   "cell_type": "markdown",
   "id": "5d6b9809-fe78-4748-b609-f6dd18cd55da",
   "metadata": {},
   "source": [
    "# Dataclass field default value unique instances\n",
    "https://discuss.python.org/t/dataclass-single-reference-to-created-field/21205/2?u=vbrozik"
   ]
  },
  {
   "cell_type": "code",
   "execution_count": 1,
   "id": "8c9bcd98-90fe-40f8-a4e8-850ab6c1260b",
   "metadata": {},
   "outputs": [],
   "source": [
    "from dataclasses import dataclass, field\n",
    "\n",
    "class SecondClass:\n",
    "    pass\n",
    "\n",
    "@dataclass\n",
    "class FirstClass:\n",
    "    second_class: SecondClass = SecondClass()\n",
    "    second_class_per_object: SecondClass = field(default_factory=SecondClass)"
   ]
  },
  {
   "cell_type": "code",
   "execution_count": 2,
   "id": "9398da99-ec78-4df0-9148-c2536c72da74",
   "metadata": {},
   "outputs": [
    {
     "name": "stdout",
     "output_type": "stream",
     "text": [
      "id(obj.second_class) = 139949961035200,    id(obj.second_class_per_object) = 139949961303024\n",
      "id(obj.second_class) = 139949961035200,    id(obj.second_class_per_object) = 139949961300240\n",
      "id(obj.second_class) = 139949961035200,    id(obj.second_class_per_object) = 139949961298176\n"
     ]
    }
   ],
   "source": [
    "objects = []\n",
    "for i in range(3):\n",
    "    obj = FirstClass()\n",
    "    print(f'{id(obj.second_class) = },    {id(obj.second_class_per_object) = }')\n",
    "    objects.append(obj)  # to prevent memory (and ID) reuse"
   ]
  }
 ],
 "metadata": {
  "kernelspec": {
   "display_name": "Python 3 (ipykernel)",
   "language": "python",
   "name": "python3"
  },
  "language_info": {
   "codemirror_mode": {
    "name": "ipython",
    "version": 3
   },
   "file_extension": ".py",
   "mimetype": "text/x-python",
   "name": "python",
   "nbconvert_exporter": "python",
   "pygments_lexer": "ipython3",
   "version": "3.10.6"
  }
 },
 "nbformat": 4,
 "nbformat_minor": 5
}
