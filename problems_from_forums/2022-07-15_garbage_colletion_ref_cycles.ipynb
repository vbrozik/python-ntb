{
 "cells": [
  {
   "cell_type": "markdown",
   "id": "95102a39-97eb-4599-8bf0-25d4cefb5557",
   "metadata": {},
   "source": [
    "# Mutually referenced objects not getting garbage collected in loop\n",
    "* https://discuss.python.org/t/mutually-referenced-objects-not-getting-garbage-collected-in-loop/17372?u=vbrozik\n",
    "* https://stackoverflow.com/questions/28403750/understanding-gc-get-referrers\n",
    "* https://stackoverflow.com/questions/510406/is-there-a-way-to-get-the-current-ref-count-of-an-object-in-python\n",
    "\n",
    "* https://docs.python.org/3/library/gc.html\n",
    "* https://devguide.python.org/internals/garbage-collector/"
   ]
  },
  {
   "cell_type": "code",
   "execution_count": 1,
   "id": "0662d856-2cc9-4cbb-b2ed-4a79d99b987e",
   "metadata": {},
   "outputs": [],
   "source": [
    "import gc\n",
    "\n",
    "class A:\n",
    "    def __init__(self, ref=None):\n",
    "        self.data = [object() for _ in range(10_000_000)]\n",
    "        self.ref = ref\n",
    "\n",
    "def testfn():\n",
    "    a = A()\n",
    "    b = A(a)\n",
    "    a.ref = b"
   ]
  },
  {
   "cell_type": "code",
   "execution_count": 2,
   "id": "b982dad1-73a2-4834-93c8-a7d0c105676e",
   "metadata": {},
   "outputs": [
    {
     "name": "stdout",
     "output_type": "stream",
     "text": [
      "gc.get_threshold() = (700, 10, 10)\n",
      "gc.get_threshold() = (20, 10, 10)\n"
     ]
    }
   ],
   "source": [
    "print(f'{gc.get_threshold() = }')\n",
    "gc.set_threshold(20)\n",
    "print(f'{gc.get_threshold() = }')"
   ]
  },
  {
   "cell_type": "code",
   "execution_count": 3,
   "id": "3b79ca6a-269c-41bc-8426-c9c92289d31d",
   "metadata": {},
   "outputs": [
    {
     "name": "stdout",
     "output_type": "stream",
     "text": [
      "  0\t(2, 6, 8)\n",
      "  1\t(1, 0, 9)\n",
      "  2\t(3, 0, 9)\n",
      "  3\t(5, 0, 9)\n",
      "  4\t(1, 1, 9)\n",
      "  5\t(3, 1, 9)\n",
      "  6\t(5, 1, 9)\n",
      "  7\t(1, 2, 9)\n",
      "  8\t(3, 2, 9)\n",
      "  9\t(5, 2, 9)\n",
      " 10\t(1, 3, 9)\n",
      " 11\t(3, 3, 9)\n",
      " 12\t(5, 3, 9)\n",
      " 13\t(1, 4, 9)\n",
      " 14\t(3, 4, 9)\n",
      " 15\t(5, 4, 9)\n",
      " 16\t(1, 5, 9)\n",
      " 17\t(3, 5, 9)\n",
      " 18\t(5, 5, 9)\n",
      " 19\t(1, 6, 9)\n"
     ]
    },
    {
     "ename": "KeyboardInterrupt",
     "evalue": "",
     "output_type": "error",
     "traceback": [
      "\u001b[0;31m---------------------------------------------------------------------------\u001b[0m",
      "\u001b[0;31mKeyboardInterrupt\u001b[0m                         Traceback (most recent call last)",
      "Input \u001b[0;32mIn [3]\u001b[0m, in \u001b[0;36m<cell line: 1>\u001b[0;34m()\u001b[0m\n\u001b[1;32m      1\u001b[0m \u001b[38;5;28;01mfor\u001b[39;00m i \u001b[38;5;129;01min\u001b[39;00m \u001b[38;5;28mrange\u001b[39m(\u001b[38;5;241m1000\u001b[39m):\n\u001b[1;32m      2\u001b[0m     \u001b[38;5;28mprint\u001b[39m(\u001b[38;5;124mf\u001b[39m\u001b[38;5;124m'\u001b[39m\u001b[38;5;132;01m{\u001b[39;00mi\u001b[38;5;132;01m:\u001b[39;00m\u001b[38;5;124m3\u001b[39m\u001b[38;5;132;01m}\u001b[39;00m\u001b[38;5;130;01m\\t\u001b[39;00m\u001b[38;5;132;01m{\u001b[39;00mgc\u001b[38;5;241m.\u001b[39mget_count()\u001b[38;5;132;01m}\u001b[39;00m\u001b[38;5;124m'\u001b[39m)\n\u001b[0;32m----> 3\u001b[0m     \u001b[43mtestfn\u001b[49m\u001b[43m(\u001b[49m\u001b[43m)\u001b[49m\n",
      "Input \u001b[0;32mIn [1]\u001b[0m, in \u001b[0;36mtestfn\u001b[0;34m()\u001b[0m\n\u001b[1;32m      8\u001b[0m \u001b[38;5;28;01mdef\u001b[39;00m \u001b[38;5;21mtestfn\u001b[39m():\n\u001b[0;32m----> 9\u001b[0m     a \u001b[38;5;241m=\u001b[39m \u001b[43mA\u001b[49m\u001b[43m(\u001b[49m\u001b[43m)\u001b[49m\n\u001b[1;32m     10\u001b[0m     b \u001b[38;5;241m=\u001b[39m A(a)\n\u001b[1;32m     11\u001b[0m     a\u001b[38;5;241m.\u001b[39mref \u001b[38;5;241m=\u001b[39m b\n",
      "Input \u001b[0;32mIn [1]\u001b[0m, in \u001b[0;36mA.__init__\u001b[0;34m(self, ref)\u001b[0m\n\u001b[1;32m      4\u001b[0m \u001b[38;5;28;01mdef\u001b[39;00m \u001b[38;5;21m__init__\u001b[39m(\u001b[38;5;28mself\u001b[39m, ref\u001b[38;5;241m=\u001b[39m\u001b[38;5;28;01mNone\u001b[39;00m):\n\u001b[0;32m----> 5\u001b[0m     \u001b[38;5;28mself\u001b[39m\u001b[38;5;241m.\u001b[39mdata \u001b[38;5;241m=\u001b[39m [\u001b[38;5;28mobject\u001b[39m() \u001b[38;5;28;01mfor\u001b[39;00m _ \u001b[38;5;129;01min\u001b[39;00m \u001b[38;5;28mrange\u001b[39m(\u001b[38;5;241m10_000_000\u001b[39m)]\n\u001b[1;32m      6\u001b[0m     \u001b[38;5;28mself\u001b[39m\u001b[38;5;241m.\u001b[39mref \u001b[38;5;241m=\u001b[39m ref\n",
      "Input \u001b[0;32mIn [1]\u001b[0m, in \u001b[0;36m<listcomp>\u001b[0;34m(.0)\u001b[0m\n\u001b[1;32m      4\u001b[0m \u001b[38;5;28;01mdef\u001b[39;00m \u001b[38;5;21m__init__\u001b[39m(\u001b[38;5;28mself\u001b[39m, ref\u001b[38;5;241m=\u001b[39m\u001b[38;5;28;01mNone\u001b[39;00m):\n\u001b[0;32m----> 5\u001b[0m     \u001b[38;5;28mself\u001b[39m\u001b[38;5;241m.\u001b[39mdata \u001b[38;5;241m=\u001b[39m [\u001b[38;5;28;43mobject\u001b[39;49m\u001b[43m(\u001b[49m\u001b[43m)\u001b[49m \u001b[38;5;28;01mfor\u001b[39;00m _ \u001b[38;5;129;01min\u001b[39;00m \u001b[38;5;28mrange\u001b[39m(\u001b[38;5;241m10_000_000\u001b[39m)]\n\u001b[1;32m      6\u001b[0m     \u001b[38;5;28mself\u001b[39m\u001b[38;5;241m.\u001b[39mref \u001b[38;5;241m=\u001b[39m ref\n",
      "\u001b[0;31mKeyboardInterrupt\u001b[0m: "
     ]
    }
   ],
   "source": [
    "for i in range(1000):\n",
    "    print(f'{i:3}\\t{gc.get_count()}')\n",
    "    testfn()"
   ]
  }
 ],
 "metadata": {
  "kernelspec": {
   "display_name": "Python 3 (ipykernel)",
   "language": "python",
   "name": "python3"
  },
  "language_info": {
   "codemirror_mode": {
    "name": "ipython",
    "version": 3
   },
   "file_extension": ".py",
   "mimetype": "text/x-python",
   "name": "python",
   "nbconvert_exporter": "python",
   "pygments_lexer": "ipython3",
   "version": "3.10.4"
  }
 },
 "nbformat": 4,
 "nbformat_minor": 5
}
