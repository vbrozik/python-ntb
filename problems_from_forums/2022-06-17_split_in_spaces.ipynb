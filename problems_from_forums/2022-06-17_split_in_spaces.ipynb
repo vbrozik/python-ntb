{
 "cells": [
  {
   "cell_type": "markdown",
   "id": "2445e9df-9d04-43cb-bce6-2b62f7655c08",
   "metadata": {},
   "source": [
    "https://discuss.python.org/t/splitting-a-string-without-braking-a-word/16600"
   ]
  },
  {
   "cell_type": "code",
   "execution_count": 78,
   "id": "7483b41d-1a6c-411e-8775-2caf72eabaa2",
   "metadata": {},
   "outputs": [
    {
     "name": "stdout",
     "output_type": "stream",
     "text": [
      "['I am a noob in python', 'please can you help me', 'break a string without', 'cutting a word']\n"
     ]
    }
   ],
   "source": [
    "orig_s = 'I am a noob in python please can you help me break a string without cutting a word'\n",
    "\n",
    "from textwrap import wrap\n",
    "\n",
    "print(wrap(orig_s, 26))"
   ]
  },
  {
   "cell_type": "code",
   "execution_count": 5,
   "id": "75083e24-8f49-42d6-8115-a898b18cb6f1",
   "metadata": {},
   "outputs": [
    {
     "name": "stdout",
     "output_type": "stream",
     "text": [
      "              I am a noob in python\n",
      "please can you help me break a string\n",
      "without cutting a word\n"
     ]
    }
   ],
   "source": [
    "from textwrap import wrap\n",
    "\n",
    "orig_s = 'I am a noob in python please can you help me break a string without cutting a word'\n",
    "width_first = 26\n",
    "width_rest = 40\n",
    "\n",
    "initial_indent = ' ' * (width_rest - width_first)\n",
    "print('\\n'.join(wrap(orig_s, width_rest, initial_indent=initial_indent)))"
   ]
  },
  {
   "cell_type": "markdown",
   "id": "d39f3950-1f95-4fdd-ad7c-5cf6e2ca092e",
   "metadata": {},
   "source": [
    "OP's attempt with regex"
   ]
  },
  {
   "cell_type": "code",
   "execution_count": 8,
   "id": "97af4ddc-eaea-47e2-bd29-1b2da64e7d73",
   "metadata": {},
   "outputs": [
    {
     "name": "stdout",
     "output_type": "stream",
     "text": [
      "[('I am a noob in python ', 'please can you help me break a string without cutting a word')]\n"
     ]
    }
   ],
   "source": [
    "import re\n",
    "\n",
    "orig_s = 'I am a noob in python please can you help me break a string without cutting a word'\n",
    "cheese = re.findall(r'(.{1,26}(?:\\s))(.{27,67}(?:\\s|$))',orig_s)\n",
    "\n",
    "print(cheese)"
   ]
  },
  {
   "cell_type": "markdown",
   "id": "ff4e82c2-f72d-4b71-b403-03ba41951215",
   "metadata": {},
   "source": [
    "Unfinished clean Python"
   ]
  },
  {
   "cell_type": "code",
   "execution_count": 79,
   "id": "d1557376-8542-42a1-80d3-0301bccbf1a6",
   "metadata": {},
   "outputs": [
    {
     "data": {
      "text/plain": [
       "['I',\n",
       " 'am',\n",
       " 'a',\n",
       " 'noob',\n",
       " 'in',\n",
       " 'python',\n",
       " 'please',\n",
       " 'can',\n",
       " 'you',\n",
       " 'help',\n",
       " 'me',\n",
       " 'break',\n",
       " 'a',\n",
       " 'string',\n",
       " 'without',\n",
       " 'cutting',\n",
       " 'a',\n",
       " 'word']"
      ]
     },
     "execution_count": 79,
     "metadata": {},
     "output_type": "execute_result"
    }
   ],
   "source": [
    "orig_s = 'I am a noob in python please can you help me break a string without cutting a word'\n",
    "lengths = [26, 40]\n",
    "\n",
    "words = orig_s.split()\n",
    "output_lines = []\n",
    "lengths_iter = iter(lengths)\n",
    "length = next(lengths_iter)\n",
    "while words:\n",
    "    try:\n",
    "        length = next(lengths_iter)\n",
    "    except StopIteration:\n",
    "        pass"
   ]
  }
 ],
 "metadata": {
  "kernelspec": {
   "display_name": "Python 3 (ipykernel)",
   "language": "python",
   "name": "python3"
  },
  "language_info": {
   "codemirror_mode": {
    "name": "ipython",
    "version": 3
   },
   "file_extension": ".py",
   "mimetype": "text/x-python",
   "name": "python",
   "nbconvert_exporter": "python",
   "pygments_lexer": "ipython3",
   "version": "3.10.4"
  }
 },
 "nbformat": 4,
 "nbformat_minor": 5
}
