{
 "cells": [
  {
   "cell_type": "markdown",
   "id": "d58cabd8-f474-48ac-953e-231965cbd281",
   "metadata": {},
   "source": [
    "Append sucessive lists two by two  \n",
    "https://discuss.python.org/t/append-sucessive-lists-two-by-two/16606"
   ]
  },
  {
   "cell_type": "code",
   "execution_count": 7,
   "id": "babd7b05-0ff6-47a9-830a-2fcd776e3903",
   "metadata": {},
   "outputs": [],
   "source": [
    "codon_boundaries = [\n",
    "    ['stop_codon', '3665', '3667', 'g1.t1'],\n",
    "    ['start_codon', '6718', '6720', 'g1.t1'],\n",
    "    ['start_codon', '7534', '7536', 'g2.t1'],\n",
    "    ['stop_codon', '8099', '8101', 'g2.t1'],\n",
    "    ['stop_codon', '8621', '8623', 'g3.t1'],\n",
    "    ['start_codon', '12105', '12107', 'g3.t1'],\n",
    "    ['stop_codon', '8621', '8623', 'g3.t2'],\n",
    "    ['start_codon', '12105', '12107', 'g3.t2'],\n",
    "]"
   ]
  },
  {
   "cell_type": "code",
   "execution_count": 99,
   "id": "8fb759d7-0765-4a6c-9b12-ce90a8860621",
   "metadata": {},
   "outputs": [
    {
     "name": "stdout",
     "output_type": "stream",
     "text": [
      "['stop_codon', '3665', '3667', 'g1.t1', 'start_codon', '6718', '6720', 'g1.t1']\n",
      "['start_codon', '7534', '7536', 'g2.t1', 'stop_codon', '8099', '8101', 'g2.t1']\n",
      "['stop_codon', '8621', '8623', 'g3.t1', 'start_codon', '12105', '12107', 'g3.t1']\n",
      "['stop_codon', '8621', '8623', 'g3.t2', 'start_codon', '12105', '12107', 'g3.t2']\n"
     ]
    }
   ],
   "source": [
    "codon_boundaries_iter = iter(codon_boundaries)\n",
    "codon_pairs = (\n",
    "    boundary1 + next(codon_boundaries_iter)\n",
    "    for boundary1 in codon_boundaries_iter)\n",
    "print(*codon_pairs, sep='\\n')"
   ]
  },
  {
   "cell_type": "code",
   "execution_count": 14,
   "id": "71891ae3-dc8f-4d1b-9d5c-6255cb658634",
   "metadata": {},
   "outputs": [
    {
     "name": "stdout",
     "output_type": "stream",
     "text": [
      "['stop_codon', '3665', '3667', 'g1.t1', 'start_codon', '6718', '6720', 'g1.t1']\n",
      "['start_codon', '7534', '7536', 'g2.t1', 'stop_codon', '8099', '8101', 'g2.t1']\n",
      "['stop_codon', '8621', '8623', 'g3.t1', 'start_codon', '12105', '12107', 'g3.t1']\n",
      "['stop_codon', '8621', '8623', 'g3.t2', 'start_codon', '12105', '12107', 'g3.t2']\n"
     ]
    }
   ],
   "source": [
    "codon_boundaries_iter = iter(codon_boundaries)\n",
    "\n",
    "codon_pairs = (\n",
    "    boundary1 + boundary2\n",
    "    for boundary1, boundary2\n",
    "        in zip(codon_boundaries_iter, codon_boundaries_iter))\n",
    "print(*codon_pairs, sep='\\n')"
   ]
  },
  {
   "cell_type": "code",
   "execution_count": 16,
   "id": "d5ba8cf1-ef82-4763-9f14-29f2cd7bc394",
   "metadata": {},
   "outputs": [
    {
     "name": "stdout",
     "output_type": "stream",
     "text": [
      "['stop_codon', '3665', '3667', 'g1.t1', 'start_codon', '7534', '7536', 'g2.t1']\n",
      "['stop_codon', '8621', '8623', 'g3.t1', 'stop_codon', '8621', '8623', 'g3.t2']\n"
     ]
    }
   ],
   "source": [
    "# failing:\n",
    "\n",
    "import itertools\n",
    "codon_boundaries_iter = iter(codon_boundaries)\n",
    "\n",
    "codon_pairs = (\n",
    "    boundary1 + boundary2\n",
    "    for boundary1, boundary2\n",
    "        in zip(itertools.islice(codon_boundaries_iter, 0, None, 2), itertools.islice(codon_boundaries_iter, 1, None, 2)))  # this doubles step !!!\n",
    "print(*codon_pairs, sep='\\n')"
   ]
  }
 ],
 "metadata": {
  "kernelspec": {
   "display_name": "Python 3 (ipykernel)",
   "language": "python",
   "name": "python3"
  },
  "language_info": {
   "codemirror_mode": {
    "name": "ipython",
    "version": 3
   },
   "file_extension": ".py",
   "mimetype": "text/x-python",
   "name": "python",
   "nbconvert_exporter": "python",
   "pygments_lexer": "ipython3",
   "version": "3.10.4"
  }
 },
 "nbformat": 4,
 "nbformat_minor": 5
}
