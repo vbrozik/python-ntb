{
 "cells": [
  {
   "cell_type": "markdown",
   "id": "e3feb231-7ffc-4f67-82aa-46414e9b8ce6",
   "metadata": {},
   "source": [
    "# Line counter\n",
    "https://discuss.python.org/t/help-with-a-line-counter/17329?u=vbrozik\n",
    "\n",
    "Here various variants of solution"
   ]
  },
  {
   "cell_type": "code",
   "execution_count": 5,
   "id": "0492a906-8c48-4a28-94ed-6b8eb52f7bfd",
   "metadata": {},
   "outputs": [
    {
     "name": "stdout",
     "output_type": "stream",
     "text": [
      "['1', '2', '3', '4', '5']\n",
      "-\n",
      "['2', '4', '6', '8', '10']\n",
      "-\n",
      "['1', '5', '7', '8', '12']\n",
      "1\n",
      "['1', '4', '7', '9', '10']\n",
      "-\n",
      "['6', '8', '14', '32', '5']\n",
      "2\n",
      "['7', '14', '68', '43', '19']\n",
      "3\n",
      "['2', '4', '6', '8', '12']\n",
      "-\n",
      "['1', '8', '9', '16', '32']\n",
      "4\n"
     ]
    }
   ],
   "source": [
    "from _csv import reader\n",
    "\n",
    "input_file = \"2022-07-15_line_counter.csv\"\n",
    "\n",
    "# user_num = input(\"Enter a number: \")\n",
    "user_num = \"4\"\n",
    "\n",
    "count = 0\n",
    "\n",
    "with open(input_file, \"r\") as file:\n",
    "    csv = reader(file)\n",
    "    for row in csv:\n",
    "        print(row)\n",
    "        if user_num in row:\n",
    "            print(\"-\")\n",
    "        else:\n",
    "            count += 1\n",
    "            print(count)"
   ]
  },
  {
   "cell_type": "code",
   "execution_count": 5,
   "id": "1df108ea-8b0c-4a4c-b191-474fdaea2db7",
   "metadata": {},
   "outputs": [
    {
     "name": "stdout",
     "output_type": "stream",
     "text": [
      "True\n",
      "1\n",
      "2\n",
      "1\n"
     ]
    }
   ],
   "source": [
    "from csv import reader\n",
    "from itertools import chain\n",
    "\n",
    "input_file_name = \"2022-07-15_line_counter.csv\"\n",
    "\n",
    "# user_num = input(\"Enter a number: \")\n",
    "user_num = \"4\"\n",
    "\n",
    "count = 0\n",
    "after_last = object()\n",
    "\n",
    "with open(input_file_name) as file:\n",
    "    csv = reader(file)\n",
    "    print(csv is iter(csv))\n",
    "    for row in chain(csv, (after_last,)):\n",
    "        if row is after_last or user_num in row:\n",
    "            if count:\n",
    "                print(count)\n",
    "                count = 0\n",
    "        else:\n",
    "            count += 1"
   ]
  },
  {
   "cell_type": "code",
   "execution_count": 7,
   "id": "faff3e00-33ac-4250-94d4-3a05002bb040",
   "metadata": {},
   "outputs": [
    {
     "name": "stdout",
     "output_type": "stream",
     "text": [
      "1\n",
      "2\n",
      "1\n"
     ]
    }
   ],
   "source": [
    "import csv\n",
    "\n",
    "input_file_name = \"2022-07-15_line_counter.csv\"\n",
    "\n",
    "# user_num = input(\"Enter a number: \")\n",
    "user_num = \"4\"\n",
    "count = 0\n",
    "\n",
    "with open(input_file_name, \"r\") as file:\n",
    "    reader = csv.reader(file)\n",
    "    for row in reader:\n",
    "        if user_num in row:\n",
    "            if count > 0:\n",
    "                print(count)\n",
    "                count = 0\n",
    "        else:\n",
    "            count += 1\n",
    "    if count > 0:\n",
    "        print(count)"
   ]
  },
  {
   "cell_type": "code",
   "execution_count": 42,
   "id": "4703b860-2efe-4fef-9f70-bf029799c9a4",
   "metadata": {},
   "outputs": [
    {
     "name": "stdout",
     "output_type": "stream",
     "text": [
      "1\n",
      "2\n",
      "1\n"
     ]
    }
   ],
   "source": [
    "import csv\n",
    "import itertools\n",
    "\n",
    "input_file_name = \"2022-07-15_line_counter.csv\"\n",
    "user_num = \"4\"\n",
    "\n",
    "# user_num = input(\"Enter a number: \")\n",
    "count = 0\n",
    "\n",
    "with open(input_file_name) as file:\n",
    "    reader = csv.reader(file)\n",
    "    for row in itertools.chain(reader, (None,)):  # append None \"row\"\n",
    "        if row is None or user_num in row:        # recognize the None \"row\"\n",
    "            if count:\n",
    "                print(count)\n",
    "                count = 0\n",
    "        else:\n",
    "            count += 1"
   ]
  },
  {
   "cell_type": "code",
   "execution_count": 37,
   "id": "993c5eda-8e82-4f47-9f28-0532c9fed3f0",
   "metadata": {},
   "outputs": [
    {
     "name": "stdout",
     "output_type": "stream",
     "text": [
      "1\n",
      "2\n",
      "1\n"
     ]
    }
   ],
   "source": [
    "import csv\n",
    "import collections\n",
    "\n",
    "input_file_name = \"2022-07-15_line_counter.csv\"\n",
    "user_num = \"4\"\n",
    "\n",
    "# user_num = input(\"Enter a number: \")\n",
    "counters = collections.Counter()        # dictionary of counters\n",
    "count_index = 0                         # index of the current counter\n",
    "\n",
    "with open(input_file_name) as file:\n",
    "    reader = csv.reader(file)\n",
    "    for row in reader:\n",
    "        if user_num in row:\n",
    "            count_index += 1            # move to the next counter\n",
    "        else:\n",
    "            counters[count_index] += 1  # increment the current counter\n",
    "\n",
    "for index, counter in sorted(counters.items()):\n",
    "    print(counter)"
   ]
  }
 ],
 "metadata": {
  "kernelspec": {
   "display_name": "Python 3 (ipykernel)",
   "language": "python",
   "name": "python3"
  },
  "language_info": {
   "codemirror_mode": {
    "name": "ipython",
    "version": 3
   },
   "file_extension": ".py",
   "mimetype": "text/x-python",
   "name": "python",
   "nbconvert_exporter": "python",
   "pygments_lexer": "ipython3",
   "version": "3.10.4"
  }
 },
 "nbformat": 4,
 "nbformat_minor": 5
}
