{
 "cells": [
  {
   "cell_type": "markdown",
   "id": "8dbf8ebb-e5a5-44b2-9870-077de877b550",
   "metadata": {},
   "source": [
    "https://stackoverflow.com/questions/28266586/can-you-append-to-multiple-lists-at-once-in-python"
   ]
  },
  {
   "cell_type": "code",
   "execution_count": 3,
   "id": "b777eefd-733a-48b0-b4c2-3381b804d460",
   "metadata": {},
   "outputs": [
    {
     "name": "stdout",
     "output_type": "stream",
     "text": [
      "[1] [2] [3]\n"
     ]
    }
   ],
   "source": [
    "list1, list2, list3 = [], [], []\n",
    "\n",
    "destination_lists = [list1, list2, list3]\n",
    "my_list = [1, 2, 3]\n",
    "\n",
    "for destination_list, item in zip(destination_lists, my_list):\n",
    "    destination_list.append(item)\n",
    "\n",
    "print(list1, list2, list3)"
   ]
  }
 ],
 "metadata": {
  "kernelspec": {
   "display_name": "Python 3 (ipykernel)",
   "language": "python",
   "name": "python3"
  },
  "language_info": {
   "codemirror_mode": {
    "name": "ipython",
    "version": 3
   },
   "file_extension": ".py",
   "mimetype": "text/x-python",
   "name": "python",
   "nbconvert_exporter": "python",
   "pygments_lexer": "ipython3",
   "version": "3.10.6"
  }
 },
 "nbformat": 4,
 "nbformat_minor": 5
}
