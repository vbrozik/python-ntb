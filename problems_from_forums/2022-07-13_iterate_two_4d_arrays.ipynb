{
 "cells": [
  {
   "cell_type": "markdown",
   "id": "f9cd78a4-5e13-4782-8993-d9f00740b0dd",
   "metadata": {},
   "source": [
    "# Setting random NaN in multidimensional numpy array\n",
    "https://discuss.python.org/t/setting-random-nan-in-multidimensional-numpy-array/17325?u=vbrozik"
   ]
  },
  {
   "cell_type": "code",
   "execution_count": 1,
   "id": "8e8a520e-05e5-49c3-b1f3-d2cc63620a23",
   "metadata": {},
   "outputs": [],
   "source": [
    "F = False\n",
    "T = True\n",
    "\n",
    "mask = [\n",
    "        [ [ [F, F, F, F], [F, F, F, F] ], [ [F, F, F, F], [F, F, F, F] ] ],\n",
    "        [ [ [F, F, F, F], [F, F, F, F] ], [ [F, F, F, F], [F, F, F, F] ] ]\n",
    "    ]\n",
    "\n",
    "random_nan = [\n",
    "        [ [ [2], [3] ], [ [1], [2] ] ],\n",
    "        [ [ [0], [2] ], [ [1], [3] ] ]\n",
    "    ]"
   ]
  },
  {
   "cell_type": "code",
   "execution_count": 2,
   "id": "d74f01ab-68b0-4a8b-88cd-84682198b146",
   "metadata": {},
   "outputs": [
    {
     "name": "stdout",
     "output_type": "stream",
     "text": [
      "2 [False, False, True, True]\n",
      "3 [False, True, True, True]\n",
      "1 [False, False, False, True]\n",
      "2 [True, False, False, True]\n",
      "0 [False, False, False, False]\n",
      "2 [False, False, True, True]\n",
      "1 [False, False, True, False]\n",
      "3 [False, True, True, True]\n"
     ]
    }
   ],
   "source": [
    "import random\n",
    "\n",
    "for random_nan_d1, mask_d1 in zip(random_nan, mask):\n",
    "    for random_nan_d2, mask_d2 in zip(random_nan_d1, mask_d1):\n",
    "        for (random_nan_count,), mask_d3 in zip(random_nan_d2, mask_d2):\n",
    "            for index in random.sample(range(len(mask_d3)), random_nan_count):\n",
    "                mask_d3[index] = True\n",
    "            print(random_nan_count, mask_d3)"
   ]
  },
  {
   "cell_type": "code",
   "execution_count": 3,
   "id": "b3a99201-a4db-4bd1-8a7e-68a02e18b440",
   "metadata": {},
   "outputs": [
    {
     "data": {
      "text/plain": [
       "[[[[False, False, True, True], [False, True, True, True]],\n",
       "  [[False, False, False, True], [True, False, False, True]]],\n",
       " [[[False, False, False, False], [False, False, True, True]],\n",
       "  [[False, False, True, False], [False, True, True, True]]]]"
      ]
     },
     "execution_count": 3,
     "metadata": {},
     "output_type": "execute_result"
    }
   ],
   "source": [
    "mask"
   ]
  }
 ],
 "metadata": {
  "kernelspec": {
   "display_name": "Python 3 (ipykernel)",
   "language": "python",
   "name": "python3"
  },
  "language_info": {
   "codemirror_mode": {
    "name": "ipython",
    "version": 3
   },
   "file_extension": ".py",
   "mimetype": "text/x-python",
   "name": "python",
   "nbconvert_exporter": "python",
   "pygments_lexer": "ipython3",
   "version": "3.10.4"
  }
 },
 "nbformat": 4,
 "nbformat_minor": 5
}
