{
 "cells": [
  {
   "cell_type": "markdown",
   "id": "1d1935d2-dea4-4c73-91c3-d53ae9334c5d",
   "metadata": {},
   "source": [
    "# Split speakers in a text\n",
    "https://discuss.python.org/t/how-to-split-text-after-a-series-of-uppercase-words-and-create-a-new-row-in-python/17454?u=vbrozik"
   ]
  },
  {
   "cell_type": "code",
   "execution_count": 1,
   "id": "5f66a481-9c4a-4958-b8bd-ef5ee87afb41",
   "metadata": {},
   "outputs": [
    {
     "name": "stdout",
     "output_type": "stream",
     "text": [
      "('SPEAKER ALPHA', ' \\tLorem ipsum. ')\n",
      "('SPEAKER BETA', ' dolor sit amet ')\n",
      "('SPEAKER GAMMA', ' \\tNunc tincidunt tincidunt erat')\n"
     ]
    }
   ],
   "source": [
    "import re\n",
    "\n",
    "input_lines = ['SPEAKER ALPHA \tLorem ipsum. SPEAKER BETA dolor sit amet SPEAKER GAMMA \tNunc tincidunt tincidunt erat']\n",
    "\n",
    "def split_speaker_lines(lines):\n",
    "    for line in lines:\n",
    "        split = re.split(r'([A-Z]{2,}(?:\\s+[A-Z]{2,})*)', line)[1:]\n",
    "        yield from zip(split[::2], split[1::2])\n",
    "\n",
    "for line in split_speaker_lines(input_lines):\n",
    "    print(line)"
   ]
  }
 ],
 "metadata": {
  "kernelspec": {
   "display_name": "Python 3 (ipykernel)",
   "language": "python",
   "name": "python3"
  },
  "language_info": {
   "codemirror_mode": {
    "name": "ipython",
    "version": 3
   },
   "file_extension": ".py",
   "mimetype": "text/x-python",
   "name": "python",
   "nbconvert_exporter": "python",
   "pygments_lexer": "ipython3",
   "version": "3.10.4"
  }
 },
 "nbformat": 4,
 "nbformat_minor": 5
}
