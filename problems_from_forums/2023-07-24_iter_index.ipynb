{
 "cells": [
  {
   "cell_type": "markdown",
   "id": "94aeee72-d408-4fd6-8f3a-d1bcba5c156e",
   "metadata": {},
   "source": [
    "# Bug in iter_index() in itertools doc recipies\n",
    "* https://github.com/python/cpython/pull/102360\n",
    "* https://docs.python.org/3.11/library/itertools.html#itertools-recipes\n",
    "* https://github.com/more-itertools/more-itertools/pull/690\n",
    "\n",
    "The function `iter_index()` silently suppresses ValueError exceptions rased by `iterable` iterator."
   ]
  },
  {
   "cell_type": "code",
   "execution_count": 1,
   "id": "916200c2-298f-4be1-b0ff-4d41438f2bd2",
   "metadata": {},
   "outputs": [],
   "source": [
    "# The function - copied from:\n",
    "# https://github.com/pochmann/cpython/blob/148bde644195408ec68cd145b779f42a214bfbb1/Doc/library/itertools.rst?plain=1#L881\n",
    "# https://docs.python.org/3.11/library/itertools.html#itertools-recipes\n",
    "\n",
    "import operator\n",
    "from itertools import islice\n",
    "\n",
    "def iter_index(iterable, value, start=0):\n",
    "    \"Return indices where a value occurs in a sequence or iterable.\"\n",
    "    # iter_index('AABCADEAF', 'A') --> 0 1 4 7\n",
    "    try:\n",
    "        seq_index = iterable.index\n",
    "    except AttributeError:\n",
    "        # Slow path for general iterables\n",
    "        it = islice(iterable, start, None)\n",
    "        i = start - 1\n",
    "        try:\n",
    "            while True:\n",
    "                yield (i := i + operator.indexOf(it, value) + 1)\n",
    "        except ValueError:\n",
    "            pass\n",
    "    else:\n",
    "        # Fast path for sequences\n",
    "        i = start - 1\n",
    "        try:\n",
    "            while True:\n",
    "                yield (i := seq_index(value, i+1))\n",
    "        except ValueError:\n",
    "            pass"
   ]
  },
  {
   "cell_type": "markdown",
   "id": "9e3c42dd-1078-47ec-ad27-5b0e2b3c4140",
   "metadata": {},
   "source": [
    "## Demonstration of the bug"
   ]
  },
  {
   "cell_type": "code",
   "execution_count": 2,
   "id": "3225db16-3ee7-4b95-a025-884378ed76c0",
   "metadata": {},
   "outputs": [],
   "source": [
    "sequence = 'AABCADEAF'\n",
    "\n",
    "def assert_no_value(iterable, forbidden_value):\n",
    "    \"\"\"Pass the iterable but raise ValueError if forbidden_value is found.\"\"\"\n",
    "    for item in iterable:\n",
    "        if item == forbidden_value:\n",
    "            raise ValueError(f'Value {forbidden_value!r} is not allowed.')\n",
    "        yield item"
   ]
  },
  {
   "cell_type": "code",
   "execution_count": 3,
   "id": "21d15c24-6aa1-4c67-90ef-db2ab6cacc81",
   "metadata": {},
   "outputs": [
    {
     "data": {
      "text/plain": [
       "[0, 1, 4, 7]"
      ]
     },
     "execution_count": 3,
     "metadata": {},
     "output_type": "execute_result"
    }
   ],
   "source": [
    "# Example from the documentation:\n",
    "\n",
    "list(iter_index(sequence, 'A'))"
   ]
  },
  {
   "cell_type": "code",
   "execution_count": 4,
   "id": "b11d5ad5-fc44-4ae6-b5ee-bea6485556ef",
   "metadata": {},
   "outputs": [
    {
     "data": {
      "text/plain": [
       "[0, 1, 4, 7]"
      ]
     },
     "execution_count": 4,
     "metadata": {},
     "output_type": "execute_result"
    }
   ],
   "source": [
    "# The same with our assert not engaging:\n",
    "\n",
    "list(iter_index(assert_no_value(sequence, 'X'), 'A'))"
   ]
  },
  {
   "cell_type": "code",
   "execution_count": 5,
   "id": "d45a2918-e7f2-416a-8de5-35dea2d3d905",
   "metadata": {},
   "outputs": [
    {
     "data": {
      "text/plain": [
       "[0, 1]"
      ]
     },
     "execution_count": 5,
     "metadata": {},
     "output_type": "execute_result"
    }
   ],
   "source": [
    "# Here we should get ValueError exception\n",
    "# but it is being silently suppressed by iter_index()\n",
    "\n",
    "list(iter_index(assert_no_value(sequence, 'B'), 'A'))"
   ]
  }
 ],
 "metadata": {
  "kernelspec": {
   "display_name": "Python 3 (ipykernel)",
   "language": "python",
   "name": "python3"
  },
  "language_info": {
   "codemirror_mode": {
    "name": "ipython",
    "version": 3
   },
   "file_extension": ".py",
   "mimetype": "text/x-python",
   "name": "python",
   "nbconvert_exporter": "python",
   "pygments_lexer": "ipython3",
   "version": "3.10.6"
  }
 },
 "nbformat": 4,
 "nbformat_minor": 5
}
