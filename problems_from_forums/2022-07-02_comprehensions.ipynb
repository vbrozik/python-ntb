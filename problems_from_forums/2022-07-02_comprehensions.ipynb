{
 "cells": [
  {
   "cell_type": "markdown",
   "id": "e07aa1d2-4efd-4455-a08d-c566113e9d01",
   "metadata": {},
   "source": [
    "# List Comprehension as Compulsory Functional Style\n",
    "https://discuss.python.org/t/list-comprehension-as-compulsory-functional-style/16997?u=vbrozik"
   ]
  },
  {
   "cell_type": "code",
   "execution_count": 1,
   "id": "a0d3107b-4701-435b-8d88-dc54a4b055dd",
   "metadata": {},
   "outputs": [],
   "source": [
    "a_list_template = [\n",
    "    ['a', 'b', 'c'],\n",
    "    ['d', 'e', 'f'],\n",
    "    ['g', 'h', 'X1:'],\n",
    "    ['i', 'j', 'k'],\n",
    "    ['l', 'm', 'X1:'],\n",
    "]"
   ]
  },
  {
   "cell_type": "code",
   "execution_count": 2,
   "id": "228afa4f-13b8-4f8d-b997-2b18e4ab8626",
   "metadata": {},
   "outputs": [],
   "source": [
    "a_list_template_long = [\n",
    "    ['g', 'h', 'X1:'],\n",
    "    ['l', 'm', 'X1:'],\n",
    "    ['a', 'b', 'c'],\n",
    "    ['d', 'e', 'f'],\n",
    "    ['g', 'h', 'X1:'],\n",
    "    ['l', 'm', 'X1:'],\n",
    "    ['i', 'j', 'k'],\n",
    "    ['l', 'm', 'X1:'],\n",
    "    ['l', 'm', 'X1:'],\n",
    "    ['l', 'm', 'X1:'],\n",
    "    ['l', 'm', 'X1:'],\n",
    "    ['l', 'm', 'X1:'],\n",
    "    ['l', 'm', 'X1:'],\n",
    "    ['l', 'm', 'X1:'],\n",
    "]"
   ]
  },
  {
   "cell_type": "markdown",
   "id": "9b5d274b-e24c-4943-887d-58ffc08fec97",
   "metadata": {},
   "source": [
    "## List comprehension 10"
   ]
  },
  {
   "cell_type": "code",
   "execution_count": 3,
   "id": "26ee9c09-acdf-4f80-b4cd-c2b812328897",
   "metadata": {},
   "outputs": [
    {
     "data": {
      "text/plain": [
       "[['l', 'm', 'X1:'], ['d', 'e', 'f']]"
      ]
     },
     "execution_count": 3,
     "metadata": {},
     "output_type": "execute_result"
    }
   ],
   "source": [
    "a_list = a_list_template[:]\n",
    "[\n",
    "    a_list.pop(len(a_list) - 1 - i)\n",
    "    for i, ss in enumerate(a_list[::-1])\n",
    "    if ss[-1].startswith('X1:')]"
   ]
  },
  {
   "cell_type": "code",
   "execution_count": 4,
   "id": "acfb9e1e-6a2f-418c-bdff-75e305cbfb4a",
   "metadata": {},
   "outputs": [
    {
     "ename": "IndexError",
     "evalue": "pop index out of range",
     "output_type": "error",
     "traceback": [
      "\u001b[0;31m---------------------------------------------------------------------------\u001b[0m",
      "\u001b[0;31mIndexError\u001b[0m                                Traceback (most recent call last)",
      "Input \u001b[0;32mIn [4]\u001b[0m, in \u001b[0;36m<cell line: 3>\u001b[0;34m()\u001b[0m\n\u001b[1;32m      1\u001b[0m \u001b[38;5;66;03m# Failure demonstration\u001b[39;00m\n\u001b[1;32m      2\u001b[0m a_list \u001b[38;5;241m=\u001b[39m a_list_template_long[:]\n\u001b[0;32m----> 3\u001b[0m [\n\u001b[1;32m      4\u001b[0m     a_list\u001b[38;5;241m.\u001b[39mpop(\u001b[38;5;28mlen\u001b[39m(a_list) \u001b[38;5;241m-\u001b[39m \u001b[38;5;241m1\u001b[39m \u001b[38;5;241m-\u001b[39m i)\n\u001b[1;32m      5\u001b[0m     \u001b[38;5;28;01mfor\u001b[39;00m i, ss \u001b[38;5;129;01min\u001b[39;00m \u001b[38;5;28menumerate\u001b[39m(a_list[::\u001b[38;5;241m-\u001b[39m\u001b[38;5;241m1\u001b[39m])\n\u001b[1;32m      6\u001b[0m     \u001b[38;5;28;01mif\u001b[39;00m ss[\u001b[38;5;241m-\u001b[39m\u001b[38;5;241m1\u001b[39m]\u001b[38;5;241m.\u001b[39mstartswith(\u001b[38;5;124m'\u001b[39m\u001b[38;5;124mX1:\u001b[39m\u001b[38;5;124m'\u001b[39m)]\n",
      "Input \u001b[0;32mIn [4]\u001b[0m, in \u001b[0;36m<listcomp>\u001b[0;34m(.0)\u001b[0m\n\u001b[1;32m      1\u001b[0m \u001b[38;5;66;03m# Failure demonstration\u001b[39;00m\n\u001b[1;32m      2\u001b[0m a_list \u001b[38;5;241m=\u001b[39m a_list_template_long[:]\n\u001b[1;32m      3\u001b[0m [\n\u001b[0;32m----> 4\u001b[0m     \u001b[43ma_list\u001b[49m\u001b[38;5;241;43m.\u001b[39;49m\u001b[43mpop\u001b[49m\u001b[43m(\u001b[49m\u001b[38;5;28;43mlen\u001b[39;49m\u001b[43m(\u001b[49m\u001b[43ma_list\u001b[49m\u001b[43m)\u001b[49m\u001b[43m \u001b[49m\u001b[38;5;241;43m-\u001b[39;49m\u001b[43m \u001b[49m\u001b[38;5;241;43m1\u001b[39;49m\u001b[43m \u001b[49m\u001b[38;5;241;43m-\u001b[39;49m\u001b[43m \u001b[49m\u001b[43mi\u001b[49m\u001b[43m)\u001b[49m\n\u001b[1;32m      5\u001b[0m     \u001b[38;5;28;01mfor\u001b[39;00m i, ss \u001b[38;5;129;01min\u001b[39;00m \u001b[38;5;28menumerate\u001b[39m(a_list[::\u001b[38;5;241m-\u001b[39m\u001b[38;5;241m1\u001b[39m])\n\u001b[1;32m      6\u001b[0m     \u001b[38;5;28;01mif\u001b[39;00m ss[\u001b[38;5;241m-\u001b[39m\u001b[38;5;241m1\u001b[39m]\u001b[38;5;241m.\u001b[39mstartswith(\u001b[38;5;124m'\u001b[39m\u001b[38;5;124mX1:\u001b[39m\u001b[38;5;124m'\u001b[39m)]\n",
      "\u001b[0;31mIndexError\u001b[0m: pop index out of range"
     ]
    }
   ],
   "source": [
    "# Failure demonstration\n",
    "a_list = a_list_template_long[:]\n",
    "[\n",
    "    a_list.pop(len(a_list) - 1 - i)\n",
    "    for i, ss in enumerate(a_list[::-1])\n",
    "    if ss[-1].startswith('X1:')]"
   ]
  },
  {
   "cell_type": "markdown",
   "id": "9fa90f8f-7cb1-4bed-9c52-0d49cbe17556",
   "metadata": {},
   "source": [
    "### Troubleshooting"
   ]
  },
  {
   "cell_type": "code",
   "execution_count": 5,
   "id": "46057949-e236-4795-96a8-13e2d2b61799",
   "metadata": {},
   "outputs": [
    {
     "name": "stdout",
     "output_type": "stream",
     "text": [
      "i =  0; ss = ['l', 'm', 'X1:'] ; len(a_list) = 5;  4\n",
      "i =  1; ss = ['i', 'j', 'k']   ; len(a_list) = 4;  2\n",
      "i =  2; ss = ['g', 'h', 'X1:'] ; len(a_list) = 4;  1\n",
      "i =  3; ss = ['d', 'e', 'f']   ; len(a_list) = 3; -1\n",
      "i =  4; ss = ['a', 'b', 'c']   ; len(a_list) = 3; -2\n"
     ]
    }
   ],
   "source": [
    "a_list = a_list_template[:]\n",
    "b_list = []\n",
    "for i, ss in enumerate(a_list[::-1]):\n",
    "    print(f'{i = :2}; {ss = !s:18}; {len(a_list) = }; {len(a_list) - 1 - i:>2}')\n",
    "    if ss[-1].startswith('X1:'):\n",
    "        b_list.append(a_list.pop(len(a_list) - 1 - i))"
   ]
  },
  {
   "cell_type": "markdown",
   "id": "ee2d9d73-5330-4959-8091-e901805b5ecc",
   "metadata": {},
   "source": [
    "### New solution"
   ]
  },
  {
   "cell_type": "code",
   "execution_count": 6,
   "id": "8236aa62-c7d8-4ebb-824e-ca9e908ea1c8",
   "metadata": {},
   "outputs": [],
   "source": [
    "a_list = a_list_template[:]\n",
    "\n",
    "a_list_x1, a_list_nox1 = [], []\n",
    "for item in a_list:\n",
    "    if item[-1].startswith('X1:'):\n",
    "        a_list_x1.append(item)\n",
    "    else:\n",
    "        a_list_nox1.append(item)"
   ]
  },
  {
   "cell_type": "code",
   "execution_count": 7,
   "id": "46411528-b8f9-4b5b-9c3c-276a7d70a4aa",
   "metadata": {},
   "outputs": [
    {
     "data": {
      "text/plain": [
       "[['g', 'h', 'X1:'], ['l', 'm', 'X1:']]"
      ]
     },
     "execution_count": 7,
     "metadata": {},
     "output_type": "execute_result"
    }
   ],
   "source": [
    "a_list_x1"
   ]
  },
  {
   "cell_type": "code",
   "execution_count": 8,
   "id": "78cb5a48-518c-4d99-bcef-3a6805c5763a",
   "metadata": {},
   "outputs": [
    {
     "data": {
      "text/plain": [
       "[['a', 'b', 'c'], ['d', 'e', 'f'], ['i', 'j', 'k']]"
      ]
     },
     "execution_count": 8,
     "metadata": {},
     "output_type": "execute_result"
    }
   ],
   "source": [
    "a_list_nox1"
   ]
  },
  {
   "cell_type": "markdown",
   "id": "315aeb82-9840-4fee-b489-7233d76cb3ed",
   "metadata": {},
   "source": [
    "### New solution 2"
   ]
  },
  {
   "cell_type": "code",
   "execution_count": 9,
   "id": "6634c8c9-35eb-42d4-a48e-a1c3760f988b",
   "metadata": {},
   "outputs": [],
   "source": [
    "a_list = a_list_template[:]\n",
    "\n",
    "a_list_x1, a_list_nox1 = [], []\n",
    "for item in a_list:\n",
    "    (a_list_nox1, a_list_x1)[item[-1].startswith('X1:')].append(item)\n",
    "    # (a_list_x1 if item[-1].startswith('X1:') else a_list_nox1).append(item)  # with ternary operator"
   ]
  },
  {
   "cell_type": "code",
   "execution_count": 10,
   "id": "b03d42b8-3580-4b3d-9a9d-62ee4ab29e56",
   "metadata": {},
   "outputs": [
    {
     "data": {
      "text/plain": [
       "[['g', 'h', 'X1:'], ['l', 'm', 'X1:']]"
      ]
     },
     "execution_count": 10,
     "metadata": {},
     "output_type": "execute_result"
    }
   ],
   "source": [
    "a_list_x1"
   ]
  },
  {
   "cell_type": "code",
   "execution_count": 11,
   "id": "464e070d-ba95-4e97-b5d2-0d74d4b498a6",
   "metadata": {
    "tags": []
   },
   "outputs": [
    {
     "data": {
      "text/plain": [
       "[['a', 'b', 'c'], ['d', 'e', 'f'], ['i', 'j', 'k']]"
      ]
     },
     "execution_count": 11,
     "metadata": {},
     "output_type": "execute_result"
    }
   ],
   "source": [
    "a_list_nox1"
   ]
  },
  {
   "cell_type": "markdown",
   "id": "748f5a1f-d09f-4186-a0ad-071826e8a7fd",
   "metadata": {},
   "source": [
    "## List comprehension 20"
   ]
  },
  {
   "cell_type": "code",
   "execution_count": 12,
   "id": "2e09fc87-4654-410f-9ced-0123f0fcfb5f",
   "metadata": {},
   "outputs": [
    {
     "data": {
      "text/plain": [
       "[None, None]"
      ]
     },
     "execution_count": 12,
     "metadata": {},
     "output_type": "execute_result"
    }
   ],
   "source": [
    "a_list = a_list_template[:]\n",
    "\n",
    "[a_list.remove(ss) for ss in a_list[::-1] if ss[-1].startswith('X1:')]"
   ]
  },
  {
   "cell_type": "code",
   "execution_count": 13,
   "id": "5f06ccc3-350f-48d8-8cc1-7a71d2b38a5f",
   "metadata": {},
   "outputs": [
    {
     "data": {
      "text/plain": [
       "[['a', 'b', 'c'], ['d', 'e', 'f'], ['i', 'j', 'k']]"
      ]
     },
     "execution_count": 13,
     "metadata": {},
     "output_type": "execute_result"
    }
   ],
   "source": [
    "a_list"
   ]
  },
  {
   "cell_type": "markdown",
   "id": "d9d756e1-a294-44ed-a661-7d236266cc7a",
   "metadata": {},
   "source": [
    "### New solution - for loop"
   ]
  },
  {
   "cell_type": "code",
   "execution_count": 14,
   "id": "a0d75ae9-b567-4ec8-829d-e893ffdbcdd8",
   "metadata": {},
   "outputs": [
    {
     "data": {
      "text/plain": [
       "[['a', 'b', 'c'], ['d', 'e', 'f'], ['i', 'j', 'k']]"
      ]
     },
     "execution_count": 14,
     "metadata": {},
     "output_type": "execute_result"
    }
   ],
   "source": [
    "a_list = a_list_template[:]\n",
    "\n",
    "a_last_index = len(a_list) - 1\n",
    "for reversed_index, item in enumerate(a_list[::-1]):\n",
    "    if item[-1].startswith('X1:'):\n",
    "        del a_list[a_last_index - reversed_index]\n",
    "a_list"
   ]
  },
  {
   "cell_type": "markdown",
   "id": "fb60f4b7-2a30-42b6-9d34-c56747fbb7ab",
   "metadata": {},
   "source": [
    "### New solution - list comprehension"
   ]
  },
  {
   "cell_type": "code",
   "execution_count": 15,
   "id": "0f088adb-4bad-4d59-aa86-7d33e8c9906a",
   "metadata": {},
   "outputs": [
    {
     "data": {
      "text/plain": [
       "[['a', 'b', 'c'], ['d', 'e', 'f'], ['i', 'j', 'k']]"
      ]
     },
     "execution_count": 15,
     "metadata": {},
     "output_type": "execute_result"
    }
   ],
   "source": [
    "a_list = a_list_template[:]\n",
    "\n",
    "[item for item in a_list if not item[-1].startswith('X1:')]"
   ]
  }
 ],
 "metadata": {
  "kernelspec": {
   "display_name": "Python 3 (ipykernel)",
   "language": "python",
   "name": "python3"
  },
  "language_info": {
   "codemirror_mode": {
    "name": "ipython",
    "version": 3
   },
   "file_extension": ".py",
   "mimetype": "text/x-python",
   "name": "python",
   "nbconvert_exporter": "python",
   "pygments_lexer": "ipython3",
   "version": "3.10.4"
  }
 },
 "nbformat": 4,
 "nbformat_minor": 5
}
