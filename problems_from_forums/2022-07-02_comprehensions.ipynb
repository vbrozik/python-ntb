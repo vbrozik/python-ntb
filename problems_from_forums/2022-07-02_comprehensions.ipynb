{
 "cells": [
  {
   "cell_type": "markdown",
   "id": "e07aa1d2-4efd-4455-a08d-c566113e9d01",
   "metadata": {},
   "source": [
    "https://discuss.python.org/t/list-comprehension-as-compulsory-functional-style/16997?u=vbrozik"
   ]
  },
  {
   "cell_type": "code",
   "execution_count": 47,
   "id": "228afa4f-13b8-4f8d-b997-2b18e4ab8626",
   "metadata": {},
   "outputs": [],
   "source": [
    "a_list_template = [\n",
    "    ['g', 'h', 'X1:'],\n",
    "    ['l', 'm', 'X1:'],\n",
    "    ['a', 'b', 'c'],\n",
    "    ['d', 'e', 'f'],\n",
    "    ['g', 'h', 'X1:'],\n",
    "    ['l', 'm', 'X1:'],\n",
    "    ['i', 'j', 'k'],\n",
    "    ['l', 'm', 'X1:'],\n",
    "    ['l', 'm', 'X1:'],\n",
    "    ['l', 'm', 'X1:'],\n",
    "    ['l', 'm', 'X1:'],\n",
    "    ['l', 'm', 'X1:'],\n",
    "    ['l', 'm', 'X1:'],\n",
    "    ['l', 'm', 'X1:'],\n",
    "]\n",
    "# indexing error in the original comprehension"
   ]
  },
  {
   "cell_type": "code",
   "execution_count": 38,
   "id": "a0d3107b-4701-435b-8d88-dc54a4b055dd",
   "metadata": {},
   "outputs": [],
   "source": [
    "a_list_template = [\n",
    "    ['a', 'b', 'c'],\n",
    "    ['d', 'e', 'f'],\n",
    "    ['g', 'h', 'X1:'],\n",
    "    ['i', 'j', 'k'],\n",
    "    ['l', 'm', 'X1:'],\n",
    "]"
   ]
  },
  {
   "cell_type": "markdown",
   "id": "9b5d274b-e24c-4943-887d-58ffc08fec97",
   "metadata": {},
   "source": [
    "## List comprehension 10"
   ]
  },
  {
   "cell_type": "code",
   "execution_count": 16,
   "id": "26ee9c09-acdf-4f80-b4cd-c2b812328897",
   "metadata": {},
   "outputs": [
    {
     "data": {
      "text/plain": [
       "[['l', 'm', 'X1:'], ['d', 'e', 'f']]"
      ]
     },
     "execution_count": 16,
     "metadata": {},
     "output_type": "execute_result"
    }
   ],
   "source": [
    "a_list = a_list_template[:]\n",
    "[\n",
    "    a_list.pop(len(a_list) - 1 - i)\n",
    "    for i, ss in enumerate(a_list[::-1])\n",
    "    if ss[-1].startswith('X1:')]"
   ]
  },
  {
   "cell_type": "markdown",
   "id": "9fa90f8f-7cb1-4bed-9c52-0d49cbe17556",
   "metadata": {},
   "source": [
    "### Troubleshooting"
   ]
  },
  {
   "cell_type": "code",
   "execution_count": 7,
   "id": "46057949-e236-4795-96a8-13e2d2b61799",
   "metadata": {},
   "outputs": [
    {
     "name": "stdout",
     "output_type": "stream",
     "text": [
      "i =  0; ss = ['l', 'm', 'X1:'] ; len(a_list) = 8;  7\n",
      "i =  1; ss = ['l', 'm', 'X1:'] ; len(a_list) = 7;  5\n",
      "i =  2; ss = ['l', 'm', 'X1:'] ; len(a_list) = 6;  3\n",
      "i =  3; ss = ['l', 'm', 'X1:'] ; len(a_list) = 5;  1\n",
      "i =  4; ss = ['i', 'j', 'k']   ; len(a_list) = 4; -1\n",
      "i =  5; ss = ['g', 'h', 'X1:'] ; len(a_list) = 4; -2\n",
      "i =  6; ss = ['d', 'e', 'f']   ; len(a_list) = 3; -4\n",
      "i =  7; ss = ['a', 'b', 'c']   ; len(a_list) = 3; -5\n"
     ]
    }
   ],
   "source": [
    "a_list = a_list_template[:]\n",
    "b_list = []\n",
    "for i, ss in enumerate(a_list[::-1]):\n",
    "    print(f'{i = :2}; {ss = !s:18}; {len(a_list) = }; {len(a_list) - 1 - i:>2}')\n",
    "    if ss[-1].startswith('X1:'):\n",
    "        b_list.append(a_list.pop(len(a_list) - 1 - i))"
   ]
  },
  {
   "cell_type": "markdown",
   "id": "ee2d9d73-5330-4959-8091-e901805b5ecc",
   "metadata": {},
   "source": [
    "### New solution"
   ]
  },
  {
   "cell_type": "code",
   "execution_count": 20,
   "id": "8236aa62-c7d8-4ebb-824e-ca9e908ea1c8",
   "metadata": {},
   "outputs": [],
   "source": [
    "a_list = a_list_template[:]\n",
    "a_list_x1, a_list_nox1 = [], []\n",
    "for item in a_list:\n",
    "    if item[-1].startswith('X1:'):\n",
    "        a_list_x1.append(item)\n",
    "    else:\n",
    "        a_list_nox1.append(item)"
   ]
  },
  {
   "cell_type": "code",
   "execution_count": 21,
   "id": "46411528-b8f9-4b5b-9c3c-276a7d70a4aa",
   "metadata": {},
   "outputs": [
    {
     "data": {
      "text/plain": [
       "[['g', 'h', 'X1:'], ['l', 'm', 'X1:']]"
      ]
     },
     "execution_count": 21,
     "metadata": {},
     "output_type": "execute_result"
    }
   ],
   "source": [
    "a_list_x1"
   ]
  },
  {
   "cell_type": "code",
   "execution_count": 22,
   "id": "78cb5a48-518c-4d99-bcef-3a6805c5763a",
   "metadata": {},
   "outputs": [
    {
     "data": {
      "text/plain": [
       "[['a', 'b', 'c'], ['d', 'e', 'f'], ['i', 'j', 'k']]"
      ]
     },
     "execution_count": 22,
     "metadata": {},
     "output_type": "execute_result"
    }
   ],
   "source": [
    "a_list_nox1"
   ]
  },
  {
   "cell_type": "markdown",
   "id": "315aeb82-9840-4fee-b489-7233d76cb3ed",
   "metadata": {},
   "source": [
    "### New solution 2"
   ]
  },
  {
   "cell_type": "code",
   "execution_count": 27,
   "id": "6634c8c9-35eb-42d4-a48e-a1c3760f988b",
   "metadata": {},
   "outputs": [],
   "source": [
    "a_list = a_list_template[:]\n",
    "a_list_x1, a_list_nox1 = [], []\n",
    "for item in a_list:\n",
    "    (a_list_nox1, a_list_x1)[item[-1].startswith('X1:')].append(item)\n",
    "    # (a_list_x1 if item[-1].startswith('X1:') else a_list_nox1).append(item)"
   ]
  },
  {
   "cell_type": "code",
   "execution_count": 29,
   "id": "b03d42b8-3580-4b3d-9a9d-62ee4ab29e56",
   "metadata": {},
   "outputs": [
    {
     "data": {
      "text/plain": [
       "[['g', 'h', 'X1:'], ['l', 'm', 'X1:']]"
      ]
     },
     "execution_count": 29,
     "metadata": {},
     "output_type": "execute_result"
    }
   ],
   "source": [
    "a_list_x1"
   ]
  },
  {
   "cell_type": "code",
   "execution_count": 30,
   "id": "464e070d-ba95-4e97-b5d2-0d74d4b498a6",
   "metadata": {
    "tags": []
   },
   "outputs": [
    {
     "data": {
      "text/plain": [
       "[['a', 'b', 'c'], ['d', 'e', 'f'], ['i', 'j', 'k']]"
      ]
     },
     "execution_count": 30,
     "metadata": {},
     "output_type": "execute_result"
    }
   ],
   "source": [
    "a_list_nox1"
   ]
  },
  {
   "cell_type": "markdown",
   "id": "748f5a1f-d09f-4186-a0ad-071826e8a7fd",
   "metadata": {},
   "source": [
    "## List comprehension 20"
   ]
  },
  {
   "cell_type": "code",
   "execution_count": 48,
   "id": "2e09fc87-4654-410f-9ced-0123f0fcfb5f",
   "metadata": {},
   "outputs": [
    {
     "data": {
      "text/plain": [
       "[None, None, None, None, None, None, None, None, None, None, None]"
      ]
     },
     "execution_count": 48,
     "metadata": {},
     "output_type": "execute_result"
    }
   ],
   "source": [
    "a_list = a_list_template[:]\n",
    "[a_list.remove(ss) for ss in a_list[::-1] if ss[-1].startswith('X1:')]"
   ]
  },
  {
   "cell_type": "code",
   "execution_count": 49,
   "id": "5f06ccc3-350f-48d8-8cc1-7a71d2b38a5f",
   "metadata": {},
   "outputs": [
    {
     "data": {
      "text/plain": [
       "[['a', 'b', 'c'], ['d', 'e', 'f'], ['i', 'j', 'k']]"
      ]
     },
     "execution_count": 49,
     "metadata": {},
     "output_type": "execute_result"
    }
   ],
   "source": [
    "a_list"
   ]
  },
  {
   "cell_type": "code",
   "execution_count": 59,
   "id": "a0d75ae9-b567-4ec8-829d-e893ffdbcdd8",
   "metadata": {},
   "outputs": [
    {
     "data": {
      "text/plain": [
       "[['a', 'b', 'c'], ['d', 'e', 'f'], ['i', 'j', 'k']]"
      ]
     },
     "execution_count": 59,
     "metadata": {},
     "output_type": "execute_result"
    }
   ],
   "source": [
    "a_list = a_list_template[:]\n",
    "a_last_index = len(a_list) - 1\n",
    "for reversed_index, item in enumerate(a_list[::-1]):\n",
    "    if item[-1].startswith('X1:'):\n",
    "        del a_list[a_last_index - reversed_index]\n",
    "a_list"
   ]
  },
  {
   "cell_type": "code",
   "execution_count": 58,
   "id": "0f088adb-4bad-4d59-aa86-7d33e8c9906a",
   "metadata": {},
   "outputs": [
    {
     "data": {
      "text/plain": [
       "[['a', 'b', 'c'], ['d', 'e', 'f'], ['i', 'j', 'k']]"
      ]
     },
     "execution_count": 58,
     "metadata": {},
     "output_type": "execute_result"
    }
   ],
   "source": [
    "a_list = a_list_template[:]\n",
    "[item for item in a_list if not item[-1].startswith('X1:')]"
   ]
  },
  {
   "cell_type": "code",
   "execution_count": null,
   "id": "6d4c749f-a996-4cfd-ba1d-f53741c060ca",
   "metadata": {},
   "outputs": [],
   "source": []
  }
 ],
 "metadata": {
  "kernelspec": {
   "display_name": "Python 3 (ipykernel)",
   "language": "python",
   "name": "python3"
  },
  "language_info": {
   "codemirror_mode": {
    "name": "ipython",
    "version": 3
   },
   "file_extension": ".py",
   "mimetype": "text/x-python",
   "name": "python",
   "nbconvert_exporter": "python",
   "pygments_lexer": "ipython3",
   "version": "3.10.4"
  }
 },
 "nbformat": 4,
 "nbformat_minor": 5
}
