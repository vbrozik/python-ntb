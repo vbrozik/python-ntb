{
 "cells": [
  {
   "cell_type": "markdown",
   "id": "6a67559d-42e5-441e-a0bb-4dc033a7b575",
   "metadata": {},
   "source": [
    "https://discuss.python.org/t/sorting-overlap-date-and-time/16820?u=vbrozik"
   ]
  },
  {
   "cell_type": "code",
   "execution_count": 44,
   "id": "f3cc5c64-6205-46f5-8517-453932a8f1d0",
   "metadata": {},
   "outputs": [],
   "source": [
    "from dataclasses import dataclass, field\n",
    "from typing import NamedTuple\n",
    "from types import SimpleNamespace\n",
    "\n",
    "\n",
    "TERMINAL_WIDTH = 100   # text terminal width in characters\n",
    "TERMINAL_SPACE = 15    # space to keep on the side of a graph\n",
    "\n",
    "\n",
    "class NumInterval(NamedTuple):\n",
    "    \"\"\"Numeric interval.\"\"\"\n",
    "    start: float\n",
    "    end: float\n",
    "    \n",
    "    def __add__(self, amount: float) -> NumInterval:\n",
    "        \"\"\"Define NumInterval + float as interval shift operation.\"\"\"\n",
    "        return NumInterval(self.start + amount, self.end + amount)\n",
    "\n",
    "    def __mul__(self, amount: float) -> NumInterval:\n",
    "        \"\"\"Define NumInterval * float as interval scale operation.\"\"\"\n",
    "        return NumInterval(self.start * amount, self.end * amount)\n",
    "    \n",
    "    def length(self) -> float:\n",
    "        \"\"\"Return interval length.\"\"\"\n",
    "        return self.end - self.start\n",
    "\n",
    "    \n",
    "@dataclass\n",
    "class AllocationInterval:\n",
    "    \"\"\"Resource allocation time interval.\"\"\"\n",
    "    name: str\n",
    "    interval: NumInterval\n",
    "\n",
    "\n",
    "@dataclass\n",
    "class IntervalTransformer:\n",
    "    \"\"\"Transfor interval to different range or textual representation.\"\"\"\n",
    "    input_range: NumInterval\n",
    "    output_max: float = TERMINAL_WIDTH - TERMINAL_SPACE\n",
    "    output_characters: SimpleNamespace = field(default_factory=lambda: SimpleNamespace(\n",
    "            inside = '#',\n",
    "            outside = '.',\n",
    "            ex_left = '<',\n",
    "            ex_right = '>',\n",
    "            split = '|',\n",
    "            ))\n",
    "    \n",
    "    def __post_init__(self) -> None:\n",
    "        self._shift = - self.input_range.start\n",
    "        self._scale = self.output_max / self.input_range.length()\n",
    "    \n",
    "    def transform(self, input: NumInterval) -> NumInterval:\n",
    "        \"\"\"Transform the interval to the output range.\"\"\"\n",
    "        return (input + self._shift) * self._scale\n",
    "    \n",
    "    def string(self, input: NumInterval) -> str:\n",
    "        \"\"\"Transform the interval to its textual representation.\"\"\"\n",
    "        transformed = self.transform(input)\n",
    "        return (\n",
    "                self.output_characters.outside * int(transformed.start)\n",
    "                + self.output_characters.inside * int(transformed.end - transformed.start)\n",
    "                + self.output_characters.outside * int(self.output_max - transformed.end))"
   ]
  },
  {
   "cell_type": "code",
   "execution_count": 40,
   "id": "6acb66a6-e930-42fe-88bc-d1232514e065",
   "metadata": {},
   "outputs": [
    {
     "data": {
      "text/plain": [
       "NumInterval(start=20, end=60)"
      ]
     },
     "execution_count": 40,
     "metadata": {},
     "output_type": "execute_result"
    }
   ],
   "source": [
    "i1 = NumInterval(20, 60)\n",
    "i1"
   ]
  },
  {
   "cell_type": "code",
   "execution_count": 51,
   "id": "771ccc63-0a5e-4e52-8af9-164df1534862",
   "metadata": {},
   "outputs": [
    {
     "data": {
      "text/plain": [
       "'.................##################################..................................'"
      ]
     },
     "execution_count": 51,
     "metadata": {},
     "output_type": "execute_result"
    }
   ],
   "source": [
    "input_range = NumInterval(0, 100)\n",
    "it = IntervalTransformer(input_range)\n",
    "# it.transform(i1)\n",
    "it.string(i1)"
   ]
  },
  {
   "cell_type": "code",
   "execution_count": 50,
   "id": "2e5b687f-2e49-406e-8c08-bbd8fa52c7a3",
   "metadata": {
    "tags": []
   },
   "outputs": [
    {
     "name": "stdout",
     "output_type": "stream",
     "text": [
      ".................................................########...........................\n",
      ".....................##############################################................\n",
      "....................############################....................................\n",
      "......................#######.......................................................\n",
      "..##############################################################....................\n",
      "..............####################################################..................\n",
      "..............................#########################.............................\n",
      "#########################...........................................................\n",
      "....####################################################################...........\n",
      "...................................................................##...............\n",
      "..................................#############################....................\n",
      ".........................................................................#######....\n",
      "...########################################################.........................\n",
      "......................#################################################............\n",
      "............................................############################............\n",
      "................###################................................................\n",
      "..............#########################............................................\n",
      "......................................................##########################....\n",
      "...........................######################################..................\n",
      "....................................................................#####..........\n",
      "....############################################...................................\n",
      ".................................##########################........................\n",
      "...........#################################################.......................\n",
      "..............#####################################################################.\n",
      ".........................................#########################################.\n",
      "..#######################################################################...........\n",
      "..........#################################################################........\n",
      ".......................................................##############..............\n",
      "................................##################.................................\n",
      ".............#......................................................................\n"
     ]
    }
   ],
   "source": [
    "import random\n",
    "\n",
    "interval_max = TERMINAL_WIDTH - TERMINAL_SPACE\n",
    "range_all = NumInterval(0, interval_max)\n",
    "transformer = IntervalTransformer(range_all, interval_max)\n",
    "\n",
    "random_intervals = [\n",
    "    NumInterval(*sorted((random.uniform(0, interval_max), random.uniform(0, interval_max))))\n",
    "    for _ in range(30)]\n",
    "for interval in random_intervals:\n",
    "    print(transformer.string(interval))"
   ]
  }
 ],
 "metadata": {
  "kernelspec": {
   "display_name": "Python 3 (ipykernel)",
   "language": "python",
   "name": "python3"
  },
  "language_info": {
   "codemirror_mode": {
    "name": "ipython",
    "version": 3
   },
   "file_extension": ".py",
   "mimetype": "text/x-python",
   "name": "python",
   "nbconvert_exporter": "python",
   "pygments_lexer": "ipython3",
   "version": "3.10.4"
  }
 },
 "nbformat": 4,
 "nbformat_minor": 5
}
