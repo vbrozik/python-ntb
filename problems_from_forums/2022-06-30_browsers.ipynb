{
 "cells": [
  {
   "cell_type": "markdown",
   "id": "1a3079f4-abde-49ac-9a96-249e5420a5fb",
   "metadata": {},
   "source": [
    "https://discuss.python.org/t/my-tkinter-app-should-become-an-url-forwarding-app-lets-select-the-browser-to-take-the-link-i-just-can-not-isolate-the-system-url-parameter/16928?u=vbrozik"
   ]
  },
  {
   "cell_type": "code",
   "execution_count": 59,
   "id": "b9e4f083-2c14-49b8-9ee9-de6e97b3bb7c",
   "metadata": {},
   "outputs": [],
   "source": [
    "from typing import NamedTuple\n",
    "\n",
    "class Browser(NamedTuple):\n",
    "    name: str\n",
    "    path: str = \"\"          # default value\n",
    "    ...\n",
    "\n",
    "# List of browsers:\n",
    "browsers = [\n",
    "        Browser(\"Chromium\"),\n",
    "        Browser(\"Vivaldi\"),\n",
    "        Browser(\"Firefox\"),\n",
    "        ]\n",
    "\n",
    "# Dictionary of browsers keyed by name:\n",
    "browsers_by_name = {browser.name: browser for browser in (\n",
    "        Browser(\"Chromium\"),\n",
    "        Browser(\"Vivaldi\"),\n",
    "        Browser(\"Firefox\"),\n",
    "        )}"
   ]
  },
  {
   "cell_type": "code",
   "execution_count": 60,
   "id": "9a312bd0-4ea7-496f-b447-16448807f6b1",
   "metadata": {},
   "outputs": [
    {
     "data": {
      "text/plain": [
       "{'Chromium': Browser(name='Chromium', path=''),\n",
       " 'Vivaldi': Browser(name='Vivaldi', path=''),\n",
       " 'Firefox': Browser(name='Firefox', path='')}"
      ]
     },
     "execution_count": 60,
     "metadata": {},
     "output_type": "execute_result"
    }
   ],
   "source": [
    "browsers_by_name"
   ]
  },
  {
   "cell_type": "code",
   "execution_count": 61,
   "id": "5ddbcc3a-d144-4c66-8a9d-0949b7b37413",
   "metadata": {},
   "outputs": [
    {
     "data": {
      "text/plain": [
       "[Browser(name='Chromium', path=''),\n",
       " Browser(name='Vivaldi', path=''),\n",
       " Browser(name='Firefox', path='')]"
      ]
     },
     "execution_count": 61,
     "metadata": {},
     "output_type": "execute_result"
    }
   ],
   "source": [
    "browsers"
   ]
  }
 ],
 "metadata": {
  "kernelspec": {
   "display_name": "Python 3 (ipykernel)",
   "language": "python",
   "name": "python3"
  },
  "language_info": {
   "codemirror_mode": {
    "name": "ipython",
    "version": 3
   },
   "file_extension": ".py",
   "mimetype": "text/x-python",
   "name": "python",
   "nbconvert_exporter": "python",
   "pygments_lexer": "ipython3",
   "version": "3.10.4"
  }
 },
 "nbformat": 4,
 "nbformat_minor": 5
}
