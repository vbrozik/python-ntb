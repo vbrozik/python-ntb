{
 "cells": [
  {
   "cell_type": "markdown",
   "id": "d0328f3d-f936-422d-9a1b-b0a005ab58f3",
   "metadata": {
    "editable": true,
    "slideshow": {
     "slide_type": ""
    },
    "tags": []
   },
   "source": [
    "# ipytest\n",
    "\n",
    "* https://github.com/chmp/ipytest\n",
    "* https://jerry-git.github.io/learn-python3/notebooks/beginner/html/16_testing2.html"
   ]
  },
  {
   "cell_type": "code",
   "execution_count": 1,
   "id": "a689d283-66cc-4b20-a4b5-c9bee9df4f11",
   "metadata": {
    "collapsed": true,
    "jupyter": {
     "outputs_hidden": true,
     "source_hidden": true
    }
   },
   "outputs": [
    {
     "name": "stdout",
     "output_type": "stream",
     "text": [
      "Requirement already satisfied: pytest in /home/vbrozik/dev/python-ntb/.venv/lib/python3.10/site-packages (8.3.3)\n",
      "Requirement already satisfied: iniconfig in /home/vbrozik/dev/python-ntb/.venv/lib/python3.10/site-packages (from pytest) (2.0.0)\n",
      "Requirement already satisfied: packaging in /home/vbrozik/dev/python-ntb/.venv/lib/python3.10/site-packages (from pytest) (24.2)\n",
      "Requirement already satisfied: pluggy<2,>=1.5 in /home/vbrozik/dev/python-ntb/.venv/lib/python3.10/site-packages (from pytest) (1.5.0)\n",
      "Requirement already satisfied: exceptiongroup>=1.0.0rc8 in /home/vbrozik/dev/python-ntb/.venv/lib/python3.10/site-packages (from pytest) (1.2.2)\n",
      "Requirement already satisfied: tomli>=1 in /home/vbrozik/dev/python-ntb/.venv/lib/python3.10/site-packages (from pytest) (2.1.0)\n",
      "Requirement already satisfied: ipytest in /home/vbrozik/dev/python-ntb/.venv/lib/python3.10/site-packages (0.14.2)\n",
      "Requirement already satisfied: ipython in /home/vbrozik/dev/python-ntb/.venv/lib/python3.10/site-packages (from ipytest) (8.29.0)\n",
      "Requirement already satisfied: packaging in /home/vbrozik/dev/python-ntb/.venv/lib/python3.10/site-packages (from ipytest) (24.2)\n",
      "Requirement already satisfied: pytest>=5.4 in /home/vbrozik/dev/python-ntb/.venv/lib/python3.10/site-packages (from ipytest) (8.3.3)\n",
      "Requirement already satisfied: iniconfig in /home/vbrozik/dev/python-ntb/.venv/lib/python3.10/site-packages (from pytest>=5.4->ipytest) (2.0.0)\n",
      "Requirement already satisfied: pluggy<2,>=1.5 in /home/vbrozik/dev/python-ntb/.venv/lib/python3.10/site-packages (from pytest>=5.4->ipytest) (1.5.0)\n",
      "Requirement already satisfied: exceptiongroup>=1.0.0rc8 in /home/vbrozik/dev/python-ntb/.venv/lib/python3.10/site-packages (from pytest>=5.4->ipytest) (1.2.2)\n",
      "Requirement already satisfied: tomli>=1 in /home/vbrozik/dev/python-ntb/.venv/lib/python3.10/site-packages (from pytest>=5.4->ipytest) (2.1.0)\n",
      "Requirement already satisfied: decorator in /home/vbrozik/dev/python-ntb/.venv/lib/python3.10/site-packages (from ipython->ipytest) (5.1.1)\n",
      "Requirement already satisfied: jedi>=0.16 in /home/vbrozik/dev/python-ntb/.venv/lib/python3.10/site-packages (from ipython->ipytest) (0.19.2)\n",
      "Requirement already satisfied: matplotlib-inline in /home/vbrozik/dev/python-ntb/.venv/lib/python3.10/site-packages (from ipython->ipytest) (0.1.7)\n",
      "Requirement already satisfied: prompt-toolkit<3.1.0,>=3.0.41 in /home/vbrozik/dev/python-ntb/.venv/lib/python3.10/site-packages (from ipython->ipytest) (3.0.48)\n",
      "Requirement already satisfied: pygments>=2.4.0 in /home/vbrozik/dev/python-ntb/.venv/lib/python3.10/site-packages (from ipython->ipytest) (2.18.0)\n",
      "Requirement already satisfied: stack-data in /home/vbrozik/dev/python-ntb/.venv/lib/python3.10/site-packages (from ipython->ipytest) (0.6.3)\n",
      "Requirement already satisfied: traitlets>=5.13.0 in /home/vbrozik/dev/python-ntb/.venv/lib/python3.10/site-packages (from ipython->ipytest) (5.14.3)\n",
      "Requirement already satisfied: typing-extensions>=4.6 in /home/vbrozik/dev/python-ntb/.venv/lib/python3.10/site-packages (from ipython->ipytest) (4.12.2)\n",
      "Requirement already satisfied: pexpect>4.3 in /home/vbrozik/dev/python-ntb/.venv/lib/python3.10/site-packages (from ipython->ipytest) (4.9.0)\n",
      "Requirement already satisfied: parso<0.9.0,>=0.8.4 in /home/vbrozik/dev/python-ntb/.venv/lib/python3.10/site-packages (from jedi>=0.16->ipython->ipytest) (0.8.4)\n",
      "Requirement already satisfied: ptyprocess>=0.5 in /home/vbrozik/dev/python-ntb/.venv/lib/python3.10/site-packages (from pexpect>4.3->ipython->ipytest) (0.7.0)\n",
      "Requirement already satisfied: wcwidth in /home/vbrozik/dev/python-ntb/.venv/lib/python3.10/site-packages (from prompt-toolkit<3.1.0,>=3.0.41->ipython->ipytest) (0.2.13)\n",
      "Requirement already satisfied: executing>=1.2.0 in /home/vbrozik/dev/python-ntb/.venv/lib/python3.10/site-packages (from stack-data->ipython->ipytest) (2.1.0)\n",
      "Requirement already satisfied: asttokens>=2.1.0 in /home/vbrozik/dev/python-ntb/.venv/lib/python3.10/site-packages (from stack-data->ipython->ipytest) (2.4.1)\n",
      "Requirement already satisfied: pure-eval in /home/vbrozik/dev/python-ntb/.venv/lib/python3.10/site-packages (from stack-data->ipython->ipytest) (0.2.3)\n",
      "Requirement already satisfied: six>=1.12.0 in /home/vbrozik/dev/python-ntb/.venv/lib/python3.10/site-packages (from asttokens>=2.1.0->stack-data->ipython->ipytest) (1.16.0)\n"
     ]
    }
   ],
   "source": [
    "# Let's make sure pytest and ipytest packages are installed\n",
    "# ipytest is required for running pytest inside Jupyter notebooks\n",
    "import sys\n",
    "\n",
    "!{sys.executable} -m pip install pytest\n",
    "!{sys.executable} -m pip install ipytest"
   ]
  },
  {
   "cell_type": "code",
   "execution_count": 2,
   "id": "887bfd4d-4824-4d06-bced-d48389882097",
   "metadata": {
    "editable": true,
    "slideshow": {
     "slide_type": ""
    },
    "tags": []
   },
   "outputs": [],
   "source": [
    "import ipytest\n",
    "\n",
    "ipytest.autoconfig()\n",
    "\n",
    "import pytest"
   ]
  },
  {
   "cell_type": "code",
   "execution_count": 11,
   "id": "0aa361a3-6a31-4f0f-a88f-0dbe54bdabec",
   "metadata": {},
   "outputs": [],
   "source": [
    "@pytest.fixture()\n",
    "def a_fixture() -> str:\n",
    "    return \"a\""
   ]
  },
  {
   "cell_type": "code",
   "execution_count": 17,
   "id": "8f5b4d05-8f0c-419c-97f3-f7bc41087d36",
   "metadata": {
    "editable": true,
    "slideshow": {
     "slide_type": ""
    },
    "tags": []
   },
   "outputs": [
    {
     "name": "stdout",
     "output_type": "stream",
     "text": [
      "\u001b[1m======================================= test session starts ========================================\u001b[0m\n",
      "platform linux -- Python 3.10.12, pytest-8.3.3, pluggy-1.5.0 -- /home/vbrozik/dev/python-ntb/.venv/bin/python3\n",
      "cachedir: .pytest_cache\n",
      "rootdir: /home/vbrozik/dev/python-ntb/explore_pytest\n",
      "plugins: anyio-4.6.2.post1\n",
      "\u001b[1mcollecting ... \u001b[0mcollected 4 items\n",
      "\n",
      "t_ebb911e6e85e4fdb9ab0caf03798697c.py::test_a \u001b[32mPASSED\u001b[0m\u001b[32m                                         [ 25%]\u001b[0m\n",
      "t_ebb911e6e85e4fdb9ab0caf03798697c.py::test_b \u001b[32mPASSED\u001b[0m\u001b[32m                                         [ 50%]\u001b[0m\n",
      "t_ebb911e6e85e4fdb9ab0caf03798697c.py::test_c \u001b[33mXFAIL\u001b[0m\u001b[32m                                          [ 75%]\u001b[0m\n",
      "t_ebb911e6e85e4fdb9ab0caf03798697c.py::test_e \u001b[33mXFAIL\u001b[0m\u001b[32m                                          [100%]\u001b[0m\n",
      "\n",
      "\u001b[32m=================================== \u001b[32m\u001b[1m2 passed\u001b[0m, \u001b[33m2 xfailed\u001b[0m\u001b[32m in 0.03s\u001b[0m\u001b[32m ===================================\u001b[0m\n"
     ]
    }
   ],
   "source": [
    "%%ipytest -vv\n",
    "\n",
    "def test_a(a_fixture) -> None:\n",
    "    assert a_fixture == \"a\"\n",
    "\n",
    "def test_b() -> None:\n",
    "    assert True\n",
    "\n",
    "@pytest.mark.xfail()\n",
    "def test_c() -> None:\n",
    "    a, b = \"a\", \"b\"\n",
    "    assert a == b\n",
    "\n",
    "@pytest.mark.xfail()\n",
    "def test_e() -> None:\n",
    "    assert False, \"This is expected to fail.\""
   ]
  }
 ],
 "metadata": {
  "kernelspec": {
   "display_name": "Python 3 (ipykernel)",
   "language": "python",
   "name": "python3"
  },
  "language_info": {
   "codemirror_mode": {
    "name": "ipython",
    "version": 3
   },
   "file_extension": ".py",
   "mimetype": "text/x-python",
   "name": "python",
   "nbconvert_exporter": "python",
   "pygments_lexer": "ipython3",
   "version": "3.10.12"
  }
 },
 "nbformat": 4,
 "nbformat_minor": 5
}
