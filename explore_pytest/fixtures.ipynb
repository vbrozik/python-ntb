{
 "cells": [
  {
   "cell_type": "markdown",
   "id": "2c2bf892-2927-4ce4-a78c-10a7c3317cb6",
   "metadata": {},
   "source": [
    "# Fixtures"
   ]
  },
  {
   "cell_type": "code",
   "execution_count": 1,
   "id": "62d1dc25-379e-4b27-b3e5-d0d5990f0e39",
   "metadata": {},
   "outputs": [],
   "source": [
    "# Plain pytest does not work inside notebooks.\n",
    "import ipytest\n",
    "ipytest.autoconfig()"
   ]
  },
  {
   "cell_type": "code",
   "execution_count": 14,
   "id": "322633dc-bd8d-4116-944e-f9623cf0c01a",
   "metadata": {
    "editable": true,
    "slideshow": {
     "slide_type": ""
    },
    "tags": []
   },
   "outputs": [],
   "source": [
    "from typing import Iterable\n",
    "\n",
    "import pytest"
   ]
  },
  {
   "cell_type": "markdown",
   "id": "f899196f-0fe3-4916-b82a-c5c92eefda74",
   "metadata": {},
   "source": [
    "## Test dependent fixtures"
   ]
  },
  {
   "cell_type": "code",
   "execution_count": 3,
   "id": "d286d5dc-2267-4fa1-a89a-ad0c27dfda19",
   "metadata": {},
   "outputs": [],
   "source": [
    "@pytest.fixture(name=\"a\")\n",
    "def a_fixture() -> str:\n",
    "    return \"a\"\n",
    "\n",
    "@pytest.fixture(name=\"b\")\n",
    "def b_fixture(a: str) -> str:\n",
    "    return f\"{a} -> b\"\n",
    "\n",
    "@pytest.fixture(name=\"d\")\n",
    "def d_fixture(a: str) -> str:\n",
    "    return f\"{a} -> d\"\n",
    "\n",
    "@pytest.fixture(name=\"c\")\n",
    "def c_fixture(request: pytest.FixtureRequest) -> str:\n",
    "    return f\"{request.getfixturevalue(request.param)} -> c\""
   ]
  },
  {
   "cell_type": "code",
   "execution_count": 10,
   "id": "57aaab95-0eb3-4fbc-aedd-8d0037814cea",
   "metadata": {},
   "outputs": [
    {
     "name": "stdout",
     "output_type": "stream",
     "text": [
      "\u001b[1m======================================= test session starts ========================================\u001b[0m\n",
      "platform linux -- Python 3.10.12, pytest-8.3.3, pluggy-1.5.0 -- /home/vbrozik/dev/python-ntb/.venv/bin/python3\n",
      "cachedir: .pytest_cache\n",
      "rootdir: /home/vbrozik/dev/python-ntb/explore_pytest\n",
      "plugins: anyio-4.6.2.post1\n",
      "\u001b[1mcollecting ... \u001b[0mcollected 4 items\n",
      "\n",
      "t_efce9a9f272c49c5a6a60c470b7cf830.py::test_a \u001b[32mPASSED\u001b[0m\u001b[32m                                         [ 25%]\u001b[0m\n",
      "t_efce9a9f272c49c5a6a60c470b7cf830.py::test_b \u001b[32mPASSED\u001b[0m\u001b[32m                                         [ 50%]\u001b[0m\n",
      "t_efce9a9f272c49c5a6a60c470b7cf830.py::test_d \u001b[32mPASSED\u001b[0m\u001b[32m                                         [ 75%]\u001b[0m\n",
      "t_efce9a9f272c49c5a6a60c470b7cf830.py::test_ac[a] \u001b[32mPASSED\u001b[0m\u001b[32m                                     [100%]\u001b[0m\n",
      "\n",
      "\u001b[32m======================================== \u001b[32m\u001b[1m4 passed\u001b[0m\u001b[32m in 0.02s\u001b[0m\u001b[32m =========================================\u001b[0m\n"
     ]
    }
   ],
   "source": [
    "%%ipytest -vv\n",
    "\n",
    "def test_a(a: str) -> None:\n",
    "    assert a == \"a\"\n",
    "\n",
    "def test_b(b: str) -> None:\n",
    "    assert b == \"a -> b\"\n",
    "\n",
    "def test_d(d: str) -> None:\n",
    "    assert d == \"a -> d\"\n",
    "\n",
    "@pytest.mark.parametrize('c', ['a'], indirect=True)\n",
    "def test_ac(c: str) -> None:\n",
    "    assert c == \"a -> c\"\n",
    "\n",
    "@pytest.mark.parametrize('c', ['a'], indirect=True)\n",
    "def test_c_multiple(c: str) -> None:\n",
    "    assert c == \"a -> c\""
   ]
  },
  {
   "cell_type": "markdown",
   "id": "27abb35c-ea06-43e7-9204-6888257a51f5",
   "metadata": {},
   "source": [
    "## Parametrizing"
   ]
  },
  {
   "cell_type": "code",
   "execution_count": 41,
   "id": "0cfd6447-a1d0-4841-89dc-4f9aa8fba1f0",
   "metadata": {},
   "outputs": [],
   "source": [
    "def process_items(numbers: Iterable[int]) -> list[int]:\n",
    "    return [item + 1 for item in numbers]\n",
    "\n",
    "@pytest.fixture(params=[\n",
    "    {\"input\": [1, 2, 3], \"expected\": [2, 3, 4]},\n",
    "    {\"input\": [0, 0, 0], \"expected\": [1, 1, 1]},\n",
    "])\n",
    "def inputs_results1_fixture(request):\n",
    "    return request.param\n",
    "\n",
    "@pytest.fixture(params=[\n",
    "    pytest.param(\n",
    "        ([1, 2, 3], [2, 3, 4]), id='values123'),\n",
    "    pytest.param(\n",
    "        ([0, 0, 0], [1, 1, 1]), id='values000'),\n",
    "    pytest.param(\n",
    "        ([3, 4, 5], [1, 1, 1]), id='values345', marks=[pytest.mark.skip(reason='Test skipping')]),\n",
    "    pytest.param(\n",
    "        ([0, 0, 0], [0, 0, 0]), id='values000xfail', marks=[pytest.mark.xfail(reason='Test xfail', strict=True)]),\n",
    "])\n",
    "def inputs_results2_fixture(request) -> tuple[list[int], list[int]]:\n",
    "    return request.param"
   ]
  },
  {
   "cell_type": "code",
   "execution_count": 42,
   "id": "2931f945-5e23-4aac-a320-7ad6e6c78f9f",
   "metadata": {},
   "outputs": [
    {
     "name": "stdout",
     "output_type": "stream",
     "text": [
      "\u001b[1m======================================= test session starts ========================================\u001b[0m\n",
      "platform linux -- Python 3.10.12, pytest-8.3.3, pluggy-1.5.0 -- /home/vbrozik/dev/python-ntb/.venv/bin/python3\n",
      "cachedir: .pytest_cache\n",
      "rootdir: /home/vbrozik/dev/python-ntb/explore_pytest\n",
      "plugins: anyio-4.6.2.post1\n",
      "\u001b[1mcollecting ... \u001b[0mcollected 6 items\n",
      "\n",
      "t_efce9a9f272c49c5a6a60c470b7cf830.py::test_inputs_results1[inputs_results1_fixture0] \u001b[32mPASSED\u001b[0m\u001b[32m [ 16%]\u001b[0m\n",
      "t_efce9a9f272c49c5a6a60c470b7cf830.py::test_inputs_results1[inputs_results1_fixture1] \u001b[32mPASSED\u001b[0m\u001b[32m [ 33%]\u001b[0m\n",
      "t_efce9a9f272c49c5a6a60c470b7cf830.py::test_inputs_results2[values123] \u001b[32mPASSED\u001b[0m\u001b[32m                [ 50%]\u001b[0m\n",
      "t_efce9a9f272c49c5a6a60c470b7cf830.py::test_inputs_results2[values000] \u001b[32mPASSED\u001b[0m\u001b[32m                [ 66%]\u001b[0m\n",
      "t_efce9a9f272c49c5a6a60c470b7cf830.py::test_inputs_results2[values345] \u001b[33mSKIPPED\u001b[0m (Test ski...)\u001b[32m [ 83%]\u001b[0m\n",
      "t_efce9a9f272c49c5a6a60c470b7cf830.py::test_inputs_results2[values000xfail] \u001b[33mXFAIL\u001b[0m (Test ...)\u001b[32m [100%]\u001b[0m\n",
      "\n",
      "\u001b[32m============================= \u001b[32m\u001b[1m4 passed\u001b[0m, \u001b[33m1 skipped\u001b[0m, \u001b[33m1 xfailed\u001b[0m\u001b[32m in 0.04s\u001b[0m\u001b[32m ==============================\u001b[0m\n"
     ]
    }
   ],
   "source": [
    "%%ipytest -vv\n",
    "\n",
    "def test_inputs_results1(inputs_results1_fixture) -> None:\n",
    "    processed_items = process_items(inputs_results1_fixture[\"input\"])\n",
    "    expected_items = inputs_results1_fixture[\"expected\"]\n",
    "    \n",
    "    assert processed_items == expected_items\n",
    "\n",
    "def test_inputs_results2(inputs_results2_fixture) -> None:\n",
    "    processed_items = process_items(inputs_results2_fixture[0])\n",
    "    expected_items = inputs_results2_fixture[1]\n",
    "    \n",
    "    assert processed_items == expected_items"
   ]
  }
 ],
 "metadata": {
  "kernelspec": {
   "display_name": "Python 3 (ipykernel)",
   "language": "python",
   "name": "python3"
  },
  "language_info": {
   "codemirror_mode": {
    "name": "ipython",
    "version": 3
   },
   "file_extension": ".py",
   "mimetype": "text/x-python",
   "name": "python",
   "nbconvert_exporter": "python",
   "pygments_lexer": "ipython3",
   "version": "3.10.12"
  }
 },
 "nbformat": 4,
 "nbformat_minor": 5
}
