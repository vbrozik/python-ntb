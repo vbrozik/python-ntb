{
 "cells": [
  {
   "cell_type": "markdown",
   "id": "5869228a-6187-4791-909a-b6ab4ff63f09",
   "metadata": {},
   "source": [
    "# Data sharing"
   ]
  },
  {
   "cell_type": "code",
   "execution_count": 1,
   "id": "c7591cc3-45f4-4647-bbcd-f750f1fafd82",
   "metadata": {},
   "outputs": [
    {
     "name": "stdout",
     "output_type": "stream",
     "text": [
      "Stored 'variable' (str)\n"
     ]
    }
   ],
   "source": [
    "variable = 'hello'\n",
    "%store variable"
   ]
  },
  {
   "cell_type": "code",
   "execution_count": 2,
   "id": "24e5027e-bc2e-48eb-bbf8-6ae45802a59e",
   "metadata": {},
   "outputs": [
    {
     "name": "stdout",
     "output_type": "stream",
     "text": [
      "name 'variable' is not defined\n"
     ]
    }
   ],
   "source": [
    "del variable\n",
    "try:\n",
    "    variable\n",
    "except NameError as exception:\n",
    "    print(exception)"
   ]
  },
  {
   "cell_type": "markdown",
   "id": "0a841eed-6724-414f-8c77-985333ad58a4",
   "metadata": {},
   "source": [
    "The variable is available in all notebooks. TODO (same kernel? all kernels? after Jupyter restart?)"
   ]
  },
  {
   "cell_type": "code",
   "execution_count": 3,
   "id": "333bb8a2-45c5-450a-a959-9d30028e8d15",
   "metadata": {},
   "outputs": [
    {
     "name": "stdout",
     "output_type": "stream",
     "text": [
      "variable = 'hello'\n"
     ]
    }
   ],
   "source": [
    "%store -r variable\n",
    "print(f'{variable = }')"
   ]
  }
 ],
 "metadata": {
  "kernelspec": {
   "display_name": "Python 3 (ipykernel)",
   "language": "python",
   "name": "python3"
  },
  "language_info": {
   "codemirror_mode": {
    "name": "ipython",
    "version": 3
   },
   "file_extension": ".py",
   "mimetype": "text/x-python",
   "name": "python",
   "nbconvert_exporter": "python",
   "pygments_lexer": "ipython3",
   "version": "3.10.4"
  }
 },
 "nbformat": 4,
 "nbformat_minor": 5
}
