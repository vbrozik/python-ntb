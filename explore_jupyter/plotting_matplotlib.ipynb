{
 "cells": [
  {
   "cell_type": "markdown",
   "id": "ae5c47bf-1b3a-4947-861b-19908cef812d",
   "metadata": {},
   "source": [
    "* https://stackoverflow.com/questions/67500488/interactive-matplotlib-plot-in-jupyterlab-notebook-matplotlib-widget-using-i\n",
    "* https://stackoverflow.com/questions/66655001/live-plotting-in-jupyter-lab-3-using-matplotlib\n",
    "* https://sahilramani.com/2021/01/how-to-build-interactive-plots-in-jupyter-lab-diagnose-common-problems/\n",
    "\n",
    "* comparison\n",
    "  * https://towardsdatascience.com/matplotlib-vs-plotly-lets-decide-once-and-for-all-dc3eca9aa011 (private window)"
   ]
  }
 ],
 "metadata": {
  "kernelspec": {
   "display_name": "Python 3 (ipykernel)",
   "language": "python",
   "name": "python3"
  },
  "language_info": {
   "codemirror_mode": {
    "name": "ipython",
    "version": 3
   },
   "file_extension": ".py",
   "mimetype": "text/x-python",
   "name": "python",
   "nbconvert_exporter": "python",
   "pygments_lexer": "ipython3",
   "version": "3.10.4"
  }
 },
 "nbformat": 4,
 "nbformat_minor": 5
}
