{
 "cells": [
  {
   "cell_type": "code",
   "execution_count": 4,
   "id": "3cee86f4-be47-412a-a88d-7004bf6e4c2f",
   "metadata": {},
   "outputs": [
    {
     "name": "stdout",
     "output_type": "stream",
     "text": [
      "Number: 9\n"
     ]
    }
   ],
   "source": [
    "from IPython.display import clear_output\n",
    "import time\n",
    "\n",
    "for i in range(10):\n",
    "    clear_output(wait=True)\n",
    "    print(f'Number: {i}')\n",
    "    time.sleep(0.3)"
   ]
  },
  {
   "cell_type": "markdown",
   "id": "b420c340-7a53-404b-a279-d5c424f5a2af",
   "metadata": {},
   "source": [
    "Access to cell outputs as in IPython"
   ]
  },
  {
   "cell_type": "code",
   "execution_count": 5,
   "id": "7837e8d4-0ce3-4d63-ac7b-0ba5c669e390",
   "metadata": {},
   "outputs": [
    {
     "data": {
      "text/plain": [
       "25"
      ]
     },
     "execution_count": 5,
     "metadata": {},
     "output_type": "execute_result"
    }
   ],
   "source": [
    "25"
   ]
  },
  {
   "cell_type": "code",
   "execution_count": 6,
   "id": "913a89ff-665c-462d-ad8c-ba890a414170",
   "metadata": {},
   "outputs": [
    {
     "data": {
      "text/plain": [
       "30"
      ]
     },
     "execution_count": 6,
     "metadata": {},
     "output_type": "execute_result"
    }
   ],
   "source": [
    "_ + 5"
   ]
  },
  {
   "cell_type": "code",
   "execution_count": 7,
   "id": "abfab529-de0c-4da4-b1c3-d97c43575bca",
   "metadata": {},
   "outputs": [
    {
     "data": {
      "text/plain": [
       "15.0"
      ]
     },
     "execution_count": 7,
     "metadata": {},
     "output_type": "execute_result"
    }
   ],
   "source": [
    "Out[6] / 2"
   ]
  },
  {
   "cell_type": "markdown",
   "id": "ca4a69db-81dd-43aa-81a6-b0add9845b92",
   "metadata": {},
   "source": [
    "[`sys.displayhook()`](https://docs.python.org/3/library/sys.html#sys.displayhook)\n",
    "is it used in Jupyter? (original value in `sys.__displayhook__`)"
   ]
  },
  {
   "cell_type": "code",
   "execution_count": 8,
   "id": "0ccc3cf0-da84-461f-abd4-44a8dadbf0fb",
   "metadata": {},
   "outputs": [],
   "source": [
    "import sys"
   ]
  },
  {
   "cell_type": "code",
   "execution_count": 9,
   "id": "03538a5f-a81b-4fe4-a24a-29ecc9024cdc",
   "metadata": {},
   "outputs": [],
   "source": [
    "sys.displayhook(None)"
   ]
  },
  {
   "cell_type": "code",
   "execution_count": 10,
   "id": "3649d2d1-3a86-4147-949c-f2844a71088a",
   "metadata": {},
   "outputs": [
    {
     "data": {
      "text/plain": [
       "25"
      ]
     },
     "execution_count": 10,
     "metadata": {},
     "output_type": "execute_result"
    }
   ],
   "source": [
    "sys.displayhook(25)"
   ]
  },
  {
   "cell_type": "markdown",
   "id": "86e2666f-353f-487d-a716-72301f7f6196",
   "metadata": {},
   "source": [
    "## Capture cell output\n",
    "* https://ipython.readthedocs.io/en/stable/interactive/magics.html#cellmagic-capture\n",
    "  * Suppresses the normal output and captures it instead."
   ]
  },
  {
   "cell_type": "code",
   "execution_count": 2,
   "id": "5a1edbba-1fb8-48e4-9932-bfd1c29ba9a3",
   "metadata": {},
   "outputs": [],
   "source": [
    "%%capture out\n",
    "print('hello world')"
   ]
  },
  {
   "cell_type": "code",
   "execution_count": 3,
   "id": "09b60cf6-746f-41a5-9506-8e5edcc05750",
   "metadata": {},
   "outputs": [
    {
     "data": {
      "text/plain": [
       "IPython.utils.capture.CapturedIO"
      ]
     },
     "execution_count": 3,
     "metadata": {},
     "output_type": "execute_result"
    }
   ],
   "source": [
    "type(out)"
   ]
  },
  {
   "cell_type": "code",
   "execution_count": 9,
   "id": "9f1fd4f2-dedc-4b2d-994b-ef5cd541acbc",
   "metadata": {},
   "outputs": [
    {
     "data": {
      "text/plain": [
       "'hello world\\n'"
      ]
     },
     "execution_count": 9,
     "metadata": {},
     "output_type": "execute_result"
    }
   ],
   "source": [
    "out.stdout"
   ]
  },
  {
   "cell_type": "code",
   "execution_count": 10,
   "id": "d850a2f5-e321-4c9a-94c0-ec4812d375d7",
   "metadata": {},
   "outputs": [
    {
     "data": {
      "text/plain": [
       "''"
      ]
     },
     "execution_count": 10,
     "metadata": {},
     "output_type": "execute_result"
    }
   ],
   "source": [
    "out.stderr"
   ]
  },
  {
   "cell_type": "code",
   "execution_count": 18,
   "id": "e06c387d-3c4e-48af-9928-ae3e436a1a60",
   "metadata": {},
   "outputs": [
    {
     "data": {
      "text/plain": [
       "'hello world\\n'"
      ]
     },
     "execution_count": 18,
     "metadata": {},
     "output_type": "execute_result"
    }
   ],
   "source": [
    "str(out)"
   ]
  },
  {
   "cell_type": "code",
   "execution_count": 8,
   "id": "6c5b4252-07f9-42e2-97ec-ec5a76887517",
   "metadata": {
    "tags": []
   },
   "outputs": [
    {
     "name": "stdout",
     "output_type": "stream",
     "text": [
      "hello world\n",
      "hello world\n"
     ]
    }
   ],
   "source": [
    "# `IPython.utils.capture.CapturedIO` is callable or `.show()` method can be used:\n",
    "out()\n",
    "out.show()"
   ]
  },
  {
   "cell_type": "markdown",
   "id": "9aa8faef-2cb1-4060-9acd-1cab88f902b3",
   "metadata": {},
   "source": [
    "## Control default output\n",
    "* https://ipython.readthedocs.io/en/stable/config/options/kernel.html#configtrait-InteractiveShell.ast_node_interactivity"
   ]
  },
  {
   "cell_type": "code",
   "execution_count": 28,
   "id": "166218d7-a39b-47ae-a2a4-7a993fbb783e",
   "metadata": {},
   "outputs": [],
   "source": [
    "from IPython.core.interactiveshell import InteractiveShell\n",
    "# The type is traitlets.Enum"
   ]
  },
  {
   "cell_type": "code",
   "execution_count": 29,
   "id": "da35b925-ad4d-43e0-8730-6029b324816a",
   "metadata": {},
   "outputs": [
    {
     "name": "stdout",
     "output_type": "stream",
     "text": [
      "any of ['all', 'last', 'last_expr', 'none', 'last_expr_or_assign']\n"
     ]
    }
   ],
   "source": [
    "print(InteractiveShell.ast_node_interactivity.info())"
   ]
  },
  {
   "cell_type": "code",
   "execution_count": 30,
   "id": "01f2715e-d023-49ed-a764-7b706883cf84",
   "metadata": {},
   "outputs": [
    {
     "name": "stdout",
     "output_type": "stream",
     "text": [
      "\n",
      "        'all', 'last', 'last_expr' or 'none', 'last_expr_or_assign' specifying\n",
      "        which nodes should be run interactively (displaying output from expressions).\n",
      "        \n"
     ]
    }
   ],
   "source": [
    "print(InteractiveShell.ast_node_interactivity.help)"
   ]
  },
  {
   "cell_type": "code",
   "execution_count": 27,
   "id": "0191c5d0-8fd0-4966-be6b-4034d4334930",
   "metadata": {},
   "outputs": [
    {
     "data": {
      "text/plain": [
       "'last_expr'"
      ]
     },
     "execution_count": 27,
     "metadata": {},
     "output_type": "execute_result"
    }
   ],
   "source": [
    "InteractiveShell.ast_node_interactivity.default_value"
   ]
  },
  {
   "cell_type": "code",
   "execution_count": 4,
   "id": "4890e7a5-320f-4274-b62c-814239234c8e",
   "metadata": {},
   "outputs": [],
   "source": [
    "ast_node_interactivity_saved = InteractiveShell.ast_node_interactivity"
   ]
  },
  {
   "cell_type": "code",
   "execution_count": 5,
   "id": "9df0432d-26d9-41f1-8fd9-c18489664c88",
   "metadata": {},
   "outputs": [],
   "source": [
    "# Show also assigned value\n",
    "InteractiveShell.ast_node_interactivity = \"last_expr_or_assign\""
   ]
  },
  {
   "cell_type": "code",
   "execution_count": 6,
   "id": "ce28913e-df1c-467b-bf89-221c57c996cc",
   "metadata": {},
   "outputs": [
    {
     "data": {
      "text/plain": [
       "3"
      ]
     },
     "execution_count": 6,
     "metadata": {},
     "output_type": "execute_result"
    }
   ],
   "source": [
    "x = 1 + 2"
   ]
  },
  {
   "cell_type": "code",
   "execution_count": 10,
   "id": "13dfaabd-ec83-4213-bd4d-ff5cf374b54b",
   "metadata": {},
   "outputs": [],
   "source": [
    "# Show all expressions, not just the last one\n",
    "InteractiveShell.ast_node_interactivity = \"all\""
   ]
  },
  {
   "cell_type": "code",
   "execution_count": 9,
   "id": "5f760111-aebc-479b-af78-6fca64c9a907",
   "metadata": {},
   "outputs": [
    {
     "data": {
      "text/plain": [
       "11"
      ]
     },
     "execution_count": 9,
     "metadata": {},
     "output_type": "execute_result"
    },
    {
     "data": {
      "text/plain": [
       "22"
      ]
     },
     "execution_count": 9,
     "metadata": {},
     "output_type": "execute_result"
    }
   ],
   "source": [
    "x = 1\n",
    "x + 10\n",
    "x += 1\n",
    "x + 20"
   ]
  },
  {
   "cell_type": "code",
   "execution_count": 11,
   "id": "dd8dd139-689a-4edf-a70c-51bdd840d945",
   "metadata": {},
   "outputs": [],
   "source": [
    "InteractiveShell.ast_node_interactivity = ast_node_interactivity_saved"
   ]
  },
  {
   "cell_type": "code",
   "execution_count": 17,
   "id": "45f0808e-5124-48d0-839e-e86e26052c16",
   "metadata": {},
   "outputs": [],
   "source": [
    "# Back to normal\n",
    "x = 1 + 2"
   ]
  },
  {
   "cell_type": "markdown",
   "id": "a0617d68-7ec1-418e-a004-47d40c592688",
   "metadata": {},
   "source": [
    "## display\n",
    "* https://github.com/jupyter/notebook/issues/5304#issuecomment-602901195"
   ]
  },
  {
   "cell_type": "code",
   "execution_count": 20,
   "id": "ae11fd98-a28f-487e-a644-965702e2921b",
   "metadata": {},
   "outputs": [],
   "source": [
    "from IPython.display import display"
   ]
  },
  {
   "cell_type": "code",
   "execution_count": 21,
   "id": "96162476-a5e9-4423-9c8f-b1152160cfbc",
   "metadata": {},
   "outputs": [
    {
     "data": {
      "text/plain": [
       "'nazdar'"
      ]
     },
     "metadata": {},
     "output_type": "display_data"
    }
   ],
   "source": [
    "my_display = display(display_id='my-display')"
   ]
  },
  {
   "cell_type": "code",
   "execution_count": 24,
   "id": "7f5e9ad2-6537-4764-85c3-680e469fedca",
   "metadata": {},
   "outputs": [
    {
     "data": {
      "text/plain": [
       "'nazdar'"
      ]
     },
     "metadata": {},
     "output_type": "display_data"
    }
   ],
   "source": [
    "# Uses the same display and replaces its content\n",
    "my_display.display(None)"
   ]
  },
  {
   "cell_type": "code",
   "execution_count": 25,
   "id": "3d1f0185-d4f5-4b20-be6c-ad71c8a42983",
   "metadata": {},
   "outputs": [
    {
     "data": {
      "text/plain": [
       "'nazdar'"
      ]
     },
     "metadata": {},
     "output_type": "display_data"
    }
   ],
   "source": [
    "my_display.display('hello')"
   ]
  },
  {
   "cell_type": "code",
   "execution_count": 27,
   "id": "3094547f-91e7-4741-b7cc-7964a577227d",
   "metadata": {},
   "outputs": [],
   "source": [
    "# also replaces\n",
    "my_display.update('nazdar')"
   ]
  },
  {
   "cell_type": "code",
   "execution_count": null,
   "id": "190ded9d-c5a0-4e8b-bb3b-7d6dc20b5142",
   "metadata": {},
   "outputs": [],
   "source": []
  }
 ],
 "metadata": {
  "kernelspec": {
   "display_name": "Python 3 (ipykernel)",
   "language": "python",
   "name": "python3"
  },
  "language_info": {
   "codemirror_mode": {
    "name": "ipython",
    "version": 3
   },
   "file_extension": ".py",
   "mimetype": "text/x-python",
   "name": "python",
   "nbconvert_exporter": "python",
   "pygments_lexer": "ipython3",
   "version": "3.10.4"
  }
 },
 "nbformat": 4,
 "nbformat_minor": 5
}
