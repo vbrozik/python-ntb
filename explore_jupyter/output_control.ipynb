{
 "cells": [
  {
   "cell_type": "code",
   "execution_count": 1,
   "id": "3cee86f4-be47-412a-a88d-7004bf6e4c2f",
   "metadata": {},
   "outputs": [
    {
     "name": "stdout",
     "output_type": "stream",
     "text": [
      "Number: 9\n"
     ]
    }
   ],
   "source": [
    "from IPython.display import clear_output\n",
    "import time\n",
    "\n",
    "for i in range(10):\n",
    "    clear_output(wait=True)\n",
    "    print(f'Number: {i}')\n",
    "    time.sleep(0.3)"
   ]
  },
  {
   "cell_type": "markdown",
   "id": "b420c340-7a53-404b-a279-d5c424f5a2af",
   "metadata": {},
   "source": [
    "Access to cell outputs as in IPython"
   ]
  },
  {
   "cell_type": "code",
   "execution_count": 2,
   "id": "7837e8d4-0ce3-4d63-ac7b-0ba5c669e390",
   "metadata": {},
   "outputs": [
    {
     "data": {
      "text/plain": [
       "25"
      ]
     },
     "execution_count": 2,
     "metadata": {},
     "output_type": "execute_result"
    }
   ],
   "source": [
    "25"
   ]
  },
  {
   "cell_type": "code",
   "execution_count": 3,
   "id": "913a89ff-665c-462d-ad8c-ba890a414170",
   "metadata": {},
   "outputs": [
    {
     "data": {
      "text/plain": [
       "30"
      ]
     },
     "execution_count": 3,
     "metadata": {},
     "output_type": "execute_result"
    }
   ],
   "source": [
    "# Last result\n",
    "_ + 5"
   ]
  },
  {
   "cell_type": "code",
   "execution_count": 4,
   "id": "abfab529-de0c-4da4-b1c3-d97c43575bca",
   "metadata": {},
   "outputs": [
    {
     "data": {
      "text/plain": [
       "15.0"
      ]
     },
     "execution_count": 4,
     "metadata": {},
     "output_type": "execute_result"
    }
   ],
   "source": [
    "# Result 3\n",
    "Out[3] / 2"
   ]
  },
  {
   "cell_type": "markdown",
   "id": "ca4a69db-81dd-43aa-81a6-b0add9845b92",
   "metadata": {},
   "source": [
    "Jupyter uses [`sys.displayhook()`](https://docs.python.org/3/library/sys.html#sys.displayhook)\n",
    "(original value in `sys.__displayhook__`)"
   ]
  },
  {
   "cell_type": "code",
   "execution_count": 5,
   "id": "0ccc3cf0-da84-461f-abd4-44a8dadbf0fb",
   "metadata": {},
   "outputs": [],
   "source": [
    "import sys"
   ]
  },
  {
   "cell_type": "code",
   "execution_count": 6,
   "id": "03538a5f-a81b-4fe4-a24a-29ecc9024cdc",
   "metadata": {},
   "outputs": [],
   "source": [
    "sys.displayhook(None)"
   ]
  },
  {
   "cell_type": "code",
   "execution_count": 7,
   "id": "3649d2d1-3a86-4147-949c-f2844a71088a",
   "metadata": {},
   "outputs": [
    {
     "data": {
      "text/plain": [
       "25"
      ]
     },
     "execution_count": 7,
     "metadata": {},
     "output_type": "execute_result"
    }
   ],
   "source": [
    "sys.displayhook(25)"
   ]
  },
  {
   "cell_type": "markdown",
   "id": "86e2666f-353f-487d-a716-72301f7f6196",
   "metadata": {},
   "source": [
    "## Capture cell output\n",
    "* https://ipython.readthedocs.io/en/stable/interactive/magics.html#cellmagic-capture\n",
    "  * Suppresses the normal output and captures it instead."
   ]
  },
  {
   "cell_type": "code",
   "execution_count": 8,
   "id": "5a1edbba-1fb8-48e4-9932-bfd1c29ba9a3",
   "metadata": {
    "editable": true,
    "slideshow": {
     "slide_type": ""
    },
    "tags": []
   },
   "outputs": [],
   "source": [
    "%%capture out\n",
    "print('hello world')"
   ]
  },
  {
   "cell_type": "code",
   "execution_count": 9,
   "id": "09b60cf6-746f-41a5-9506-8e5edcc05750",
   "metadata": {},
   "outputs": [
    {
     "data": {
      "text/plain": [
       "IPython.utils.capture.CapturedIO"
      ]
     },
     "execution_count": 9,
     "metadata": {},
     "output_type": "execute_result"
    }
   ],
   "source": [
    "type(out)"
   ]
  },
  {
   "cell_type": "code",
   "execution_count": 10,
   "id": "9f1fd4f2-dedc-4b2d-994b-ef5cd541acbc",
   "metadata": {},
   "outputs": [
    {
     "data": {
      "text/plain": [
       "'hello world\\n'"
      ]
     },
     "execution_count": 10,
     "metadata": {},
     "output_type": "execute_result"
    }
   ],
   "source": [
    "out.stdout"
   ]
  },
  {
   "cell_type": "code",
   "execution_count": 11,
   "id": "d850a2f5-e321-4c9a-94c0-ec4812d375d7",
   "metadata": {},
   "outputs": [
    {
     "data": {
      "text/plain": [
       "''"
      ]
     },
     "execution_count": 11,
     "metadata": {},
     "output_type": "execute_result"
    }
   ],
   "source": [
    "out.stderr"
   ]
  },
  {
   "cell_type": "code",
   "execution_count": 12,
   "id": "e06c387d-3c4e-48af-9928-ae3e436a1a60",
   "metadata": {},
   "outputs": [
    {
     "data": {
      "text/plain": [
       "'hello world\\n'"
      ]
     },
     "execution_count": 12,
     "metadata": {},
     "output_type": "execute_result"
    }
   ],
   "source": [
    "str(out)"
   ]
  },
  {
   "cell_type": "code",
   "execution_count": 13,
   "id": "6c5b4252-07f9-42e2-97ec-ec5a76887517",
   "metadata": {
    "tags": []
   },
   "outputs": [
    {
     "name": "stdout",
     "output_type": "stream",
     "text": [
      "hello world\n",
      "hello world\n"
     ]
    }
   ],
   "source": [
    "# `IPython.utils.capture.CapturedIO` is callable or `.show()` method can be used:\n",
    "out()\n",
    "out.show()"
   ]
  },
  {
   "cell_type": "code",
   "execution_count": 14,
   "id": "049a7989-b65d-4221-bd2c-9acf45fa1871",
   "metadata": {},
   "outputs": [],
   "source": [
    "# We can also use context manager:\n",
    "\n",
    "import IPython.utils\n",
    "\n",
    "with IPython.utils.io.capture_output() as captured:\n",
    "    print('hello')"
   ]
  },
  {
   "cell_type": "code",
   "execution_count": 15,
   "id": "439a9c90-1978-457d-bca9-a8518047a02c",
   "metadata": {},
   "outputs": [
    {
     "name": "stdout",
     "output_type": "stream",
     "text": [
      "hello\n"
     ]
    }
   ],
   "source": [
    "# It is the same class IPython.utils.capture.CapturedIO\n",
    "captured.show()"
   ]
  },
  {
   "cell_type": "markdown",
   "id": "9aa8faef-2cb1-4060-9acd-1cab88f902b3",
   "metadata": {},
   "source": [
    "## Control default output\n",
    "* https://ipython.readthedocs.io/en/stable/config/options/kernel.html#configtrait-InteractiveShell.ast_node_interactivity"
   ]
  },
  {
   "cell_type": "code",
   "execution_count": 16,
   "id": "166218d7-a39b-47ae-a2a4-7a993fbb783e",
   "metadata": {},
   "outputs": [],
   "source": [
    "from IPython.core.interactiveshell import InteractiveShell\n",
    "# The type is traitlets.Enum"
   ]
  },
  {
   "cell_type": "code",
   "execution_count": 17,
   "id": "da35b925-ad4d-43e0-8730-6029b324816a",
   "metadata": {},
   "outputs": [
    {
     "name": "stdout",
     "output_type": "stream",
     "text": [
      "any of ['all', 'last', 'last_expr', 'none', 'last_expr_or_assign']\n"
     ]
    }
   ],
   "source": [
    "print(InteractiveShell.ast_node_interactivity.info())"
   ]
  },
  {
   "cell_type": "code",
   "execution_count": 18,
   "id": "01f2715e-d023-49ed-a764-7b706883cf84",
   "metadata": {},
   "outputs": [
    {
     "name": "stdout",
     "output_type": "stream",
     "text": [
      "\n",
      "        'all', 'last', 'last_expr' or 'none', 'last_expr_or_assign' specifying\n",
      "        which nodes should be run interactively (displaying output from expressions).\n",
      "        \n"
     ]
    }
   ],
   "source": [
    "print(InteractiveShell.ast_node_interactivity.help)"
   ]
  },
  {
   "cell_type": "code",
   "execution_count": 19,
   "id": "0191c5d0-8fd0-4966-be6b-4034d4334930",
   "metadata": {},
   "outputs": [
    {
     "data": {
      "text/plain": [
       "'last_expr'"
      ]
     },
     "execution_count": 19,
     "metadata": {},
     "output_type": "execute_result"
    }
   ],
   "source": [
    "InteractiveShell.ast_node_interactivity.default_value"
   ]
  },
  {
   "cell_type": "code",
   "execution_count": 20,
   "id": "4890e7a5-320f-4274-b62c-814239234c8e",
   "metadata": {},
   "outputs": [],
   "source": [
    "# InteractiveShell.ast_node_interactivity should not be used to change the value.\n",
    "ast_node_interactivity_saved = get_ipython().ast_node_interactivity"
   ]
  },
  {
   "cell_type": "code",
   "execution_count": 21,
   "id": "9df0432d-26d9-41f1-8fd9-c18489664c88",
   "metadata": {},
   "outputs": [],
   "source": [
    "# Show also assigned value. Change will apply from the next cell.\n",
    "get_ipython().ast_node_interactivity = \"last_expr_or_assign\""
   ]
  },
  {
   "cell_type": "code",
   "execution_count": 22,
   "id": "ce28913e-df1c-467b-bf89-221c57c996cc",
   "metadata": {},
   "outputs": [
    {
     "data": {
      "text/plain": [
       "3"
      ]
     },
     "execution_count": 22,
     "metadata": {},
     "output_type": "execute_result"
    }
   ],
   "source": [
    "x = 1 + 2"
   ]
  },
  {
   "cell_type": "code",
   "execution_count": 23,
   "id": "13dfaabd-ec83-4213-bd4d-ff5cf374b54b",
   "metadata": {},
   "outputs": [],
   "source": [
    "# Show all expressions, not just the last one. (Assignments not shown.)\n",
    "get_ipython().ast_node_interactivity = \"all\""
   ]
  },
  {
   "cell_type": "code",
   "execution_count": 24,
   "id": "5f760111-aebc-479b-af78-6fca64c9a907",
   "metadata": {},
   "outputs": [
    {
     "data": {
      "text/plain": [
       "11"
      ]
     },
     "execution_count": 24,
     "metadata": {},
     "output_type": "execute_result"
    },
    {
     "data": {
      "text/plain": [
       "22"
      ]
     },
     "execution_count": 24,
     "metadata": {},
     "output_type": "execute_result"
    }
   ],
   "source": [
    "x = 1\n",
    "x + 10\n",
    "x += 1\n",
    "x + 20"
   ]
  },
  {
   "cell_type": "code",
   "execution_count": 25,
   "id": "dd8dd139-689a-4edf-a70c-51bdd840d945",
   "metadata": {},
   "outputs": [],
   "source": [
    "get_ipython().ast_node_interactivity = ast_node_interactivity_saved"
   ]
  },
  {
   "cell_type": "code",
   "execution_count": 26,
   "id": "45f0808e-5124-48d0-839e-e86e26052c16",
   "metadata": {},
   "outputs": [],
   "source": [
    "# Back to normal\n",
    "x = 1 + 2"
   ]
  },
  {
   "cell_type": "markdown",
   "id": "a0617d68-7ec1-418e-a004-47d40c592688",
   "metadata": {},
   "source": [
    "## display\n",
    "* [IPython Notebook cell multiple outputs](https://stackoverflow.com/q/34398054/320437)\n",
    "* https://github.com/jupyter/notebook/issues/5304#issuecomment-602901195"
   ]
  },
  {
   "cell_type": "code",
   "execution_count": 27,
   "id": "ae11fd98-a28f-487e-a644-965702e2921b",
   "metadata": {},
   "outputs": [],
   "source": [
    "# In current versions we do not need to import display.\n",
    "# from IPython.display import display"
   ]
  },
  {
   "cell_type": "code",
   "execution_count": 28,
   "id": "49c70506-9d0d-4387-9e76-fd0aaf321ad5",
   "metadata": {},
   "outputs": [
    {
     "data": {
      "text/plain": [
       "2"
      ]
     },
     "metadata": {},
     "output_type": "display_data"
    },
    {
     "data": {
      "text/plain": [
       "4"
      ]
     },
     "execution_count": 28,
     "metadata": {},
     "output_type": "execute_result"
    }
   ],
   "source": [
    "# display() can show a value explicitly\n",
    "1\n",
    "display(2)\n",
    "3\n",
    "4"
   ]
  },
  {
   "cell_type": "code",
   "execution_count": 29,
   "id": "2768724b-4a14-40c4-9910-3dfa23eb51d6",
   "metadata": {
    "editable": true,
    "slideshow": {
     "slide_type": ""
    },
    "tags": []
   },
   "outputs": [
    {
     "data": {
      "text/plain": [
       "'a'"
      ]
     },
     "metadata": {},
     "output_type": "display_data"
    },
    {
     "data": {
      "text/plain": [
       "2"
      ]
     },
     "execution_count": 29,
     "metadata": {},
     "output_type": "execute_result"
    },
    {
     "data": {
      "text/plain": [
       "'b'"
      ]
     },
     "metadata": {},
     "output_type": "display_data"
    },
    {
     "data": {
      "text/plain": [
       "4"
      ]
     },
     "execution_count": 29,
     "metadata": {},
     "output_type": "execute_result"
    }
   ],
   "source": [
    "# sys.displayhook() behaves slightly differently. It shows the usual number\n",
    "# which can be referred to in Out.\n",
    "1\n",
    "display('a')\n",
    "sys.displayhook(2)\n",
    "display('b')\n",
    "3\n",
    "4"
   ]
  },
  {
   "cell_type": "code",
   "execution_count": 30,
   "id": "f38868b7-ae5f-4e1e-8289-9174131deac0",
   "metadata": {
    "editable": true,
    "slideshow": {
     "slide_type": ""
    },
    "tags": []
   },
   "outputs": [
    {
     "data": {
      "text/plain": [
       "4"
      ]
     },
     "execution_count": 30,
     "metadata": {},
     "output_type": "execute_result"
    }
   ],
   "source": [
    "# Out contains the last value.\n",
    "# NOTE: The code depends on Out number!\n",
    "Out[29]"
   ]
  },
  {
   "cell_type": "code",
   "execution_count": 31,
   "id": "522e0966-6f64-45f6-ab5a-9bcd77b38a60",
   "metadata": {
    "editable": true,
    "slideshow": {
     "slide_type": ""
    },
    "tags": []
   },
   "outputs": [
    {
     "data": {
      "text/plain": [
       "'a'"
      ]
     },
     "metadata": {},
     "output_type": "display_data"
    },
    {
     "data": {
      "text/plain": [
       "'b'"
      ]
     },
     "metadata": {},
     "output_type": "display_data"
    }
   ],
   "source": [
    "# Using only display() we can prevent showing the number.\n",
    "display('a')\n",
    "display('b')"
   ]
  },
  {
   "cell_type": "code",
   "execution_count": 32,
   "id": "473e3c1c-2721-4186-a6de-4e5efe4407ac",
   "metadata": {
    "editable": true,
    "slideshow": {
     "slide_type": ""
    },
    "tags": [
     "raises-exception"
    ]
   },
   "outputs": [
    {
     "ename": "KeyError",
     "evalue": "31",
     "output_type": "error",
     "traceback": [
      "\u001b[0;31m---------------------------------------------------------------------------\u001b[0m",
      "\u001b[0;31mKeyError\u001b[0m                                  Traceback (most recent call last)",
      "Cell \u001b[0;32mIn[32], line 3\u001b[0m\n\u001b[1;32m      1\u001b[0m \u001b[38;5;66;03m# Value shown using display() is not store in Out. tagged: raises-exception\u001b[39;00m\n\u001b[1;32m      2\u001b[0m \u001b[38;5;66;03m# NOTE: The code depends on Out number!\u001b[39;00m\n\u001b[0;32m----> 3\u001b[0m \u001b[43mOut\u001b[49m\u001b[43m[\u001b[49m\u001b[38;5;241;43m31\u001b[39;49m\u001b[43m]\u001b[49m\n",
      "\u001b[0;31mKeyError\u001b[0m: 31"
     ]
    }
   ],
   "source": [
    "# Value shown using display() is not store in Out. tagged: raises-exception\n",
    "# NOTE: The code depends on Out number!\n",
    "Out[31]"
   ]
  },
  {
   "cell_type": "code",
   "execution_count": 33,
   "id": "190ded9d-c5a0-4e8b-bb3b-7d6dc20b5142",
   "metadata": {
    "editable": true,
    "slideshow": {
     "slide_type": ""
    },
    "tags": []
   },
   "outputs": [
    {
     "data": {
      "text/plain": [
       "9"
      ]
     },
     "metadata": {},
     "output_type": "display_data"
    },
    {
     "data": {
      "text/plain": [
       "81"
      ]
     },
     "metadata": {},
     "output_type": "display_data"
    },
    {
     "data": {
      "text/plain": [
       "'it is over'"
      ]
     },
     "metadata": {},
     "output_type": "display_data"
    }
   ],
   "source": [
    "# Using display_id attribute I can create a display object.\n",
    "# type: IPython.core.display_functions.DisplayHandle\n",
    "# I can use these methods on the object:\n",
    "# .update(value) - update the value in all displayed places\n",
    "# .display(value) - add a new displayed place of the same display object\n",
    "\n",
    "my_display1 = display('start', display_id='my-display1')\n",
    "my_display2 = display('start', display_id='my-display2')\n",
    "# The semicolon prevents the result of the expression from being displayed.\n",
    "display('running', display_id='my-display3') ;"
   ]
  },
  {
   "cell_type": "code",
   "execution_count": 34,
   "id": "f3f37ad3-f201-47e8-983f-343031b8a25c",
   "metadata": {
    "editable": true,
    "slideshow": {
     "slide_type": ""
    },
    "tags": []
   },
   "outputs": [],
   "source": [
    "import time\n",
    "\n",
    "for i in range(10):\n",
    "    my_display1.update(i)\n",
    "    my_display2.update(i**2)\n",
    "    time.sleep(0.2)"
   ]
  },
  {
   "cell_type": "code",
   "execution_count": 35,
   "id": "4f1606d9-c50e-487a-a839-f003bad9f0b2",
   "metadata": {
    "editable": true,
    "slideshow": {
     "slide_type": ""
    },
    "tags": []
   },
   "outputs": [],
   "source": [
    "from IPython.display import update_display\n",
    "\n",
    "# update_display() can refer to a display by its display_id string:\n",
    "update_display('it is over', display_id='my-display3')"
   ]
  }
 ],
 "metadata": {
  "kernelspec": {
   "display_name": "Python 3 (ipykernel)",
   "language": "python",
   "name": "python3"
  },
  "language_info": {
   "codemirror_mode": {
    "name": "ipython",
    "version": 3
   },
   "file_extension": ".py",
   "mimetype": "text/x-python",
   "name": "python",
   "nbconvert_exporter": "python",
   "pygments_lexer": "ipython3",
   "version": "3.10.6"
  }
 },
 "nbformat": 4,
 "nbformat_minor": 5
}
