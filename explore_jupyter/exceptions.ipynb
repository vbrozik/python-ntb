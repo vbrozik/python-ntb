{
 "cells": [
  {
   "cell_type": "markdown",
   "id": "4bb47b64-6784-4cb6-99bd-e6c0879d770c",
   "metadata": {},
   "source": [
    "# Exceptions in Jupyterlab\n",
    "\n",
    "Normally when exception is rased in a cell, Jupyter does not continue executing the following cells. It looks like that if we do not catch the exception all the methods printing it do not obey setting of `sys.tracebacklimit` which normally allows us to limit the printing of the traceback."
   ]
  },
  {
   "cell_type": "code",
   "execution_count": 1,
   "id": "229ea26b-0e97-4bab-9b51-7cb4b559fe78",
   "metadata": {
    "tags": []
   },
   "outputs": [],
   "source": [
    "# initialization\n",
    "import sys"
   ]
  },
  {
   "cell_type": "markdown",
   "id": "b48a67c3-4e2d-4d3a-b52c-06f69e22d075",
   "metadata": {
    "tags": []
   },
   "source": [
    "## Cell tag"
   ]
  },
  {
   "cell_type": "markdown",
   "id": "59d722ca-1a28-4232-a75e-3d5d15bec384",
   "metadata": {},
   "source": [
    "In Jupyterlab we can set *Cell Tag* `raises-exception` on a cell to prevent this behaviour.\n",
    "* https://github.com/jupyterlab/jupyterlab/issues/2412\n",
    "\n",
    "How to set cell tags? Select the cell. Open *Property Inspector* (right sidebar). Add the tag there in the section *Cell Tags*. The cell below has this tag set."
   ]
  },
  {
   "cell_type": "code",
   "execution_count": 2,
   "id": "96e1a8b4-b5fb-405f-b53b-c1c35221edf2",
   "metadata": {
    "tags": [
     "raises-exception"
    ]
   },
   "outputs": [
    {
     "ename": "AssertionError",
     "evalue": "Testing exception",
     "output_type": "error",
     "traceback": [
      "\u001b[0;31m---------------------------------------------------------------------------\u001b[0m",
      "\u001b[0;31mAssertionError\u001b[0m                            Traceback (most recent call last)",
      "Input \u001b[0;32mIn [2]\u001b[0m, in \u001b[0;36m<cell line: 2>\u001b[0;34m()\u001b[0m\n\u001b[1;32m      1\u001b[0m sys\u001b[38;5;241m.\u001b[39mtracebacklimit \u001b[38;5;241m=\u001b[39m \u001b[38;5;28;01mNone\u001b[39;00m  \u001b[38;5;66;03m# default\u001b[39;00m\n\u001b[0;32m----> 2\u001b[0m \u001b[38;5;28;01massert\u001b[39;00m \u001b[38;5;28;01mFalse\u001b[39;00m, \u001b[38;5;124m'\u001b[39m\u001b[38;5;124mTesting exception\u001b[39m\u001b[38;5;124m'\u001b[39m\n",
      "\u001b[0;31mAssertionError\u001b[0m: Testing exception"
     ]
    }
   ],
   "source": [
    "sys.tracebacklimit = None  # default\n",
    "assert False, 'Testing exception'"
   ]
  },
  {
   "cell_type": "code",
   "execution_count": 3,
   "id": "5f96e610-afbe-4cb0-b35a-38cd3f216a8b",
   "metadata": {
    "tags": []
   },
   "outputs": [
    {
     "name": "stdout",
     "output_type": "stream",
     "text": [
      "execution continues\n"
     ]
    }
   ],
   "source": [
    "print('execution continues')"
   ]
  },
  {
   "cell_type": "code",
   "execution_count": 4,
   "id": "004beefc-a47b-4808-8306-12ba849b7ac0",
   "metadata": {
    "tags": [
     "raises-exception"
    ]
   },
   "outputs": [
    {
     "ename": "AssertionError",
     "evalue": "Testing exception",
     "output_type": "error",
     "traceback": [
      "\u001b[0;31m---------------------------------------------------------------------------\u001b[0m",
      "\u001b[0;31mAssertionError\u001b[0m                            Traceback (most recent call last)",
      "Input \u001b[0;32mIn [4]\u001b[0m, in \u001b[0;36m<cell line: 2>\u001b[0;34m()\u001b[0m\n\u001b[1;32m      1\u001b[0m sys\u001b[38;5;241m.\u001b[39mtracebacklimit \u001b[38;5;241m=\u001b[39m \u001b[38;5;241m0\u001b[39m  \u001b[38;5;66;03m# do not print traceback\u001b[39;00m\n\u001b[0;32m----> 2\u001b[0m \u001b[38;5;28;01massert\u001b[39;00m \u001b[38;5;28;01mFalse\u001b[39;00m, \u001b[38;5;124m'\u001b[39m\u001b[38;5;124mTesting exception\u001b[39m\u001b[38;5;124m'\u001b[39m\n",
      "\u001b[0;31mAssertionError\u001b[0m: Testing exception"
     ]
    }
   ],
   "source": [
    "sys.tracebacklimit = 0  # do not print traceback\n",
    "assert False, 'Testing exception'"
   ]
  },
  {
   "cell_type": "markdown",
   "id": "672d9b26-b31f-4760-b7d9-2d3d546cdab8",
   "metadata": {},
   "source": [
    "## Cell magic"
   ]
  },
  {
   "cell_type": "code",
   "execution_count": 5,
   "id": "c460e80d-ab5f-44b8-8f49-20eb3cca0291",
   "metadata": {
    "tags": []
   },
   "outputs": [
    {
     "name": "stderr",
     "output_type": "stream",
     "text": [
      "Traceback (most recent call last):\n",
      "  File \"<stdin>\", line 2, in <module>\n",
      "NameError: name 'sys' is not defined\n"
     ]
    }
   ],
   "source": [
    "%%script --no-raise-error python\n",
    "\n",
    "sys.tracebacklimit = None  # default\n",
    "assert False, 'Testing exception'"
   ]
  },
  {
   "cell_type": "code",
   "execution_count": 6,
   "id": "1a91966f-6ade-402c-bbf3-8be0dd59b41e",
   "metadata": {
    "tags": []
   },
   "outputs": [
    {
     "name": "stdout",
     "output_type": "stream",
     "text": [
      "execution continues\n"
     ]
    }
   ],
   "source": [
    "print('execution continues')"
   ]
  },
  {
   "cell_type": "code",
   "execution_count": 7,
   "id": "fca75a2c-3aca-474c-b7a5-5f0634eb1dd2",
   "metadata": {
    "tags": []
   },
   "outputs": [
    {
     "name": "stderr",
     "output_type": "stream",
     "text": [
      "Traceback (most recent call last):\n",
      "  File \"<stdin>\", line 2, in <module>\n",
      "NameError: name 'sys' is not defined\n"
     ]
    }
   ],
   "source": [
    "%%script --no-raise-error python\n",
    "\n",
    "sys.tracebacklimit = 0  # do not print traceback\n",
    "assert False, 'Testing exception'"
   ]
  },
  {
   "cell_type": "markdown",
   "id": "9b796908-e0ac-48c4-a75f-f30c0e36fa5c",
   "metadata": {},
   "source": [
    "## Explicitly catch the exception"
   ]
  },
  {
   "cell_type": "code",
   "execution_count": 15,
   "id": "7b04b652-bc10-4dca-8dba-f12e4a8ef91f",
   "metadata": {
    "tags": []
   },
   "outputs": [
    {
     "name": "stderr",
     "output_type": "stream",
     "text": [
      "Traceback (most recent call last):\n",
      "  File \"/tmp/ipykernel_3019/3427197396.py\", line 5, in <cell line: 4>\n",
      "    assert False, 'Testing exception'\n",
      "AssertionError: Testing exception\n"
     ]
    }
   ],
   "source": [
    "import traceback\n",
    "\n",
    "sys.tracebacklimit = None  # default\n",
    "try:\n",
    "    assert False, 'Testing exception'\n",
    "except AssertionError:     # we can catch more (or all) exceptions\n",
    "    traceback.print_exc()"
   ]
  },
  {
   "cell_type": "code",
   "execution_count": 9,
   "id": "5cd6414a-c69b-4f80-a2d6-3aeda25ca4b4",
   "metadata": {
    "tags": []
   },
   "outputs": [
    {
     "name": "stdout",
     "output_type": "stream",
     "text": [
      "execution continues\n"
     ]
    }
   ],
   "source": [
    "print('execution continues')"
   ]
  },
  {
   "cell_type": "markdown",
   "id": "7ec23f21-3797-46ec-af71-7d5ee663b6b4",
   "metadata": {},
   "source": [
    "`traceback.print_exc()` obeys setting of `sys.tracebacklimit`."
   ]
  },
  {
   "cell_type": "code",
   "execution_count": 26,
   "id": "4a4a8bd4-7ad9-4145-ad54-748f062a4cca",
   "metadata": {
    "tags": []
   },
   "outputs": [
    {
     "name": "stderr",
     "output_type": "stream",
     "text": [
      "AssertionError: Testing exception\n"
     ]
    }
   ],
   "source": [
    "import traceback\n",
    "\n",
    "sys.tracebacklimit = 0  # do not print traceback\n",
    "try:\n",
    "    assert False, 'Testing exception'\n",
    "except AssertionError:     # we can catch more (or all) exceptions\n",
    "    traceback.print_exc()"
   ]
  },
  {
   "cell_type": "markdown",
   "id": "c122e78c-7ae4-4566-9b8f-596d9dae7760",
   "metadata": {},
   "source": [
    "Sources:\n",
    "* https://docs.python.org/3/library/traceback.html#traceback.format_exc"
   ]
  },
  {
   "cell_type": "code",
   "execution_count": 42,
   "id": "1a74caaf-98d1-44d3-bdef-fdf6f0778a1e",
   "metadata": {
    "tags": []
   },
   "outputs": [
    {
     "name": "stderr",
     "output_type": "stream",
     "text": [
      "AssertionError: Testing exception; line 11\n"
     ]
    }
   ],
   "source": [
    "import traceback\n",
    "\n",
    "def print_exc_short(file=sys.stderr) -> None:\n",
    "    \"\"\"Print only the exception and line number.\"\"\"\n",
    "    print(\n",
    "            f'{traceback.format_exc(limit=0).rstrip()}; '\n",
    "            f'line {sys.exc_info()[-1].tb_lineno}', file=file)\n",
    "\n",
    "sys.tracebacklimit = None  # default\n",
    "try:\n",
    "    assert False, 'Testing exception'\n",
    "except AssertionError:     # we can catch more (or all) exceptions\n",
    "    print_exc_short()"
   ]
  },
  {
   "cell_type": "code",
   "execution_count": 30,
   "id": "1e1c4eab-6019-48e0-b9fa-27558d79524a",
   "metadata": {
    "tags": []
   },
   "outputs": [
    {
     "name": "stderr",
     "output_type": "stream",
     "text": [
      "AssertionError('Testing exception')\n"
     ]
    }
   ],
   "source": [
    "sys.tracebacklimit = None  # default\n",
    "try:\n",
    "    assert False, 'Testing exception'\n",
    "except AssertionError as exception:     # we can catch more (or all) exceptions\n",
    "    print(repr(exception), file=sys.stderr)"
   ]
  },
  {
   "cell_type": "markdown",
   "id": "864427d2-0e51-49c5-b50a-4679bdeb7bfd",
   "metadata": {},
   "source": [
    "## Selected solution\n",
    "\n",
    "### Todo\n",
    "It seems that Jupyter uses full buffering for output. I do not know how to change it.\n",
    "\n",
    "In vanilla Python:\n",
    "```Python\n",
    ">>> type(sys.stdout)\n",
    "<class '_io.TextIOWrapper'>\n",
    ">>> type(sys.stderr)\n",
    "<class '_io.TextIOWrapper'>\n",
    "```\n",
    "In Jupyter:"
   ]
  },
  {
   "cell_type": "code",
   "execution_count": 117,
   "id": "4ea1d923-4b63-4ebc-b28b-a9701f78177d",
   "metadata": {},
   "outputs": [
    {
     "data": {
      "text/plain": [
       "ipykernel.iostream.OutStream"
      ]
     },
     "execution_count": 117,
     "metadata": {},
     "output_type": "execute_result"
    }
   ],
   "source": [
    "type(sys.stdout)"
   ]
  },
  {
   "cell_type": "code",
   "execution_count": 118,
   "id": "3e9bc295-4359-4efb-bd6c-ba1997ffddde",
   "metadata": {},
   "outputs": [
    {
     "data": {
      "text/plain": [
       "ipykernel.iostream.OutStream"
      ]
     },
     "execution_count": 118,
     "metadata": {},
     "output_type": "execute_result"
    }
   ],
   "source": [
    "type(sys.stderr)"
   ]
  },
  {
   "cell_type": "markdown",
   "id": "37d5208a-3a10-4418-b32f-f90fb40f840c",
   "metadata": {},
   "source": [
    "In vanilla Python we can reconfigure the buffering using [`reconfigure()`](https://docs.python.org/3/library/io.html#io.TextIOWrapper.reconfigurehttps://docs.python.org/3/library/io.html#io.TextIOWrapper.reconfigure) method:\n",
    "```Python\n",
    "sys.stdout.reconfigure(line_buffering=True)\n",
    "sys.stderr.reconfigure(line_buffering=True)\n",
    "```\n",
    "Unfortunately `ipykernel.iostream.OutStream` does not have the method `.reconfigure()`: `OutStream has no attribute reconfigure`. See [How to change the buffering mode of sys.stdout and sys.stderr?How to change the buffering mode of sys.stdout and sys.stderr?](https://discourse.jupyter.org/t/how-to-change-the-buffering-mode-of-sys-stdout-and-sys-stderr/14484https://discourse.jupyter.org/t/how-to-change-the-buffering-mode-of-sys-stdout-and-sys-stderr/14484)"
   ]
  },
  {
   "cell_type": "code",
   "execution_count": 132,
   "id": "317a46a2-146a-45b8-9903-92e772859e17",
   "metadata": {},
   "outputs": [],
   "source": [
    "import sys\n",
    "import traceback\n",
    "import contextlib\n",
    "from typing import Iterable, Iterator\n",
    "\n",
    "def print_exc_short(file=sys.stderr) -> None:\n",
    "    \"\"\"Print the curent exception with only message and line number.\n",
    "\n",
    "    Format of the printed message is:\n",
    "        ExceptionType: exception_message; line line_number\n",
    "\n",
    "    The function is designed to be useable with IPython (and Jupyter) or when\n",
    "    stdout and/or stderr use full buffering. It takes care of the correct\n",
    "    interleaving of the two streams.\n",
    "    \n",
    "    Args:\n",
    "        file: stream to print the exception to\n",
    "\n",
    "    Todo:\n",
    "        * Optionally print module/file name for other uses than\n",
    "            IPython/Jupyter.\n",
    "    \"\"\"\n",
    "    # Workaround for non-reconfigurable full buffering in IPython\n",
    "    # ipykernel.iostream.OutStream does not have the method .reconfigure()\n",
    "    for stream in (sys.stdout, sys.stderr):\n",
    "        if stream != file:\n",
    "            stream.flush()\n",
    "    print(\n",
    "            # traceback.format_exc() adds a trailing newline, remove it:\n",
    "            f'{traceback.format_exc(limit=0).rstrip()}; '\n",
    "            # sys.exc_info()[2].tb_lineno contains line inside the try: block\n",
    "            # We need to go to the lowest frame where the exception happened:\n",
    "            f'line {traceback.extract_tb(sys.exc_info()[2])[-1].lineno}',\n",
    "            file=file, flush=True)\n",
    "\n",
    "@contextlib.contextmanager\n",
    "def suppress_print(\n",
    "        exceptions: BaseException | Iterable[BaseException], file=sys.stderr\n",
    "        ) -> Iterator[None]:\n",
    "    \"\"\"Suppress the listed exception types and print them concisely.\n",
    "\n",
    "    The function print_exc_short() is used to print the exception.\n",
    "\n",
    "    Args:\n",
    "        file: stream to print the exception to\n",
    "    \"\"\"\n",
    "    try:\n",
    "        yield\n",
    "    except exceptions:\n",
    "        print_exc_short(file)"
   ]
  },
  {
   "cell_type": "code",
   "execution_count": 133,
   "id": "d4a9f238-0184-4485-8405-c4e618a89966",
   "metadata": {},
   "outputs": [
    {
     "name": "stderr",
     "output_type": "stream",
     "text": [
      "AssertionError: This is a testing assert; line 2\n"
     ]
    },
    {
     "name": "stdout",
     "output_type": "stream",
     "text": [
      "Here we continue after assert\n"
     ]
    },
    {
     "name": "stderr",
     "output_type": "stream",
     "text": [
      "ZeroDivisionError: division by zero; line 6\n"
     ]
    },
    {
     "name": "stdout",
     "output_type": "stream",
     "text": [
      "Here we continue after division\n"
     ]
    }
   ],
   "source": [
    "with suppress_print(AssertionError):\n",
    "    assert False, 'This is a testing assert'\n",
    "    print('This will not execute')\n",
    "print('Here we continue after assert')\n",
    "with suppress_print(Exception):\n",
    "    x = 1 / 0\n",
    "    print('This will not execute')\n",
    "print('Here we continue after division')"
   ]
  },
  {
   "cell_type": "code",
   "execution_count": 139,
   "id": "28775229-d1a6-4714-83ee-fb520c108d6f",
   "metadata": {},
   "outputs": [
    {
     "data": {
      "text/plain": [
       "True"
      ]
     },
     "execution_count": 139,
     "metadata": {},
     "output_type": "execute_result"
    }
   ],
   "source": [
    "import ipykernel\n",
    "type(sys.stdout) == ipykernel.iostream.OutStream"
   ]
  }
 ],
 "metadata": {
  "kernelspec": {
   "display_name": "Python 3 (ipykernel)",
   "language": "python",
   "name": "python3"
  },
  "language_info": {
   "codemirror_mode": {
    "name": "ipython",
    "version": 3
   },
   "file_extension": ".py",
   "mimetype": "text/x-python",
   "name": "python",
   "nbconvert_exporter": "python",
   "pygments_lexer": "ipython3",
   "version": "3.10.4"
  }
 },
 "nbformat": 4,
 "nbformat_minor": 5
}
