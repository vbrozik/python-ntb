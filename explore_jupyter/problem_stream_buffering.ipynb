{
 "cells": [
  {
   "cell_type": "markdown",
   "id": "8b6b8e86-c379-4740-b926-1031400ab4b5",
   "metadata": {},
   "source": [
    "Jupyter seems to use full buffering for stdout and stderr. It is not known how to change it.\n",
    "\n",
    "IPython on a text console does not seem to have this problem."
   ]
  },
  {
   "cell_type": "code",
   "execution_count": 10,
   "id": "3b8382d1-f509-45b9-a582-c4f390c757de",
   "metadata": {},
   "outputs": [
    {
     "name": "stdout",
     "output_type": "stream",
     "text": [
      "stdout: 0\n",
      "stdout: 1\n"
     ]
    },
    {
     "name": "stderr",
     "output_type": "stream",
     "text": [
      "stderr: 0\n",
      "stderr: 1\n"
     ]
    }
   ],
   "source": [
    "for i in range(2): print(f'stdout: {i}'); print(f'stderr: {i}', file=sys.stderr)"
   ]
  },
  {
   "cell_type": "code",
   "execution_count": 11,
   "id": "706c66a5-a9bf-4937-ac6e-873e50e357b5",
   "metadata": {},
   "outputs": [
    {
     "name": "stdout",
     "output_type": "stream",
     "text": [
      "stdout: 0\n"
     ]
    },
    {
     "name": "stderr",
     "output_type": "stream",
     "text": [
      "stderr: 0\n"
     ]
    },
    {
     "name": "stdout",
     "output_type": "stream",
     "text": [
      "stdout: 1\n"
     ]
    },
    {
     "name": "stderr",
     "output_type": "stream",
     "text": [
      "stderr: 1\n"
     ]
    }
   ],
   "source": [
    "for i in range(2): print(f'stdout: {i}', flush=True); print(f'stderr: {i}', file=sys.stderr, flush=True)"
   ]
  }
 ],
 "metadata": {
  "kernelspec": {
   "display_name": "Python 3 (ipykernel)",
   "language": "python",
   "name": "python3"
  },
  "language_info": {
   "codemirror_mode": {
    "name": "ipython",
    "version": 3
   },
   "file_extension": ".py",
   "mimetype": "text/x-python",
   "name": "python",
   "nbconvert_exporter": "python",
   "pygments_lexer": "ipython3",
   "version": "3.10.4"
  }
 },
 "nbformat": 4,
 "nbformat_minor": 5
}
