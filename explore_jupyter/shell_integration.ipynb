{
 "cells": [
  {
   "cell_type": "markdown",
   "id": "a67bd9d7-0784-40a4-b8cf-a5d7ea74531f",
   "metadata": {},
   "source": [
    "# Shell integration"
   ]
  },
  {
   "cell_type": "markdown",
   "id": "1936dca6-2cfc-4459-9649-747729d1ec7a",
   "metadata": {},
   "source": [
    "## Variables from Python in shell\n",
    "* https://stackoverflow.com/questions/19579546/can-i-access-python-variables-within-a-bash-or-script-ipython-notebook-c"
   ]
  },
  {
   "cell_type": "code",
   "execution_count": 1,
   "id": "8c82508f-bc11-4031-bc2d-0b3fadfd8ea7",
   "metadata": {},
   "outputs": [],
   "source": [
    "greeting = 'hello!'"
   ]
  },
  {
   "cell_type": "code",
   "execution_count": 2,
   "id": "b986b544-ecdc-47fc-b9d8-0b9f6d2e4b47",
   "metadata": {},
   "outputs": [
    {
     "name": "stdout",
     "output_type": "stream",
     "text": [
      "hello!\n"
     ]
    }
   ],
   "source": [
    "!echo {greeting}"
   ]
  },
  {
   "cell_type": "markdown",
   "id": "745ed187-e51d-4554-8677-b98c8693a28a",
   "metadata": {},
   "source": [
    "### Positional variables to shell"
   ]
  },
  {
   "cell_type": "code",
   "execution_count": 7,
   "id": "c4bde18d-6f6e-4fc4-b76a-82e8972b4112",
   "metadata": {
    "tags": []
   },
   "outputs": [
    {
     "name": "stdout",
     "output_type": "stream",
     "text": [
      "Greeting: hello!\n"
     ]
    }
   ],
   "source": [
    "%%sh -s \"$greeting\"\n",
    "echo Greeting: $1"
   ]
  },
  {
   "cell_type": "markdown",
   "id": "d718b743-8bff-488f-8de5-78fda2f6891d",
   "metadata": {},
   "source": [
    "## Text output from shell"
   ]
  },
  {
   "cell_type": "code",
   "execution_count": 14,
   "id": "b5b96b1e-1182-4b83-bf7b-d3970ff6ae94",
   "metadata": {},
   "outputs": [
    {
     "data": {
      "text/plain": [
       "['hello', 'bye']"
      ]
     },
     "execution_count": 14,
     "metadata": {},
     "output_type": "execute_result"
    }
   ],
   "source": [
    "a = !printf '%s\\n' hello bye\n",
    "a  # list of lines"
   ]
  }
 ],
 "metadata": {
  "kernelspec": {
   "display_name": "Python 3 (ipykernel)",
   "language": "python",
   "name": "python3"
  },
  "language_info": {
   "codemirror_mode": {
    "name": "ipython",
    "version": 3
   },
   "file_extension": ".py",
   "mimetype": "text/x-python",
   "name": "python",
   "nbconvert_exporter": "python",
   "pygments_lexer": "ipython3",
   "version": "3.10.4"
  }
 },
 "nbformat": 4,
 "nbformat_minor": 5
}
