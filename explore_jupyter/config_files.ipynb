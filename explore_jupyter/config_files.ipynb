{
 "cells": [
  {
   "cell_type": "markdown",
   "id": "f203468e-179f-4a44-952e-8e0c5e3c337c",
   "metadata": {},
   "source": [
    "# Config files\n",
    "Explore location and capabilities of Jupyter, IPython etc. configuration files."
   ]
  },
  {
   "cell_type": "markdown",
   "id": "785ec612-2295-4445-ab35-9f5d4e105b42",
   "metadata": {},
   "source": [
    "### Startup - import path etc.\n",
    "* https://stackoverflow.com/questions/35254852/how-to-change-the-jupyter-start-up-folder\n",
    "* https://docs.jupyter.org/en/latest/use/jupyter-directories.html?highlight=jupyter_path#envvar-JUPYTER_PATH\n",
    "* https://stackoverflow.com/questions/43985787/how-to-make-jupyter-notebook-use-pythonpath-in-system-variables-without-hacking\n",
    "* https://stackoverflow.com/questions/34976803/sys-path-different-in-jupyter-and-python-how-to-import-own-modules-in-jupyter\n",
    "* https://www.pythonlikeyoumeanit.com/Module5_OddsAndEnds/Modules_and_Packages.html"
   ]
  },
  {
   "cell_type": "code",
   "execution_count": 3,
   "id": "48075ebf-4623-4309-8b37-5b1147e4bfdf",
   "metadata": {},
   "outputs": [],
   "source": [
    "import sys"
   ]
  },
  {
   "cell_type": "code",
   "execution_count": 4,
   "id": "e28f01d6-f9a7-4ba1-873b-348cbe38e081",
   "metadata": {},
   "outputs": [
    {
     "data": {
      "text/plain": [
       "['/home/vbrozik/dev/python-ntb/tmp',\n",
       " '/usr/lib/python310.zip',\n",
       " '/usr/lib/python3.10',\n",
       " '/usr/lib/python3.10/lib-dynload',\n",
       " '',\n",
       " '/home/vbrozik/dev/python-ntb/.venv/lib/python3.10/site-packages']"
      ]
     },
     "execution_count": 4,
     "metadata": {},
     "output_type": "execute_result"
    }
   ],
   "source": [
    "sys.path"
   ]
  },
  {
   "cell_type": "code",
   "execution_count": 5,
   "id": "f75f10f3-1a5c-4d39-a586-6688bbc2bee1",
   "metadata": {},
   "outputs": [
    {
     "name": "stdout",
     "output_type": "stream",
     "text": [
      "config:\n",
      "    /home/vbrozik/.jupyter\n",
      "    /home/vbrozik/dev/python-ntb/.venv/etc/jupyter\n",
      "    /usr/local/etc/jupyter\n",
      "    /etc/jupyter\n",
      "data:\n",
      "    /home/vbrozik/.local/share/jupyter\n",
      "    /home/vbrozik/dev/python-ntb/.venv/share/jupyter\n",
      "    /usr/local/share/jupyter\n",
      "    /usr/share/jupyter\n",
      "runtime:\n",
      "    /home/vbrozik/.local/share/jupyter/runtime\n"
     ]
    }
   ],
   "source": [
    "!jupyter --paths"
   ]
  },
  {
   "cell_type": "code",
   "execution_count": 6,
   "id": "43ecc48c-3087-4ad5-be38-2d77a3d966b1",
   "metadata": {},
   "outputs": [
    {
     "name": "stdout",
     "output_type": "stream",
     "text": [
      "/home/vbrozik/.jupyter\n"
     ]
    }
   ],
   "source": [
    "!jupyter --config-dir"
   ]
  },
  {
   "cell_type": "code",
   "execution_count": 2,
   "id": "565cc940-fde7-404d-b56d-c543c9b0c00e",
   "metadata": {},
   "outputs": [
    {
     "name": "stdout",
     "output_type": "stream",
     "text": [
      "/home/vbrozik/.jupyter:\n",
      "total 8\n",
      "drwxr-xr-x 4 vbrozik vbrozik 4096 May 13 12:11 lab\n",
      "-rw-r--r-- 1 vbrozik vbrozik   26 Jun  1 10:47 migrated\n",
      "\n",
      "/home/vbrozik/.jupyter/lab:\n",
      "total 8\n",
      "drwxr-xr-x 3 vbrozik vbrozik 4096 May 13 12:11 user-settings\n",
      "drwxr-xr-x 2 vbrozik vbrozik 4096 Sep 19 15:25 workspaces\n",
      "\n",
      "/home/vbrozik/.jupyter/lab/user-settings:\n",
      "total 4\n",
      "drwxr-xr-x 6 vbrozik vbrozik 4096 Jun 19 13:45 @jupyterlab\n",
      "\n",
      "/home/vbrozik/.jupyter/lab/user-settings/@jupyterlab:\n",
      "total 16\n",
      "drwxr-xr-x 2 vbrozik vbrozik 4096 May 13 12:11 apputils-extension\n",
      "drwxr-xr-x 2 vbrozik vbrozik 4096 Jun 19 13:28 docmanager-extension\n",
      "drwxr-xr-x 2 vbrozik vbrozik 4096 May 13 12:15 extensionmanager-extension\n",
      "drwxr-xr-x 2 vbrozik vbrozik 4096 Jun 19 13:45 shortcuts-extension\n",
      "\n",
      "/home/vbrozik/.jupyter/lab/user-settings/@jupyterlab/apputils-extension:\n",
      "total 4\n",
      "-rw-r--r-- 1 vbrozik vbrozik 291 Jun 19 13:36 themes.jupyterlab-settings\n",
      "\n",
      "/home/vbrozik/.jupyter/lab/user-settings/@jupyterlab/docmanager-extension:\n",
      "total 4\n",
      "-rw-r--r-- 1 vbrozik vbrozik 159 Jun 19 13:29 plugin.jupyterlab-settings\n",
      "\n",
      "/home/vbrozik/.jupyter/lab/user-settings/@jupyterlab/extensionmanager-extension:\n",
      "total 4\n",
      "-rw-r--r-- 1 vbrozik vbrozik 341 May 13 12:15 plugin.jupyterlab-settings\n",
      "\n",
      "/home/vbrozik/.jupyter/lab/user-settings/@jupyterlab/shortcuts-extension:\n",
      "total 24\n",
      "-rw-r--r-- 1 vbrozik vbrozik 22736 Jun 19 13:45 shortcuts.jupyterlab-settings\n",
      "\n",
      "/home/vbrozik/.jupyter/lab/workspaces:\n",
      "total 28\n",
      "-rw-r--r-- 1 vbrozik vbrozik 511 Aug 14 13:36 auto-a-ce05.jupyterlab-workspace\n",
      "-rw-r--r-- 1 vbrozik vbrozik 670 Jul 15 14:01 auto-b-13d3.jupyterlab-workspace\n",
      "-rw-r--r-- 1 vbrozik vbrozik 616 May 17 23:08 auto-b-ca51.jupyterlab-workspace\n",
      "-rw-r--r-- 1 vbrozik vbrozik 674 Sep 19 15:25 auto-c-117a.jupyterlab-workspace\n",
      "-rw-r--r-- 1 vbrozik vbrozik 683 Jul  5 19:59 auto-n-0faf.jupyterlab-workspace\n",
      "-rw-r--r-- 1 vbrozik vbrozik 674 Aug 11 13:58 auto-v-64f5.jupyterlab-workspace\n",
      "-rw-r--r-- 1 vbrozik vbrozik 851 Oct  8 23:38 default-37a8.jupyterlab-workspace\n"
     ]
    }
   ],
   "source": [
    "!ls -lR \"$HOME/.jupyter\""
   ]
  }
 ],
 "metadata": {
  "kernelspec": {
   "display_name": "Python 3 (ipykernel)",
   "language": "python",
   "name": "python3"
  },
  "language_info": {
   "codemirror_mode": {
    "name": "ipython",
    "version": 3
   },
   "file_extension": ".py",
   "mimetype": "text/x-python",
   "name": "python",
   "nbconvert_exporter": "python",
   "pygments_lexer": "ipython3",
   "version": "3.10.4"
  }
 },
 "nbformat": 4,
 "nbformat_minor": 5
}
