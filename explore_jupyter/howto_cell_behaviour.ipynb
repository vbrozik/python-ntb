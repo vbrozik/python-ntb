{
 "cells": [
  {
   "cell_type": "markdown",
   "id": "b351e1f4-9641-42c4-8b07-6c59c86ca6e0",
   "metadata": {},
   "source": [
    "# HOWTO - useful changes of cell behaviour"
   ]
  },
  {
   "cell_type": "markdown",
   "id": "b314e6ec-594f-435c-a587-0465b3d66748",
   "metadata": {},
   "source": [
    "## Add cell with non-executable code\n",
    "There are solutions with cell magic and changing the cell type to markdown or raw. There does not seem to be a solution using cell tags.\n",
    "\n",
    "### References\n",
    "* [How to (intermittently) skip certain cells when running IPython notebook?](https://stackoverflow.com/q/19309287/320437) (StackOverflow)"
   ]
  },
  {
   "cell_type": "markdown",
   "id": "f9cf6ff7-9b42-4096-8c93-7d7edc65f24d",
   "metadata": {},
   "source": [
    "### Cell magic\n",
    "This solution has many advantages:\n",
    "* exactly same rendering as normal code cell\n",
    "* simple conversion to an executable code cell (comment the cell magic)\n",
    "* explicit - we see the cell magic preventing the execution"
   ]
  },
  {
   "cell_type": "code",
   "execution_count": 1,
   "id": "6c5ff02c-1fe4-4d79-a622-e6c69527d9e9",
   "metadata": {
    "tags": []
   },
   "outputs": [],
   "source": [
    "%%script --no-raise-error false\n",
    "\n",
    "print('Hello, this code will not be executed.')"
   ]
  },
  {
   "cell_type": "code",
   "execution_count": 4,
   "id": "86a32105-a95f-4b19-9391-93a5e78ebeb3",
   "metadata": {},
   "outputs": [],
   "source": [
    "%%script true Cell skipped\n",
    "\n",
    "print('Hello, this code will not be executed.')"
   ]
  },
  {
   "cell_type": "code",
   "execution_count": 2,
   "id": "1d9f2f6f-2dbe-4789-9e1a-d3a7d0928ddc",
   "metadata": {},
   "outputs": [
    {
     "name": "stdout",
     "output_type": "stream",
     "text": [
      "Cell skipped\n"
     ]
    }
   ],
   "source": [
    "%%script echo Cell skipped\n",
    "\n",
    "print('Hello, this code will not be executed.')"
   ]
  },
  {
   "cell_type": "code",
   "execution_count": 6,
   "id": "f7b3dc2d-9cec-4d85-b4f8-162052e3dd01",
   "metadata": {},
   "outputs": [
    {
     "name": "stdout",
     "output_type": "stream",
     "text": [
      "Hello, this code will be executed - cell magic deactivated.\n"
     ]
    }
   ],
   "source": [
    "#%%script echo Cell skipped\n",
    "\n",
    "print('Hello, this code will be executed - cell magic deactivated.')"
   ]
  },
  {
   "cell_type": "markdown",
   "id": "c9d2774f-13a1-4cf0-a01e-a476c7716e3b",
   "metadata": {},
   "source": [
    "### As a markdown cell"
   ]
  },
  {
   "cell_type": "markdown",
   "id": "3be4afe4-7725-4023-ae1a-c23e56278d68",
   "metadata": {},
   "source": [
    "```python\n",
    "print('Hello, this code will not be executed.')\n",
    "```"
   ]
  },
  {
   "cell_type": "markdown",
   "id": "4fc4ba8e-691b-4f0f-9a48-ec1c37490cd3",
   "metadata": {},
   "source": [
    "### As a raw cell"
   ]
  },
  {
   "cell_type": "raw",
   "id": "ea5b79ba-5d96-4c49-b251-bb3a32623497",
   "metadata": {},
   "source": [
    "print('Hello, this code will not be executed.')"
   ]
  }
 ],
 "metadata": {
  "kernelspec": {
   "display_name": "Python 3 (ipykernel)",
   "language": "python",
   "name": "python3"
  },
  "language_info": {
   "codemirror_mode": {
    "name": "ipython",
    "version": 3
   },
   "file_extension": ".py",
   "mimetype": "text/x-python",
   "name": "python",
   "nbconvert_exporter": "python",
   "pygments_lexer": "ipython3",
   "version": "3.10.4"
  }
 },
 "nbformat": 4,
 "nbformat_minor": 5
}
