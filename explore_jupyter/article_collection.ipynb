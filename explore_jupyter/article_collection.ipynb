{
 "cells": [
  {
   "cell_type": "markdown",
   "id": "40462ede-1818-48cd-b6bd-970da07972e5",
   "metadata": {},
   "source": [
    "# Article collection\n",
    "\n",
    "## Tips\n",
    "* https://towardsdatascience.com/jupyter-notebook-hints-1f26b08429ad\n",
    "* https://towardsdatascience.com/15-tips-and-tricks-for-jupyter-notebook-that-will-ease-your-coding-experience-e469207ac95c\n",
    "\n",
    "## Příklady úprav\n",
    "* https://stackoverflow.com/questions/35913346/how-to-override-ipython-displayhook - úprava zobrazování"
   ]
  }
 ],
 "metadata": {
  "kernelspec": {
   "display_name": "Python 3 (ipykernel)",
   "language": "python",
   "name": "python3"
  },
  "language_info": {
   "codemirror_mode": {
    "name": "ipython",
    "version": 3
   },
   "file_extension": ".py",
   "mimetype": "text/x-python",
   "name": "python",
   "nbconvert_exporter": "python",
   "pygments_lexer": "ipython3",
   "version": "3.10.4"
  }
 },
 "nbformat": 4,
 "nbformat_minor": 5
}
