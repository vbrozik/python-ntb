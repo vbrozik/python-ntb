{
 "cells": [
  {
   "cell_type": "markdown",
   "id": "84d3a214-baa7-4481-812c-e4a947f68f7f",
   "metadata": {},
   "source": [
    "# Doctests"
   ]
  },
  {
   "cell_type": "code",
   "execution_count": 1,
   "id": "b5368623-6bae-4bf7-a0bd-3c1d82998aa0",
   "metadata": {},
   "outputs": [],
   "source": [
    "def example_function() -> None:\n",
    "    \"\"\"Docstring.\n",
    "\n",
    "    >>> print('Here is a command')\n",
    "    Here is a command\n",
    "    \n",
    "    >>> 2\n",
    "    3\n",
    "    \"\"\""
   ]
  },
  {
   "cell_type": "markdown",
   "id": "7dc399d3-1126-4cca-bf6e-68bccf308c66",
   "metadata": {},
   "source": [
    "## Running doctests in the module / notebook\n",
    "\n",
    "* https://kolesnikov.ga/Testing_and_Debugging_Jupyter_Notebooks/\n",
    "* https://stackoverflow.com/a/48405555/320437"
   ]
  },
  {
   "cell_type": "code",
   "execution_count": 2,
   "id": "ca9c59ad-f312-4cb7-a603-30ee80d85bbc",
   "metadata": {},
   "outputs": [
    {
     "name": "stdout",
     "output_type": "stream",
     "text": [
      "Trying:\n",
      "    print('Here is a command')\n",
      "Expecting:\n",
      "    Here is a command\n",
      "ok\n",
      "Trying:\n",
      "    2\n",
      "Expecting:\n",
      "    3\n",
      "**********************************************************************\n",
      "File \"__main__\", line 7, in __main__.example_function\n",
      "Failed example:\n",
      "    2\n",
      "Expected:\n",
      "    3\n",
      "Got:\n",
      "    2\n",
      "1 items had no tests:\n",
      "    __main__\n",
      "**********************************************************************\n",
      "1 items had failures:\n",
      "   1 of   2 in __main__.example_function\n",
      "2 tests in 2 items.\n",
      "1 passed and 1 failed.\n",
      "***Test Failed*** 1 failures.\n"
     ]
    },
    {
     "data": {
      "text/plain": [
       "TestResults(failed=1, attempted=2)"
      ]
     },
     "execution_count": 2,
     "metadata": {},
     "output_type": "execute_result"
    }
   ],
   "source": [
    "import doctest\n",
    "doctest.testmod(verbose=True)"
   ]
  },
  {
   "cell_type": "code",
   "execution_count": 22,
   "id": "7771595d-d3dd-48ab-8895-897e4a80efeb",
   "metadata": {},
   "outputs": [],
   "source": [
    "def example_function2() -> None:\n",
    "    \"\"\"Docstring.\n",
    "\n",
    "    >>> print('Here is a command')\n",
    "    Here is a command\n",
    "    \"\"\""
   ]
  },
  {
   "cell_type": "code",
   "execution_count": 23,
   "id": "ab775a04-31a6-43f6-9e23-74401c3b8d3c",
   "metadata": {},
   "outputs": [
    {
     "name": "stdout",
     "output_type": "stream",
     "text": [
      "Finding tests in NoName\n",
      "Trying:\n",
      "    print('Here is a command')\n",
      "Expecting:\n",
      "    Here is a command\n",
      "ok\n"
     ]
    }
   ],
   "source": [
    "# running doctests on a signle function\n",
    "doctest.run_docstring_examples(example_function2, globals(), verbose=True)"
   ]
  }
 ],
 "metadata": {
  "kernelspec": {
   "display_name": "Python 3 (ipykernel)",
   "language": "python",
   "name": "python3"
  },
  "language_info": {
   "codemirror_mode": {
    "name": "ipython",
    "version": 3
   },
   "file_extension": ".py",
   "mimetype": "text/x-python",
   "name": "python",
   "nbconvert_exporter": "python",
   "pygments_lexer": "ipython3",
   "version": "3.10.4"
  }
 },
 "nbformat": 4,
 "nbformat_minor": 5
}
