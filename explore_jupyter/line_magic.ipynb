{
 "cells": [
  {
   "cell_type": "markdown",
   "id": "c0d2c58a-df8f-43ff-bbc4-0a664d273db2",
   "metadata": {},
   "source": [
    "# Line magic"
   ]
  },
  {
   "cell_type": "markdown",
   "id": "064dcb1b-83c6-4a93-ba4f-8d694a7ec29a",
   "metadata": {},
   "source": [
    "Can be run from Python:"
   ]
  },
  {
   "cell_type": "code",
   "execution_count": 2,
   "id": "d4f841d3-d859-42a7-9921-2097a76c4fc5",
   "metadata": {},
   "outputs": [
    {
     "name": "stdout",
     "output_type": "stream",
     "text": [
      "Exception reporting mode: Verbose\n"
     ]
    }
   ],
   "source": [
    "get_ipython().run_line_magic('xmode', 'verbose')"
   ]
  },
  {
   "cell_type": "markdown",
   "id": "34e08fd0-ca3a-40f5-bd52-14899eca9730",
   "metadata": {},
   "source": [
    "same as:"
   ]
  },
  {
   "cell_type": "code",
   "execution_count": 3,
   "id": "e870e02e-9ea8-4413-b38b-a59d5065db55",
   "metadata": {},
   "outputs": [
    {
     "name": "stdout",
     "output_type": "stream",
     "text": [
      "Exception reporting mode: Verbose\n"
     ]
    }
   ],
   "source": [
    "%xmode verbose"
   ]
  }
 ],
 "metadata": {
  "kernelspec": {
   "display_name": "Python 3 (ipykernel)",
   "language": "python",
   "name": "python3"
  },
  "language_info": {
   "codemirror_mode": {
    "name": "ipython",
    "version": 3
   },
   "file_extension": ".py",
   "mimetype": "text/x-python",
   "name": "python",
   "nbconvert_exporter": "python",
   "pygments_lexer": "ipython3",
   "version": "3.10.4"
  }
 },
 "nbformat": 4,
 "nbformat_minor": 5
}
