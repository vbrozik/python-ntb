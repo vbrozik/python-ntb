{
 "cells": [
  {
   "cell_type": "markdown",
   "id": "099c5fbd-fc40-422f-85a0-818c77e083af",
   "metadata": {},
   "source": [
    "Execute the script:"
   ]
  },
  {
   "cell_type": "code",
   "execution_count": 1,
   "id": "a328a08c-1e46-44c2-9c42-551d812f25d0",
   "metadata": {
    "tags": []
   },
   "outputs": [
    {
     "name": "stdout",
     "output_type": "stream",
     "text": [
      "ahoj\n",
      "nazdar\n"
     ]
    }
   ],
   "source": [
    "%run insert_script.py"
   ]
  },
  {
   "cell_type": "markdown",
   "id": "0e42dc8d-0cf2-4123-bb3c-428363dabda6",
   "metadata": {},
   "source": [
    "Insert the script in the cell. After the insertion the cell magic line `%load ...` is automatically commented out."
   ]
  },
  {
   "cell_type": "code",
   "execution_count": 3,
   "id": "1adac3ee-f0de-4e66-87b4-5b603d715fcb",
   "metadata": {},
   "outputs": [
    {
     "name": "stdout",
     "output_type": "stream",
     "text": [
      "ahoj\n",
      "nazdar\n"
     ]
    }
   ],
   "source": [
    "# %load insert_script.py\n",
    "#!/usr/bin/env python\n",
    "\n",
    "print('ahoj')\n",
    "print('nazdar')\n"
   ]
  },
  {
   "cell_type": "markdown",
   "id": "f5ab2c52-9b07-439e-990d-0b10fed778f9",
   "metadata": {},
   "source": [
    "Scripts from the current directory can be imported as modules:"
   ]
  },
  {
   "cell_type": "code",
   "execution_count": 5,
   "id": "0280f65c-ddc4-46d0-9755-6e08d2856861",
   "metadata": {
    "tags": []
   },
   "outputs": [
    {
     "name": "stdout",
     "output_type": "stream",
     "text": [
      "ahoj\n",
      "nazdar\n"
     ]
    }
   ],
   "source": [
    "import insert_script"
   ]
  }
 ],
 "metadata": {
  "kernelspec": {
   "display_name": "Python 3 (ipykernel)",
   "language": "python",
   "name": "python3"
  },
  "language_info": {
   "codemirror_mode": {
    "name": "ipython",
    "version": 3
   },
   "file_extension": ".py",
   "mimetype": "text/x-python",
   "name": "python",
   "nbconvert_exporter": "python",
   "pygments_lexer": "ipython3",
   "version": "3.10.4"
  }
 },
 "nbformat": 4,
 "nbformat_minor": 5
}
