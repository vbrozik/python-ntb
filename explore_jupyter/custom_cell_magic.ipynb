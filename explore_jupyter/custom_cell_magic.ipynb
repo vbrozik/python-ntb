{
 "cells": [
  {
   "cell_type": "markdown",
   "id": "1dbdef86-314b-41eb-b823-8a3ba45e50c6",
   "metadata": {},
   "source": [
    "Below is an example of custom cell magic. Note that the return value of the cell's last command is not printed.\n",
    "* https://stackoverflow.com/a/54890975/320437"
   ]
  },
  {
   "cell_type": "code",
   "execution_count": 3,
   "id": "4d73b619-2ec8-4566-8697-c81fe3774e22",
   "metadata": {},
   "outputs": [],
   "source": [
    "import inspect\n",
    "import IPython\n",
    "from IPython.core.magic import Magics, magics_class, cell_magic\n",
    "\n",
    "\n",
    "@magics_class\n",
    "class CustomMagics(Magics):\n",
    "    @cell_magic\n",
    "    def custom_magics(self, line, cell):\n",
    "        \"\"\"Wrap a cell.\"\"\"\n",
    "        wrapper_name = inspect.currentframe().f_code.co_name\n",
    "        print(f'=== Entering {wrapper_name}')\n",
    "        print(f'=== {line = }')\n",
    "        print(f'=== {cell = }')\n",
    "        self.shell.ex(cell)  # This executes the cell in the current namespace\n",
    "        # NOTE: Not sure how to get the result of the cell's last expression. It is not the result of self.shell.ex().\n",
    "        print(f'=== Exiting {wrapper_name}')\n",
    "\n",
    "\n",
    "# Register\n",
    "ip = IPython.get_ipython().register_magics(CustomMagics)"
   ]
  },
  {
   "cell_type": "code",
   "execution_count": 4,
   "id": "313794b5-005e-4553-adf7-d6967ff48c64",
   "metadata": {
    "tags": []
   },
   "outputs": [
    {
     "name": "stdout",
     "output_type": "stream",
     "text": [
      "=== Entering custom_magics\n",
      "=== line = ''\n",
      "=== cell = \"print('inside cell')\\n5 ** 2   # the result will be lost\\n\"\n",
      "inside cell\n",
      "=== Exiting custom_magics\n"
     ]
    }
   ],
   "source": [
    "%%custom_magics\n",
    "print('inside cell')\n",
    "5 ** 2   # the result will be lost"
   ]
  },
  {
   "cell_type": "markdown",
   "id": "e1d19e30-25df-4d87-b3ca-134c890646f1",
   "metadata": {},
   "source": [
    "The cell below shows how a \"plugin\" module can register its custom cell magic.\n",
    "\n",
    "* `my_module/__init__.py` - the file with the activation code (the cell below)\n",
    "* `my_module/my_custom_magics.py` - definition of CustomMagics\n",
    "\n",
    "The \"plugin\" is activated using the magics `%load_ext my_module` where `my_module` is name of the module acessible from Jupyter.\n",
    "\n",
    "Source: [Jupyter: trick to run next cell even if previous cell fails](https://stackoverflow.com/a/57365710/320437)"
   ]
  },
  {
   "cell_type": "code",
   "execution_count": 8,
   "id": "b27f0059-04de-4e55-824b-720922e6bac5",
   "metadata": {
    "jp-MarkdownHeadingCollapsed": true,
    "tags": []
   },
   "outputs": [],
   "source": [
    "%%script --no-raise-error false   # Prevents the code execution\n",
    "\n",
    "from .my_custom_magics import CustomMagics\n",
    "\n",
    "def load_ipython_extension(ipython):\n",
    "    ipython.register_magics(CustomMagics)"
   ]
  }
 ],
 "metadata": {
  "kernelspec": {
   "display_name": "Python 3 (ipykernel)",
   "language": "python",
   "name": "python3"
  },
  "language_info": {
   "codemirror_mode": {
    "name": "ipython",
    "version": 3
   },
   "file_extension": ".py",
   "mimetype": "text/x-python",
   "name": "python",
   "nbconvert_exporter": "python",
   "pygments_lexer": "ipython3",
   "version": "3.10.4"
  }
 },
 "nbformat": 4,
 "nbformat_minor": 5
}
