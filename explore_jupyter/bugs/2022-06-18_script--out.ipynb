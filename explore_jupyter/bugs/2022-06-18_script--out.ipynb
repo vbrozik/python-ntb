{
 "cells": [
  {
   "cell_type": "markdown",
   "id": "4b94f69d-17ae-4f53-b0ea-4029dc1270c2",
   "metadata": {},
   "source": [
    "The cell magic `%%script command --out variable` stores just the last line of the output to the variable.\n",
    "* https://github.com/ipython/ipython/issues/13499\n",
    "  * %%bash --out only stores last line of output in output variable"
   ]
  },
  {
   "cell_type": "code",
   "execution_count": 13,
   "id": "4325cfed-218e-418e-a50e-3de898f1e01e",
   "metadata": {
    "tags": []
   },
   "outputs": [
    {
     "name": "stdout",
     "output_type": "stream",
     "text": [
      "2022-06-18\n",
      "Python 3.10.4\n",
      "Selected Jupyter core packages...\n",
      "IPython          : 8.4.0\n",
      "ipykernel        : 6.13.1\n",
      "ipywidgets       : 7.7.0\n",
      "jupyter_client   : 7.3.4\n",
      "jupyter_core     : 4.10.0\n",
      "jupyter_server   : 1.17.1\n",
      "jupyterlab       : 3.4.3\n",
      "nbclient         : 0.6.4\n",
      "nbconvert        : 6.5.0\n",
      "nbformat         : 5.4.0\n",
      "notebook         : 6.4.12\n",
      "qtconsole        : not installed\n",
      "traitlets        : 5.2.2\n"
     ]
    }
   ],
   "source": [
    "!date -I\n",
    "!python3 --version\n",
    "!jupyter --version"
   ]
  },
  {
   "cell_type": "raw",
   "id": "23ce94a3-31ff-4e31-bbcc-4d7478917990",
   "metadata": {},
   "source": [
    "# Manual copy of output from the cell above (better permanent storage procedure unknown)\n",
    "\n",
    "2022-06-18\n",
    "Python 3.10.4\n",
    "Selected Jupyter core packages...\n",
    "IPython          : 8.4.0\n",
    "ipykernel        : 6.13.1\n",
    "ipywidgets       : 7.7.0\n",
    "jupyter_client   : 7.3.4\n",
    "jupyter_core     : 4.10.0\n",
    "jupyter_server   : 1.17.1\n",
    "jupyterlab       : 3.4.3\n",
    "nbclient         : 0.6.4\n",
    "nbconvert        : 6.5.0\n",
    "nbformat         : 5.4.0\n",
    "notebook         : 6.4.12\n",
    "qtconsole        : not installed\n",
    "traitlets        : 5.2.2"
   ]
  },
  {
   "cell_type": "code",
   "execution_count": 14,
   "id": "0bb02651-b96c-4d0c-9d2c-42b6d19579bc",
   "metadata": {},
   "outputs": [],
   "source": [
    "%%script cat --out output1\n",
    "line 1\n",
    "line 2"
   ]
  },
  {
   "cell_type": "markdown",
   "id": "55e25782-a763-4c20-a092-9a6f7ca82613",
   "metadata": {},
   "source": [
    "**Problem:** `output1` contains only the last line (with newline at the end)"
   ]
  },
  {
   "cell_type": "code",
   "execution_count": 15,
   "id": "29ae137c-ea2b-47eb-bd6d-596bbb3bf7d2",
   "metadata": {},
   "outputs": [
    {
     "data": {
      "text/plain": [
       "'line 2\\n'"
      ]
     },
     "execution_count": 15,
     "metadata": {},
     "output_type": "execute_result"
    }
   ],
   "source": [
    "output1"
   ]
  },
  {
   "cell_type": "markdown",
   "id": "528742d1-2f19-4406-a01b-4039dfdbd772",
   "metadata": {},
   "source": [
    "Running on background works as expected"
   ]
  },
  {
   "cell_type": "code",
   "execution_count": 25,
   "id": "04b6edc5-a75d-4c4a-a4c7-6415278fe32d",
   "metadata": {
    "tags": []
   },
   "outputs": [],
   "source": [
    "%%script cat --bg --out output2_pipe\n",
    "line 1\n",
    "line 2\n",
    "Příliš žluťoučký kůň úpěl ďábelské ódy."
   ]
  },
  {
   "cell_type": "code",
   "execution_count": 26,
   "id": "b1b940a0-44e8-48c8-9bce-16f35d797750",
   "metadata": {},
   "outputs": [
    {
     "data": {
      "text/plain": [
       "'line 1\\nline 2\\nPříliš žluťoučký kůň úpěl ďábelské ódy.\\n'"
      ]
     },
     "execution_count": 26,
     "metadata": {},
     "output_type": "execute_result"
    }
   ],
   "source": [
    "output2 = str(await output2_pipe.read(), encoding='utf-8')\n",
    "output2"
   ]
  },
  {
   "cell_type": "raw",
   "id": "9b35ce96-d63a-41b6-b2b5-c41b715a1b1e",
   "metadata": {},
   "source": [
    "$ ipython\n",
    "Python 3.10.4 (main, Apr  2 2022, 09:04:19) [GCC 11.2.0]\n",
    "Type 'copyright', 'credits' or 'license' for more information\n",
    "IPython 8.4.0 -- An enhanced Interactive Python. Type '?' for help.\n",
    "\n",
    "In [1]: %%script cat --out output1\n",
    "   ...: line 1\n",
    "   ...: line 2\n",
    "   ...:\n",
    "   ...:\n",
    "\n",
    "In [2]: output1\n",
    "Out[2]: '\\n'\n",
    "\n",
    "In [3]: %%script cat --bg --out output2_pipe\n",
    "   ...: line 1\n",
    "   ...: line 2\n",
    "   ...: Příliš žluťoučký kůň úpěl ďábelské ódy.\n",
    "   ...:\n",
    "   ...:\n",
    "\n",
    "In [4]: output2 = str(await output2_pipe.read(), encoding='utf-8')\n",
    "   ...: output2\n",
    "Out[4]: 'line 1\\nline 2\\nPříliš žluťoučký kůň úpěl ďábelské ódy.\\n\\n'"
   ]
  }
 ],
 "metadata": {
  "kernelspec": {
   "display_name": "Python 3 (ipykernel)",
   "language": "python",
   "name": "python3"
  },
  "language_info": {
   "codemirror_mode": {
    "name": "ipython",
    "version": 3
   },
   "file_extension": ".py",
   "mimetype": "text/x-python",
   "name": "python",
   "nbconvert_exporter": "python",
   "pygments_lexer": "ipython3",
   "version": "3.10.4"
  }
 },
 "nbformat": 4,
 "nbformat_minor": 5
}
