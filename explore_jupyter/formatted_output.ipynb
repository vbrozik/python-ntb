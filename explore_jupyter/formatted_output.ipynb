{
 "cells": [
  {
   "cell_type": "markdown",
   "id": "53fd7d9b-30f3-4753-92fc-c576112e031c",
   "metadata": {},
   "source": [
    "# Formatted output"
   ]
  },
  {
   "cell_type": "markdown",
   "id": "82bbb9df-847f-4e62-8cd3-888f09283d44",
   "metadata": {},
   "source": [
    "The module [`IPython.display`](https://ipython.readthedocs.io/en/stable/api/generated/IPython.display.html) contains various rich format objects.\n",
    "You can either:\n",
    "\n",
    "a) put the object as the result of the last expression in the cell or\n",
    "\n",
    "b) you can explicitly give it to `IPython.display.display()`\n",
    "\n",
    "Description of supported formats: https://jupyterlab.readthedocs.io/en/stable/user/file_formats.html"
   ]
  },
  {
   "cell_type": "markdown",
   "id": "7c25d289-795c-469f-98e3-545d13aad310",
   "metadata": {},
   "source": [
    "## Tabular\n",
    "* https://stackoverflow.com/questions/35160256/how-do-i-output-lists-as-a-table-in-jupyter-notebook"
   ]
  },
  {
   "cell_type": "code",
   "execution_count": 15,
   "id": "af817bca-59a8-47bd-9b5b-51ad033b8dd4",
   "metadata": {},
   "outputs": [
    {
     "data": {
      "text/html": [
       "<table>\n",
       "<tr><td>item11</td><td>item12</td></tr>\n",
       "<tr><td>item21</td><td>item22</td></tr>\n",
       "</table>"
      ],
      "text/plain": [
       "<IPython.core.display.HTML object>"
      ]
     },
     "execution_count": 15,
     "metadata": {},
     "output_type": "execute_result"
    }
   ],
   "source": [
    "from IPython.display import HTML, display\n",
    "table = \"\"\"<table>\n",
    "<tr><td>item11</td><td>item12</td></tr>\n",
    "<tr><td>item21</td><td>item22</td></tr>\n",
    "</table>\"\"\"\n",
    "HTML(table)"
   ]
  },
  {
   "cell_type": "markdown",
   "id": "378b05a5-a8fc-4dcd-a5fd-8c82dba0a621",
   "metadata": {},
   "source": [
    "### Markdown\n",
    "* https://stackoverflow.com/questions/48655801/tables-in-markdown-in-jupyter"
   ]
  },
  {
   "cell_type": "code",
   "execution_count": 12,
   "id": "f77c0e77-480e-438f-bfc3-80da9968b4c5",
   "metadata": {},
   "outputs": [
    {
     "data": {
      "text/markdown": [
       "\n",
       "| Stretch/Untouched | ProbDistribution | Accuracy |\n",
       "| --- | --- | --- |\n",
       "| Stretched | Gaussian | .843 |\n"
      ],
      "text/plain": [
       "<IPython.core.display.Markdown object>"
      ]
     },
     "execution_count": 12,
     "metadata": {},
     "output_type": "execute_result"
    }
   ],
   "source": [
    "from IPython.display import Markdown\n",
    "\n",
    "markdown = \"\"\"\n",
    "| Stretch/Untouched | ProbDistribution | Accuracy |\n",
    "| --- | --- | --- |\n",
    "| Stretched | Gaussian | .843 |\n",
    "\"\"\"\n",
    "Markdown(markdown)"
   ]
  },
  {
   "cell_type": "markdown",
   "id": "d20373b1-f667-4513-98ca-41a7f05ff3db",
   "metadata": {},
   "source": [
    "## Extensions\n",
    "* Mito - spreadsheet\n",
    "  * https://docs.trymito.io/\n",
    "* pandas"
   ]
  }
 ],
 "metadata": {
  "kernelspec": {
   "display_name": "Python 3 (ipykernel)",
   "language": "python",
   "name": "python3"
  },
  "language_info": {
   "codemirror_mode": {
    "name": "ipython",
    "version": 3
   },
   "file_extension": ".py",
   "mimetype": "text/x-python",
   "name": "python",
   "nbconvert_exporter": "python",
   "pygments_lexer": "ipython3",
   "version": "3.10.4"
  }
 },
 "nbformat": 4,
 "nbformat_minor": 5
}
