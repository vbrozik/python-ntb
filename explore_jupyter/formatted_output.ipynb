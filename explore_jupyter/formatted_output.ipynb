{
 "cells": [
  {
   "cell_type": "markdown",
   "id": "53fd7d9b-30f3-4753-92fc-c576112e031c",
   "metadata": {},
   "source": [
    "# Formatted output"
   ]
  },
  {
   "cell_type": "markdown",
   "id": "82bbb9df-847f-4e62-8cd3-888f09283d44",
   "metadata": {},
   "source": [
    "The module [`IPython.display`](https://ipython.readthedocs.io/en/stable/api/generated/IPython.display.html) contains various rich format objects.\n",
    "You can either:\n",
    "\n",
    "a) put the object as the result of the last expression in the cell or\n",
    "\n",
    "b) you can explicitly give it to `IPython.display.display()`\n",
    "\n",
    "Description of supported formats: https://jupyterlab.readthedocs.io/en/stable/user/file_formats.html"
   ]
  },
  {
   "cell_type": "markdown",
   "id": "7c25d289-795c-469f-98e3-545d13aad310",
   "metadata": {},
   "source": [
    "## Tabular\n",
    "* https://stackoverflow.com/questions/35160256/how-do-i-output-lists-as-a-table-in-jupyter-notebook"
   ]
  },
  {
   "cell_type": "code",
   "execution_count": 15,
   "id": "af817bca-59a8-47bd-9b5b-51ad033b8dd4",
   "metadata": {},
   "outputs": [
    {
     "data": {
      "text/html": [
       "<table>\n",
       "<tr><td>item11</td><td>item12</td></tr>\n",
       "<tr><td>item21</td><td>item22</td></tr>\n",
       "</table>"
      ],
      "text/plain": [
       "<IPython.core.display.HTML object>"
      ]
     },
     "execution_count": 15,
     "metadata": {},
     "output_type": "execute_result"
    }
   ],
   "source": [
    "from IPython.display import HTML, display\n",
    "table = \"\"\"<table>\n",
    "<tr><td>item11</td><td>item12</td></tr>\n",
    "<tr><td>item21</td><td>item22</td></tr>\n",
    "</table>\"\"\"\n",
    "HTML(table)"
   ]
  },
  {
   "cell_type": "markdown",
   "id": "378b05a5-a8fc-4dcd-a5fd-8c82dba0a621",
   "metadata": {},
   "source": [
    "### Markdown\n",
    "* https://stackoverflow.com/questions/48655801/tables-in-markdown-in-jupyter"
   ]
  },
  {
   "cell_type": "code",
   "execution_count": 3,
   "id": "f77c0e77-480e-438f-bfc3-80da9968b4c5",
   "metadata": {},
   "outputs": [
    {
     "data": {
      "text/markdown": [
       "\n",
       "| Stretch/Untouched | ProbDistribution | Accuracy |\n",
       "| --- | --- | --- |\n",
       "| Stretched | Gaussian | .843 |\n"
      ],
      "text/plain": [
       "<IPython.core.display.Markdown object>"
      ]
     },
     "execution_count": 3,
     "metadata": {},
     "output_type": "execute_result"
    }
   ],
   "source": [
    "from IPython.display import Markdown\n",
    "\n",
    "markdown = \"\"\"\n",
    "| Stretch/Untouched | ProbDistribution | Accuracy |\n",
    "| --- | --- | --- |\n",
    "| Stretched | Gaussian | .843 |\n",
    "\"\"\"\n",
    "Markdown(markdown)"
   ]
  },
  {
   "cell_type": "code",
   "execution_count": 1,
   "id": "9e16ce0c-89c1-437e-861c-34682220271e",
   "metadata": {},
   "outputs": [],
   "source": [
    "def ipy_table(iterable):\n",
    "    lines = ['||', '|--|']\n",
    "    for item in iterable:\n",
    "        lines.append(f'| `{item}` |')\n",
    "    # return '\\n'.join(lines)\n",
    "    return Markdown('\\n'.join(lines))"
   ]
  },
  {
   "cell_type": "code",
   "execution_count": 4,
   "id": "1b7c7174-20dc-4d2a-925b-313f11448ef5",
   "metadata": {},
   "outputs": [
    {
     "data": {
      "text/markdown": [
       "||\n",
       "|--|\n",
       "| `0` |\n",
       "| `1` |\n",
       "| `2` |"
      ],
      "text/plain": [
       "<IPython.core.display.Markdown object>"
      ]
     },
     "execution_count": 4,
     "metadata": {},
     "output_type": "execute_result"
    }
   ],
   "source": [
    "ipy_table(range(3))"
   ]
  },
  {
   "cell_type": "markdown",
   "id": "b19c4108-456d-4701-895a-ccb81d2f2acb",
   "metadata": {},
   "source": [
    "### Pretty print"
   ]
  },
  {
   "cell_type": "code",
   "execution_count": 9,
   "id": "342e64dd-f236-4715-bd65-3af6a5af2542",
   "metadata": {},
   "outputs": [],
   "source": [
    "from IPython.lib.pretty import pprint"
   ]
  },
  {
   "cell_type": "code",
   "execution_count": 11,
   "id": "8636ee23-99b5-4f7b-91a6-b360b134926b",
   "metadata": {},
   "outputs": [
    {
     "name": "stdout",
     "output_type": "stream",
     "text": [
      "[0,\n",
      " 1,\n",
      " 2,\n",
      " 3,\n",
      " 4]\n"
     ]
    }
   ],
   "source": [
    "pprint(list(range(5)), max_width=10)"
   ]
  },
  {
   "cell_type": "markdown",
   "id": "d20373b1-f667-4513-98ca-41a7f05ff3db",
   "metadata": {
    "tags": []
   },
   "source": [
    "## Extensions\n",
    "* Mito - spreadsheet\n",
    "  * https://docs.trymito.io/\n",
    "* pandas"
   ]
  },
  {
   "cell_type": "markdown",
   "id": "918647b7-637b-497e-b364-75c756eeb269",
   "metadata": {},
   "source": [
    "## Parameters"
   ]
  },
  {
   "cell_type": "code",
   "execution_count": 6,
   "id": "55465cb4-62da-4c83-81ab-b0a94a2ef811",
   "metadata": {},
   "outputs": [],
   "source": [
    "# This does not seem to work:\n",
    "%config PlainTextFormatter.max_width = 20"
   ]
  },
  {
   "cell_type": "code",
   "execution_count": 8,
   "id": "34139a66-b03e-47d3-88e6-63844fea284f",
   "metadata": {},
   "outputs": [
    {
     "name": "stdout",
     "output_type": "stream",
     "text": [
      "DisplayFormatter(Configurable) options\n",
      "------------------------------------\n",
      "DisplayFormatter.active_types=<list-item-1>...\n",
      "    List of currently active mime-types to display.\n",
      "            You can use this to set a white-list for formats to display.\n",
      "            Most users will not need to change this value.\n",
      "    Current: ['text/plain', 'text/html', 'text/markdown', 'image/svg+xml', 'image/png', 'application/pdf', 'image/jpeg', 'text/latex', 'application/json', 'application/javascript']\n"
     ]
    }
   ],
   "source": [
    "%config DisplayFormatter"
   ]
  }
 ],
 "metadata": {
  "kernelspec": {
   "display_name": "Python 3 (ipykernel)",
   "language": "python",
   "name": "python3"
  },
  "language_info": {
   "codemirror_mode": {
    "name": "ipython",
    "version": 3
   },
   "file_extension": ".py",
   "mimetype": "text/x-python",
   "name": "python",
   "nbconvert_exporter": "python",
   "pygments_lexer": "ipython3",
   "version": "3.10.4"
  }
 },
 "nbformat": 4,
 "nbformat_minor": 5
}
