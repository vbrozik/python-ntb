{
 "cells": [
  {
   "cell_type": "markdown",
   "id": "6be0dbec-5367-46a2-a301-b4bed1a54d3c",
   "metadata": {},
   "source": [
    "# Jupyter cell tags\n",
    "\n",
    "Cells in Jupyter notebooks have metadata which include tags. How to set cell tags? Select the cell. Open *Property Inspector* (right sidebar). Add the tag there in the section *Cell Tags*. The cell below has this tag set.\n",
    "* [Jupyter Notebook 5.0](https://blog.jupyter.org/jupyter-notebook-5-0-909c6c172d78#1754) 2017\n"
   ]
  },
  {
   "cell_type": "markdown",
   "id": "ae8db00e-d76d-4161-a1a3-3bb487dcb929",
   "metadata": {},
   "source": [
    "## List of supported tags\n",
    "\n",
    "* `raises-exception`\n",
    "  * The cell is expected to rase an exception. When this happens, the execution of multiple cells does not stop but continues on the next cell.\n",
    "* `hide-input`\n",
    "* `hide-output`\n",
    "* `hide-cell`\n",
    "  * FIXME: test\n",
    "  * Probably only Jupyter Book https://jupyterbook.org/en/stable/interactive/hiding.html"
   ]
  },
  {
   "cell_type": "markdown",
   "id": "4b27348e-d263-428c-94e1-0ffea6270d58",
   "metadata": {
    "tags": []
   },
   "source": [
    "## Examples"
   ]
  },
  {
   "cell_type": "code",
   "execution_count": 1,
   "id": "067a7615-ae97-4d3e-ac4d-b6a94258b3e2",
   "metadata": {
    "tags": [
     "raises-exception"
    ]
   },
   "outputs": [
    {
     "ename": "AssertionError",
     "evalue": "",
     "output_type": "error",
     "traceback": [
      "\u001b[0;31m---------------------------------------------------------------------------\u001b[0m",
      "\u001b[0;31mAssertionError\u001b[0m                            Traceback (most recent call last)",
      "Input \u001b[0;32mIn [1]\u001b[0m, in \u001b[0;36m<cell line: 3>\u001b[0;34m()\u001b[0m\n\u001b[1;32m      1\u001b[0m \u001b[38;5;66;03m# raises-exception\u001b[39;00m\n\u001b[1;32m      2\u001b[0m \u001b[38;5;66;03m# This cell has tag `raises-exception`. Execution continues after this cell when an exception is raised.\u001b[39;00m\n\u001b[0;32m----> 3\u001b[0m \u001b[38;5;28;01massert\u001b[39;00m \u001b[38;5;28;01mFalse\u001b[39;00m\n",
      "\u001b[0;31mAssertionError\u001b[0m: "
     ]
    }
   ],
   "source": [
    "# raises-exception\n",
    "# This cell has tag `raises-exception`. Execution continues after this cell when an exception is raised.\n",
    "assert False"
   ]
  }
 ],
 "metadata": {
  "kernelspec": {
   "display_name": "Python 3 (ipykernel)",
   "language": "python",
   "name": "python3"
  },
  "language_info": {
   "codemirror_mode": {
    "name": "ipython",
    "version": 3
   },
   "file_extension": ".py",
   "mimetype": "text/x-python",
   "name": "python",
   "nbconvert_exporter": "python",
   "pygments_lexer": "ipython3",
   "version": "3.10.4"
  }
 },
 "nbformat": 4,
 "nbformat_minor": 5
}
