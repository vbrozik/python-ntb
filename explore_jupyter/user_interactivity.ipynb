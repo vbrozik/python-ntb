{
 "cells": [
  {
   "cell_type": "markdown",
   "id": "516e66f0-447c-4d51-91d1-c0e6d4bb7089",
   "metadata": {},
   "source": [
    "## Plain Jupyter"
   ]
  },
  {
   "cell_type": "code",
   "execution_count": 8,
   "id": "60808743-76ae-4e11-9a65-082757306128",
   "metadata": {
    "tags": []
   },
   "outputs": [
    {
     "name": "stdin",
     "output_type": "stream",
     "text": [
      "Enter some text: sdfsdf\n"
     ]
    },
    {
     "data": {
      "text/plain": [
       "'sdfsdf'"
      ]
     },
     "execution_count": 8,
     "metadata": {},
     "output_type": "execute_result"
    }
   ],
   "source": [
    "input('Enter some text:')"
   ]
  },
  {
   "cell_type": "markdown",
   "id": "3c61c6e0-2f6f-49c9-a6fb-0e33c3f56b57",
   "metadata": {},
   "source": [
    "The `input()` function is redefined in Jupyter."
   ]
  },
  {
   "cell_type": "code",
   "execution_count": 22,
   "id": "c775c7ee-b301-4e05-9a5a-850507be8dab",
   "metadata": {},
   "outputs": [
    {
     "data": {
      "text/plain": [
       "\"Forward raw_input to frontends\\n\\n        Raises\\n        ------\\n        StdinNotImplementedError if active frontend doesn't support stdin.\\n        \""
      ]
     },
     "execution_count": 22,
     "metadata": {},
     "output_type": "execute_result"
    }
   ],
   "source": [
    "input.__doc__"
   ]
  },
  {
   "cell_type": "markdown",
   "id": "e6ec212b-1f89-47e5-91d9-7d669b7ad72e",
   "metadata": {},
   "source": [
    "## IPyWidgets"
   ]
  },
  {
   "cell_type": "code",
   "execution_count": null,
   "id": "a11c0c7e-6ecb-4b54-916a-7110358f468f",
   "metadata": {},
   "outputs": [],
   "source": [
    "import ipywidgets as widgets"
   ]
  },
  {
   "cell_type": "code",
   "execution_count": 13,
   "id": "c2ab4924-3bb2-4d65-810f-94842ea2bedd",
   "metadata": {},
   "outputs": [
    {
     "data": {
      "application/vnd.jupyter.widget-view+json": {
       "model_id": "",
       "version_major": 2,
       "version_minor": 0
      },
      "text/plain": [
       "Text(value='Hello World', description='String:', placeholder='Type something')"
      ]
     },
     "metadata": {},
     "output_type": "display_data"
    }
   ],
   "source": [
    "t = widgets.Text(\n",
    "    value='Hello World',\n",
    "    placeholder='Type something',\n",
    "    description='String:',\n",
    "    disabled=False\n",
    ")\n",
    "\n",
    "def on_enter():\n",
    "    print('enter key pressed')\n",
    "\n",
    "t.on_submit(on_enter)   # does not seem to do anything\n",
    "t"
   ]
  },
  {
   "cell_type": "code",
   "execution_count": 10,
   "id": "459bb661-a83c-4401-bd9b-f64c06011440",
   "metadata": {},
   "outputs": [
    {
     "data": {
      "application/vnd.jupyter.widget-view+json": {
       "model_id": "",
       "version_major": 2,
       "version_minor": 0
      },
      "text/plain": [
       "IntSlider(value=0)"
      ]
     },
     "metadata": {},
     "output_type": "display_data"
    }
   ],
   "source": [
    "widgets.IntSlider()"
   ]
  },
  {
   "cell_type": "code",
   "execution_count": 14,
   "id": "a8b5ff57-d665-4328-81dc-d29befa7be10",
   "metadata": {},
   "outputs": [
    {
     "data": {
      "application/vnd.jupyter.widget-view+json": {
       "model_id": "",
       "version_major": 2,
       "version_minor": 0
      },
      "text/plain": [
       "Button(description='Click Me!', style=ButtonStyle())"
      ]
     },
     "metadata": {},
     "output_type": "display_data"
    },
    {
     "data": {
      "application/vnd.jupyter.widget-view+json": {
       "model_id": "",
       "version_major": 2,
       "version_minor": 0
      },
      "text/plain": [
       "Output()"
      ]
     },
     "metadata": {},
     "output_type": "display_data"
    }
   ],
   "source": [
    "# example from documentation\n",
    "from IPython.display import display\n",
    "button = widgets.Button(description=\"Click Me!\")\n",
    "output = widgets.Output()\n",
    "\n",
    "display(button, output)\n",
    "\n",
    "def on_button_clicked(b):\n",
    "    with output:\n",
    "        print(\"Button clicked.\")\n",
    "\n",
    "button.on_click(on_button_clicked)"
   ]
  }
 ],
 "metadata": {
  "kernelspec": {
   "display_name": "Python 3 (ipykernel)",
   "language": "python",
   "name": "python3"
  },
  "language_info": {
   "codemirror_mode": {
    "name": "ipython",
    "version": 3
   },
   "file_extension": ".py",
   "mimetype": "text/x-python",
   "name": "python",
   "nbconvert_exporter": "python",
   "pygments_lexer": "ipython3",
   "version": "3.10.4"
  }
 },
 "nbformat": 4,
 "nbformat_minor": 5
}
