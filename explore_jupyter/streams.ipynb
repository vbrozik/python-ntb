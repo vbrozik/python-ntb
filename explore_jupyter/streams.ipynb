{
 "cells": [
  {
   "cell_type": "markdown",
   "id": "5f4994c9-2534-4e9f-8bab-e4b5da215f67",
   "metadata": {},
   "source": [
    "# File streams and descriptors\n",
    "* See also: [Problem buffering](problem_stream_buffering.ipynb)"
   ]
  },
  {
   "cell_type": "code",
   "execution_count": 1,
   "id": "774b5d33-4d75-4f4f-ae8a-dce109062505",
   "metadata": {},
   "outputs": [],
   "source": [
    "import sys\n",
    "import os"
   ]
  },
  {
   "cell_type": "code",
   "execution_count": 8,
   "id": "be45cbe6-869c-4e1f-a0ee-8848fa822e16",
   "metadata": {},
   "outputs": [
    {
     "name": "stdout",
     "output_type": "stream",
     "text": [
      "This was sent to sys.stdout\n"
     ]
    },
    {
     "name": "stderr",
     "output_type": "stream",
     "text": [
      "This was sent to sys.stderr\n"
     ]
    }
   ],
   "source": [
    "# stdout strean goes only to the notebook\n",
    "print('This was sent to sys.stdout', file=sys.stdout)\n",
    "print('This was sent to sys.stderr', file=sys.stderr)"
   ]
  },
  {
   "cell_type": "code",
   "execution_count": 7,
   "id": "7730511d-c3b1-4ad3-ac4b-08a93b36f3ee",
   "metadata": {},
   "outputs": [
    {
     "name": "stdout",
     "output_type": "stream",
     "text": [
      "This was sent to file descriptor 1.\n"
     ]
    },
    {
     "name": "stderr",
     "output_type": "stream",
     "text": [
      "This was sent to file descriptor 2.\n"
     ]
    }
   ],
   "source": [
    "# file descriptors go both to the notebook and the terminal Jupyter server is running in\n",
    "os.write(1, b'This was sent to file descriptor 1.\\n')\n",
    "os.write(2, b'This was sent to file descriptor 2.\\n')\n",
    "pass"
   ]
  }
 ],
 "metadata": {
  "kernelspec": {
   "display_name": "Python 3 (ipykernel)",
   "language": "python",
   "name": "python3"
  },
  "language_info": {
   "codemirror_mode": {
    "name": "ipython",
    "version": 3
   },
   "file_extension": ".py",
   "mimetype": "text/x-python",
   "name": "python",
   "nbconvert_exporter": "python",
   "pygments_lexer": "ipython3",
   "version": "3.10.4"
  }
 },
 "nbformat": 4,
 "nbformat_minor": 5
}
