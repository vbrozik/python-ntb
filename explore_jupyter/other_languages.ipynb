{
 "cells": [
  {
   "cell_type": "markdown",
   "id": "22ed8306-74b1-48b2-9d9d-5b5a30ec3266",
   "metadata": {},
   "source": [
    "# Other languages inside a notebook"
   ]
  },
  {
   "cell_type": "code",
   "execution_count": 2,
   "id": "2b86995a-8871-415f-97e8-2a376b8c8997",
   "metadata": {},
   "outputs": [
    {
     "name": "stdout",
     "output_type": "stream",
     "text": [
      "1\n",
      "2\n",
      "3\n"
     ]
    }
   ],
   "source": [
    "%%bash\n",
    "\n",
    "for a in $(seq 3) ; do\n",
    "    printf %s\\\\n \"$a\"\n",
    "done"
   ]
  },
  {
   "cell_type": "code",
   "execution_count": 3,
   "id": "58903eab-9bbc-499a-8181-16e0a7faab9c",
   "metadata": {},
   "outputs": [
    {
     "data": {
      "text/plain": [
       "['/home/vbrozik/dev/python-ntb/explore/jupyter']"
      ]
     },
     "execution_count": 3,
     "metadata": {},
     "output_type": "execute_result"
    }
   ],
   "source": [
    "working_directory = !pwd\n",
    "working_directory"
   ]
  },
  {
   "cell_type": "code",
   "execution_count": 4,
   "id": "bd0b9c5c-2153-46cf-bd82-2417c1242fdb",
   "metadata": {},
   "outputs": [
    {
     "data": {
      "text/plain": [
       "['JupyterLab_UI.ipynb',\n",
       " '__pycache__',\n",
       " 'cell_tags.ipynb',\n",
       " 'custom_cell_magic.ipynb',\n",
       " 'data_sharing.ipynb',\n",
       " 'exceptions.ipynb',\n",
       " 'howto_cell_behaviour.ipynb',\n",
       " 'insert_python.ipynb',\n",
       " 'insert_script.py',\n",
       " 'other_languages.ipynb',\n",
       " 'problem_stream_buffering.ipynb',\n",
       " 'user_interactivity.ipynb']"
      ]
     },
     "execution_count": 4,
     "metadata": {},
     "output_type": "execute_result"
    }
   ],
   "source": [
    "file_names = !ls\n",
    "file_names"
   ]
  }
 ],
 "metadata": {
  "kernelspec": {
   "display_name": "Python 3 (ipykernel)",
   "language": "python",
   "name": "python3"
  },
  "language_info": {
   "codemirror_mode": {
    "name": "ipython",
    "version": 3
   },
   "file_extension": ".py",
   "mimetype": "text/x-python",
   "name": "python",
   "nbconvert_exporter": "python",
   "pygments_lexer": "ipython3",
   "version": "3.10.4"
  }
 },
 "nbformat": 4,
 "nbformat_minor": 5
}
