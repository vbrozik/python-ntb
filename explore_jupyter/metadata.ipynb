{
 "cells": [
  {
   "cell_type": "markdown",
   "id": "01d69f52-5f2a-4f8e-b1db-4aac0a3f27b6",
   "metadata": {},
   "source": [
    "## Cell metadata"
   ]
  },
  {
   "cell_type": "markdown",
   "id": "7abf3519-f5a1-4382-8972-7af685b5943e",
   "metadata": {},
   "source": [
    "* `\"editable\": true|false` --- prevent cell editing, cell can be still executed and output is cleared on execution\n",
    "* `\"deltable\": true|false` --- prevents cell deletion (output is still cleared)\n",
    "* `\"trusted\": true|false`"
   ]
  }
 ],
 "metadata": {
  "kernelspec": {
   "display_name": "Python 3 (ipykernel)",
   "language": "python",
   "name": "python3"
  },
  "language_info": {
   "codemirror_mode": {
    "name": "ipython",
    "version": 3
   },
   "file_extension": ".py",
   "mimetype": "text/x-python",
   "name": "python",
   "nbconvert_exporter": "python",
   "pygments_lexer": "ipython3",
   "version": "3.10.4"
  }
 },
 "nbformat": 4,
 "nbformat_minor": 5
}
