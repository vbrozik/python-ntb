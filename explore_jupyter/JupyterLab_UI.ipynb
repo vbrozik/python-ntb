{
 "cells": [
  {
   "cell_type": "markdown",
   "id": "8d4cff92-2e98-4ab0-829a-194e2d6ea3c1",
   "metadata": {},
   "source": [
    "# JupyterLab User Interface"
   ]
  },
  {
   "cell_type": "markdown",
   "id": "f7543f09-1ba6-4d45-bcf4-85ced94ece2c",
   "metadata": {},
   "source": [
    "## Keyboard shortcuts - Editor\n",
    "\n",
    "* Shift + Tab - show docstring\n",
    "\n",
    "* Unknown\n",
    "  * indent after text (Tab always indents beginning of the line)"
   ]
  },
  {
   "cell_type": "markdown",
   "id": "e0e3b868-32dd-4e64-9ba5-1d78a2abff3a",
   "metadata": {},
   "source": [
    "## Keyboard shortcuts - Cells\n",
    "\n",
    "* `a` - insert cell above\n",
    "* `b` - insert cell below\n",
    "* c\n",
    "* v\n",
    "* dd or x\n",
    "\n",
    "* m"
   ]
  },
  {
   "cell_type": "markdown",
   "id": "cb82d9ba-a987-4fd2-848d-ebb376f74db8",
   "metadata": {},
   "source": [
    "## Cell output"
   ]
  },
  {
   "cell_type": "markdown",
   "id": "dbc1776a-3d53-442d-a19c-96a779eb122e",
   "metadata": {},
   "source": [
    "JupyterLab shows `repr()` of the last expression forming a command in the cell if it is not `None`. To suppress this output, add `;` at the end or add either a non-expression command or an expression resulting in `None`."
   ]
  },
  {
   "cell_type": "code",
   "execution_count": 14,
   "id": "76728483-4d39-4e05-b9f0-10f6af5d1729",
   "metadata": {},
   "outputs": [
    {
     "data": {
      "text/plain": [
       "'This will be shown.'"
      ]
     },
     "execution_count": 14,
     "metadata": {},
     "output_type": "execute_result"
    }
   ],
   "source": [
    "'This will be shown.'"
   ]
  },
  {
   "cell_type": "code",
   "execution_count": 16,
   "id": "9769a67f-d217-4eca-a9cb-040e9aeeb062",
   "metadata": {},
   "outputs": [],
   "source": [
    "'This will not be shown.' ;"
   ]
  },
  {
   "cell_type": "code",
   "execution_count": 17,
   "id": "c966071d-3d09-4355-b6b1-45c7aab84cf8",
   "metadata": {},
   "outputs": [],
   "source": [
    "'This will not be shown.'\n",
    "pass"
   ]
  },
  {
   "cell_type": "code",
   "execution_count": 18,
   "id": "83a33a77-4491-4331-9a2f-ac26200bdf16",
   "metadata": {},
   "outputs": [],
   "source": [
    "'This will not be shown.'\n",
    "None"
   ]
  }
 ],
 "metadata": {
  "kernelspec": {
   "display_name": "Python 3 (ipykernel)",
   "language": "python",
   "name": "python3"
  },
  "language_info": {
   "codemirror_mode": {
    "name": "ipython",
    "version": 3
   },
   "file_extension": ".py",
   "mimetype": "text/x-python",
   "name": "python",
   "nbconvert_exporter": "python",
   "pygments_lexer": "ipython3",
   "version": "3.10.4"
  }
 },
 "nbformat": 4,
 "nbformat_minor": 5
}
