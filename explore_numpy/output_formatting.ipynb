{
 "cells": [
  {
   "cell_type": "code",
   "execution_count": null,
   "id": "70f7a31a-1cc2-460d-8c02-3b02426669e6",
   "metadata": {},
   "outputs": [],
   "source": [
    "import numpy as np"
   ]
  },
  {
   "cell_type": "markdown",
   "id": "c5e4e74d-f543-415e-8e17-2930032498d9",
   "metadata": {},
   "source": [
    "* https://numpy.org/doc/stable/reference/generated/numpy.set_printoptions.html\n",
    "* https://stackoverflow.com/questions/2891790/how-to-pretty-print-a-numpy-array-without-scientific-notation-and-with-given-pre\n",
    "* https://stackoverflow.com/questions/22222818/how-to-printing-numpy-array-with-3-decimal-places"
   ]
  },
  {
   "cell_type": "code",
   "execution_count": null,
   "id": "f85ebc60-4132-4bf2-bc82-e4be3bd56d5e",
   "metadata": {},
   "outputs": [],
   "source": [
    "# output formatting\n",
    "LINE_WIDTH = 160\n",
    "DECIMALS = 3\n",
    "\n",
    "FORMATTER = {\n",
    "    # \"float\": lambda x: format(x, f\".{DECIMALS}f\"),\n",
    "    \"float\": f\"{{:.{DECIMALS}f}}\".format,\n",
    "}\n",
    "np.set_printoptions(formatter=FORMATTER, linewidth=LINE_WIDTH)"
   ]
  }
 ],
 "metadata": {
  "kernelspec": {
   "display_name": "Python 3 (ipykernel)",
   "language": "python",
   "name": "python3"
  },
  "language_info": {
   "codemirror_mode": {
    "name": "ipython",
    "version": 3
   },
   "file_extension": ".py",
   "mimetype": "text/x-python",
   "name": "python",
   "nbconvert_exporter": "python",
   "pygments_lexer": "ipython3",
   "version": "3.10.4"
  }
 },
 "nbformat": 4,
 "nbformat_minor": 5
}
