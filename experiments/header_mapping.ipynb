{
 "cells": [
  {
   "cell_type": "markdown",
   "id": "e2467266",
   "metadata": {},
   "source": [
    "# Map shortened headers to full headers\n",
    "\n",
    "The following experimental code attempts to automatically map shortened headers to full headers. It is based on the assumption that the shortened headers are unique and that the full headers are unique. The code uses Levenshtein distance with added weights to find the best match between the shortened headers and the full headers.\n",
    "\n",
    "The weights are added by modifying the original strings by multiplying the number of characters having higher weight."
   ]
  },
  {
   "cell_type": "code",
   "execution_count": 1,
   "id": "62538d2b-9924-40f5-90bc-81fada5bd725",
   "metadata": {},
   "outputs": [],
   "source": [
    "from itertools import permutations\n",
    "\n",
    "import Levenshtein"
   ]
  },
  {
   "cell_type": "code",
   "execution_count": 2,
   "id": "a89189dc",
   "metadata": {},
   "outputs": [],
   "source": [
    "def multiply_characters_at_beginning(string: str, n: int = 3) -> str:\n",
    "    \"\"\"Multiply the first n characters of a string by n + 1 - index.\"\"\"\n",
    "    multiplied_start = ''.join(\n",
    "        character * (n - index + 1)\n",
    "        for index, character in enumerate(string[:n])\n",
    "    )\n",
    "    return multiplied_start + string[n:]\n",
    "\n",
    "\n",
    "def multiply_consonants(string: str, n: int = 2) -> str:\n",
    "    \"\"\"Multiply consonants in a string by n.\"\"\"\n",
    "    for consonant in 'bcdfghjklmnpqrstvwxz':\n",
    "        string = string.replace(consonant, consonant * n)\n",
    "    return string\n",
    "\n",
    "\n",
    "def remove_repeated_separators(string: str, separators: str = ' ,;.:-_|') -> str:\n",
    "    \"\"\"Remove repeated separators in a string.\"\"\"\n",
    "    for separator in separators:\n",
    "        while True:\n",
    "            string_replaced = string.replace(separator * 2, separator)\n",
    "            if string_replaced == string:\n",
    "                break\n",
    "            string = string_replaced\n",
    "    return string\n",
    "\n",
    "\n",
    "def normalize_str(string: str) -> str:\n",
    "    \"\"\"Transform a string to a normalized form later used for mapping using Levenshtein distance.\"\"\"\n",
    "    string_normalized = string.strip().lower()\n",
    "    string_normalized = remove_repeated_separators(string_normalized)\n",
    "    string_normalized = multiply_characters_at_beginning(string_normalized)\n",
    "    string_normalized = multiply_consonants(string_normalized)\n",
    "    return string_normalized\n",
    "\n",
    "\n",
    "def map_strings(source: list[str], destination: list[str]) -> dict[str, str]:\n",
    "    \"\"\"Map from source to destination list with minimum Levenshtein distance.\"\"\"\n",
    "    min_distance = float('inf')\n",
    "    min_mapping = None\n",
    "    source_normalized = [normalize_str(string) for string in source]\n",
    "    destination_normalized = [normalize_str(string) for string in destination]\n",
    "    filler = [None] * abs(len(source_normalized) - len(destination_normalized))\n",
    "    print(source_normalized)\n",
    "    print(destination_normalized)\n",
    "    if len(destination_normalized) < len(source_normalized):\n",
    "        destination_normalized += filler\n",
    "    for permutation in permutations(\n",
    "            range(len(destination_normalized)), len(source_normalized)):\n",
    "        distance = sum(\n",
    "            0 if destination_normalized[permutation[i]] is None\n",
    "            else Levenshtein.distance(\n",
    "                source_normalized[i],\n",
    "                destination_normalized[permutation[i]])\n",
    "            for i in range(len(source_normalized))\n",
    "        )\n",
    "        if distance < min_distance:\n",
    "            min_distance = distance\n",
    "            min_mapping = permutation\n",
    "    return {\n",
    "        source[i]: (destination + filler)[min_mapping[i]]\n",
    "        for i in range(len(source))\n",
    "    }"
   ]
  },
  {
   "cell_type": "code",
   "execution_count": 3,
   "id": "8552cc4e",
   "metadata": {},
   "outputs": [
    {
     "name": "stdout",
     "output_type": "stream",
     "text": [
      "['pppppppprrrrrrtttt', 'pppppppprrrrrrttttccll', 'ssssssssrrrrrrcccc', 'ddddddddsssssstttt']\n",
      "['ssssssssooouurrcce', 'ddddddddeeessssttinnattionn', 'pppppppprrrrrroottoccoll', 'ppppppppooorrrrtt', 'aaaacccccctttt-ionn']\n"
     ]
    },
    {
     "data": {
      "text/plain": [
       "{'prt': 'Port', 'prtcl': 'Protocol', 'src': 'Source', 'dst': 'Destination'}"
      ]
     },
     "execution_count": 3,
     "metadata": {},
     "output_type": "execute_result"
    }
   ],
   "source": [
    "map_strings(\n",
    "    ['prt', 'prtcl', 'src', 'dst'],\n",
    "    ['Source', 'Destination', 'Protocol', 'Port', 'Act---ion']\n",
    "    )"
   ]
  }
 ],
 "metadata": {
  "kernelspec": {
   "display_name": "Python 3 (ipykernel)",
   "language": "python",
   "name": "python3"
  },
  "language_info": {
   "codemirror_mode": {
    "name": "ipython",
    "version": 3
   },
   "file_extension": ".py",
   "mimetype": "text/x-python",
   "name": "python",
   "nbconvert_exporter": "python",
   "pygments_lexer": "ipython3",
   "version": "3.10.12"
  }
 },
 "nbformat": 4,
 "nbformat_minor": 5
}
