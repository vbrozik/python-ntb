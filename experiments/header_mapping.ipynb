       string_replaced = string.replace(separator * 2, separator)
      string_replaced == string:
           break
       string = string_replaced
eturn string
    )



tring_normalized = remove_repeated_separators(string_nor
    lsmalized = multiply_characters_at_beginigs
tring_normalized = multiply_consonants(strin
        string = string.replace(consonanto
    return string


""Map from source to destination list with minimum Levenshtein distance."""
    mce = float('inf')
in_mapping = None
ource_normalized = 
estination_normalized = [create_wighted_str(string) for string in dest
iller = [None] * abs(len(source_normalize
rint(source_normalize
rint(destination_normalized)
    return string


def create_weightedlen(destination_normalize
   distance = sum(
       0 if destination_normalized[permutation[i]] is None
       else Levenshtein.distance(
           source_normalized[i],
           destination_norma


   if distance < min_distance:
     n_distance = distance
       min_mapping = permutatio
eturn {
   source[i]: (destinatiocreate_weighted_str(string) for string in source]
    destination_n + filled = [create_weighted_str(string) for string in destination





    for permutation in permutations(
            range(len(destination_normalized)) len(source






        )





        for i in range(len(source))
