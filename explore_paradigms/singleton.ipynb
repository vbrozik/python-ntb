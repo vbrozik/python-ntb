{
 "cells": [
  {
   "cell_type": "markdown",
   "id": "0301e9d8-89e9-4427-b474-4af852a45d7c",
   "metadata": {},
   "source": [
    "# Singleton\n",
    "\n",
    "Usually considered to be an anti-pattern:\n",
    "* https://www.michaelsafyan.com/tech/design/patterns/singleton\n",
    "* https://medium.com/aia-sg-techblog/why-singleton-pattern-is-considered-as-anti-design-pattern-c81dd8b7e757\n",
    "* https://krakendev.io/blog/antipatterns-singletons"
   ]
  }
 ],
 "metadata": {
  "kernelspec": {
   "display_name": "Python 3 (ipykernel)",
   "language": "python",
   "name": "python3"
  },
  "language_info": {
   "codemirror_mode": {
    "name": "ipython",
    "version": 3
   },
   "file_extension": ".py",
   "mimetype": "text/x-python",
   "name": "python",
   "nbconvert_exporter": "python",
   "pygments_lexer": "ipython3",
   "version": "3.10.4"
  }
 },
 "nbformat": 4,
 "nbformat_minor": 5
}
