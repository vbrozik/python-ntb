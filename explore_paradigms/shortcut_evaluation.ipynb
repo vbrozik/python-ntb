{
 "cells": [
  {
   "cell_type": "markdown",
   "metadata": {},
   "source": [
    "# Shortcut evaluation expressions\n",
    "\n",
    "* Operators `and`, `or` return result when it is known from the value of the first operand. Then the second operand is not evaluated.\n",
    "* The value returned is the value of the last operand so it is not necessarily of type `bool`."
   ]
  },
  {
   "cell_type": "code",
   "execution_count": 1,
   "metadata": {},
   "outputs": [],
   "source": [
    "from typing import Callable, Literal, TypeVar\n",
    "\n",
    "\n",
    "T = TypeVar('T')"
   ]
  },
  {
   "cell_type": "markdown",
   "metadata": {},
   "source": [
    "## Callable | None argument\n",
    "\n",
    "A function is always truthy, `None` is falsy. We can utilize this for evaluating\n",
    "optional callable - variable of type `Callable | None` by calling it only if it is\n",
    "not `None`."
   ]
  },
  {
   "cell_type": "code",
   "execution_count": 2,
   "metadata": {},
   "outputs": [],
   "source": [
    "def process_or_none(value: T, function: Callable[[T], T] | None = None) -> T | None:\n",
    "    \"\"\"Return the result of the function or None if no function is given.\"\"\"\n",
    "    return function and function(value)"
   ]
  },
  {
   "cell_type": "code",
   "execution_count": 3,
   "metadata": {},
   "outputs": [
    {
     "data": {
      "text/plain": [
       "None"
      ]
     },
     "metadata": {},
     "output_type": "display_data"
    }
   ],
   "source": [
    "# Parameter function = None which is falsy so this value is returned\n",
    "# and the function is not called.\n",
    "display(process_or_none('ABC'))"
   ]
  },
  {
   "cell_type": "code",
   "execution_count": 4,
   "metadata": {},
   "outputs": [
    {
     "data": {
      "text/plain": [
       "'abc'"
      ]
     },
     "metadata": {},
     "output_type": "display_data"
    }
   ],
   "source": [
    "# Parameter function contains a function which is always truthy\n",
    "# so the function is called and its result is returned.\n",
    "display(process_or_none('ABC', lambda value: value.lower()))"
   ]
  },
  {
   "cell_type": "code",
   "execution_count": 5,
   "metadata": {},
   "outputs": [],
   "source": [
    "def process_or_true(\n",
    "            value: T, function: Callable[[T], T] | None = None) -> T | Literal[True]:\n",
    "    \"\"\"Return the result of the function or True if no function is given.\"\"\"\n",
    "    return not function or function(value)"
   ]
  },
  {
   "cell_type": "code",
   "execution_count": 6,
   "metadata": {},
   "outputs": [
    {
     "data": {
      "text/plain": [
       "True"
      ]
     },
     "metadata": {},
     "output_type": "display_data"
    }
   ],
   "source": [
    "# Parameter function = None, not None is truthy so this value is returned\n",
    "# and the function is not called.\n",
    "display(process_or_true('ABC'))"
   ]
  },
  {
   "cell_type": "code",
   "execution_count": 7,
   "metadata": {},
   "outputs": [
    {
     "data": {
      "text/plain": [
       "'abc'"
      ]
     },
     "metadata": {},
     "output_type": "display_data"
    }
   ],
   "source": [
    "# Parameter function contains a function which is always truthy so not truthy is falsy.\n",
    "# The function is called and its result is returned.\n",
    "display(process_or_true('ABC', lambda value: value.lower()))"
   ]
  }
 ],
 "metadata": {
  "kernelspec": {
   "display_name": "Python 3 (ipykernel)",
   "language": "python",
   "name": "python3"
  },
  "language_info": {
   "codemirror_mode": {
    "name": "ipython",
    "version": 3
   },
   "file_extension": ".py",
   "mimetype": "text/x-python",
   "name": "python",
   "nbconvert_exporter": "python",
   "pygments_lexer": "ipython3",
   "version": "3.10.12"
  }
 },
 "nbformat": 4,
 "nbformat_minor": 4
}
