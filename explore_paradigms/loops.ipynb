{
 "cells": [
  {
   "cell_type": "markdown",
   "id": "3b5e9838-e10b-4d79-88bf-23d1c3709036",
   "metadata": {},
   "source": [
    "# Loops"
   ]
  },
  {
   "cell_type": "markdown",
   "id": "7eeb305a-6f2d-4734-ad2a-1e7fa19aa582",
   "metadata": {},
   "source": [
    "## Loop with index and end condition"
   ]
  },
  {
   "cell_type": "markdown",
   "id": "1320fd6c-3c54-4e78-803e-d0571394ef44",
   "metadata": {},
   "source": [
    "### Definitions"
   ]
  },
  {
   "cell_type": "code",
   "execution_count": 1,
   "id": "8d1c43a5-267d-4c01-8595-5ce07bdf2fb0",
   "metadata": {},
   "outputs": [],
   "source": [
    "def modify_resource(resource):\n",
    "    return resource - 2\n",
    "\n",
    "def continue_condition(resource) -> bool:\n",
    "    return resource > 0\n",
    "\n",
    "RESOURCE_START_VALUE = 11"
   ]
  },
  {
   "cell_type": "markdown",
   "id": "9ce6ccad-b2f7-4917-9d4f-7636c1b7887c",
   "metadata": {},
   "source": [
    "Below are different implementations of the same loop. At the end number of iterations is printed."
   ]
  },
  {
   "cell_type": "markdown",
   "id": "522e8fa7-941d-4f8f-a52b-73e5b7bcd512",
   "metadata": {},
   "source": [
    "### While loop"
   ]
  },
  {
   "cell_type": "code",
   "execution_count": 2,
   "id": "a712434e-d959-477d-8e5a-82d5a1d156fa",
   "metadata": {},
   "outputs": [
    {
     "name": "stdout",
     "output_type": "stream",
     "text": [
      "6\n"
     ]
    }
   ],
   "source": [
    "resource = RESOURCE_START_VALUE\n",
    "\n",
    "iterations_count = 0\n",
    "while continue_condition(resource):\n",
    "    resource = modify_resource(resource)\n",
    "    iterations_count += 1\n",
    "\n",
    "print(iterations_count)"
   ]
  },
  {
   "cell_type": "markdown",
   "id": "391fae8a-4af6-4911-a2b3-0a030fde5ff9",
   "metadata": {},
   "source": [
    "### For loop"
   ]
  },
  {
   "cell_type": "code",
   "execution_count": 3,
   "id": "7f99c433-b35a-45ea-944f-72e6b48c013d",
   "metadata": {},
   "outputs": [
    {
     "name": "stdout",
     "output_type": "stream",
     "text": [
      "6\n"
     ]
    }
   ],
   "source": [
    "from itertools import count\n",
    "\n",
    "resource = RESOURCE_START_VALUE\n",
    "\n",
    "for iterations_count in count():\n",
    "    if not continue_condition(resource):\n",
    "        break\n",
    "    resource = modify_resource(resource)\n",
    "\n",
    "print(iterations_count)"
   ]
  },
  {
   "cell_type": "markdown",
   "id": "6d51f75b-9819-42f1-afaf-cf75750dad08",
   "metadata": {},
   "source": [
    "### Recursion - functional"
   ]
  },
  {
   "cell_type": "code",
   "execution_count": 4,
   "id": "b7b24125-7645-4d81-a03a-420a96f95ab8",
   "metadata": {},
   "outputs": [
    {
     "name": "stdout",
     "output_type": "stream",
     "text": [
      "6\n"
     ]
    }
   ],
   "source": [
    "def looper(resource, operation, continue_condition, iterations_count=0):\n",
    "    return (\n",
    "            looper(operation(resource), operation, continue_condition, iterations_count + 1)\n",
    "            if continue_condition(resource)\n",
    "            else (resource, iterations_count))\n",
    "\n",
    "print(looper(RESOURCE_START_VALUE, modify_resource, continue_condition)[1])"
   ]
  }
 ],
 "metadata": {
  "kernelspec": {
   "display_name": "Python 3 (ipykernel)",
   "language": "python",
   "name": "python3"
  },
  "language_info": {
   "codemirror_mode": {
    "name": "ipython",
    "version": 3
   },
   "file_extension": ".py",
   "mimetype": "text/x-python",
   "name": "python",
   "nbconvert_exporter": "python",
   "pygments_lexer": "ipython3",
   "version": "3.10.4"
  }
 },
 "nbformat": 4,
 "nbformat_minor": 5
}
