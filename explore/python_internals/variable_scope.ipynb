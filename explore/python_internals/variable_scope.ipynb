{
 "cells": [
  {
   "cell_type": "markdown",
   "id": "26b60590-a096-4abb-92f3-779708d372eb",
   "metadata": {
    "tags": []
   },
   "source": [
    "# Variable scope"
   ]
  },
  {
   "cell_type": "markdown",
   "id": "e03eb09b-220f-4f41-a5c2-414b37183d54",
   "metadata": {
    "tags": []
   },
   "source": [
    "## LEGB Rule\n",
    "Local, Enclosing, Global, Builtin"
   ]
  },
  {
   "cell_type": "markdown",
   "id": "dec205b8-ecc7-4a64-9e33-6a6214239bb6",
   "metadata": {
    "tags": []
   },
   "source": [
    "### Documentation sources"
   ]
  },
  {
   "cell_type": "markdown",
   "id": "19637515-d616-47d4-a478-c2ea0763164d",
   "metadata": {
    "tags": []
   },
   "source": [
    "* https://docs.python.org/3/reference/executionmodel.html#naming-and-binding\n",
    "* https://realpython.com/python-scope-legb-rule/\n",
    "* https://realpython.com/python-namespaces-scope/\n",
    "* https://www.datacamp.com/tutorial/scope-of-variables-python\n",
    "* https://peps.python.org/pep-3104/ - Access to Names in Outer Scopes - nonlocal"
   ]
  },
  {
   "cell_type": "markdown",
   "id": "2b960945-5bd3-4f48-b032-477728ad657b",
   "metadata": {
    "tags": []
   },
   "source": [
    "### Scopes and summary\n",
    "  * **Local** (function)\n",
    "  * **Enclosing** (nonlocal)\n",
    "  * **Global** (module)\n",
    "  * **Builtin**"
   ]
  },
  {
   "cell_type": "markdown",
   "id": "2729acac-d7b5-4a62-b12a-1239046b2987",
   "metadata": {
    "tags": []
   },
   "source": [
    "### Code Examples"
   ]
  },
  {
   "cell_type": "markdown",
   "id": "275b3c0d-f535-4dab-94ef-5ee8c38f22f3",
   "metadata": {},
   "source": [
    "From the current scope (e.g. a local scope inside a function) we can access all variables of the local scope, all the enclosing scopes up in the hierarchy, global scope (of the same module) and builtins scope. For this we do not need any special measures, if\n",
    "\n",
    "* we do not try to re-bind the variable (assign a new value to it)\n",
    "* the variable is not shadowed by a variable of the same name in a scope closer to the current local scope\n",
    "\n",
    "Here is a demonstration of how are the variables simply accessible:"
   ]
  },
  {
   "cell_type": "code",
   "execution_count": 11,
   "id": "00a8c813-bb73-447b-bfd3-30a106251ec5",
   "metadata": {},
   "outputs": [
    {
     "name": "stdout",
     "output_type": "stream",
     "text": [
      "local_scope_variable = 'local scope variable'\n",
      "enclosing_scope1_variable = 'enclosing scope 1 variable'\n",
      "enclosing_scope2_variable = 'enclosing scope 2 variable'\n",
      "global_scope_variable = 'global scope variable'\n",
      "builtins scope: True = True\n"
     ]
    }
   ],
   "source": [
    "global_scope_variable = 'global scope variable'\n",
    "\n",
    "def outer():\n",
    "    enclosing_scope2_variable = 'enclosing scope 2 variable'\n",
    "    def outer2():\n",
    "        enclosing_scope1_variable = 'enclosing scope 1 variable'\n",
    "        def inner():\n",
    "            local_scope_variable = 'local scope variable'\n",
    "            print(f'{local_scope_variable = }')\n",
    "            print(f'{enclosing_scope1_variable = }')\n",
    "            print(f'{enclosing_scope2_variable = }')\n",
    "            print(f'{global_scope_variable = }')\n",
    "            print(f'builtins scope: {True = }')\n",
    "        inner()\n",
    "    outer2()\n",
    "\n",
    "outer()"
   ]
  },
  {
   "cell_type": "markdown",
   "id": "5232438f-cb13-4636-919c-0378b10f7c4a",
   "metadata": {},
   "source": [
    "### Tools\n",
    "\n",
    "* `locals()`\n",
    "* `globals()`"
   ]
  },
  {
   "cell_type": "markdown",
   "id": "2ee72316-6aad-4a40-8977-fe52e4231101",
   "metadata": {},
   "source": [
    "## Class scope\n",
    "Different from function: [Python nonlocal statement in a class definition](https://stackoverflow.com/q/5466238/320437)"
   ]
  }
 ],
 "metadata": {
  "kernelspec": {
   "display_name": "Python 3 (ipykernel)",
   "language": "python",
   "name": "python3"
  },
  "language_info": {
   "codemirror_mode": {
    "name": "ipython",
    "version": 3
   },
   "file_extension": ".py",
   "mimetype": "text/x-python",
   "name": "python",
   "nbconvert_exporter": "python",
   "pygments_lexer": "ipython3",
   "version": "3.10.4"
  }
 },
 "nbformat": 4,
 "nbformat_minor": 5
}
