{
 "cells": [
  {
   "cell_type": "markdown",
   "id": "b5699054-6784-4aef-baea-2cc10cbae73c",
   "metadata": {},
   "source": [
    "# Stack frame\n",
    "\n",
    "See also: https://realpython.com/python-scope-legb-rule/"
   ]
  },
  {
   "cell_type": "markdown",
   "id": "4b459a84-c0df-491c-896e-f58f66e41481",
   "metadata": {
    "tags": []
   },
   "source": [
    "## Get current function name"
   ]
  },
  {
   "cell_type": "code",
   "execution_count": 1,
   "id": "3a24ee8c-483b-4a74-9ceb-28acfc312c57",
   "metadata": {},
   "outputs": [
    {
     "name": "stdout",
     "output_type": "stream",
     "text": [
      "print_my_name\n",
      "print_my_name\n",
      "print_my_name\n",
      "print_my_name\n",
      "print_my_name\n",
      "print_my_name\n",
      "print_my_name\n"
     ]
    }
   ],
   "source": [
    "import inspect\n",
    "import sys\n",
    "\n",
    "def print_my_name():\n",
    "    \"\"\"Print this function name using various methods.\n",
    "    \n",
    "    Methods sorted from fastest:\n",
    "        * sys._getframe() - fast but uses a private name, accepts frame hierarchy number\n",
    "        * inspect.currentframe() - can access higher frames only through .f_back\n",
    "        * inspect.stack() - about 2000x slower than inspect.currentframe()\n",
    "    \n",
    "    Origin:\n",
    "        https://stackoverflow.com/a/17366561/320437\n",
    "    \"\"\"\n",
    "    print(inspect.currentframe().f_code.co_name)\n",
    "    print(inspect.stack()[0].function)\n",
    "\n",
    "    print(inspect.stack()[0].frame.f_code.co_name)\n",
    "    \n",
    "    print(inspect.stack()[0][0].f_code.co_name) # .frame možno vybrat indexem\n",
    "    print(inspect.stack()[0][3])                # .function možno vybrat indexem\n",
    "\n",
    "    # sys._getframe() může být rychlejší\n",
    "    print(sys._getframe().f_code.co_name)\n",
    "    print(sys._getframe(0).f_code.co_name)      # volitelně index pro vyšší frame!\n",
    "\n",
    "\n",
    "print_my_name()"
   ]
  },
  {
   "cell_type": "markdown",
   "id": "c78e05b7-ff05-4148-b5a5-511b82fd0fbf",
   "metadata": {
    "tags": []
   },
   "source": [
    "### Function to get current scope name"
   ]
  },
  {
   "cell_type": "code",
   "execution_count": 2,
   "id": "f471a80c-b6fd-4d51-9865-484b6d406135",
   "metadata": {},
   "outputs": [],
   "source": [
    "import inspect\n",
    "\n",
    "def scope_name(frames_up=0) -> str:\n",
    "    \"\"\"Get name of the scope this function is executed from.\"\"\"\n",
    "    return inspect.stack()[1 + frames_up].function\n",
    "\n",
    "def print_scope_name(description='', frames_up=0):\n",
    "    description = f'Scope name{f\" in {description}\" if description else \"\"}:'\n",
    "    print(f'{description:35} {scope_name(1 + frames_up)}')"
   ]
  },
  {
   "cell_type": "code",
   "execution_count": 3,
   "id": "4ba82e71-1d53-49ce-bf1f-d75de1746f67",
   "metadata": {},
   "outputs": [
    {
     "name": "stdout",
     "output_type": "stream",
     "text": [
      "Scope name in notebook cell:        <cell line: 1>\n",
      "Scope name in above notebook cell:  run_code\n",
      "Scope name in top level:            _run_module_as_main\n",
      "Scope name in class:                ExampleClass\n",
      "Scope name in list comprehension:   <listcomp>\n",
      "Scope name in lambda:               <lambda>\n",
      "Scope name in function parameters:  <cell line: 18>\n",
      "Scope name in function:             example_function\n"
     ]
    }
   ],
   "source": [
    "print_scope_name('notebook cell')\n",
    "\n",
    "print_scope_name('above notebook cell', frames_up=1)\n",
    "\n",
    "print_scope_name('top level', frames_up=-3)   # -3 translates to -1 inside scope_name()\n",
    "\n",
    "class ExampleClass:\n",
    "    print_scope_name('class')\n",
    "\n",
    "[\n",
    "    print_scope_name('list comprehension')\n",
    "    for _ in (None,)\n",
    "]\n",
    "\n",
    "(lambda: print_scope_name('lambda'))()\n",
    "\n",
    "# There is no new scope for function parameters\n",
    "def dummy_function(_=print_scope_name('function parameters')):\n",
    "    pass\n",
    "\n",
    "def example_function():\n",
    "    print_scope_name('function')\n",
    "\n",
    "example_function()"
   ]
  },
  {
   "cell_type": "markdown",
   "id": "5b9d4939-dfd2-4be4-832e-5c5a2bf340cb",
   "metadata": {},
   "source": [
    "### Decorator to give function's name to the function as an argument"
   ]
  },
  {
   "cell_type": "code",
   "execution_count": 4,
   "id": "17319f4e-4a79-4ee8-a963-03679fb3cbb7",
   "metadata": {},
   "outputs": [],
   "source": [
    "import functools\n",
    "\n",
    "def named(original_function):\n",
    "    \"\"\"Define decorator giving the wrapped function its name as the first argument.\n",
    "    \n",
    "    Origin:\n",
    "        https://stackoverflow.com/a/61788034/320437\n",
    "    \"\"\"\n",
    "    @functools.wraps(original_function)\n",
    "    def wrapper(*args, **kwargs):\n",
    "        return original_function(original_function.__name__, *args, **kwargs)\n",
    "    return wrapper"
   ]
  },
  {
   "cell_type": "code",
   "execution_count": 5,
   "id": "b05cd4a8-5707-4315-b09d-1c0ca98b97df",
   "metadata": {},
   "outputs": [
    {
     "name": "stdout",
     "output_type": "stream",
     "text": [
      "function name: my_func\n",
      "argument = 'hello, world'\n"
     ]
    }
   ],
   "source": [
    "@named\n",
    "def my_func(name: str, argument: str) -> None:\n",
    "    print(f'function name: {name}')\n",
    "    print(f'{argument = }')\n",
    "\n",
    "my_func('hello, world')"
   ]
  }
 ],
 "metadata": {
  "kernelspec": {
   "display_name": "Python 3 (ipykernel)",
   "language": "python",
   "name": "python3"
  },
  "language_info": {
   "codemirror_mode": {
    "name": "ipython",
    "version": 3
   },
   "file_extension": ".py",
   "mimetype": "text/x-python",
   "name": "python",
   "nbconvert_exporter": "python",
   "pygments_lexer": "ipython3",
   "version": "3.10.4"
  }
 },
 "nbformat": 4,
 "nbformat_minor": 5
}
