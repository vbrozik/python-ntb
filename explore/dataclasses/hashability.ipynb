{
 "cells": [
  {
   "cell_type": "markdown",
   "id": "cf229a94-3464-4aec-9055-f3224081fecc",
   "metadata": {},
   "source": [
    "# Hashability"
   ]
  },
  {
   "cell_type": "code",
   "execution_count": 1,
   "id": "a42fdc2f-e7c0-4679-b9eb-516ececdc64a",
   "metadata": {},
   "outputs": [],
   "source": [
    "from dataclasses import dataclass\n",
    "\n",
    "@dataclass(eq=True, frozen=True)\n",
    "class Circle:\n",
    "    center: tuple[float, float]\n",
    "    radius: float\n",
    "\n",
    "assert hex(hash(Circle((1, 2), 3000))) == hex(hash(Circle((1, 2), 3000)))"
   ]
  },
  {
   "cell_type": "code",
   "execution_count": 2,
   "id": "3261211d-507c-4332-94f9-ad8fff87cc95",
   "metadata": {},
   "outputs": [],
   "source": [
    "@dataclass(unsafe_hash=True)\n",
    "class CircleEditable:\n",
    "    center: tuple[float, float]\n",
    "    radius: float\n",
    "\n",
    "assert hex(hash(CircleEditable((1, 2), 4000))) == hex(hash(CircleEditable((1, 2), 4000)))"
   ]
  },
  {
   "cell_type": "markdown",
   "id": "21729492-f4e2-4fe6-bbf0-0a08e4845c2f",
   "metadata": {},
   "source": [
    "## Demonstration of the insecurity of unsafe_hash"
   ]
  },
  {
   "cell_type": "code",
   "execution_count": 3,
   "id": "c724ee97-594f-43f5-94d7-a170ed8a5980",
   "metadata": {},
   "outputs": [],
   "source": [
    "@dataclass(unsafe_hash=True)\n",
    "class MutableInt:\n",
    "    number: int"
   ]
  },
  {
   "cell_type": "code",
   "execution_count": 4,
   "id": "030d75dc-9f96-4e86-bc5c-821fd960132b",
   "metadata": {},
   "outputs": [],
   "source": [
    "def show_dict_with_ids(dictionary: dict):\n",
    "    for key, value in dictionary.items():\n",
    "        print(f'{key} [{id(key)}]: {value} [{id(value)}]')"
   ]
  },
  {
   "cell_type": "code",
   "execution_count": 5,
   "id": "0bd47123-666e-436c-b1ff-5fde20839b40",
   "metadata": {},
   "outputs": [
    {
     "name": "stdout",
     "output_type": "stream",
     "text": [
      "MutableInt(number=1) [140016787266992]: a [140016840458544]\n",
      "MutableInt(number=2) [140016787263776]: b [140016840246448]\n"
     ]
    },
    {
     "data": {
      "text/plain": [
       "{MutableInt(number=1): 'a', MutableInt(number=2): 'b'}"
      ]
     },
     "execution_count": 5,
     "metadata": {},
     "output_type": "execute_result"
    }
   ],
   "source": [
    "unsafe_dict = {\n",
    "    MutableInt(1): 'a',\n",
    "    MutableInt(2): 'b',\n",
    "    }\n",
    "show_dict_with_ids(unsafe_dict)\n",
    "unsafe_dict"
   ]
  },
  {
   "cell_type": "markdown",
   "id": "1b94e5c3-2df4-43bb-afe3-fb0f3b245ca8",
   "metadata": {},
   "source": [
    "Overwritten key values are accessible only by iteration or `str()` or `repr()`."
   ]
  },
  {
   "cell_type": "code",
   "execution_count": 6,
   "id": "405a2f0a-778e-4f96-9a88-259545c36dbd",
   "metadata": {},
   "outputs": [
    {
     "name": "stdout",
     "output_type": "stream",
     "text": [
      "MutableInt(number=1) [140016787266992]: a [140016840458544]\n",
      "MutableInt(number=1) [140016787263776]: b [140016840246448]\n",
      "{MutableInt(number=1): 'a', MutableInt(number=1): 'b'}\n",
      "{MutableInt(number=1): 'a', MutableInt(number=1): 'b'}\n",
      "a\n"
     ]
    },
    {
     "ename": "KeyError",
     "evalue": "MutableInt(number=2)",
     "output_type": "error",
     "traceback": [
      "\u001b[0;31m---------------------------------------------------------------------------\u001b[0m",
      "\u001b[0;31mKeyError\u001b[0m                                  Traceback (most recent call last)",
      "Cell \u001b[0;32mIn [6], line 7\u001b[0m\n\u001b[1;32m      5\u001b[0m \u001b[38;5;28mprint\u001b[39m(\u001b[38;5;28mrepr\u001b[39m(unsafe_dict))\n\u001b[1;32m      6\u001b[0m \u001b[38;5;28mprint\u001b[39m(unsafe_dict[MutableInt(number\u001b[38;5;241m=\u001b[39m\u001b[38;5;241m1\u001b[39m)])\n\u001b[0;32m----> 7\u001b[0m \u001b[38;5;28mprint\u001b[39m(\u001b[43munsafe_dict\u001b[49m\u001b[43m[\u001b[49m\u001b[43mMutableInt\u001b[49m\u001b[43m(\u001b[49m\u001b[43mnumber\u001b[49m\u001b[38;5;241;43m=\u001b[39;49m\u001b[38;5;241;43m2\u001b[39;49m\u001b[43m)\u001b[49m\u001b[43m]\u001b[49m)\n",
      "\u001b[0;31mKeyError\u001b[0m: MutableInt(number=2)"
     ]
    }
   ],
   "source": [
    "for key in unsafe_dict.keys():\n",
    "    key.number = 1\n",
    "show_dict_with_ids(unsafe_dict)\n",
    "print(str(unsafe_dict))\n",
    "print(repr(unsafe_dict))\n",
    "print(unsafe_dict[MutableInt(number=1)])\n",
    "print(unsafe_dict[MutableInt(number=2)])"
   ]
  },
  {
   "cell_type": "markdown",
   "id": "337d8721-fa3d-403c-8e9d-cf07071b93db",
   "metadata": {},
   "source": [
    "Key value which did not exist before causes errors. `str()` and `repr()` still work."
   ]
  },
  {
   "cell_type": "code",
   "execution_count": 7,
   "id": "04063460-2ada-4ea4-9717-3aa00eb6ee4a",
   "metadata": {},
   "outputs": [
    {
     "name": "stdout",
     "output_type": "stream",
     "text": [
      "MutableInt(number=3) [140016787266992]: a [140016840458544]\n",
      "MutableInt(number=3) [140016787263776]: b [140016840246448]\n",
      "{MutableInt(number=3): 'a', MutableInt(number=3): 'b'}\n",
      "{MutableInt(number=3): 'a', MutableInt(number=3): 'b'}\n"
     ]
    },
    {
     "ename": "KeyError",
     "evalue": "MutableInt(number=3)",
     "output_type": "error",
     "traceback": [
      "\u001b[0;31m---------------------------------------------------------------------------\u001b[0m",
      "\u001b[0;31mKeyError\u001b[0m                                  Traceback (most recent call last)",
      "Cell \u001b[0;32mIn [7], line 6\u001b[0m\n\u001b[1;32m      4\u001b[0m \u001b[38;5;28mprint\u001b[39m(\u001b[38;5;28mstr\u001b[39m(unsafe_dict))\n\u001b[1;32m      5\u001b[0m \u001b[38;5;28mprint\u001b[39m(\u001b[38;5;28mrepr\u001b[39m(unsafe_dict))\n\u001b[0;32m----> 6\u001b[0m \u001b[38;5;28mprint\u001b[39m(\u001b[43munsafe_dict\u001b[49m\u001b[43m[\u001b[49m\u001b[43mMutableInt\u001b[49m\u001b[43m(\u001b[49m\u001b[43mnumber\u001b[49m\u001b[38;5;241;43m=\u001b[39;49m\u001b[38;5;241;43m3\u001b[39;49m\u001b[43m)\u001b[49m\u001b[43m]\u001b[49m)\n",
      "\u001b[0;31mKeyError\u001b[0m: MutableInt(number=3)"
     ]
    }
   ],
   "source": [
    "for key in unsafe_dict.keys():\n",
    "    key.number = 3\n",
    "show_dict_with_ids(unsafe_dict)\n",
    "print(str(unsafe_dict))\n",
    "print(repr(unsafe_dict))\n",
    "print(unsafe_dict[MutableInt(number=3)])"
   ]
  }
 ],
 "metadata": {
  "kernelspec": {
   "display_name": "Python 3 (ipykernel)",
   "language": "python",
   "name": "python3"
  },
  "language_info": {
   "codemirror_mode": {
    "name": "ipython",
    "version": 3
   },
   "file_extension": ".py",
   "mimetype": "text/x-python",
   "name": "python",
   "nbconvert_exporter": "python",
   "pygments_lexer": "ipython3",
   "version": "3.10.6"
  }
 },
 "nbformat": 4,
 "nbformat_minor": 5
}
