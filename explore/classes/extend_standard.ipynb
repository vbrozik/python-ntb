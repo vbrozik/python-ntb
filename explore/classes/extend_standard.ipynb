{
 "cells": [
  {
   "cell_type": "markdown",
   "id": "795464eb-4759-4995-b954-ea58532a403a",
   "metadata": {},
   "source": [
    "# Extend classes from standard library"
   ]
  },
  {
   "cell_type": "markdown",
   "id": "136a3e40-1f7e-4dca-a0ec-ebb47089e9fa",
   "metadata": {},
   "source": [
    "## NamedTuple"
   ]
  },
  {
   "cell_type": "markdown",
   "id": "5c18e18d-4931-455d-b706-bd7509b0bb78",
   "metadata": {},
   "source": [
    "TODO: possibility of overriding `__new__` in `NamedTuple`\n",
    "* https://github.com/python/typing/issues/526\n",
    "* https://stackoverflow.com/questions/46369668/modify-arguments-to-typing-namedtuple-prior-to-instance-creation\n",
    "* https://stackoverflow.com/questions/68681092/typing-namedtuple-and-mutable-default-arguments - subclass, decorator\n",
    "* https://samarthkishor.github.io/posts/typed_apis_in_python/"
   ]
  },
  {
   "cell_type": "code",
   "execution_count": 1,
   "id": "0de71e7f-c486-416b-974f-fc9190db88db",
   "metadata": {},
   "outputs": [
    {
     "ename": "AttributeError",
     "evalue": "Cannot overwrite NamedTuple attribute __new__",
     "output_type": "error",
     "traceback": [
      "\u001b[0;31m---------------------------------------------------------------------------\u001b[0m",
      "\u001b[0;31mAttributeError\u001b[0m                            Traceback (most recent call last)",
      "Input \u001b[0;32mIn [1]\u001b[0m, in \u001b[0;36m<cell line: 3>\u001b[0;34m()\u001b[0m\n\u001b[1;32m      1\u001b[0m \u001b[38;5;28;01mfrom\u001b[39;00m \u001b[38;5;21;01mtyping\u001b[39;00m \u001b[38;5;28;01mimport\u001b[39;00m NamedTuple\n\u001b[0;32m----> 3\u001b[0m \u001b[38;5;28;01mclass\u001b[39;00m \u001b[38;5;21;01mN\u001b[39;00m(NamedTuple):\n\u001b[1;32m      4\u001b[0m     a: \u001b[38;5;28mint\u001b[39m\n\u001b[1;32m      6\u001b[0m     \u001b[38;5;28;01mdef\u001b[39;00m \u001b[38;5;21m__new__\u001b[39m(\u001b[38;5;28mcls\u001b[39m, a: \u001b[38;5;28mint\u001b[39m):\n",
      "File \u001b[0;32m/usr/lib/python3.10/typing.py:2284\u001b[0m, in \u001b[0;36mNamedTupleMeta.__new__\u001b[0;34m(cls, typename, bases, ns)\u001b[0m\n\u001b[1;32m   2282\u001b[0m \u001b[38;5;28;01mfor\u001b[39;00m key \u001b[38;5;129;01min\u001b[39;00m ns:\n\u001b[1;32m   2283\u001b[0m     \u001b[38;5;28;01mif\u001b[39;00m key \u001b[38;5;129;01min\u001b[39;00m _prohibited:\n\u001b[0;32m-> 2284\u001b[0m         \u001b[38;5;28;01mraise\u001b[39;00m \u001b[38;5;167;01mAttributeError\u001b[39;00m(\u001b[38;5;124m\"\u001b[39m\u001b[38;5;124mCannot overwrite NamedTuple attribute \u001b[39m\u001b[38;5;124m\"\u001b[39m \u001b[38;5;241m+\u001b[39m key)\n\u001b[1;32m   2285\u001b[0m     \u001b[38;5;28;01melif\u001b[39;00m key \u001b[38;5;129;01mnot\u001b[39;00m \u001b[38;5;129;01min\u001b[39;00m _special \u001b[38;5;129;01mand\u001b[39;00m key \u001b[38;5;129;01mnot\u001b[39;00m \u001b[38;5;129;01min\u001b[39;00m nm_tpl\u001b[38;5;241m.\u001b[39m_fields:\n\u001b[1;32m   2286\u001b[0m         \u001b[38;5;28msetattr\u001b[39m(nm_tpl, key, ns[key])\n",
      "\u001b[0;31mAttributeError\u001b[0m: Cannot overwrite NamedTuple attribute __new__"
     ]
    }
   ],
   "source": [
    "from typing import NamedTuple\n",
    "\n",
    "class N(NamedTuple):\n",
    "    a: int\n",
    "    \n",
    "    def __new__(cls, a: int):\n",
    "        return super().__new__(cls, a=a*2)"
   ]
  },
  {
   "cell_type": "markdown",
   "id": "a9e8a171-745e-4451-881f-5e7fbdf7915c",
   "metadata": {},
   "source": [
    "## datetime"
   ]
  },
  {
   "cell_type": "code",
   "execution_count": 32,
   "id": "3bb6aa14-04f1-4dc5-8ab2-c561d00e9125",
   "metadata": {},
   "outputs": [
    {
     "ename": "AttributeError",
     "evalue": "'datetime.datetime' object has no attribute 'res'",
     "output_type": "error",
     "traceback": [
      "\u001b[0;31m---------------------------------------------------------------------------\u001b[0m",
      "\u001b[0;31mAttributeError\u001b[0m                            Traceback (most recent call last)",
      "Input \u001b[0;32mIn [32]\u001b[0m, in \u001b[0;36m<cell line: 4>\u001b[0;34m()\u001b[0m\n\u001b[1;32m      1\u001b[0m \u001b[38;5;28;01mimport\u001b[39;00m \u001b[38;5;21;01mdatetime\u001b[39;00m\n\u001b[1;32m      3\u001b[0m x \u001b[38;5;241m=\u001b[39m datetime\u001b[38;5;241m.\u001b[39mdatetime(\u001b[38;5;241m2022\u001b[39m, \u001b[38;5;241m6\u001b[39m, \u001b[38;5;241m11\u001b[39m)\n\u001b[0;32m----> 4\u001b[0m x\u001b[38;5;241m.\u001b[39mres \u001b[38;5;241m=\u001b[39m \u001b[38;5;241m10\u001b[39m\n\u001b[1;32m      5\u001b[0m x\n",
      "\u001b[0;31mAttributeError\u001b[0m: 'datetime.datetime' object has no attribute 'res'"
     ]
    }
   ],
   "source": [
    "import datetime\n",
    "\n",
    "x = datetime.datetime(2022, 6, 11)\n",
    "x.res = 10\n",
    "x"
   ]
  },
  {
   "cell_type": "code",
   "execution_count": 33,
   "id": "ec27793e-4858-477b-8ecf-69fc2bef22bd",
   "metadata": {},
   "outputs": [],
   "source": [
    "class DateTime(datetime.datetime):\n",
    "    def __init__(self, *args, **kwargs):\n",
    "        if 'res' in kwargs:\n",
    "            self.res = kwargs.pop('res')\n",
    "        super().__init__(*args, **kwargs)\n",
    "# will not work, datetime is immutable, does not have __init__"
   ]
  },
  {
   "cell_type": "code",
   "execution_count": 34,
   "id": "6fbf15cc-65f7-45e7-b33a-d1df27ed8fd7",
   "metadata": {},
   "outputs": [
    {
     "ename": "TypeError",
     "evalue": "object.__init__() takes exactly one argument (the instance to initialize)",
     "output_type": "error",
     "traceback": [
      "\u001b[0;31m---------------------------------------------------------------------------\u001b[0m",
      "\u001b[0;31mTypeError\u001b[0m                                 Traceback (most recent call last)",
      "Input \u001b[0;32mIn [34]\u001b[0m, in \u001b[0;36m<cell line: 1>\u001b[0;34m()\u001b[0m\n\u001b[0;32m----> 1\u001b[0m x \u001b[38;5;241m=\u001b[39m \u001b[43mDateTime\u001b[49m\u001b[43m(\u001b[49m\u001b[38;5;241;43m2022\u001b[39;49m\u001b[43m,\u001b[49m\u001b[43m \u001b[49m\u001b[38;5;241;43m6\u001b[39;49m\u001b[43m,\u001b[49m\u001b[43m \u001b[49m\u001b[38;5;241;43m11\u001b[39;49m\u001b[43m)\u001b[49m\n",
      "Input \u001b[0;32mIn [33]\u001b[0m, in \u001b[0;36mDateTime.__init__\u001b[0;34m(self, *args, **kwargs)\u001b[0m\n\u001b[1;32m      3\u001b[0m \u001b[38;5;28;01mif\u001b[39;00m \u001b[38;5;124m'\u001b[39m\u001b[38;5;124mres\u001b[39m\u001b[38;5;124m'\u001b[39m \u001b[38;5;129;01min\u001b[39;00m kwargs:\n\u001b[1;32m      4\u001b[0m     \u001b[38;5;28mself\u001b[39m\u001b[38;5;241m.\u001b[39mres \u001b[38;5;241m=\u001b[39m kwargs\u001b[38;5;241m.\u001b[39mpop(\u001b[38;5;124m'\u001b[39m\u001b[38;5;124mres\u001b[39m\u001b[38;5;124m'\u001b[39m)\n\u001b[0;32m----> 5\u001b[0m \u001b[38;5;28;43msuper\u001b[39;49m\u001b[43m(\u001b[49m\u001b[43m)\u001b[49m\u001b[38;5;241;43m.\u001b[39;49m\u001b[38;5;21;43m__init__\u001b[39;49m\u001b[43m(\u001b[49m\u001b[38;5;241;43m*\u001b[39;49m\u001b[43margs\u001b[49m\u001b[43m,\u001b[49m\u001b[43m \u001b[49m\u001b[38;5;241;43m*\u001b[39;49m\u001b[38;5;241;43m*\u001b[39;49m\u001b[43mkwargs\u001b[49m\u001b[43m)\u001b[49m\n",
      "\u001b[0;31mTypeError\u001b[0m: object.__init__() takes exactly one argument (the instance to initialize)"
     ]
    }
   ],
   "source": [
    "x = DateTime(2022, 6, 11)"
   ]
  },
  {
   "cell_type": "code",
   "execution_count": 57,
   "id": "6fb5094d-287d-451b-9c52-c75668c70158",
   "metadata": {},
   "outputs": [],
   "source": [
    "class DateTime(datetime.datetime):\n",
    "    def __new__(cls, *args, **kwargs):\n",
    "        res = kwargs.pop('res', None)\n",
    "        result = datetime.datetime.__new__(cls, *args, **kwargs)\n",
    "        result.res = res\n",
    "        return result"
   ]
  },
  {
   "cell_type": "code",
   "execution_count": 58,
   "id": "fde064bd-2427-4bf2-af05-9ae567f58aa0",
   "metadata": {},
   "outputs": [],
   "source": [
    "x = DateTime(2022, 6, 11, res=2)\n",
    "x = DateTime(2022, 6, 11)\n",
    "x.res"
   ]
  }
 ],
 "metadata": {
  "kernelspec": {
   "display_name": "Python 3 (ipykernel)",
   "language": "python",
   "name": "python3"
  },
  "language_info": {
   "codemirror_mode": {
    "name": "ipython",
    "version": 3
   },
   "file_extension": ".py",
   "mimetype": "text/x-python",
   "name": "python",
   "nbconvert_exporter": "python",
   "pygments_lexer": "ipython3",
   "version": "3.10.4"
  }
 },
 "nbformat": 4,
 "nbformat_minor": 5
}
