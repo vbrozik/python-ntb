{
 "cells": [
  {
   "cell_type": "code",
   "execution_count": 12,
   "id": "5ef7aa85-bc91-4134-8b86-b8195612aa2a",
   "metadata": {},
   "outputs": [],
   "source": [
    "class TestSlicing:\n",
    "    def __getitem__(self, index):\n",
    "        print(f'__getitem__ index: {index!r}')\n",
    "    def __setitem__(self, index, value):\n",
    "        print(f'__setitem__ index, value: {index!r}, {value!r}')"
   ]
  },
  {
   "cell_type": "code",
   "execution_count": 13,
   "id": "71a7de23-b653-4c2c-8d18-b3018c844f64",
   "metadata": {},
   "outputs": [],
   "source": [
    "test1 = TestSlicing()"
   ]
  },
  {
   "cell_type": "code",
   "execution_count": 14,
   "id": "11692216-3c1a-44d8-bd30-93f3ed78e1f4",
   "metadata": {},
   "outputs": [
    {
     "name": "stdout",
     "output_type": "stream",
     "text": [
      "__getitem__ index: 23\n"
     ]
    }
   ],
   "source": [
    "test1[23]"
   ]
  },
  {
   "cell_type": "code",
   "execution_count": 15,
   "id": "2edc411f-4941-4c2c-b978-2b02e52fdb65",
   "metadata": {},
   "outputs": [
    {
     "name": "stdout",
     "output_type": "stream",
     "text": [
      "__getitem__ index: slice(2, None, None)\n"
     ]
    }
   ],
   "source": [
    "test1[2:]"
   ]
  },
  {
   "cell_type": "code",
   "execution_count": 20,
   "id": "84433ad7-1306-4e46-974d-88f8fde34b22",
   "metadata": {},
   "outputs": [
    {
     "name": "stdout",
     "output_type": "stream",
     "text": [
      "__getitem__ index: slice(2, 7, 3)\n"
     ]
    }
   ],
   "source": [
    "test1[2:7:3]"
   ]
  },
  {
   "cell_type": "code",
   "execution_count": 17,
   "id": "2074121e-5c4a-4f26-b15a-8659a1e594d3",
   "metadata": {},
   "outputs": [
    {
     "name": "stdout",
     "output_type": "stream",
     "text": [
      "__getitem__ index: slice(None, 7, None)\n"
     ]
    }
   ],
   "source": [
    "test1[:7]"
   ]
  },
  {
   "cell_type": "code",
   "execution_count": 22,
   "id": "58ff36cd-7cb1-48a6-81ef-66e38e4e2cfe",
   "metadata": {},
   "outputs": [
    {
     "name": "stdout",
     "output_type": "stream",
     "text": [
      "__getitem__ index: slice(None, None, None)\n"
     ]
    }
   ],
   "source": [
    "test1[:]"
   ]
  },
  {
   "cell_type": "code",
   "execution_count": 24,
   "id": "5ade9d88-2a3a-403d-9dc0-075aed36164e",
   "metadata": {},
   "outputs": [
    {
     "name": "stdout",
     "output_type": "stream",
     "text": [
      "__setitem__ index, value: (2, 3), 5\n"
     ]
    }
   ],
   "source": [
    "test1[2, 3] = 5"
   ]
  },
  {
   "cell_type": "code",
   "execution_count": 25,
   "id": "77b75837-a546-4e0d-ab30-d3feccbab43a",
   "metadata": {},
   "outputs": [
    {
     "name": "stdout",
     "output_type": "stream",
     "text": [
      "__setitem__ index, value: (slice(1, 5, None), slice(7, 9, None)), 23\n"
     ]
    }
   ],
   "source": [
    "test1[1:5, 7:9] = 23"
   ]
  },
  {
   "cell_type": "code",
   "execution_count": 32,
   "id": "51fd64e2-3850-422c-8387-57a47ae4fba5",
   "metadata": {},
   "outputs": [
    {
     "ename": "SyntaxError",
     "evalue": "invalid syntax (221664597.py, line 2)",
     "output_type": "error",
     "traceback": [
      "\u001b[0;36m  Input \u001b[0;32mIn [32]\u001b[0;36m\u001b[0m\n\u001b[0;31m    test1[[1:5, 7:9]] = 23\u001b[0m\n\u001b[0m            ^\u001b[0m\n\u001b[0;31mSyntaxError\u001b[0m\u001b[0;31m:\u001b[0m invalid syntax\n"
     ]
    }
   ],
   "source": [
    "# slices inside list (or explicit tuple) impossible\n",
    "test1[[1:5, 7:9]] = 23"
   ]
  },
  {
   "cell_type": "code",
   "execution_count": 19,
   "id": "f684f088-7252-49fc-a399-bf1c4b694a0e",
   "metadata": {},
   "outputs": [
    {
     "name": "stdout",
     "output_type": "stream",
     "text": [
      "__setitem__ index, value: 23, 1\n"
     ]
    }
   ],
   "source": [
    "test1[23] = 1"
   ]
  },
  {
   "cell_type": "code",
   "execution_count": 21,
   "id": "3a8aa3ef-52ff-4e46-bbff-32b9af5c4276",
   "metadata": {},
   "outputs": [
    {
     "name": "stdout",
     "output_type": "stream",
     "text": [
      "__setitem__ index, value: slice(3, 5, None), 1\n"
     ]
    }
   ],
   "source": [
    "test1[3:5] = 1"
   ]
  },
  {
   "cell_type": "code",
   "execution_count": 44,
   "id": "9ea19f03-eef5-43ab-8d1e-5839e0c1fc30",
   "metadata": {},
   "outputs": [
    {
     "data": {
      "text/plain": [
       "{(1, 2): 'x'}"
      ]
     },
     "execution_count": 44,
     "metadata": {},
     "output_type": "execute_result"
    }
   ],
   "source": [
    "# dict gets index 1, 2 as tuple too and uses it as a hashable key!\n",
    "d1 = {}\n",
    "d1[1, 2] = 'x'\n",
    "d1"
   ]
  }
 ],
 "metadata": {
  "kernelspec": {
   "display_name": "Python 3 (ipykernel)",
   "language": "python",
   "name": "python3"
  },
  "language_info": {
   "codemirror_mode": {
    "name": "ipython",
    "version": 3
   },
   "file_extension": ".py",
   "mimetype": "text/x-python",
   "name": "python",
   "nbconvert_exporter": "python",
   "pygments_lexer": "ipython3",
   "version": "3.10.4"
  }
 },
 "nbformat": 4,
 "nbformat_minor": 5
}
