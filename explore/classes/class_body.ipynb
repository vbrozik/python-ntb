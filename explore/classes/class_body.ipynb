{
 "cells": [
  {
   "cell_type": "markdown",
   "id": "16caec66-2044-44ba-b886-0f216d15987f",
   "metadata": {},
   "source": [
    "Class body can contain any commands. They are executed at the time of class definition.\n",
    "* https://docs.python.org/3/tutorial/classes.html#class-definition-syntax\n",
    "* https://www.youtube.com/watch?v=HTLu2DFOdTg"
   ]
  },
  {
   "cell_type": "code",
   "execution_count": 1,
   "id": "7d17c5d2-f306-43ea-a4c2-c8e3e2b14312",
   "metadata": {
    "tags": []
   },
   "outputs": [
    {
     "name": "stdout",
     "output_type": "stream",
     "text": [
      "hello\n"
     ]
    }
   ],
   "source": [
    "class Foo:\n",
    "    print('hello')"
   ]
  },
  {
   "cell_type": "markdown",
   "id": "4b546d61-f70d-4661-a0b5-b72949a44d65",
   "metadata": {},
   "source": [
    "The code is executed in the scope of the class."
   ]
  },
  {
   "cell_type": "code",
   "execution_count": 2,
   "id": "e03abab0-2d5b-4006-a22f-cf9721c6e0c1",
   "metadata": {},
   "outputs": [
    {
     "name": "stdout",
     "output_type": "stream",
     "text": [
      "Foo.x0 = 0\n",
      "Foo.x1 = 1\n"
     ]
    }
   ],
   "source": [
    "class Foo:\n",
    "    for i in range(2):\n",
    "        exec(f'x{i} = {i}')\n",
    "\n",
    "print(f'{Foo.x0 = }')\n",
    "print(f'{Foo.x1 = }')"
   ]
  },
  {
   "cell_type": "code",
   "execution_count": 3,
   "id": "96439746-c393-49d6-9748-bf0e9831bada",
   "metadata": {},
   "outputs": [
    {
     "data": {
      "text/plain": [
       "{0: 0, 1: 1, 2: 4, 3: 9, 4: 16, 5: 25, 6: 36, 7: 49, 8: 64, 9: 81}"
      ]
     },
     "execution_count": 3,
     "metadata": {},
     "output_type": "execute_result"
    }
   ],
   "source": [
    "class Foo:\n",
    "    array: dict[int] = {}\n",
    "    for i in range(10):\n",
    "        array[i] = i ** 2\n",
    "\n",
    "Foo.array"
   ]
  },
  {
   "cell_type": "markdown",
   "id": "ba334b55-09f5-4b7f-8155-a5a3db7f0ed7",
   "metadata": {},
   "source": [
    "Previously defined class variables and functions can be used:"
   ]
  },
  {
   "cell_type": "code",
   "execution_count": 4,
   "id": "f1a40ca7-6268-4503-b8d6-37c5156048d1",
   "metadata": {
    "tags": []
   },
   "outputs": [
    {
     "name": "stdout",
     "output_type": "stream",
     "text": [
      "Hello World\n"
     ]
    }
   ],
   "source": [
    "class Foo:\n",
    "    world = 'World'\n",
    "    def greet(whom: str) -> None:\n",
    "        print(f'Hello {whom}')\n",
    "    \n",
    "    greet(world)"
   ]
  },
  {
   "cell_type": "markdown",
   "id": "73438b62-684d-4690-bad7-6ccff8761082",
   "metadata": {},
   "source": [
    "`nonlocal` cannot be used to access class attributes from within methods.\n",
    "\n",
    "Note: The cell bellow has cell tag `raises-exception` set using *Property Inspector* to avoid stopping exectuion after the exception."
   ]
  },
  {
   "cell_type": "code",
   "execution_count": 5,
   "id": "c6ad0aa3-5d40-43a7-8600-67d1507e9cec",
   "metadata": {
    "tags": [
     "raises-exception"
    ]
   },
   "outputs": [
    {
     "ename": "SyntaxError",
     "evalue": "no binding for nonlocal 'x' found (1828136284.py, line 4)",
     "output_type": "error",
     "traceback": [
      "\u001b[0;36m  Input \u001b[0;32mIn [5]\u001b[0;36m\u001b[0m\n\u001b[0;31m    nonlocal x\u001b[0m\n\u001b[0m    ^\u001b[0m\n\u001b[0;31mSyntaxError\u001b[0m\u001b[0;31m:\u001b[0m no binding for nonlocal 'x' found\n"
     ]
    }
   ],
   "source": [
    "class Foo:\n",
    "    x = 1\n",
    "    def increment_x():\n",
    "        nonlocal x\n",
    "        x += 1"
   ]
  }
 ],
 "metadata": {
  "kernelspec": {
   "display_name": "Python 3 (ipykernel)",
   "language": "python",
   "name": "python3"
  },
  "language_info": {
   "codemirror_mode": {
    "name": "ipython",
    "version": 3
   },
   "file_extension": ".py",
   "mimetype": "text/x-python",
   "name": "python",
   "nbconvert_exporter": "python",
   "pygments_lexer": "ipython3",
   "version": "3.10.4"
  }
 },
 "nbformat": 4,
 "nbformat_minor": 5
}
