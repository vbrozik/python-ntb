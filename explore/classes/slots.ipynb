{
 "cells": [
  {
   "cell_type": "markdown",
   "id": "b3b9b808-fd4a-498f-9cc5-9205df655d8a",
   "metadata": {},
   "source": [
    "# Slots"
   ]
  },
  {
   "cell_type": "code",
   "execution_count": 23,
   "id": "e52f6fee-a491-4136-9533-8fa995365f66",
   "metadata": {},
   "outputs": [],
   "source": [
    "class ClassA:\n",
    "    __slots__ = ('a', 'b')\n",
    "    # These attributes will exist always, even when not initialized.\n",
    "    \n",
    "    def __init__(self) -> None:\n",
    "        self.a = 1\n",
    "        # self.c = 3   # cannot be set, the object does not have __dict__"
   ]
  },
  {
   "cell_type": "code",
   "execution_count": 29,
   "id": "107c833f-47c2-496c-8881-a11004309605",
   "metadata": {},
   "outputs": [
    {
     "data": {
      "text/plain": [
       "['__class__',\n",
       " '__delattr__',\n",
       " '__dir__',\n",
       " '__doc__',\n",
       " '__eq__',\n",
       " '__format__',\n",
       " '__ge__',\n",
       " '__getattribute__',\n",
       " '__gt__',\n",
       " '__hash__',\n",
       " '__init__',\n",
       " '__init_subclass__',\n",
       " '__le__',\n",
       " '__lt__',\n",
       " '__module__',\n",
       " '__ne__',\n",
       " '__new__',\n",
       " '__reduce__',\n",
       " '__reduce_ex__',\n",
       " '__repr__',\n",
       " '__setattr__',\n",
       " '__sizeof__',\n",
       " '__slots__',\n",
       " '__str__',\n",
       " '__subclasshook__',\n",
       " 'a',\n",
       " 'b']"
      ]
     },
     "execution_count": 29,
     "metadata": {},
     "output_type": "execute_result"
    }
   ],
   "source": [
    "obj1 = ClassA()\n",
    "dir(obj1)   # uninitialized b is in __dir__"
   ]
  },
  {
   "cell_type": "code",
   "execution_count": 31,
   "id": "a4e1cf37-ca8d-416e-a61e-0723cb59a707",
   "metadata": {},
   "outputs": [
    {
     "ename": "AttributeError",
     "evalue": "'ClassA' object has no attribute 'b'",
     "output_type": "error",
     "traceback": [
      "\u001b[0;31m---------------------------------------------------------------------------\u001b[0m",
      "\u001b[0;31mAttributeError\u001b[0m                            Traceback (most recent call last)",
      "Input \u001b[0;32mIn [31]\u001b[0m, in \u001b[0;36m<cell line: 2>\u001b[0;34m()\u001b[0m\n\u001b[1;32m      1\u001b[0m \u001b[38;5;66;03m# initialized b cannot be read\u001b[39;00m\n\u001b[0;32m----> 2\u001b[0m \u001b[43mobj1\u001b[49m\u001b[38;5;241;43m.\u001b[39;49m\u001b[43mb\u001b[49m\n\u001b[1;32m      3\u001b[0m \u001b[38;5;28mgetattr\u001b[39m(obj1, \u001b[38;5;124m'\u001b[39m\u001b[38;5;124mb\u001b[39m\u001b[38;5;124m'\u001b[39m)\n",
      "\u001b[0;31mAttributeError\u001b[0m: 'ClassA' object has no attribute 'b'"
     ]
    }
   ],
   "source": [
    "# initialized b cannot be read\n",
    "obj1.b\n",
    "getattr(obj1, 'b')"
   ]
  }
 ],
 "metadata": {
  "kernelspec": {
   "display_name": "Python 3 (ipykernel)",
   "language": "python",
   "name": "python3"
  },
  "language_info": {
   "codemirror_mode": {
    "name": "ipython",
    "version": 3
   },
   "file_extension": ".py",
   "mimetype": "text/x-python",
   "name": "python",
   "nbconvert_exporter": "python",
   "pygments_lexer": "ipython3",
   "version": "3.10.4"
  }
 },
 "nbformat": 4,
 "nbformat_minor": 5
}
