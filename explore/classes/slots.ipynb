{
 "cells": [
  {
   "cell_type": "markdown",
   "id": "b3b9b808-fd4a-498f-9cc5-9205df655d8a",
   "metadata": {},
   "source": [
    "# Slots"
   ]
  },
  {
   "cell_type": "code",
   "execution_count": 1,
   "id": "972ae241",
   "metadata": {},
   "outputs": [],
   "source": [
    "import traceback"
   ]
  },
  {
   "cell_type": "code",
   "execution_count": 2,
   "id": "e52f6fee-a491-4136-9533-8fa995365f66",
   "metadata": {},
   "outputs": [],
   "source": [
    "class ClassA:\n",
    "    __slots__ = ('a', 'b')\n",
    "    # These attributes will exist always, even when not initialized.\n",
    "    \n",
    "    def __init__(self) -> None:\n",
    "        self.a = 1\n",
    "        # self.c = 3   # cannot be set, the object does not have __dict__"
   ]
  },
  {
   "cell_type": "code",
   "execution_count": 3,
   "id": "107c833f-47c2-496c-8881-a11004309605",
   "metadata": {},
   "outputs": [
    {
     "data": {
      "text/plain": [
       "['__class__',\n",
       " '__delattr__',\n",
       " '__dir__',\n",
       " '__doc__',\n",
       " '__eq__',\n",
       " '__format__',\n",
       " '__ge__',\n",
       " '__getattribute__',\n",
       " '__gt__',\n",
       " '__hash__',\n",
       " '__init__',\n",
       " '__init_subclass__',\n",
       " '__le__',\n",
       " '__lt__',\n",
       " '__module__',\n",
       " '__ne__',\n",
       " '__new__',\n",
       " '__reduce__',\n",
       " '__reduce_ex__',\n",
       " '__repr__',\n",
       " '__setattr__',\n",
       " '__sizeof__',\n",
       " '__slots__',\n",
       " '__str__',\n",
       " '__subclasshook__',\n",
       " 'a',\n",
       " 'b']"
      ]
     },
     "execution_count": 3,
     "metadata": {},
     "output_type": "execute_result"
    }
   ],
   "source": [
    "obj1 = ClassA()\n",
    "dir(obj1)   # uninitialized b is in __dir__"
   ]
  },
  {
   "cell_type": "code",
   "execution_count": 4,
   "id": "a4e1cf37-ca8d-416e-a61e-0723cb59a707",
   "metadata": {
    "editable": true,
    "scrolled": true,
    "slideshow": {
     "slide_type": ""
    },
    "tags": [
     "raises-exception"
    ]
   },
   "outputs": [
    {
     "name": "stderr",
     "output_type": "stream",
     "text": [
      "Traceback (most recent call last):\n",
      "  File \"/tmp/ipykernel_22510/4294725377.py\", line 3, in <module>\n",
      "    obj1.b\n",
      "AttributeError: 'ClassA' object has no attribute 'b'\n"
     ]
    },
    {
     "data": {
      "text/plain": [
       "'Attribute b does not exist.'"
      ]
     },
     "execution_count": 4,
     "metadata": {},
     "output_type": "execute_result"
    }
   ],
   "source": [
    "# uninitialized b cannot be read\n",
    "try:\n",
    "    obj1.b\n",
    "except AttributeError:\n",
    "    traceback.print_exc(limit=1)\n",
    "getattr(obj1, 'b', 'Attribute b does not exist.')"
   ]
  },
  {
   "cell_type": "code",
   "execution_count": 5,
   "id": "c5dc1939",
   "metadata": {
    "tags": [
     "raises-exception"
    ]
   },
   "outputs": [
    {
     "name": "stderr",
     "output_type": "stream",
     "text": [
      "Traceback (most recent call last):\n",
      "  File \"/tmp/ipykernel_22510/2324998203.py\", line 3, in <module>\n",
      "    obj1.c = 3\n",
      "AttributeError: 'ClassA' object has no attribute 'c'\n"
     ]
    }
   ],
   "source": [
    "# An attribute not in __slots__ cannot be set, the object does not have __dict__\n",
    "try:\n",
    "    obj1.c = 3\n",
    "except AttributeError:\n",
    "    traceback.print_exc(limit=1)"
   ]
  },
  {
   "cell_type": "markdown",
   "id": "dd3c8da9",
   "metadata": {},
   "source": [
    "When using annotations, `__slots__` can be set from them avoiding repeated listing\n",
    "of attributes."
   ]
  },
  {
   "cell_type": "code",
   "execution_count": 6,
   "id": "95ebdb73-4e29-4091-a861-4377e564a764",
   "metadata": {
    "editable": true,
    "slideshow": {
     "slide_type": ""
    },
    "tags": []
   },
   "outputs": [],
   "source": [
    "class ClassB:\n",
    "    a: int\n",
    "    b: int\n",
    "\n",
    "    __slots__ = __annotations__.keys()"
   ]
  },
  {
   "cell_type": "code",
   "execution_count": 7,
   "id": "f0657de6-cc04-4b25-a0e5-6e77c159940b",
   "metadata": {
    "editable": true,
    "slideshow": {
     "slide_type": ""
    },
    "tags": []
   },
   "outputs": [],
   "source": [
    "class ClassC:\n",
    "    a: int\n",
    "    b: int\n",
    "\n",
    "    __slots__ = tuple(__annotations__)"
   ]
  }
 ],
 "metadata": {
  "kernelspec": {
   "display_name": "Python 3 (ipykernel)",
   "language": "python",
   "name": "python3"
  },
  "language_info": {
   "codemirror_mode": {
    "name": "ipython",
    "version": 3
   },
   "file_extension": ".py",
   "mimetype": "text/x-python",
   "name": "python",
   "nbconvert_exporter": "python",
   "pygments_lexer": "ipython3",
   "version": "3.10.12"
  }
 },
 "nbformat": 4,
 "nbformat_minor": 5
}
