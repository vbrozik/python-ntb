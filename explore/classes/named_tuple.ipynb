{
 "cells": [
  {
   "cell_type": "markdown",
   "id": "cfce3942-2052-4fab-a70a-bfdb5d85bbb7",
   "metadata": {},
   "source": [
    "# Named tuple"
   ]
  },
  {
   "cell_type": "code",
   "execution_count": 1,
   "id": "64b43132-4fd3-4a7f-9147-4b349e6d1826",
   "metadata": {},
   "outputs": [],
   "source": [
    "from typing import NamedTuple"
   ]
  },
  {
   "cell_type": "code",
   "execution_count": 2,
   "id": "4a0bbc00-3fb4-468a-906e-e6341030aee9",
   "metadata": {},
   "outputs": [
    {
     "data": {
      "text/plain": [
       "TwoIntsA(x=1, y=2)"
      ]
     },
     "execution_count": 2,
     "metadata": {},
     "output_type": "execute_result"
    }
   ],
   "source": [
    "TwoIntsA = NamedTuple(\"TwoIntsA\", [(\"x\", int), (\"y\", int)])\n",
    "TwoIntsA(1, 2)"
   ]
  },
  {
   "cell_type": "code",
   "execution_count": 4,
   "id": "fd01e4c1-63bc-4aa1-b57c-dc0aac55830e",
   "metadata": {},
   "outputs": [
    {
     "data": {
      "text/plain": [
       "TwoIntsB(x=1, y=2)"
      ]
     },
     "execution_count": 4,
     "metadata": {},
     "output_type": "execute_result"
    }
   ],
   "source": [
    "# TODO: Does it matter if we use list or tuple?\n",
    "TwoIntsB = NamedTuple(\"TwoIntsB\", ((\"x\", int), (\"y\", int)))\n",
    "TwoIntsB(1, 2)"
   ]
  },
  {
   "cell_type": "markdown",
   "id": "1c21dbab-2ba7-4ee3-8276-08549f8c4295",
   "metadata": {
    "editable": true,
    "slideshow": {
     "slide_type": ""
    },
    "tags": []
   },
   "source": [
    "## Deprecated\n",
    "\n",
    "Deprecated because this syntax is not supported by type checkers and is rarely being used.\n",
    "* https://docs.python.org/3.13/whatsnew/3.13.html#deprecated\n",
    "* https://github.com/python/cpython/issues/105566"
   ]
  },
  {
   "cell_type": "code",
   "execution_count": 6,
   "id": "1b17244f-2503-4b6a-b652-865400c50523",
   "metadata": {},
   "outputs": [
    {
     "data": {
      "text/plain": [
       "Foo(x=1, y=2)"
      ]
     },
     "execution_count": 6,
     "metadata": {},
     "output_type": "execute_result"
    }
   ],
   "source": [
    "# since Python 3.13\n",
    "TwoIntsC = NamedTuple(\"Foo\", x=int, y=int)\n",
    "TwoIntsC(1, 2)"
   ]
  }
 ],
 "metadata": {
  "kernelspec": {
   "display_name": "Python 3 (ipykernel)",
   "language": "python",
   "name": "python3"
  },
  "language_info": {
   "codemirror_mode": {
    "name": "ipython",
    "version": 3
   },
   "file_extension": ".py",
   "mimetype": "text/x-python",
   "name": "python",
   "nbconvert_exporter": "python",
   "pygments_lexer": "ipython3",
   "version": "3.10.6"
  }
 },
 "nbformat": 4,
 "nbformat_minor": 5
}
