{
 "cells": [
  {
   "cell_type": "markdown",
   "id": "347f19b0-4756-47c1-ba73-4cf441cf810a",
   "metadata": {},
   "source": [
    "# Class relationship concepts\n",
    "\n",
    "* **nominal subtyping**\n",
    "  * based on definition (naminng)\n",
    "  * abstract base types: **abstract classes**\n",
    "  * mainly used in https://peps.python.org/pep-0484/ Type Hints\n",
    "\n",
    "* **structural subtyping**\n",
    "  * also static duck typing\n",
    "  * at run-time: **duck typing**\n",
    "  * based on actual properties of the type\n",
    "  * abstract base types: **protocols**\n",
    "\n",
    "* https://mypy.readthedocs.io/en/stable/faq.html#can-i-use-duck-typing-with-mypy\n",
    "* https://peps.python.org/pep-0483/#subtype-relationships"
   ]
  },
  {
   "cell_type": "markdown",
   "id": "d4338b34-98ba-48a6-b924-cc4eb5392704",
   "metadata": {},
   "source": [
    "## Abstract classes"
   ]
  },
  {
   "cell_type": "code",
   "execution_count": 1,
   "id": "2a9d0d92-67b6-40ee-86a5-05df1c2b8c12",
   "metadata": {},
   "outputs": [],
   "source": [
    "from abc import ABC, abstractmethod"
   ]
  },
  {
   "cell_type": "code",
   "execution_count": null,
   "id": "3142093e-c2d4-49c7-9a76-67ab85706ec1",
   "metadata": {},
   "outputs": [],
   "source": [
    "class DataProviderInterface(ABC):\n",
    "    @abstractmethod                   # prevents creation of object instances until subclass with implementation is created\n",
    "    def get_cool_data(self):\n",
    "        raise NotImplementedError()\n",
    "\n",
    "class DataProvider(DataProviderInterface):\n",
    "    def get_cool_data(self):\n",
    "        return super().get_cool_data()"
   ]
  },
  {
   "cell_type": "code",
   "execution_count": 4,
   "id": "04b3bbaf-c87c-46a3-a380-3f5ea9ce5526",
   "metadata": {},
   "outputs": [
    {
     "ename": "NotImplementedError",
     "evalue": "",
     "output_type": "error",
     "traceback": [
      "\u001b[0;31m---------------------------------------------------------------------------\u001b[0m",
      "\u001b[0;31mNotImplementedError\u001b[0m                       Traceback (most recent call last)",
      "Input \u001b[0;32mIn [4]\u001b[0m, in \u001b[0;36m<cell line: 2>\u001b[0;34m()\u001b[0m\n\u001b[1;32m      1\u001b[0m \u001b[38;5;66;03m# raise class without calling it should also create an instance\u001b[39;00m\n\u001b[0;32m----> 2\u001b[0m \u001b[38;5;28;01mraise\u001b[39;00m \u001b[38;5;167;01mNotImplementedError\u001b[39;00m\n",
      "\u001b[0;31mNotImplementedError\u001b[0m: "
     ]
    }
   ],
   "source": [
    "# raise class without calling it should also create an instance\n",
    "raise NotImplementedError"
   ]
  },
  {
   "cell_type": "code",
   "execution_count": 3,
   "id": "154177b6-cd2c-4f7e-900c-672fb1580426",
   "metadata": {
    "tags": []
   },
   "outputs": [
    {
     "ename": "NotImplementedError",
     "evalue": "",
     "output_type": "error",
     "traceback": [
      "\u001b[0;31m---------------------------------------------------------------------------\u001b[0m",
      "\u001b[0;31mNotImplementedError\u001b[0m                       Traceback (most recent call last)",
      "Input \u001b[0;32mIn [3]\u001b[0m, in \u001b[0;36m<cell line: 1>\u001b[0;34m()\u001b[0m\n\u001b[0;32m----> 1\u001b[0m \u001b[38;5;28;01mraise\u001b[39;00m \u001b[38;5;167;01mNotImplementedError\u001b[39;00m()\n",
      "\u001b[0;31mNotImplementedError\u001b[0m: "
     ]
    }
   ],
   "source": [
    "raise NotImplementedError()"
   ]
  },
  {
   "cell_type": "markdown",
   "id": "7c5e58db-3055-470c-87fd-5cffbe1b849e",
   "metadata": {},
   "source": [
    "## Protocols (duck typing)\n",
    "* https://peps.python.org/pep-0544/\n",
    "* https://mypy.readthedocs.io/en/stable/protocols.html#protocol-types\n",
    "\n",
    "* Protocols cannot be instantiated, so there are no values whose runtime type is a protocol.\n",
    "* A protocol is never a subtype of a concrete type.\n",
    "* A concrete type X is a subtype of protocol P if and only if X implements all protocol members of P with compatible types. In other words, subtyping with respect to a protocol is always structural.\n",
    "* A protocol P1 is a subtype of another protocol P2 if P1 defines all protocol members of P2 with compatible types."
   ]
  },
  {
   "cell_type": "markdown",
   "id": "a354806a-62d7-4565-aae9-a334cf43dbe2",
   "metadata": {
    "tags": []
   },
   "source": [
    "### Predefined in `typing` module\n",
    "* Sized, Iterable, Iterator ..."
   ]
  },
  {
   "cell_type": "code",
   "execution_count": 6,
   "id": "4fbf27d4-c2c7-4147-a22c-c2770caa6889",
   "metadata": {},
   "outputs": [],
   "source": [
    "from typing import Protocol\n",
    "\n",
    "class SupportsClose(Protocol):\n",
    "    def close(self) -> None:\n",
    "        ..."
   ]
  },
  {
   "cell_type": "markdown",
   "id": "4dcd64d4-75aa-40c8-a310-36c206dcb67e",
   "metadata": {},
   "source": [
    "After that all classes implementing `close()` with compatible signature are implicitly sub-types of `SupportsColse`."
   ]
  },
  {
   "cell_type": "markdown",
   "id": "54da161e-f3c5-4f57-a637-3b997518e633",
   "metadata": {},
   "source": [
    "Sub-type can be **declared explicitly**. It can also use default implementation of members from parent."
   ]
  },
  {
   "cell_type": "code",
   "execution_count": 8,
   "id": "54e93505-f75c-49f8-821c-6d105853b7af",
   "metadata": {},
   "outputs": [],
   "source": [
    "class PColor(Protocol):\n",
    "    @abstractmethod\n",
    "    def draw(self) -> str:\n",
    "        ...\n",
    "    def complex_method(self) -> int:\n",
    "        pass  # some complex code here\n",
    "\n",
    "class NiceColor(PColor):\n",
    "    def draw(self) -> str:\n",
    "        return \"deep blue\""
   ]
  },
  {
   "cell_type": "code",
   "execution_count": 9,
   "id": "b7cdb294-eee6-4188-baec-6347f09c3651",
   "metadata": {},
   "outputs": [],
   "source": [
    "# Protocols can be combined in a sub-class.\n",
    "from typing import Sized\n",
    "\n",
    "class SupportsClose(Protocol):\n",
    "    def close(self) -> None:\n",
    "        ...\n",
    "\n",
    "class SizedAndClosable(Sized, SupportsClose, Protocol):\n",
    "    pass"
   ]
  },
  {
   "cell_type": "code",
   "execution_count": 12,
   "id": "ce9bdbbe-21b4-45c4-986a-c23ca6062f48",
   "metadata": {},
   "outputs": [
    {
     "ename": "NameError",
     "evalue": "name 'TypeVar' is not defined",
     "output_type": "error",
     "traceback": [
      "\u001b[0;31m---------------------------------------------------------------------------\u001b[0m",
      "\u001b[0;31mNameError\u001b[0m                                 Traceback (most recent call last)",
      "Input \u001b[0;32mIn [12]\u001b[0m, in \u001b[0;36m<cell line: 2>\u001b[0;34m()\u001b[0m\n\u001b[1;32m      1\u001b[0m \u001b[38;5;66;03m# Generic protocols\u001b[39;00m\n\u001b[0;32m----> 2\u001b[0m T \u001b[38;5;241m=\u001b[39m \u001b[43mTypeVar\u001b[49m(\u001b[38;5;124m'\u001b[39m\u001b[38;5;124mT\u001b[39m\u001b[38;5;124m'\u001b[39m)\n\u001b[1;32m      4\u001b[0m \u001b[38;5;28;01mclass\u001b[39;00m \u001b[38;5;21;01mIterable\u001b[39;00m(Protocol[T]):  \u001b[38;5;66;03m# Protocol[T, S, ...] as a shorthand for Protocol, Generic[T, S, ...]\u001b[39;00m\n\u001b[1;32m      5\u001b[0m     \u001b[38;5;129m@abstractmethod\u001b[39m\n\u001b[1;32m      6\u001b[0m     \u001b[38;5;28;01mdef\u001b[39;00m \u001b[38;5;21m__iter__\u001b[39m(\u001b[38;5;28mself\u001b[39m) \u001b[38;5;241m-\u001b[39m\u001b[38;5;241m>\u001b[39m Iterator[T]:\n",
      "\u001b[0;31mNameError\u001b[0m: name 'TypeVar' is not defined"
     ]
    }
   ],
   "source": [
    "# Generic protocols\n",
    "T = TypeVar('T')\n",
    "\n",
    "class Iterable(Protocol[T]):  # Protocol[T, S, ...] as a shorthand for Protocol, Generic[T, S, ...]\n",
    "    @abstractmethod\n",
    "    def __iter__(self) -> Iterator[T]:\n",
    "        ..."
   ]
  }
 ],
 "metadata": {
  "kernelspec": {
   "display_name": "Python 3 (ipykernel)",
   "language": "python",
   "name": "python3"
  },
  "language_info": {
   "codemirror_mode": {
    "name": "ipython",
    "version": 3
   },
   "file_extension": ".py",
   "mimetype": "text/x-python",
   "name": "python",
   "nbconvert_exporter": "python",
   "pygments_lexer": "ipython3",
   "version": "3.10.4"
  }
 },
 "nbformat": 4,
 "nbformat_minor": 5
}
