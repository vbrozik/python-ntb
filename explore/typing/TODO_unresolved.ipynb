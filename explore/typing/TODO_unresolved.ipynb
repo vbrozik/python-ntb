{
 "cells": [
  {
   "cell_type": "markdown",
   "id": "2e5ca624-4923-4325-825a-1c73895e581c",
   "metadata": {},
   "source": [
    "# Unresolved typing problems"
   ]
  },
  {
   "cell_type": "markdown",
   "id": "733c8bd3-89a6-4f89-a597-26386bf96e27",
   "metadata": {},
   "source": [
    "## TypedDict"
   ]
  },
  {
   "cell_type": "code",
   "execution_count": 2,
   "id": "88c74bac-ec34-4d38-bd33-9106d942bd01",
   "metadata": {},
   "outputs": [
    {
     "ename": "NameError",
     "evalue": "name 'TypeVar' is not defined",
     "output_type": "error",
     "traceback": [
      "\u001b[0;31m---------------------------------------------------------------------------\u001b[0m",
      "\u001b[0;31mNameError\u001b[0m                                 Traceback (most recent call last)",
      "Input \u001b[0;32mIn [2]\u001b[0m, in \u001b[0;36m<cell line: 1>\u001b[0;34m()\u001b[0m\n\u001b[0;32m----> 1\u001b[0m T1 \u001b[38;5;241m=\u001b[39m \u001b[43mTypeVar\u001b[49m(\u001b[38;5;124m\"\u001b[39m\u001b[38;5;124mT1\u001b[39m\u001b[38;5;124m\"\u001b[39m)\n\u001b[1;32m      2\u001b[0m T2 \u001b[38;5;241m=\u001b[39m TypeVar(\u001b[38;5;124m\"\u001b[39m\u001b[38;5;124mT2\u001b[39m\u001b[38;5;124m\"\u001b[39m)\n\u001b[1;32m      4\u001b[0m \u001b[38;5;66;03m# does not work with TypedDict\u001b[39;00m\n",
      "\u001b[0;31mNameError\u001b[0m: name 'TypeVar' is not defined"
     ]
    }
   ],
   "source": [
    "T1 = TypeVar(\"T1\")\n",
    "T2 = TypeVar(\"T2\")\n",
    "\n",
    "# does not work with TypedDict\n",
    "def sub_dict(dictionary: dict[T1, T2], keys: Iterable[T1]) -> dict[T1, T2]:\n",
    "    return {key: dictionary[key] for key in keys if key in dictionary}\n",
    "\n",
    "TD1 = TypeVar(\"TD1\", bound=Mapping)\n",
    "\n",
    "# no\n",
    "def sub_tdict(dictionary: TD1, keys: Iterable[str]) -> TD1:\n",
    "    pass\n",
    "\n",
    "TD1 = TypeVar(\"TD1\", bound=TypedDict)\n",
    "\n",
    "# no\n",
    "def sub_tdict(dictionary: TD1, keys: Iterable[str]) -> TD1:\n",
    "    pass\n",
    "\n",
    "# TypeVar is not subscriptable, cannot use TD1[...]"
   ]
  },
  {
   "cell_type": "code",
   "execution_count": null,
   "id": "a078bac4-4296-4475-a535-642ef0d96a30",
   "metadata": {},
   "outputs": [],
   "source": [
    "# attempt to cast the function for specific TypedDict\n",
    "\n",
    "sub_tdict = cast(Callable[[StatementsDict, Iterable[str]], StatementsDict], sub_dict)"
   ]
  }
 ],
 "metadata": {
  "kernelspec": {
   "display_name": "Python 3 (ipykernel)",
   "language": "python",
   "name": "python3"
  },
  "language_info": {
   "codemirror_mode": {
    "name": "ipython",
    "version": 3
   },
   "file_extension": ".py",
   "mimetype": "text/x-python",
   "name": "python",
   "nbconvert_exporter": "python",
   "pygments_lexer": "ipython3",
   "version": "3.10.4"
  }
 },
 "nbformat": 4,
 "nbformat_minor": 5
}
