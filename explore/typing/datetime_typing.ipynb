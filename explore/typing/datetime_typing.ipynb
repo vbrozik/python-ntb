{
 "cells": [
  {
   "cell_type": "code",
   "execution_count": 1,
   "id": "6066a6ba-30be-4b64-8321-0d7ad71e3324",
   "metadata": {
    "editable": true,
    "slideshow": {
     "slide_type": ""
    },
    "tags": []
   },
   "outputs": [
    {
     "name": "stderr",
     "output_type": "stream",
     "text": [
      "Version 1.0.5\n"
     ]
    }
   ],
   "source": [
    "%load_ext nb_mypy"
   ]
  },
  {
   "cell_type": "code",
   "execution_count": 2,
   "id": "4f4ef630-f026-4cec-a8ea-519418d8053f",
   "metadata": {
    "editable": true,
    "slideshow": {
     "slide_type": ""
    },
    "tags": []
   },
   "outputs": [],
   "source": [
    "import datetime\n",
    "import sys\n",
    "import time\n",
    "from typing import NewType, TypeVar, cast\n",
    "from IPython.display import display     # Imported by default but mypy needs this import"
   ]
  },
  {
   "cell_type": "markdown",
   "id": "aa6e3a19-7570-4929-af6a-c046fe30fef6",
   "metadata": {},
   "source": [
    "Define different types for naïve and timezone aware `datetime`. Source: [What is the recommended way to annotate datetime objects?](https://stackoverflow.com/a/61221473/320437)"
   ]
  },
  {
   "cell_type": "code",
   "execution_count": 3,
   "id": "4e27744f-dc09-4d42-a76c-0677e915e9b3",
   "metadata": {},
   "outputs": [],
   "source": [
    "DatetimeNaive = NewType(\"DatetimeNaive\", datetime.datetime)  # non-aware datetime\n",
    "DatetimeAware = NewType(\"DatetimeAware\", datetime.datetime)  # timezone aware datetime\n",
    "DatetimeLike = TypeVar(\"DatetimeLike\", DatetimeNaive, DatetimeAware)"
   ]
  },
  {
   "cell_type": "code",
   "execution_count": 4,
   "id": "d17692f0-0540-493b-a2f9-bb6f2d0ef0a8",
   "metadata": {},
   "outputs": [],
   "source": [
    "def diff(d1: DatetimeLike, d2: DatetimeLike) -> float:\n",
    "    return (d2 - d1).total_seconds()"
   ]
  },
  {
   "cell_type": "code",
   "execution_count": 5,
   "id": "df6c762f-60e8-42cc-a152-93b0157b76c1",
   "metadata": {},
   "outputs": [],
   "source": [
    "naive_time1 = DatetimeNaive(datetime.datetime.now())\n",
    "aware_time1 = DatetimeAware(datetime.datetime.now(datetime.timezone.utc))\n",
    "time.sleep(1.5)\n",
    "naive_time2 = DatetimeNaive(datetime.datetime.now())\n",
    "aware_time2 = DatetimeAware(datetime.datetime.now(datetime.timezone.utc))"
   ]
  },
  {
   "cell_type": "code",
   "execution_count": 6,
   "id": "453c0404-7f49-4049-9faa-e9391294e64d",
   "metadata": {
    "editable": true,
    "slideshow": {
     "slide_type": ""
    },
    "tags": []
   },
   "outputs": [
    {
     "data": {
      "text/plain": [
       "1.501914"
      ]
     },
     "metadata": {},
     "output_type": "display_data"
    },
    {
     "data": {
      "text/plain": [
       "datetime.timedelta(seconds=1, microseconds=501914)"
      ]
     },
     "metadata": {},
     "output_type": "display_data"
    }
   ],
   "source": [
    "display(diff(naive_time1, naive_time2))\n",
    "display(naive_time2 - naive_time1)"
   ]
  },
  {
   "cell_type": "code",
   "execution_count": 7,
   "id": "08daeaec-d74f-44ee-87a1-694854241d47",
   "metadata": {
    "editable": true,
    "slideshow": {
     "slide_type": ""
    },
    "tags": []
   },
   "outputs": [
    {
     "data": {
      "text/plain": [
       "1.501919"
      ]
     },
     "metadata": {},
     "output_type": "display_data"
    },
    {
     "data": {
      "text/plain": [
       "datetime.timedelta(seconds=1, microseconds=501919)"
      ]
     },
     "metadata": {},
     "output_type": "display_data"
    }
   ],
   "source": [
    "display(diff(aware_time1, aware_time2))\n",
    "display(aware_time2 - aware_time1)"
   ]
  },
  {
   "cell_type": "code",
   "execution_count": 8,
   "id": "a761a255-7a96-41a7-b855-48784a3ffe3a",
   "metadata": {},
   "outputs": [
    {
     "name": "stderr",
     "output_type": "stream",
     "text": [
      "<cell>1: \u001b[34mnote:\u001b[m Revealed type is \u001b[m\u001b[1m\"__main__.DatetimeNaive\"\u001b[m\u001b[m\n",
      "<cell>2: \u001b[34mnote:\u001b[m Revealed type is \u001b[m\u001b[1m\"__main__.DatetimeNaive\"\u001b[m\u001b[m\n",
      "<cell>3: \u001b[34mnote:\u001b[m Revealed type is \u001b[m\u001b[1m\"__main__.DatetimeNaive\"\u001b[m\u001b[m\n"
     ]
    }
   ],
   "source": [
    "reveal_type(naive_time1)\n",
    "reveal_type(naive_time1 + datetime.timedelta(1))\n",
    "reveal_type(naive_time1 + (aware_time2 - aware_time1))"
   ]
  },
  {
   "cell_type": "markdown",
   "id": "02c38220-4605-47b3-bffd-4f6b801a4aaa",
   "metadata": {
    "editable": true,
    "slideshow": {
     "slide_type": ""
    },
    "tags": []
   },
   "source": [
    "Operations on incompatible types raise TypeError:"
   ]
  },
  {
   "cell_type": "code",
   "execution_count": 9,
   "id": "875f5ee2-9584-4b94-a3d6-cce17049a2eb",
   "metadata": {
    "editable": true,
    "slideshow": {
     "slide_type": ""
    },
    "tags": [
     "raises-exception"
    ]
   },
   "outputs": [
    {
     "name": "stderr",
     "output_type": "stream",
     "text": [
      "<cell>1: \u001b[1m\u001b[31merror:\u001b[m No overload variant of \u001b[m\u001b[1m\"__sub__\"\u001b[m of \u001b[m\u001b[1m\"datetime\"\u001b[m matches argument type \u001b[m\u001b[1m\"DatetimeAware\"\u001b[m  \u001b[m\u001b[33m[operator]\u001b[m\n",
      "<cell>1: \u001b[34mnote:\u001b[m Possible overload variants:\u001b[m\n",
      "<cell>1: \u001b[34mnote:\u001b[m     def __sub__(self, DatetimeNaive, /) -> timedelta\u001b[m\n",
      "<cell>1: \u001b[34mnote:\u001b[m     def __sub__(self, timedelta, /) -> DatetimeNaive\u001b[m\n"
     ]
    },
    {
     "ename": "TypeError",
     "evalue": "can't subtract offset-naive and offset-aware datetimes",
     "output_type": "error",
     "traceback": [
      "\u001b[0;31m---------------------------------------------------------------------------\u001b[0m",
      "\u001b[0;31mTypeError\u001b[0m                                 Traceback (most recent call last)",
      "Cell \u001b[0;32mIn[9], line 1\u001b[0m\n\u001b[0;32m----> 1\u001b[0m \u001b[43mnaive_time2\u001b[49m\u001b[43m \u001b[49m\u001b[38;5;241;43m-\u001b[39;49m\u001b[43m \u001b[49m\u001b[43maware_time1\u001b[49m\n",
      "\u001b[0;31mTypeError\u001b[0m: can't subtract offset-naive and offset-aware datetimes"
     ]
    }
   ],
   "source": [
    "naive_time2 - aware_time1"
   ]
  },
  {
   "cell_type": "code",
   "execution_count": 10,
   "id": "fe35e3bf-5900-4424-8883-70b31fdd138f",
   "metadata": {
    "editable": true,
    "slideshow": {
     "slide_type": ""
    },
    "tags": [
     "raises-exception"
    ]
   },
   "outputs": [
    {
     "name": "stderr",
     "output_type": "stream",
     "text": [
      "<cell>1: \u001b[1m\u001b[31merror:\u001b[m Value of type variable \u001b[m\u001b[1m\"DatetimeLike\"\u001b[m of \u001b[m\u001b[1m\"diff\"\u001b[m cannot be \u001b[m\u001b[1m\"datetime\"\u001b[m  \u001b[m\u001b[33m[type-var]\u001b[m\n"
     ]
    },
    {
     "ename": "TypeError",
     "evalue": "can't subtract offset-naive and offset-aware datetimes",
     "output_type": "error",
     "traceback": [
      "\u001b[0;31m---------------------------------------------------------------------------\u001b[0m",
      "\u001b[0;31mTypeError\u001b[0m                                 Traceback (most recent call last)",
      "Cell \u001b[0;32mIn[10], line 1\u001b[0m\n\u001b[0;32m----> 1\u001b[0m \u001b[43mdiff\u001b[49m\u001b[43m(\u001b[49m\u001b[43mnaive_time1\u001b[49m\u001b[43m,\u001b[49m\u001b[43m \u001b[49m\u001b[43maware_time2\u001b[49m\u001b[43m)\u001b[49m\n",
      "Cell \u001b[0;32mIn[4], line 2\u001b[0m, in \u001b[0;36mdiff\u001b[0;34m(d1, d2)\u001b[0m\n\u001b[1;32m      1\u001b[0m \u001b[38;5;28;01mdef\u001b[39;00m\u001b[38;5;250m \u001b[39m\u001b[38;5;21mdiff\u001b[39m(d1: DatetimeLike, d2: DatetimeLike) \u001b[38;5;241m-\u001b[39m\u001b[38;5;241m>\u001b[39m \u001b[38;5;28mfloat\u001b[39m:\n\u001b[0;32m----> 2\u001b[0m     \u001b[38;5;28;01mreturn\u001b[39;00m (\u001b[43md2\u001b[49m\u001b[43m \u001b[49m\u001b[38;5;241;43m-\u001b[39;49m\u001b[43m \u001b[49m\u001b[43md1\u001b[49m)\u001b[38;5;241m.\u001b[39mtotal_seconds()\n",
      "\u001b[0;31mTypeError\u001b[0m: can't subtract offset-naive and offset-aware datetimes"
     ]
    }
   ],
   "source": [
    "diff(naive_time1, aware_time2)"
   ]
  }
 ],
 "metadata": {
  "kernelspec": {
   "display_name": "Python 3 (ipykernel)",
   "language": "python",
   "name": "python3"
  },
  "language_info": {
   "codemirror_mode": {
    "name": "ipython",
    "version": 3
   },
   "file_extension": ".py",
   "mimetype": "text/x-python",
   "name": "python",
   "nbconvert_exporter": "python",
   "pygments_lexer": "ipython3",
   "version": "3.10.12"
  }
 },
 "nbformat": 4,
 "nbformat_minor": 5
}
