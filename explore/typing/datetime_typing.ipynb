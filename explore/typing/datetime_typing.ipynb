{
 "cells": [
  {
   "cell_type": "code",
   "execution_count": 1,
   "id": "6066a6ba-30be-4b64-8321-0d7ad71e3324",
   "metadata": {},
   "outputs": [
    {
     "name": "stderr",
     "output_type": "stream",
     "text": [
      "Version 1.0.3\n"
     ]
    }
   ],
   "source": [
    "%load_ext nb_mypy"
   ]
  },
  {
   "cell_type": "code",
   "execution_count": 2,
   "id": "4f4ef630-f026-4cec-a8ea-519418d8053f",
   "metadata": {},
   "outputs": [],
   "source": [
    "import datetime\n",
    "import time\n",
    "from typing import NewType, TypeVar, cast"
   ]
  },
  {
   "cell_type": "markdown",
   "id": "aa6e3a19-7570-4929-af6a-c046fe30fef6",
   "metadata": {},
   "source": [
    "Define different types for naïve and timezone aware `datetime`. Source: [What is the recommended way to annotate datetime objects?](https://stackoverflow.com/a/61221473/320437)"
   ]
  },
  {
   "cell_type": "code",
   "execution_count": 3,
   "id": "4e27744f-dc09-4d42-a76c-0677e915e9b3",
   "metadata": {},
   "outputs": [],
   "source": [
    "DatetimeNaive = NewType(\"DatetimeNaive\", datetime.datetime)  # non-aware datetime\n",
    "DatetimeAware = NewType(\"DatetimeAware\", datetime.datetime)  # timezone aware datetime\n",
    "DatetimeLike = TypeVar(\"DatetimeLike\", DatetimeNaive, DatetimeAware)"
   ]
  },
  {
   "cell_type": "code",
   "execution_count": 4,
   "id": "d17692f0-0540-493b-a2f9-bb6f2d0ef0a8",
   "metadata": {},
   "outputs": [],
   "source": [
    "def diff(d1: DatetimeLike, d2: DatetimeLike) -> float:\n",
    "    return (d2 - d1).total_seconds()"
   ]
  },
  {
   "cell_type": "code",
   "execution_count": 5,
   "id": "df6c762f-60e8-42cc-a152-93b0157b76c1",
   "metadata": {},
   "outputs": [],
   "source": [
    "naive_time1 = DatetimeNaive(datetime.datetime.now())\n",
    "aware_time1 = DatetimeAware(datetime.datetime.now(datetime.timezone.utc))\n",
    "time.sleep(1.5)\n",
    "naive_time2 = DatetimeNaive(datetime.datetime.now())\n",
    "aware_time2 = DatetimeAware(datetime.datetime.now(datetime.timezone.utc))"
   ]
  },
  {
   "cell_type": "code",
   "execution_count": 6,
   "id": "453c0404-7f49-4049-9faa-e9391294e64d",
   "metadata": {},
   "outputs": [
    {
     "data": {
      "text/plain": [
       "1.502051"
      ]
     },
     "execution_count": 6,
     "metadata": {},
     "output_type": "execute_result"
    }
   ],
   "source": [
    "diff(naive_time1, naive_time2)"
   ]
  },
  {
   "cell_type": "code",
   "execution_count": 7,
   "id": "08daeaec-d74f-44ee-87a1-694854241d47",
   "metadata": {},
   "outputs": [
    {
     "data": {
      "text/plain": [
       "1.502091"
      ]
     },
     "execution_count": 7,
     "metadata": {},
     "output_type": "execute_result"
    }
   ],
   "source": [
    "diff(aware_time1, aware_time2)"
   ]
  },
  {
   "cell_type": "code",
   "execution_count": 11,
   "id": "a761a255-7a96-41a7-b855-48784a3ffe3a",
   "metadata": {},
   "outputs": [
    {
     "name": "stderr",
     "output_type": "stream",
     "text": [
      "<cell>1: note: Revealed type is \"__main__.DatetimeNaive\"\n",
      "<cell>2: note: Revealed type is \"__main__.DatetimeNaive\"\n",
      "<cell>3: note: Revealed type is \"__main__.DatetimeNaive\"\n"
     ]
    }
   ],
   "source": [
    "reveal_type(naive_time1)\n",
    "reveal_type(naive_time1 + datetime.timedelta(1))\n",
    "reveal_type(naive_time1 + (aware_time2 - aware_time1))"
   ]
  },
  {
   "cell_type": "code",
   "execution_count": 14,
   "id": "dc31ee26-4f0e-4c43-91e6-b19f18ff14c4",
   "metadata": {},
   "outputs": [
    {
     "data": {
      "text/plain": [
       "datetime.timedelta(seconds=1, microseconds=502051)"
      ]
     },
     "execution_count": 14,
     "metadata": {},
     "output_type": "execute_result"
    }
   ],
   "source": [
    "naive_time2 - naive_time1"
   ]
  },
  {
   "cell_type": "code",
   "execution_count": 13,
   "id": "875f5ee2-9584-4b94-a3d6-cce17049a2eb",
   "metadata": {},
   "outputs": [
    {
     "name": "stderr",
     "output_type": "stream",
     "text": [
      "<cell>1: error: No overload variant of \"__sub__\" of \"datetime\" matches argument type \"DatetimeAware\"\n",
      "<cell>1: note: Possible overload variants:\n",
      "<cell>1: note:     def __sub__(self, timedelta) -> DatetimeNaive\n",
      "<cell>1: note:     def __sub__(self, DatetimeNaive) -> timedelta\n"
     ]
    },
    {
     "ename": "TypeError",
     "evalue": "can't subtract offset-naive and offset-aware datetimes",
     "output_type": "error",
     "traceback": [
      "\u001b[0;31m---------------------------------------------------------------------------\u001b[0m",
      "\u001b[0;31mTypeError\u001b[0m                                 Traceback (most recent call last)",
      "Input \u001b[0;32mIn [13]\u001b[0m, in \u001b[0;36m<cell line: 1>\u001b[0;34m()\u001b[0m\n\u001b[0;32m----> 1\u001b[0m \u001b[43mnaive_time2\u001b[49m\u001b[43m \u001b[49m\u001b[38;5;241;43m-\u001b[39;49m\u001b[43m \u001b[49m\u001b[43maware_time1\u001b[49m\n",
      "\u001b[0;31mTypeError\u001b[0m: can't subtract offset-naive and offset-aware datetimes"
     ]
    }
   ],
   "source": [
    "naive_time2 - aware_time1"
   ]
  },
  {
   "cell_type": "code",
   "execution_count": 9,
   "id": "fe35e3bf-5900-4424-8883-70b31fdd138f",
   "metadata": {},
   "outputs": [
    {
     "name": "stderr",
     "output_type": "stream",
     "text": [
      "<cell>1: error: Value of type variable \"DatetimeLike\" of \"diff\" cannot be \"datetime\"\n"
     ]
    },
    {
     "ename": "TypeError",
     "evalue": "can't subtract offset-naive and offset-aware datetimes",
     "output_type": "error",
     "traceback": [
      "\u001b[0;31m---------------------------------------------------------------------------\u001b[0m",
      "\u001b[0;31mTypeError\u001b[0m                                 Traceback (most recent call last)",
      "Input \u001b[0;32mIn [9]\u001b[0m, in \u001b[0;36m<cell line: 1>\u001b[0;34m()\u001b[0m\n\u001b[0;32m----> 1\u001b[0m \u001b[43mdiff\u001b[49m\u001b[43m(\u001b[49m\u001b[43mnaive_time1\u001b[49m\u001b[43m,\u001b[49m\u001b[43m \u001b[49m\u001b[43maware_time2\u001b[49m\u001b[43m)\u001b[49m\n",
      "Input \u001b[0;32mIn [4]\u001b[0m, in \u001b[0;36mdiff\u001b[0;34m(d1, d2)\u001b[0m\n\u001b[1;32m      1\u001b[0m \u001b[38;5;28;01mdef\u001b[39;00m \u001b[38;5;21mdiff\u001b[39m(d1: DatetimeLike, d2: DatetimeLike) \u001b[38;5;241m-\u001b[39m\u001b[38;5;241m>\u001b[39m \u001b[38;5;28mfloat\u001b[39m:\n\u001b[0;32m----> 2\u001b[0m     \u001b[38;5;28;01mreturn\u001b[39;00m (\u001b[43md2\u001b[49m\u001b[43m \u001b[49m\u001b[38;5;241;43m-\u001b[39;49m\u001b[43m \u001b[49m\u001b[43md1\u001b[49m)\u001b[38;5;241m.\u001b[39mtotal_seconds()\n",
      "\u001b[0;31mTypeError\u001b[0m: can't subtract offset-naive and offset-aware datetimes"
     ]
    }
   ],
   "source": [
    "diff(naive_time1, aware_time2)"
   ]
  }
 ],
 "metadata": {
  "kernelspec": {
   "display_name": "Python 3 (ipykernel)",
   "language": "python",
   "name": "python3"
  },
  "language_info": {
   "codemirror_mode": {
    "name": "ipython",
    "version": 3
   },
   "file_extension": ".py",
   "mimetype": "text/x-python",
   "name": "python",
   "nbconvert_exporter": "python",
   "pygments_lexer": "ipython3",
   "version": "3.10.4"
  }
 },
 "nbformat": 4,
 "nbformat_minor": 5
}
