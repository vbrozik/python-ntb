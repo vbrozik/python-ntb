{
 "cells": [
  {
   "cell_type": "markdown",
   "id": "17ec36d8-d0b7-4c90-ab53-a2b20495e90e",
   "metadata": {},
   "source": [
    "# pyperf\n",
    "The project is under PSF. The Python pyperf module is a toolkit to write, run and analyze benchmarks.\n",
    "\n",
    "* https://github.com/psf/pyperf\n",
    "* https://pypi.org/project/pyperf/"
   ]
  }
 ],
 "metadata": {
  "kernelspec": {
   "display_name": "Python 3 (ipykernel)",
   "language": "python",
   "name": "python3"
  },
  "language_info": {
   "codemirror_mode": {
    "name": "ipython",
    "version": 3
   },
   "file_extension": ".py",
   "mimetype": "text/x-python",
   "name": "python",
   "nbconvert_exporter": "python",
   "pygments_lexer": "ipython3",
   "version": "3.10.4"
  }
 },
 "nbformat": 4,
 "nbformat_minor": 5
}
