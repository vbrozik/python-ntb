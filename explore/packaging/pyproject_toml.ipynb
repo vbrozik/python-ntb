{
 "cells": [
  {
   "cell_type": "markdown",
   "id": "27390e69-fd69-40e8-bb66-c3c0bb595c0e",
   "metadata": {},
   "source": [
    "# pyproject.toml\n",
    "\n",
    "* https://peps.python.org/pep-0621/\n",
    "* https://ini2toml.readthedocs.io/en/latest/\n",
    "* https://github.com/cameron-simpson/css/blob/pypi/doc/pypa-the-missing-outline.md\n",
    "  * https://discuss.python.org/t/modernising-my-packages-am-i-thinking-about-this-all-wrong/14558?u=vbrozik\n",
    "\n",
    "* https://discuss.python.org/t/should-sdists-include-docs-and-tests/14578"
   ]
  }
 ],
 "metadata": {
  "kernelspec": {
   "display_name": "Python 3 (ipykernel)",
   "language": "python",
   "name": "python3"
  },
  "language_info": {
   "codemirror_mode": {
    "name": "ipython",
    "version": 3
   },
   "file_extension": ".py",
   "mimetype": "text/x-python",
   "name": "python",
   "nbconvert_exporter": "python",
   "pygments_lexer": "ipython3",
   "version": "3.10.4"
  }
 },
 "nbformat": 4,
 "nbformat_minor": 5
}
