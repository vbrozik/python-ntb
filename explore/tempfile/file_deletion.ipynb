{
 "cells": [
  {
   "cell_type": "markdown",
   "id": "497b1292-5b96-4200-bdb9-b5f07f023e0b",
   "metadata": {},
   "source": [
    "# tempfile\n",
    "Details of automated temporary file deletion"
   ]
  },
  {
   "cell_type": "code",
   "execution_count": 1,
   "id": "e102576e-32d7-4bfa-a6d8-af604802c983",
   "metadata": {},
   "outputs": [],
   "source": [
    "import tempfile\n",
    "import os"
   ]
  },
  {
   "cell_type": "code",
   "execution_count": 2,
   "id": "6e7cef93-25c0-468c-b035-a93e601dc4cf",
   "metadata": {},
   "outputs": [],
   "source": [
    "def file_info(file_name: str) -> str:\n",
    "    return f'File: {file_name!r}\\n{os.stat(file_name)}'"
   ]
  },
  {
   "cell_type": "code",
   "execution_count": 3,
   "id": "d55f6bfc-ba31-40d8-9f4e-1a9c8b4dfb71",
   "metadata": {},
   "outputs": [],
   "source": [
    "test_string = '''\n",
    "Lorem ipsum dolor sit amet, consectetur adipiscing elit, sed do eiusmod tempor\n",
    "incididunt ut labore et dolore magna aliqua. Ut enim ad minim veniam, quis\n",
    "nostrud exercitation ullamco laboris nisi ut aliquip ex ea commodo consequat.\n",
    "Duis aute irure dolor in reprehenderit in voluptate velit esse cillum dolore\n",
    "eu fugiat nulla pariatur. Excepteur sint occaecat cupidatat non proident, sunt\n",
    "in culpa qui officia deserunt mollit anim id est laborum.\n",
    "'''"
   ]
  },
  {
   "cell_type": "code",
   "execution_count": 4,
   "id": "37d1ff07-f321-4014-9ef8-44bd2c05ef8f",
   "metadata": {},
   "outputs": [
    {
     "name": "stdout",
     "output_type": "stream",
     "text": [
      "File: '/tmp/tmpbz2rli05'\n",
      "os.stat_result(st_mode=33152, st_ino=62204, st_dev=2080, st_nlink=1, st_uid=1000, st_gid=1000, st_size=0, st_atime=1657979463, st_mtime=1657979463, st_ctime=1657979463)\n",
      "File: '/tmp/tmpbz2rli05'\n",
      "os.stat_result(st_mode=33152, st_ino=62204, st_dev=2080, st_nlink=1, st_uid=1000, st_gid=1000, st_size=447, st_atime=1657979463, st_mtime=1657979463, st_ctime=1657979463)\n",
      "os.path.exists(file.name) = False\n"
     ]
    }
   ],
   "source": [
    "with tempfile.NamedTemporaryFile(mode=\"w\") as file:\n",
    "    print(file_info(file.name))\n",
    "    with file.file:     # CM closes the TMP file\n",
    "        file.file.write(test_string)\n",
    "    # On Windows the file is deleted right after closing! With the default delete=True.\n",
    "    # On Unix-like systems the file is deleted at __exit__().\n",
    "    print(file_info(file.name))\n",
    "print(f'{os.path.exists(file.name) = }')"
   ]
  },
  {
   "cell_type": "markdown",
   "id": "cfc5c516-95a2-4856-8560-3da7cbd29fc5",
   "metadata": {},
   "source": [
    "About `tempfile.NamedTemporaryFile` problem on Windows:\n",
    "* https://github.com/python/cpython/issues/58451\n",
    "* https://github.com/python/cpython/pull/22431"
   ]
  }
 ],
 "metadata": {
  "kernelspec": {
   "display_name": "Python 3 (ipykernel)",
   "language": "python",
   "name": "python3"
  },
  "language_info": {
   "codemirror_mode": {
    "name": "ipython",
    "version": 3
   },
   "file_extension": ".py",
   "mimetype": "text/x-python",
   "name": "python",
   "nbconvert_exporter": "python",
   "pygments_lexer": "ipython3",
   "version": "3.10.4"
  }
 },
 "nbformat": 4,
 "nbformat_minor": 5
}
