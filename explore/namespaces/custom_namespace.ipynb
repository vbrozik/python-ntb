{
 "cells": [
  {
   "cell_type": "markdown",
   "id": "39c74aef-ec9b-424a-89f5-dae819cdd3ff",
   "metadata": {},
   "source": [
    "# Custom namespace"
   ]
  },
  {
   "cell_type": "markdown",
   "id": "188e9162-2866-4905-a22b-33766ba07554",
   "metadata": {},
   "source": [
    "Namespace storing variable history\n"
   ]
  },
  {
   "cell_type": "code",
   "execution_count": 1,
   "id": "570fee4c-a5a0-45bf-b70b-3326a3bb3266",
   "metadata": {
    "tags": []
   },
   "outputs": [],
   "source": [
    "from collections import abc\n",
    "\n",
    "class HistoryNamespace(abc.MutableMapping):\n",
    "\n",
    "    def __init__(self):\n",
    "        self.ns = {}        \n",
    "\n",
    "    def __getitem__(self, key):\n",
    "        return self.ns[key][-1]            # Rule 1. We return last value in history \n",
    "\n",
    "    def __delitem__(self, key):\n",
    "        self.ns[key].append(None)          # Rule 4. Instead of delete we will insert None in history\n",
    "\n",
    "    def __setitem__(self, key, value):     # Rule 3. Instead of update we insert value in history\n",
    "        if key in self.ns:\n",
    "            self.ns[key].append(value)            \n",
    "        else:\n",
    "            self.ns[key] = [value]         # Rule 2. Instead of insert we create history list\n",
    "\n",
    "    def __len__(self):\n",
    "         return len(self.ns)\n",
    "\n",
    "    def __iter__(self):\n",
    "         return iter(self.ns)"
   ]
  },
  {
   "cell_type": "code",
   "execution_count": 2,
   "id": "49ef31ab-a2ea-4a75-8de2-5d13b7c6a7f2",
   "metadata": {},
   "outputs": [],
   "source": [
    "python_commands1 = '''\n",
    "foo = 2\n",
    "foo = 3\n",
    "del foo  \n",
    "foo = 4\n",
    "print(foo)\n",
    "'''"
   ]
  },
  {
   "cell_type": "code",
   "execution_count": 3,
   "id": "d96a25b7-0356-4276-8e5f-fe60116d1cc7",
   "metadata": {},
   "outputs": [],
   "source": [
    "%%script cat --bg --out python_commands2\n",
    "foo = 2\n",
    "foo = 3\n",
    "del foo  \n",
    "foo = 4\n",
    "print(foo)"
   ]
  },
  {
   "cell_type": "code",
   "execution_count": 4,
   "id": "adb991f5-7f6e-40bb-96d6-b0f5b0fb85ce",
   "metadata": {},
   "outputs": [],
   "source": [
    "python_commands2 = str(await python_commands2.read(), encoding='utf-8')"
   ]
  },
  {
   "cell_type": "code",
   "execution_count": 5,
   "id": "d31985a9-5bf9-446b-a1ee-757812b737b9",
   "metadata": {
    "tags": []
   },
   "outputs": [
    {
     "name": "stdout",
     "output_type": "stream",
     "text": [
      "4\n",
      "History of foo: [2, 3, None, 4]\n"
     ]
    }
   ],
   "source": [
    "history_locals = HistoryNamespace()        \n",
    "exec(python_commands2, {}, history_locals)\n",
    "print(\"History of foo:\", history_locals.ns['foo'])"
   ]
  },
  {
   "cell_type": "markdown",
   "id": "8eb8811e-ece5-45e8-9bb2-1d8307188334",
   "metadata": {},
   "source": [
    "### Apply namespace to a function body\n",
    "TDOD: The attempt below is failing. The provided local namespace does not seem to be used in a function body."
   ]
  },
  {
   "cell_type": "code",
   "execution_count": 6,
   "id": "c19a6ec8-888f-45c5-b22c-b234ca8866a2",
   "metadata": {},
   "outputs": [],
   "source": [
    "def python_commands3():\n",
    "    foo = 2\n",
    "    foo = 3\n",
    "    del foo  \n",
    "    foo = 4\n",
    "    print(foo)"
   ]
  },
  {
   "cell_type": "code",
   "execution_count": 7,
   "id": "508f103a-d516-4a91-8782-e697379fb8ca",
   "metadata": {},
   "outputs": [],
   "source": [
    "python_commands3 = python_commands3.__code__"
   ]
  },
  {
   "cell_type": "code",
   "execution_count": 8,
   "id": "dc990690-91fd-404f-b392-7b83dc94e1b6",
   "metadata": {
    "tags": []
   },
   "outputs": [
    {
     "name": "stdout",
     "output_type": "stream",
     "text": [
      "4\n",
      "History of foo: {}\n"
     ]
    }
   ],
   "source": [
    "history_locals = HistoryNamespace()        \n",
    "exec(python_commands3, {}, history_locals)\n",
    "print(\"History of foo:\", history_locals.ns)"
   ]
  }
 ],
 "metadata": {
  "kernelspec": {
   "display_name": "Python 3 (ipykernel)",
   "language": "python",
   "name": "python3"
  },
  "language_info": {
   "codemirror_mode": {
    "name": "ipython",
    "version": 3
   },
   "file_extension": ".py",
   "mimetype": "text/x-python",
   "name": "python",
   "nbconvert_exporter": "python",
   "pygments_lexer": "ipython3",
   "version": "3.10.4"
  }
 },
 "nbformat": 4,
 "nbformat_minor": 5
}
