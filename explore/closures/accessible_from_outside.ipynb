{
 "cells": [
  {
   "cell_type": "markdown",
   "id": "5b5f3022-81f7-4e2e-bc96-2dd0581397c0",
   "metadata": {},
   "source": [
    "# Closure keeps association to an upper name space variable"
   ]
  },
  {
   "cell_type": "markdown",
   "id": "1f0e55d0-9f0e-4385-b035-be00c5f70e37",
   "metadata": {},
   "source": [
    "Here the enclosed global variable `i` can be changed from the outside:"
   ]
  },
  {
   "cell_type": "code",
   "execution_count": 1,
   "id": "4fa8f617-d69a-4e4c-bbc8-d390e8cbb61e",
   "metadata": {
    "tags": []
   },
   "outputs": [
    {
     "name": "stdout",
     "output_type": "stream",
     "text": [
      "function1: 1000 139749113344048\n",
      "function2: 1000 139749113344048\n",
      "function3: 1000 139749113344048\n",
      "\n",
      "function1: 1001 139749094066736\n",
      "function2: 1001 139749094066736\n",
      "function3: 1001 139749094066736\n",
      "\n",
      "function1: 1002 139749113344048\n",
      "function2: 1002 139749113344048\n",
      "function3: 1002 139749113344048\n",
      "\n",
      "function1: 2001 139749094066768\n",
      "function2: 2001 139749094066768\n",
      "function3: 2001 139749094066768\n"
     ]
    }
   ],
   "source": [
    "i = 5\n",
    "\n",
    "function1 = lambda: print(f'function1: {i} {id(i)}')\n",
    "function2 = lambda: print(f'function2: {i} {id(i)}')\n",
    "\n",
    "def function3():\n",
    "    print(f'function3: {i} {id(i)}')\n",
    "\n",
    "for i in range(1000, 1003):\n",
    "    function1()\n",
    "    function2()\n",
    "    function3()\n",
    "    print()\n",
    "\n",
    "i = 2001\n",
    "function1()\n",
    "function2()\n",
    "function3()"
   ]
  },
  {
   "cell_type": "markdown",
   "id": "24e23298-7d4c-4d0d-b8ed-51dd02139b61",
   "metadata": {},
   "source": [
    "## Pylint\n",
    "\n",
    "Pylint has a warning for this:\n",
    "  * cell-var-from-loop / W0640\n",
    "  * https://pylint.readthedocs.io/en/latest/user_guide/messages/warning/cell-var-from-loop.html"
   ]
  }
 ],
 "metadata": {
  "kernelspec": {
   "display_name": "Python 3 (ipykernel)",
   "language": "python",
   "name": "python3"
  },
  "language_info": {
   "codemirror_mode": {
    "name": "ipython",
    "version": 3
   },
   "file_extension": ".py",
   "mimetype": "text/x-python",
   "name": "python",
   "nbconvert_exporter": "python",
   "pygments_lexer": "ipython3",
   "version": "3.10.6"
  }
 },
 "nbformat": 4,
 "nbformat_minor": 5
}
