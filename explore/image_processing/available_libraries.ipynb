{
 "cells": [
  {
   "cell_type": "markdown",
   "id": "d237fdde-2aca-49f1-9b8a-9bed1229e141",
   "metadata": {},
   "source": [
    "* imageio - reading, writing image files\n",
    "* Pillow - image manipulation\n",
    "* OpenCV - computer vision (faster, uses BGR not RGB)\n",
    "* Scikit-Image\n",
    "* skimage ?\n",
    "\n",
    "* numpy - used by many libraries\n",
    "\n",
    "* srovnání\n",
    "  * https://discuss.python.org/t/create-png-image-from-coordinates/16691/10?u=vbrozik"
   ]
  }
 ],
 "metadata": {
  "kernelspec": {
   "display_name": "Python 3 (ipykernel)",
   "language": "python",
   "name": "python3"
  },
  "language_info": {
   "codemirror_mode": {
    "name": "ipython",
    "version": 3
   },
   "file_extension": ".py",
   "mimetype": "text/x-python",
   "name": "python",
   "nbconvert_exporter": "python",
   "pygments_lexer": "ipython3",
   "version": "3.10.4"
  }
 },
 "nbformat": 4,
 "nbformat_minor": 5
}
