{
 "cells": [
  {
   "cell_type": "markdown",
   "id": "51d4479a-cf38-44ae-8d9e-a6ccd9ff1144",
   "metadata": {},
   "source": [
    "# Lazy iterable\n",
    "Iterator which creates its elements lazily."
   ]
  },
  {
   "cell_type": "code",
   "execution_count": 2,
   "id": "d623dd96-7568-48e0-8e22-902661c4cccf",
   "metadata": {},
   "outputs": [],
   "source": [
    "# lazy values - callables returning the value when called\n",
    "def true_monitored():\n",
    "    print('true_monitored')\n",
    "    return 42\n",
    "\n",
    "def false_monitored():\n",
    "    print('false_monitored')\n",
    "    return {}\n",
    "\n",
    "# lazy iterable - produces values (from callables) only when needed\n",
    "def lazy_iterable(iterable):\n",
    "    for item in iterable:\n",
    "        yield item()"
   ]
  },
  {
   "cell_type": "code",
   "execution_count": 3,
   "id": "00cea22a-3cd5-4046-8e26-8a9c5fa7ddc3",
   "metadata": {},
   "outputs": [
    {
     "name": "stdout",
     "output_type": "stream",
     "text": [
      "true_monitored\n",
      "false_monitored\n"
     ]
    },
    {
     "data": {
      "text/plain": [
       "False"
      ]
     },
     "execution_count": 3,
     "metadata": {},
     "output_type": "execute_result"
    }
   ],
   "source": [
    "all(lazy_iterable((true_monitored, false_monitored, true_monitored)))"
   ]
  },
  {
   "cell_type": "code",
   "execution_count": 4,
   "id": "48d635f8-eb69-45c5-868e-7c7acf611ece",
   "metadata": {},
   "outputs": [
    {
     "name": "stdout",
     "output_type": "stream",
     "text": [
      "true_monitored\n"
     ]
    },
    {
     "data": {
      "text/plain": [
       "True"
      ]
     },
     "execution_count": 4,
     "metadata": {},
     "output_type": "execute_result"
    }
   ],
   "source": [
    "any(lazy_iterable((true_monitored, false_monitored, true_monitored)))"
   ]
  }
 ],
 "metadata": {
  "kernelspec": {
   "display_name": "Python 3 (ipykernel)",
   "language": "python",
   "name": "python3"
  },
  "language_info": {
   "codemirror_mode": {
    "name": "ipython",
    "version": 3
   },
   "file_extension": ".py",
   "mimetype": "text/x-python",
   "name": "python",
   "nbconvert_exporter": "python",
   "pygments_lexer": "ipython3",
   "version": "3.10.4"
  }
 },
 "nbformat": 4,
 "nbformat_minor": 5
}
