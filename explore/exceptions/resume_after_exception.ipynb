{
 "cells": [
  {
   "cell_type": "code",
   "execution_count": 1,
   "id": "46bb415d-0dcb-4a96-84b2-9ec0908c2f23",
   "metadata": {},
   "outputs": [
    {
     "name": "stdout",
     "output_type": "stream",
     "text": [
      "-5.0\n",
      "-10.0\n",
      "10.0\n",
      "5.0\n"
     ]
    }
   ],
   "source": [
    "for number in range(-2, 3):\n",
    "    try:\n",
    "        print(10 / number)\n",
    "    except ZeroDivisionError:\n",
    "        continue    # continue only possible if try-except is inside the loop"
   ]
  },
  {
   "cell_type": "markdown",
   "id": "2df9b958-b3c6-4fd6-a3e6-b68f443a3a46",
   "metadata": {},
   "source": [
    "## Generator\n",
    "Use generator to provide functions and collect results. Seems to be rather a game instead of a useful technique."
   ]
  },
  {
   "cell_type": "code",
   "execution_count": 2,
   "id": "1d8e2d83-e3eb-47d9-8ffa-9b8cd44424dd",
   "metadata": {
    "tags": []
   },
   "outputs": [],
   "source": [
    "from typing import Any, Generator, Callable, Iterable\n",
    "\n",
    "ActionReturn = Any\n",
    "Action = Callable[[], ActionReturn]\n",
    "\n",
    "def consume_exceptions(\n",
    "        actions: Generator[Action, ActionReturn, None]) -> None:\n",
    "    \"\"\"Execute actions and send back results using the given generator.\n",
    "    \n",
    "    Args:\n",
    "        actions: generator yeilding argumentless functions and accepting\n",
    "            results (including caught exceptions)\n",
    "    \"\"\"\n",
    "    action = next(actions)\n",
    "    while True:\n",
    "        try:\n",
    "            result = action()\n",
    "        except Exception as exception:\n",
    "            result = exception  # or send the exception as result\n",
    "        try:\n",
    "            action = actions.send(result)\n",
    "        except StopIteration:   # generator used up\n",
    "            return"
   ]
  },
  {
   "cell_type": "code",
   "execution_count": 8,
   "id": "857a3e4a-def8-4f67-9cfd-983deaa2f2fc",
   "metadata": {
    "tags": []
   },
   "outputs": [],
   "source": [
    "def do_smth0():\n",
    "    print('Entering do_smth0.')\n",
    "    return 'Value from do_smth0'\n",
    "\n",
    "def do_smth1():\n",
    "    print('Entering do_smth1.')\n",
    "    return 1 / 0\n",
    "\n",
    "def do_smth2():\n",
    "    print('Entering do_smth2.')\n",
    "    return 'Value from do_smth2'\n",
    "\n",
    "def do_smth3():\n",
    "    print('Entering do_smth3.')\n",
    "    return 3"
   ]
  },
  {
   "cell_type": "code",
   "execution_count": 14,
   "id": "871ecfcb-9ff0-449f-9f81-4b8931c43986",
   "metadata": {},
   "outputs": [
    {
     "name": "stdout",
     "output_type": "stream",
     "text": [
      "Entering do_smth0.\n",
      "'Value from do_smth0'\n",
      "Entering do_smth1.\n",
      "ZeroDivisionError('division by zero')\n",
      "Entering do_smth2.\n",
      "'Value from do_smth2' do something with the result\n",
      "Entering do_smth3.\n",
      "6\n",
      "26\n"
     ]
    }
   ],
   "source": [
    "def do_many_things() -> None:\n",
    "    \"\"\"Provide an example of preparation of generator.\n",
    "    \n",
    "    The generator provides actions (functions) and uses the results.\n",
    "    \"\"\"\n",
    "    print(repr((yield do_smth0)))\n",
    "    print(repr((yield do_smth1)))\n",
    "    print(repr((yield do_smth2)) + ' do something with the result')\n",
    "    print(2 * (yield do_smth3))\n",
    "    print(1 + (yield lambda: 5 * 5))\n",
    "    \n",
    "consume_exceptions(do_many_things())"
   ]
  },
  {
   "cell_type": "code",
   "execution_count": 10,
   "id": "7149eff0-914a-4c10-931a-28914603a694",
   "metadata": {},
   "outputs": [
    {
     "name": "stdout",
     "output_type": "stream",
     "text": [
      "DBG: giving: do_smth0\n",
      "Entering do_smth0.\n",
      "DBG:  - collected: 'Value from do_smth0'\n",
      "\n",
      "DBG: giving: do_smth1\n",
      "Entering do_smth1.\n",
      "DBG:  - collected: ZeroDivisionError('division by zero')\n",
      "\n",
      "DBG: giving: do_smth2\n",
      "Entering do_smth2.\n",
      "DBG:  - collected: 'Value from do_smth2'\n",
      "\n",
      "DBG: giving: do_smth3\n",
      "Entering do_smth3.\n",
      "DBG:  - collected: 3\n",
      "\n",
      "results = ['Value from do_smth0', ZeroDivisionError('division by zero'), 'Value from do_smth2', 3]\n"
     ]
    }
   ],
   "source": [
    "def do_many_things_generic(\n",
    "        functions: Iterable[Action],\n",
    "        results: list[ActionReturn | BaseException]) ->None:\n",
    "    for function in functions:\n",
    "        print(f'DBG: giving: {function.__name__}')\n",
    "        results.append((yield function))  # yield must be inside parentheses to make an expression\n",
    "        print(f'DBG:  - collected: {results[-1]!r}')\n",
    "        print()\n",
    "\n",
    "results = []\n",
    "consume_exceptions(do_many_things_generic(\n",
    "        (do_smth0, do_smth1, do_smth2, do_smth3), results))\n",
    "print(f'{results = }')"
   ]
  }
 ],
 "metadata": {
  "kernelspec": {
   "display_name": "Python 3 (ipykernel)",
   "language": "python",
   "name": "python3"
  },
  "language_info": {
   "codemirror_mode": {
    "name": "ipython",
    "version": 3
   },
   "file_extension": ".py",
   "mimetype": "text/x-python",
   "name": "python",
   "nbconvert_exporter": "python",
   "pygments_lexer": "ipython3",
   "version": "3.10.4"
  }
 },
 "nbformat": 4,
 "nbformat_minor": 5
}
