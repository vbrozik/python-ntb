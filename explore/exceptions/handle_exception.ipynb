{
 "cells": [
  {
   "cell_type": "code",
   "execution_count": 1,
   "id": "bd20aaa4-40d2-447d-a3c5-742e3835977f",
   "metadata": {},
   "outputs": [],
   "source": [
    "import sys"
   ]
  },
  {
   "cell_type": "markdown",
   "id": "210035da-c4e3-4355-9a6b-9f472596fb82",
   "metadata": {},
   "source": [
    "* [`sys.excepthook(type, value, traceback)`](https://docs.python.org/3/library/sys.html#sys.excepthook) - called to handle an exception when not caught\n",
    "* `sys.__excepthook__` - orignal value of the hook"
   ]
  },
  {
   "cell_type": "code",
   "execution_count": 2,
   "id": "cddc56ad-7e9c-4002-b910-334dd16a1298",
   "metadata": {},
   "outputs": [
    {
     "data": {
      "text/plain": [
       "<bound method InteractiveShell.excepthook of <ipykernel.zmqshell.ZMQInteractiveShell object at 0x7f630471c370>>"
      ]
     },
     "execution_count": 2,
     "metadata": {},
     "output_type": "execute_result"
    }
   ],
   "source": [
    "sys.excepthook"
   ]
  },
  {
   "cell_type": "code",
   "execution_count": 3,
   "id": "7ae961ea-66ca-40c1-b170-200246fd3a21",
   "metadata": {},
   "outputs": [
    {
     "data": {
      "text/plain": [
       "<function sys.excepthook(exctype, value, traceback, /)>"
      ]
     },
     "execution_count": 3,
     "metadata": {},
     "output_type": "execute_result"
    }
   ],
   "source": [
    "sys.__excepthook__"
   ]
  },
  {
   "cell_type": "code",
   "execution_count": 4,
   "id": "36258b92-6fe7-4ea6-a047-6b45f3ff648a",
   "metadata": {},
   "outputs": [],
   "source": [
    "# https://stackoverflow.com/questions/38598740/raising-errors-without-traceback\n",
    "import sys\n",
    "from contextlib import contextmanager\n",
    "\n",
    "@contextmanager\n",
    "def except_handler(exc_handler):\n",
    "    \"Sets a custom exception handler for the scope of a 'with' block.\"\n",
    "    excepthook_backup = sys.excepthook\n",
    "    sys.excepthook = exc_handler\n",
    "    yield\n",
    "    sys.excepthook = excepthook_backup"
   ]
  },
  {
   "cell_type": "code",
   "execution_count": 5,
   "id": "47b5f9b4-74a5-4740-b424-4b6115b54e77",
   "metadata": {},
   "outputs": [
    {
     "ename": "AssertionError",
     "evalue": "",
     "output_type": "error",
     "traceback": [
      "\u001b[0;31m---------------------------------------------------------------------------\u001b[0m",
      "\u001b[0;31mAssertionError\u001b[0m                            Traceback (most recent call last)",
      "Input \u001b[0;32mIn [5]\u001b[0m, in \u001b[0;36m<cell line: 2>\u001b[0;34m()\u001b[0m\n\u001b[1;32m      1\u001b[0m \u001b[38;5;66;03m# `excepthook` is not used in Jupyter, the CM does not work here\u001b[39;00m\n\u001b[1;32m      2\u001b[0m \u001b[38;5;28;01mwith\u001b[39;00m except_handler(\u001b[38;5;28;01mlambda\u001b[39;00m a, b, c: \u001b[38;5;28mprint\u001b[39m(\u001b[38;5;124m'\u001b[39m\u001b[38;5;124mahoj\u001b[39m\u001b[38;5;124m'\u001b[39m)):\n\u001b[0;32m----> 3\u001b[0m     \u001b[38;5;28;01massert\u001b[39;00m \u001b[38;5;28;01mFalse\u001b[39;00m\n",
      "\u001b[0;31mAssertionError\u001b[0m: "
     ]
    }
   ],
   "source": [
    "# `excepthook` is not used in Jupyter, the CM does not work here\n",
    "with except_handler(lambda a, b, c: print('ahoj')):\n",
    "    assert False"
   ]
  },
  {
   "cell_type": "markdown",
   "id": "43925acb-2e51-4699-9a57-23faaea55d2b",
   "metadata": {},
   "source": [
    "[Print an error message without printing a traceback and close the program when a condition is not met](https://stackoverflow.com/questions/17784849/print-an-error-message-without-printing-a-traceback-and-close-the-program-when-a)"
   ]
  },
  {
   "cell_type": "code",
   "execution_count": null,
   "id": "094b3b6a-e2b8-4f92-89d1-0347bdb88bee",
   "metadata": {},
   "outputs": [],
   "source": [
    "getattr(sys, \"tracebacklimit\", 1000)  # `1000` is a Python's default value\n",
    "# The variable does not exist by default."
   ]
  }
 ],
 "metadata": {
  "kernelspec": {
   "display_name": "Python 3 (ipykernel)",
   "language": "python",
   "name": "python3"
  },
  "language_info": {
   "codemirror_mode": {
    "name": "ipython",
    "version": 3
   },
   "file_extension": ".py",
   "mimetype": "text/x-python",
   "name": "python",
   "nbconvert_exporter": "python",
   "pygments_lexer": "ipython3",
   "version": "3.10.4"
  }
 },
 "nbformat": 4,
 "nbformat_minor": 5
}
