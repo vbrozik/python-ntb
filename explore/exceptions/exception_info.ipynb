{
 "cells": [
  {
   "cell_type": "markdown",
   "id": "5b49b48f-8432-4f72-9dda-c6fa05220e84",
   "metadata": {},
   "source": [
    "# Getting information about exceptions"
   ]
  },
  {
   "cell_type": "markdown",
   "id": "e5982fa9-8f6f-4980-a459-e01e052a75ee",
   "metadata": {},
   "source": [
    "## Glossary\n",
    "To be completed:\n",
    "* traceback - ? stored summary information about frames for information\n",
    "  * traceback object\n",
    "* execution frame - ? frame of execution state on a level of frame stack includig variables etc.\n",
    "  * frame object\n",
    "* call stack - ? stack of execution frames\n",
    "\n",
    "Modules\n",
    "* [sys](https://docs.python.org/3/library/sys.html)\n",
    "* [traceback](https://docs.python.org/3/library/traceback.html)\n",
    "* [inspect](https://docs.python.org/3/library/inspect.html)"
   ]
  },
  {
   "cell_type": "markdown",
   "id": "b0036ec8-2d69-4cd8-a2dc-c02fdc8181d7",
   "metadata": {
    "tags": []
   },
   "source": [
    "## Module `sys`"
   ]
  },
  {
   "cell_type": "markdown",
   "id": "d540bc5a-30b9-4f06-8176-6656dc85ecf9",
   "metadata": {
    "tags": []
   },
   "source": [
    "### `sys.exc_info()`\n",
    "[`sys.exc_info()`](https://docs.python.org/3/library/sys.html#sys.exc_info) returns a tuple of three values that give information about the exception that is currently being handled, in the stack frame handling the exception (the `try:` block):\n",
    "  * `0` type - type of the exception (a subclass of `BaseException`)\n",
    "  * `1` value - the exception instance\n",
    "    * also contains the traceback object (below) as `__traceback__`\n",
    "  * `2` traceback - [traceback object](https://docs.python.org/3/reference/datamodel.html#traceback-objects)\n",
    "    * `tb_lineno` - line number - starts at the line inside `try:` block\n",
    "    * `tb_lasti` - indicates the precise instruction\n",
    "    * `tb_next` - gets the next traceback frame (or traceback?) (going towards the frame where the exception occurred), `None` at the end\n",
    "    * `tb_frame` - execution [frame object](https://docs.python.org/3/reference/datamodel.html#frame-objects)\n",
    "    * In interactive interpreter also available as `sys.last_traceback`\n",
    "    * Functions:\n",
    "      * `traceback.extract_tb(sys.exc_info()[2])` - returns list of traceback objects of a different kind (FIXME investigate)\n",
    "        * `traceback.extract_tb(sys.exc_info()[2])[-1].lineno` - line where the exception emerged\n",
    "\n",
    "The tuple should not be unpacked to local variables: \"if you get an exception in the except handler, the local vars could get kept in a circular reference and not GC'd\" Best practice is to always just use slices off of sys.exc_info() instead or use other modules like traceback.\n",
    "\n",
    "* frame object\n",
    "  * `sys.exc_info()[2].tb_frame`\n",
    "    * `f_code`\n",
    "      * `co_filename`\n",
    "      * `co_name` - name of the frame (e.g. a function, class, ...)"
   ]
  },
  {
   "cell_type": "code",
   "execution_count": 1,
   "id": "d3e34d95-5f92-4ffe-8a3f-f9276974b688",
   "metadata": {},
   "outputs": [
    {
     "data": {
      "text/plain": [
       "(None, None, None)"
      ]
     },
     "execution_count": 1,
     "metadata": {},
     "output_type": "execute_result"
    }
   ],
   "source": [
    "import sys\n",
    "\n",
    "sys.exc_info()"
   ]
  },
  {
   "cell_type": "markdown",
   "id": "f0504357-607d-4158-abec-373c86127235",
   "metadata": {},
   "source": [
    "## Module `traceback`\n",
    "\n",
    "* `traceback.format_exc()` - return information about exception formated the same way as printed when not handled\n",
    "* `traceback.print_exc()` - as above but sends directly to stderr"
   ]
  }
 ],
 "metadata": {
  "kernelspec": {
   "display_name": "Python 3 (ipykernel)",
   "language": "python",
   "name": "python3"
  },
  "language_info": {
   "codemirror_mode": {
    "name": "ipython",
    "version": 3
   },
   "file_extension": ".py",
   "mimetype": "text/x-python",
   "name": "python",
   "nbconvert_exporter": "python",
   "pygments_lexer": "ipython3",
   "version": "3.10.4"
  }
 },
 "nbformat": 4,
 "nbformat_minor": 5
}
