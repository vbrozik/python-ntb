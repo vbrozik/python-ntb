{
 "cells": [
  {
   "cell_type": "markdown",
   "id": "5d653309-9067-4a3a-b64a-14ba7e285444",
   "metadata": {},
   "source": [
    "Argaparse with dynamic arguments parameters\n",
    "\n",
    "* [Python Argparse conditionally required arguments](https://stackoverflow.com/q/25626109/320437)"
   ]
  },
  {
   "cell_type": "code",
   "execution_count": 1,
   "id": "b13f9bf5-70c7-4ebc-9b99-f063d6888b58",
   "metadata": {},
   "outputs": [],
   "source": [
    "import argparse"
   ]
  },
  {
   "cell_type": "code",
   "execution_count": 13,
   "id": "54685283-de7e-423b-b34b-96b5d8fa366d",
   "metadata": {},
   "outputs": [],
   "source": [
    "def parse_arguments(args=None):\n",
    "    deciding_args_parser = argparse.ArgumentParser(add_help=False)\n",
    "    deciding_args_parser.add_argument(\n",
    "            '--advanced-help', required=False, action='store_true',\n",
    "            help='show the full list of options')\n",
    "    deciding_args, remaining_args = deciding_args_parser.parse_known_args(args)\n",
    "\n",
    "    parser = argparse.ArgumentParser(\n",
    "            description='This is a demonstration of argument parser.',\n",
    "            parents=[deciding_args_parser])\n",
    "    parser.add_argument('-b', '--basic-option', help='Just a basic option.')\n",
    "    parser.add_argument(\n",
    "            '-a', '--advanced-option',\n",
    "            help=('Advanced option!' if deciding_args.advanced_help\n",
    "                else argparse.SUPPRESS))\n",
    "    return parser.parse_args(\n",
    "            remaining_args + (['-h'] if deciding_args.advanced_help else []))"
   ]
  },
  {
   "cell_type": "code",
   "execution_count": 15,
   "id": "3abb3f96-816c-42af-bf0d-b01f0dcc246e",
   "metadata": {},
   "outputs": [
    {
     "name": "stdout",
     "output_type": "stream",
     "text": [
      "usage: ipykernel_launcher.py [-h] [--advanced-help] [-b BASIC_OPTION]\n",
      "\n",
      "This is a demonstration of argument parser.\n",
      "\n",
      "options:\n",
      "  -h, --help            show this help message and exit\n",
      "  --advanced-help       show the full list of options\n",
      "  -b BASIC_OPTION, --basic-option BASIC_OPTION\n",
      "                        Just a basic option.\n"
     ]
    },
    {
     "ename": "SystemExit",
     "evalue": "0",
     "output_type": "error",
     "traceback": [
      "An exception has occurred, use %tb to see the full traceback.\n",
      "\u001b[0;31mSystemExit\u001b[0m\u001b[0;31m:\u001b[0m 0\n"
     ]
    }
   ],
   "source": [
    "parse_arguments(['-h'])"
   ]
  },
  {
   "cell_type": "code",
   "execution_count": 16,
   "id": "3121abbc-050f-42fe-8a8f-022e8808ddaf",
   "metadata": {},
   "outputs": [
    {
     "name": "stdout",
     "output_type": "stream",
     "text": [
      "usage: ipykernel_launcher.py [-h] [--advanced-help] [-b BASIC_OPTION]\n",
      "                             [-a ADVANCED_OPTION]\n",
      "\n",
      "This is a demonstration of argument parser.\n",
      "\n",
      "options:\n",
      "  -h, --help            show this help message and exit\n",
      "  --advanced-help       show the full list of options\n",
      "  -b BASIC_OPTION, --basic-option BASIC_OPTION\n",
      "                        Just a basic option.\n",
      "  -a ADVANCED_OPTION, --advanced-option ADVANCED_OPTION\n",
      "                        Advanced option!\n"
     ]
    },
    {
     "ename": "SystemExit",
     "evalue": "0",
     "output_type": "error",
     "traceback": [
      "An exception has occurred, use %tb to see the full traceback.\n",
      "\u001b[0;31mSystemExit\u001b[0m\u001b[0;31m:\u001b[0m 0\n"
     ]
    }
   ],
   "source": [
    "parse_arguments(['--advanced-help'])"
   ]
  }
 ],
 "metadata": {
  "kernelspec": {
   "display_name": "Python 3 (ipykernel)",
   "language": "python",
   "name": "python3"
  },
  "language_info": {
   "codemirror_mode": {
    "name": "ipython",
    "version": 3
   },
   "file_extension": ".py",
   "mimetype": "text/x-python",
   "name": "python",
   "nbconvert_exporter": "python",
   "pygments_lexer": "ipython3",
   "version": "3.10.6"
  }
 },
 "nbformat": 4,
 "nbformat_minor": 5
}
