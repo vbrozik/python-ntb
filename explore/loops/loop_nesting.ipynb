{
 "cells": [
  {
   "cell_type": "markdown",
   "id": "3028669c-2cd1-4758-9184-7e261c1626a5",
   "metadata": {},
   "source": [
    "# Loop nesting"
   ]
  },
  {
   "cell_type": "code",
   "execution_count": 13,
   "id": "968304c1-981f-4291-a25b-32a1ad086c19",
   "metadata": {},
   "outputs": [],
   "source": [
    "x = 2\n",
    "y = 2\n",
    "\n",
    "fmt = '02d'\n",
    "\n",
    "a_2d_list = []\n",
    "\n",
    "for i in range(x):\n",
    "    a_2d_list.append([])\n",
    "    for j in range(y):\n",
    "        a_2d_list[i].append(i*10 + j)"
   ]
  },
  {
   "cell_type": "code",
   "execution_count": 14,
   "id": "9f1e2b6d-9417-4c2d-83c2-f39d3d30311f",
   "metadata": {},
   "outputs": [
    {
     "data": {
      "text/plain": [
       "[[0, 1], [10, 11]]"
      ]
     },
     "execution_count": 14,
     "metadata": {},
     "output_type": "execute_result"
    }
   ],
   "source": [
    "a_2d_list"
   ]
  },
  {
   "cell_type": "markdown",
   "id": "680b8bfb-3b5c-4684-8254-b5b401e98f0e",
   "metadata": {},
   "source": [
    "Print the 2D array in 2D"
   ]
  },
  {
   "cell_type": "code",
   "execution_count": 15,
   "id": "1162c693-d88f-45d2-9f80-01a6aa464693",
   "metadata": {},
   "outputs": [
    {
     "name": "stdout",
     "output_type": "stream",
     "text": [
      "00 01\n",
      "10 11\n"
     ]
    }
   ],
   "source": [
    "def str_from_2d_list(a_2d_list: list[list], fmt=fmt) -> str:\n",
    "    return '\\n'.join(\n",
    "                ' '.join(f'{item:{fmt}}' for item in row)\n",
    "                for row in a_2d_list)\n",
    "\n",
    "print(str_from_2d_list(a_2d_list))"
   ]
  },
  {
   "cell_type": "markdown",
   "id": "0329c216-ef05-4937-a582-a0424f996fa9",
   "metadata": {},
   "source": [
    "Nested loops inside comprehension are in the same order as normal `for` loops"
   ]
  },
  {
   "cell_type": "code",
   "execution_count": 16,
   "id": "62f58c34-6382-461e-b1b8-44dc34cf5b8f",
   "metadata": {
    "tags": []
   },
   "outputs": [
    {
     "name": "stdout",
     "output_type": "stream",
     "text": [
      "00\n",
      "01\n",
      "10\n",
      "11\n"
     ]
    }
   ],
   "source": [
    "for row in a_2d_list:\n",
    "    for item in row:\n",
    "        print(f'{item:{fmt}}')"
   ]
  },
  {
   "cell_type": "code",
   "execution_count": 23,
   "id": "143e80e2-f28e-4c22-8f16-68d66e24fc95",
   "metadata": {},
   "outputs": [
    {
     "name": "stdout",
     "output_type": "stream",
     "text": [
      "00\n",
      "01\n",
      "10\n",
      "11\n"
     ]
    }
   ],
   "source": [
    "print(\n",
    "        *(\n",
    "            f'{item:{fmt}}'\n",
    "            for row in a_2d_list\n",
    "                for item in row),\n",
    "        sep='\\n')"
   ]
  }
 ],
 "metadata": {
  "kernelspec": {
   "display_name": "Python 3 (ipykernel)",
   "language": "python",
   "name": "python3"
  },
  "language_info": {
   "codemirror_mode": {
    "name": "ipython",
    "version": 3
   },
   "file_extension": ".py",
   "mimetype": "text/x-python",
   "name": "python",
   "nbconvert_exporter": "python",
   "pygments_lexer": "ipython3",
   "version": "3.10.4"
  }
 },
 "nbformat": 4,
 "nbformat_minor": 5
}
