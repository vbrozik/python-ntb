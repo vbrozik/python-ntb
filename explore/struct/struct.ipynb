{
 "cells": [
  {
   "cell_type": "markdown",
   "id": "62129fa1-726d-40e7-a345-c79b8d7164df",
   "metadata": {},
   "source": [
    "# Struct\n",
    "* Create C-language `struct`.\n",
    "* https://docs.python.org/3/library/struct.html"
   ]
  },
  {
   "cell_type": "code",
   "execution_count": 5,
   "id": "bf1b6b25-5099-47bf-aaa0-80b9b92285a4",
   "metadata": {},
   "outputs": [
    {
     "data": {
      "text/plain": [
       "'543'"
      ]
     },
     "execution_count": 5,
     "metadata": {},
     "output_type": "execute_result"
    }
   ],
   "source": [
    "import struct\n",
    "\n",
    "a = 3 + 4*16 + 5*256\n",
    "f'{a:0X}'"
   ]
  },
  {
   "cell_type": "code",
   "execution_count": 10,
   "id": "a5b70600-cc17-445a-ad37-0d021f8e5b52",
   "metadata": {},
   "outputs": [
    {
     "data": {
      "text/plain": [
       "b'C\\x05\\x00\\x00'"
      ]
     },
     "execution_count": 10,
     "metadata": {},
     "output_type": "execute_result"
    }
   ],
   "source": [
    "# 'I' - unsigned integer native size, in native (running platform) order\n",
    "a_uint_bytes = struct.pack('I', a)\n",
    "a_uint_bytes"
   ]
  },
  {
   "cell_type": "code",
   "execution_count": 11,
   "id": "eeb3c5c6-b114-4f93-b8c4-02b88cf543da",
   "metadata": {},
   "outputs": [
    {
     "data": {
      "text/plain": [
       "'43050000'"
      ]
     },
     "execution_count": 11,
     "metadata": {},
     "output_type": "execute_result"
    }
   ],
   "source": [
    "a_uint_bytes.hex()"
   ]
  },
  {
   "cell_type": "code",
   "execution_count": 12,
   "id": "d99cc98b-408f-4cd4-8842-a84c7afd74c0",
   "metadata": {},
   "outputs": [
    {
     "data": {
      "text/plain": [
       "'00000543'"
      ]
     },
     "execution_count": 12,
     "metadata": {},
     "output_type": "execute_result"
    }
   ],
   "source": [
    "# '!I' - unsigned integer 4 bytes, in network order (big-endian)\n",
    "struct.pack('!I', a).hex()"
   ]
  }
 ],
 "metadata": {
  "kernelspec": {
   "display_name": "Python 3 (ipykernel)",
   "language": "python",
   "name": "python3"
  },
  "language_info": {
   "codemirror_mode": {
    "name": "ipython",
    "version": 3
   },
   "file_extension": ".py",
   "mimetype": "text/x-python",
   "name": "python",
   "nbconvert_exporter": "python",
   "pygments_lexer": "ipython3",
   "version": "3.10.4"
  }
 },
 "nbformat": 4,
 "nbformat_minor": 5
}
