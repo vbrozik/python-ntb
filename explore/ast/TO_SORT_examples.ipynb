{
 "cells": [
  {
   "cell_type": "markdown",
   "id": "4b111c16-2d76-4e9d-a8cb-c679a05eadb0",
   "metadata": {},
   "source": [
    "https://docs.python.org/3.9/library/ast.html"
   ]
  },
  {
   "cell_type": "code",
   "execution_count": 1,
   "id": "a0039fc1-ccb2-404f-aa6c-46da4a8e965e",
   "metadata": {},
   "outputs": [],
   "source": [
    "import ast"
   ]
  },
  {
   "cell_type": "code",
   "execution_count": 7,
   "id": "2bd2fb5e-b3e0-41a0-b17d-9d59dff9df75",
   "metadata": {},
   "outputs": [],
   "source": [
    "def print_ast(ast_object):\n",
    "    print(ast.dump(ast_object, indent=4))"
   ]
  },
  {
   "cell_type": "code",
   "execution_count": 8,
   "id": "610b5607-dce3-4d0d-b8c9-cfa2d2e53cef",
   "metadata": {},
   "outputs": [
    {
     "name": "stdout",
     "output_type": "stream",
     "text": [
      "Expression(\n",
      "    body=BinOp(\n",
      "        left=Constant(value=1),\n",
      "        op=Add(),\n",
      "        right=Constant(value=2)))\n",
      "Expression(\n",
      "    body=BinOp(\n",
      "        left=Constant(value=1),\n",
      "        op=Sub(),\n",
      "        right=Constant(value=2)))\n"
     ]
    }
   ],
   "source": [
    "x = ast.parse('1 + 2', mode='eval')\n",
    "print_ast(x)\n",
    "x.body.op = ast.Sub()\n",
    "print_ast(x)"
   ]
  },
  {
   "cell_type": "code",
   "execution_count": 9,
   "id": "c6b2be6a-81e3-4fc1-8ccb-9c399314f56f",
   "metadata": {},
   "outputs": [
    {
     "data": {
      "text/plain": [
       "-1"
      ]
     },
     "execution_count": 9,
     "metadata": {},
     "output_type": "execute_result"
    }
   ],
   "source": [
    "eval(compile(x, '<string>', 'eval'))"
   ]
  }
 ],
 "metadata": {
  "kernelspec": {
   "display_name": "Python 3 (ipykernel)",
   "language": "python",
   "name": "python3"
  },
  "language_info": {
   "codemirror_mode": {
    "name": "ipython",
    "version": 3
   },
   "file_extension": ".py",
   "mimetype": "text/x-python",
   "name": "python",
   "nbconvert_exporter": "python",
   "pygments_lexer": "ipython3",
   "version": "3.10.4"
  }
 },
 "nbformat": 4,
 "nbformat_minor": 5
}
