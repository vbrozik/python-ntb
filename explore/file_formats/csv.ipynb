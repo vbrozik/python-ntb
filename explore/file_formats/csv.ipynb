{
 "cells": [
  {
   "cell_type": "markdown",
   "id": "a9f67f52-46ff-4b40-ab11-1d0d6c744065",
   "metadata": {},
   "source": [
    "# CSV"
   ]
  },
  {
   "cell_type": "code",
   "execution_count": 3,
   "id": "f84e457c-9b35-4f6a-9d80-c5e7ba6c3c56",
   "metadata": {},
   "outputs": [],
   "source": [
    "import csv\n",
    "\n",
    "data = [\n",
    "    [ 1, 2, 3 ],\n",
    "    [ 4, 5, 6 ],\n",
    "]\n",
    "\n",
    "with open('csv_example1.csv', 'w') as file:\n",
    "    csvw = csv.writer(file)\n",
    "    for data_row in data:\n",
    "        csvw.writerow(data_row)"
   ]
  }
 ],
 "metadata": {
  "kernelspec": {
   "display_name": "Python 3 (ipykernel)",
   "language": "python",
   "name": "python3"
  },
  "language_info": {
   "codemirror_mode": {
    "name": "ipython",
    "version": 3
   },
   "file_extension": ".py",
   "mimetype": "text/x-python",
   "name": "python",
   "nbconvert_exporter": "python",
   "pygments_lexer": "ipython3",
   "version": "3.10.4"
  }
 },
 "nbformat": 4,
 "nbformat_minor": 5
}
