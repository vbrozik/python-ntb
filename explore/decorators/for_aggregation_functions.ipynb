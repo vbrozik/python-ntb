{
 "cells": [
  {
   "cell_type": "markdown",
   "id": "42ec2410-f569-49e6-8720-867a6a640105",
   "metadata": {},
   "source": [
    "https://realpython.com/primer-on-python-decorators/"
   ]
  },
  {
   "cell_type": "code",
   "execution_count": 1,
   "id": "3602a5f0-1946-456a-b344-22617c21539f",
   "metadata": {},
   "outputs": [],
   "source": [
    "from collections.abc import Iterable\n",
    "from typing import Iterator\n",
    "import functools\n",
    "\n",
    "\n",
    "def no_none(function):\n",
    "    \"\"\"Decorator which filters out None from argument list or single iterable argument.\n",
    "    \n",
    "    It is designed to be used with functions line min(), max(), sum()\n",
    "    \n",
    "    Examples:\n",
    "    >>> no_none(max)(3, 2, None, 1)\n",
    "        3\n",
    "    \n",
    "    >>> no_none(min)([3, 2, None, 1])\n",
    "        1\n",
    "   \n",
    "    Todo:\n",
    "        * Filter out other values than None.\n",
    "        * Allow default value when no value rests.\n",
    "    \"\"\"\n",
    "    @functools.wraps(function)\n",
    "    def wrapper_no_none(*args, **kwargs):\n",
    "        if len(args) == 1 and isinstance(args[0], Iterable):\n",
    "            return function((arg for arg in args[0] if arg is not None), **kwargs)\n",
    "        return function(*(arg for arg in args if arg is not None), **kwargs)\n",
    "    return wrapper_no_none"
   ]
  },
  {
   "cell_type": "code",
   "execution_count": 2,
   "id": "b95116d5-7738-41bc-b026-7b597d813256",
   "metadata": {},
   "outputs": [
    {
     "data": {
      "text/plain": [
       "3"
      ]
     },
     "execution_count": 2,
     "metadata": {},
     "output_type": "execute_result"
    }
   ],
   "source": [
    "no_none(max)(3, 2, None, 1)"
   ]
  },
  {
   "cell_type": "code",
   "execution_count": 3,
   "id": "f2981978-7346-4d61-b2bd-c2e1ea548768",
   "metadata": {
    "tags": []
   },
   "outputs": [
    {
     "data": {
      "text/plain": [
       "3"
      ]
     },
     "execution_count": 3,
     "metadata": {},
     "output_type": "execute_result"
    }
   ],
   "source": [
    "no_none(max)((3, 2, None, 1))"
   ]
  }
 ],
 "metadata": {
  "kernelspec": {
   "display_name": "Python 3 (ipykernel)",
   "language": "python",
   "name": "python3"
  },
  "language_info": {
   "codemirror_mode": {
    "name": "ipython",
    "version": 3
   },
   "file_extension": ".py",
   "mimetype": "text/x-python",
   "name": "python",
   "nbconvert_exporter": "python",
   "pygments_lexer": "ipython3",
   "version": "3.10.4"
  }
 },
 "nbformat": 4,
 "nbformat_minor": 5
}
