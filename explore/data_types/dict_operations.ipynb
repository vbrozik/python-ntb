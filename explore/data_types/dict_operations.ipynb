{
 "cells": [
  {
   "cell_type": "markdown",
   "id": "a11b06ef-5dc2-4d4a-bdff-e185dc02b607",
   "metadata": {},
   "source": [
    "# Dictionary operations"
   ]
  },
  {
   "cell_type": "code",
   "execution_count": 1,
   "id": "7a844178-4233-432b-95b4-ccc680f466f6",
   "metadata": {},
   "outputs": [],
   "source": [
    "dict1_template = {\n",
    "    'a': 1,\n",
    "    'b': 2,\n",
    "    'c': 3,\n",
    "}\n",
    "dict2_template = {\n",
    "    'a': 11,\n",
    "    'b': 12,\n",
    "    'c': 13,\n",
    "    'd': 14,\n",
    "    'e': 15,\n",
    "}"
   ]
  },
  {
   "cell_type": "code",
   "execution_count": 2,
   "id": "611f26b1-2c87-47e3-86a2-2b3c3fd5e7e4",
   "metadata": {},
   "outputs": [],
   "source": [
    "def copy_dicts() -> tuple[dict, dict]:\n",
    "    return dict1_template.copy(), dict2_template.copy()"
   ]
  },
  {
   "cell_type": "markdown",
   "id": "2fa881af-cb35-42c9-a6d8-8a1f8e4c078c",
   "metadata": {},
   "source": [
    "## Values"
   ]
  },
  {
   "cell_type": "code",
   "execution_count": 3,
   "id": "a6202268-4c9a-47b9-9d31-6a9b7329dc45",
   "metadata": {
    "tags": []
   },
   "outputs": [],
   "source": [
    "dict1, dict2 = copy_dicts()"
   ]
  },
  {
   "cell_type": "code",
   "execution_count": 4,
   "id": "3bedca8e-1a9a-45db-b435-9781d6216dba",
   "metadata": {},
   "outputs": [
    {
     "data": {
      "text/plain": [
       "dict_values([1, 2, 3])"
      ]
     },
     "execution_count": 4,
     "metadata": {},
     "output_type": "execute_result"
    }
   ],
   "source": [
    "# .values() returns iterable (not iterator, can be iterated multiple times)\n",
    "dict1.values()"
   ]
  },
  {
   "cell_type": "code",
   "execution_count": 5,
   "id": "deb04aaa-82a9-43c5-a79a-379267333a4c",
   "metadata": {},
   "outputs": [
    {
     "data": {
      "text/plain": [
       "<dict_reversevalueiterator at 0x7f3c59f82ac0>"
      ]
     },
     "execution_count": 5,
     "metadata": {},
     "output_type": "execute_result"
    }
   ],
   "source": [
    "# reversible\n",
    "reversed(dict1.values())"
   ]
  },
  {
   "cell_type": "code",
   "execution_count": 6,
   "id": "e8bd94a4-c543-495b-bea0-a845c72ed4b4",
   "metadata": {},
   "outputs": [
    {
     "data": {
      "text/plain": [
       "mappingproxy({'a': 1, 'b': 2, 'c': 3})"
      ]
     },
     "execution_count": 6,
     "metadata": {},
     "output_type": "execute_result"
    }
   ],
   "source": [
    "# original dict mapped through `mapping` attribute\n",
    "dict1.values().mapping"
   ]
  },
  {
   "cell_type": "code",
   "execution_count": 7,
   "id": "93bf8efe-7b14-472c-9c8d-b2bfbea4ea10",
   "metadata": {},
   "outputs": [
    {
     "data": {
      "text/plain": [
       "[1, 2, 3]"
      ]
     },
     "execution_count": 7,
     "metadata": {},
     "output_type": "execute_result"
    }
   ],
   "source": [
    "# sorted() returns a list\n",
    "sorted(dict1.values())"
   ]
  },
  {
   "cell_type": "code",
   "execution_count": 8,
   "id": "f03c145c-52cc-4aaa-9e5f-ddb6ac0be3a7",
   "metadata": {},
   "outputs": [
    {
     "name": "stdout",
     "output_type": "stream",
     "text": [
      "{'a': 1, 'b': 2, 'c': 3}\n",
      "{'b': 2, 'c': 3}\n"
     ]
    }
   ],
   "source": [
    "# mazání položky v dict\n",
    "print(dict1)\n",
    "try:\n",
    "    del dict1['a']\n",
    "except KeyError:\n",
    "    print('Key a is not present in the dictionary.')\n",
    "print(dict1)"
   ]
  },
  {
   "cell_type": "code",
   "execution_count": 9,
   "id": "eb038f35-7468-4d82-8a61-969157f1dffb",
   "metadata": {},
   "outputs": [
    {
     "ename": "TypeError",
     "evalue": "'dict_values' object is not subscriptable",
     "output_type": "error",
     "traceback": [
      "\u001b[0;31m---------------------------------------------------------------------------\u001b[0m",
      "\u001b[0;31mTypeError\u001b[0m                                 Traceback (most recent call last)",
      "Input \u001b[0;32mIn [9]\u001b[0m, in \u001b[0;36m<cell line: 2>\u001b[0;34m()\u001b[0m\n\u001b[1;32m      1\u001b[0m \u001b[38;5;66;03m# not subscriptable!\u001b[39;00m\n\u001b[0;32m----> 2\u001b[0m \u001b[43mdict1\u001b[49m\u001b[38;5;241;43m.\u001b[39;49m\u001b[43mvalues\u001b[49m\u001b[43m(\u001b[49m\u001b[43m)\u001b[49m\u001b[43m[\u001b[49m\u001b[38;5;241;43m0\u001b[39;49m\u001b[43m]\u001b[49m\n",
      "\u001b[0;31mTypeError\u001b[0m: 'dict_values' object is not subscriptable"
     ]
    }
   ],
   "source": [
    "# not subscriptable!\n",
    "dict1.values()[0]"
   ]
  },
  {
   "cell_type": "markdown",
   "id": "950487bd-21c3-4835-b133-f491955b7f39",
   "metadata": {
    "tags": []
   },
   "source": [
    "## Union / joining / chaining\n",
    "* https://betterprogramming.pub/new-union-operators-to-merge-dictionaries-in-python-3-9-8c7dbbd1080c"
   ]
  },
  {
   "cell_type": "markdown",
   "id": "cdae4f52-2859-488b-99db-fe8a9d6c1dd5",
   "metadata": {
    "tags": []
   },
   "source": [
    "### Older solutions for union"
   ]
  },
  {
   "cell_type": "code",
   "execution_count": 10,
   "id": "38a27f17-403a-4b5a-b898-c3a0772c7697",
   "metadata": {
    "tags": []
   },
   "outputs": [],
   "source": [
    "dict1, dict2 = copy_dicts()"
   ]
  },
  {
   "cell_type": "code",
   "execution_count": 11,
   "id": "2f473cdc-5a50-4c07-94bf-1c1d7fbbe9a7",
   "metadata": {},
   "outputs": [
    {
     "data": {
      "text/plain": [
       "{'a': 11, 'b': 12, 'c': 13, 'd': 14, 'e': 15}"
      ]
     },
     "execution_count": 11,
     "metadata": {},
     "output_type": "execute_result"
    }
   ],
   "source": [
    "{**dict1,**dict2}"
   ]
  },
  {
   "cell_type": "code",
   "execution_count": 12,
   "id": "571a1b87-bc71-4fd5-aeb9-dedd2b01902a",
   "metadata": {},
   "outputs": [
    {
     "data": {
      "text/plain": [
       "{'a': 11, 'b': 12, 'c': 13, 'd': 14, 'e': 15}"
      ]
     },
     "execution_count": 12,
     "metadata": {},
     "output_type": "execute_result"
    }
   ],
   "source": [
    "dict(dict1,**dict2)"
   ]
  },
  {
   "cell_type": "code",
   "execution_count": 13,
   "id": "3e533e18-5f48-47c2-85ac-9d9d32d6ecab",
   "metadata": {
    "tags": []
   },
   "outputs": [
    {
     "data": {
      "text/plain": [
       "{'a': 11, 'b': 12, 'c': 13, 'd': 14, 'e': 15}"
      ]
     },
     "execution_count": 13,
     "metadata": {},
     "output_type": "execute_result"
    }
   ],
   "source": [
    "# in-place\n",
    "dict1.update(dict2)\n",
    "dict1"
   ]
  },
  {
   "cell_type": "markdown",
   "id": "0be61c97-d37a-4ca2-82ea-c4c9a29202b7",
   "metadata": {
    "tags": [
     "Python3.9+"
    ]
   },
   "source": [
    "### Union operator since Python 3.9"
   ]
  },
  {
   "cell_type": "code",
   "execution_count": null,
   "id": "93dca46a-495d-414e-bbb9-1082691243aa",
   "metadata": {
    "tags": []
   },
   "outputs": [],
   "source": [
    "dict1, dict2 = copy_dicts()"
   ]
  },
  {
   "cell_type": "code",
   "execution_count": null,
   "id": "d18890d9-d26d-41e8-a813-e87070f6b88e",
   "metadata": {},
   "outputs": [],
   "source": [
    "# like {**dict1,**dict2}\n",
    "dict1 | dict2"
   ]
  },
  {
   "cell_type": "code",
   "execution_count": null,
   "id": "6d90f9a1-005c-4e86-8f20-c3eb47ce65d7",
   "metadata": {},
   "outputs": [],
   "source": [
    "dict2 | dict1"
   ]
  },
  {
   "cell_type": "code",
   "execution_count": null,
   "id": "43bad95a-5202-4ec7-ae4c-6d956c7fd015",
   "metadata": {},
   "outputs": [],
   "source": [
    "# like dict1.update(dict2)\n",
    "dict1 |= dict2\n",
    "dict1"
   ]
  },
  {
   "cell_type": "markdown",
   "id": "19672ca1-0757-4d5f-b2bb-8f388c758d62",
   "metadata": {
    "tags": []
   },
   "source": [
    "### collections.ChainMap\n",
    "* https://docs.python.org/3/library/collections.html#collections.ChainMap\n",
    "* Access multiple dictionaries through a mapping.\n",
    "* read / write\n",
    "* Lookups search the underlying mappings successively until a key is found.\n",
    "* Writes, updates, and deletions only operate on the first mapping."
   ]
  },
  {
   "cell_type": "code",
   "execution_count": null,
   "id": "8b388d3a-6ccc-4b44-86d2-3fa178364e5a",
   "metadata": {
    "tags": []
   },
   "outputs": [],
   "source": [
    "dict1, dict2 = copy_dicts()"
   ]
  },
  {
   "cell_type": "code",
   "execution_count": 18,
   "id": "4676e571-a963-4deb-bd89-c6ad940e6a34",
   "metadata": {},
   "outputs": [
    {
     "data": {
      "text/plain": [
       "ChainMap({'a': 11, 'b': 12, 'c': 13, 'd': 14, 'e': 15}, {'a': 11, 'b': 12, 'c': 13, 'd': 14, 'e': 15})"
      ]
     },
     "execution_count": 18,
     "metadata": {},
     "output_type": "execute_result"
    }
   ],
   "source": [
    "import collections\n",
    "\n",
    "cm = collections.ChainMap(dict1, dict2)\n",
    "cm"
   ]
  },
  {
   "cell_type": "code",
   "execution_count": null,
   "id": "ac6a1661-d416-4e3d-b021-be2dc761c6e9",
   "metadata": {},
   "outputs": [],
   "source": [
    "for key in cm:\n",
    "    print(f'{key}: {cm[key]}')"
   ]
  },
  {
   "cell_type": "code",
   "execution_count": null,
   "id": "7852b9b6-0b0c-47dc-b38b-9b77bbc76d83",
   "metadata": {
    "tags": []
   },
   "outputs": [],
   "source": [
    "cm['b'] = 5\n",
    "dict(cm)"
   ]
  },
  {
   "cell_type": "code",
   "execution_count": null,
   "id": "0362d9c1-d68b-4e62-8133-6ae9da513dbf",
   "metadata": {
    "tags": []
   },
   "outputs": [],
   "source": [
    "# Setting a key present only in other dictionaries than the first one still creates it in the first dictionary\n",
    "cm['d'] = 214\n",
    "cm"
   ]
  },
  {
   "cell_type": "code",
   "execution_count": null,
   "id": "1fdfc594-f7b8-4f8d-9e8d-719605c39936",
   "metadata": {},
   "outputs": [],
   "source": [
    "# Keys can be deleted from the first mapped dictionary\n",
    "del cm['b']\n",
    "dict(cm)"
   ]
  },
  {
   "cell_type": "code",
   "execution_count": null,
   "id": "c6849742-b8fc-4083-9b7c-95cdc326b3d8",
   "metadata": {},
   "outputs": [],
   "source": [
    "# Not from the other ones\n",
    "del cm['e']\n",
    "dict(cm)"
   ]
  },
  {
   "cell_type": "code",
   "execution_count": 36,
   "id": "1b83bba1-7c58-4b21-a7f1-4f39ac0c0921",
   "metadata": {},
   "outputs": [
    {
     "data": {
      "text/plain": [
       "False"
      ]
     },
     "execution_count": 36,
     "metadata": {},
     "output_type": "execute_result"
    }
   ],
   "source": [
    "# ChainMap of empty dictionaries translates to False\n",
    "cm = collections.ChainMap({}, {}, {})\n",
    "bool(cm)"
   ]
  },
  {
   "cell_type": "markdown",
   "id": "d4a956f8-9dd8-4a29-bc9e-b6661146c796",
   "metadata": {},
   "source": [
    "### Read-only ChainMap"
   ]
  },
  {
   "cell_type": "code",
   "execution_count": null,
   "id": "3bc9180c-80d3-43b6-8347-02bdff1c09cf",
   "metadata": {
    "tags": []
   },
   "outputs": [],
   "source": [
    "dict1, dict2 = copy_dicts()"
   ]
  },
  {
   "cell_type": "code",
   "execution_count": 16,
   "id": "69fe616b-d1ef-4e90-883b-1914b5edc611",
   "metadata": {},
   "outputs": [],
   "source": [
    "import types"
   ]
  },
  {
   "cell_type": "code",
   "execution_count": 31,
   "id": "28e601c1-588f-46a9-a09f-f4bf58bd5bf4",
   "metadata": {},
   "outputs": [
    {
     "data": {
      "text/plain": [
       "ChainMap(mappingproxy({}), {'a': 11, 'b': 12, 'c': 13, 'd': 14, 'e': 15}, {'a': 11, 'b': 12, 'c': 13, 'd': 14, 'e': 15})"
      ]
     },
     "execution_count": 31,
     "metadata": {},
     "output_type": "execute_result"
    }
   ],
   "source": [
    "cm = collections.ChainMap(types.MappingProxyType({}), dict1, dict2)\n",
    "cm"
   ]
  },
  {
   "cell_type": "code",
   "execution_count": 24,
   "id": "48a81b12-be5a-4b37-a76f-452f98fe805c",
   "metadata": {},
   "outputs": [
    {
     "data": {
      "text/plain": [
       "mappingproxy({'a': 11, 'b': 12, 'c': 13, 'd': 14, 'e': 15})"
      ]
     },
     "execution_count": 24,
     "metadata": {},
     "output_type": "execute_result"
    }
   ],
   "source": [
    "cm2 = types.MappingProxyType(collections.ChainMap(dict1, dict2))\n",
    "cm2"
   ]
  },
  {
   "cell_type": "code",
   "execution_count": 23,
   "id": "8c9cd806-db76-4bc7-85a3-feffea322c79",
   "metadata": {},
   "outputs": [
    {
     "data": {
      "text/plain": [
       "{'a': 11, 'b': 12, 'c': 13, 'd': 14, 'e': 15}"
      ]
     },
     "execution_count": 23,
     "metadata": {},
     "output_type": "execute_result"
    }
   ],
   "source": [
    "dict(cm)"
   ]
  },
  {
   "cell_type": "code",
   "execution_count": 20,
   "id": "1b7d474c-8225-47aa-a308-b6cd6793c52e",
   "metadata": {},
   "outputs": [
    {
     "ename": "TypeError",
     "evalue": "'mappingproxy' object does not support item deletion",
     "output_type": "error",
     "traceback": [
      "\u001b[0;31m---------------------------------------------------------------------------\u001b[0m",
      "\u001b[0;31mTypeError\u001b[0m                                 Traceback (most recent call last)",
      "Input \u001b[0;32mIn [20]\u001b[0m, in \u001b[0;36m<cell line: 1>\u001b[0;34m()\u001b[0m\n\u001b[0;32m----> 1\u001b[0m \u001b[38;5;28;01mdel\u001b[39;00m cm[\u001b[38;5;124m'\u001b[39m\u001b[38;5;124ma\u001b[39m\u001b[38;5;124m'\u001b[39m]\n",
      "File \u001b[0;32m/usr/lib/python3.10/collections/__init__.py:1042\u001b[0m, in \u001b[0;36mChainMap.__delitem__\u001b[0;34m(self, key)\u001b[0m\n\u001b[1;32m   1040\u001b[0m \u001b[38;5;28;01mdef\u001b[39;00m \u001b[38;5;21m__delitem__\u001b[39m(\u001b[38;5;28mself\u001b[39m, key):\n\u001b[1;32m   1041\u001b[0m     \u001b[38;5;28;01mtry\u001b[39;00m:\n\u001b[0;32m-> 1042\u001b[0m         \u001b[38;5;28;01mdel\u001b[39;00m \u001b[38;5;28mself\u001b[39m\u001b[38;5;241m.\u001b[39mmaps[\u001b[38;5;241m0\u001b[39m][key]\n\u001b[1;32m   1043\u001b[0m     \u001b[38;5;28;01mexcept\u001b[39;00m \u001b[38;5;167;01mKeyError\u001b[39;00m:\n\u001b[1;32m   1044\u001b[0m         \u001b[38;5;28;01mraise\u001b[39;00m \u001b[38;5;167;01mKeyError\u001b[39;00m(\u001b[38;5;124mf\u001b[39m\u001b[38;5;124m'\u001b[39m\u001b[38;5;124mKey not found in the first mapping: \u001b[39m\u001b[38;5;132;01m{\u001b[39;00mkey\u001b[38;5;132;01m!r}\u001b[39;00m\u001b[38;5;124m'\u001b[39m)\n",
      "\u001b[0;31mTypeError\u001b[0m: 'mappingproxy' object does not support item deletion"
     ]
    }
   ],
   "source": [
    "del cm['a']"
   ]
  },
  {
   "cell_type": "code",
   "execution_count": 21,
   "id": "8b7159c1-8d3f-4e59-bce8-53976efe0633",
   "metadata": {},
   "outputs": [
    {
     "ename": "TypeError",
     "evalue": "'mappingproxy' object does not support item assignment",
     "output_type": "error",
     "traceback": [
      "\u001b[0;31m---------------------------------------------------------------------------\u001b[0m",
      "\u001b[0;31mTypeError\u001b[0m                                 Traceback (most recent call last)",
      "Input \u001b[0;32mIn [21]\u001b[0m, in \u001b[0;36m<cell line: 1>\u001b[0;34m()\u001b[0m\n\u001b[0;32m----> 1\u001b[0m cm[\u001b[38;5;124m'\u001b[39m\u001b[38;5;124ma\u001b[39m\u001b[38;5;124m'\u001b[39m] \u001b[38;5;241m=\u001b[39m \u001b[38;5;241m555\u001b[39m\n",
      "File \u001b[0;32m/usr/lib/python3.10/collections/__init__.py:1038\u001b[0m, in \u001b[0;36mChainMap.__setitem__\u001b[0;34m(self, key, value)\u001b[0m\n\u001b[1;32m   1037\u001b[0m \u001b[38;5;28;01mdef\u001b[39;00m \u001b[38;5;21m__setitem__\u001b[39m(\u001b[38;5;28mself\u001b[39m, key, value):\n\u001b[0;32m-> 1038\u001b[0m     \u001b[38;5;28mself\u001b[39m\u001b[38;5;241m.\u001b[39mmaps[\u001b[38;5;241m0\u001b[39m][key] \u001b[38;5;241m=\u001b[39m value\n",
      "\u001b[0;31mTypeError\u001b[0m: 'mappingproxy' object does not support item assignment"
     ]
    }
   ],
   "source": [
    "cm['a'] = 555"
   ]
  },
  {
   "cell_type": "code",
   "execution_count": 22,
   "id": "616d8086-eb09-47b8-a6b1-5881dfa0cbea",
   "metadata": {},
   "outputs": [
    {
     "ename": "TypeError",
     "evalue": "'mappingproxy' object does not support item assignment",
     "output_type": "error",
     "traceback": [
      "\u001b[0;31m---------------------------------------------------------------------------\u001b[0m",
      "\u001b[0;31mTypeError\u001b[0m                                 Traceback (most recent call last)",
      "Input \u001b[0;32mIn [22]\u001b[0m, in \u001b[0;36m<cell line: 1>\u001b[0;34m()\u001b[0m\n\u001b[0;32m----> 1\u001b[0m cm[\u001b[38;5;124m'\u001b[39m\u001b[38;5;124mzzz\u001b[39m\u001b[38;5;124m'\u001b[39m] \u001b[38;5;241m=\u001b[39m \u001b[38;5;241m1\u001b[39m\n",
      "File \u001b[0;32m/usr/lib/python3.10/collections/__init__.py:1038\u001b[0m, in \u001b[0;36mChainMap.__setitem__\u001b[0;34m(self, key, value)\u001b[0m\n\u001b[1;32m   1037\u001b[0m \u001b[38;5;28;01mdef\u001b[39;00m \u001b[38;5;21m__setitem__\u001b[39m(\u001b[38;5;28mself\u001b[39m, key, value):\n\u001b[0;32m-> 1038\u001b[0m     \u001b[38;5;28mself\u001b[39m\u001b[38;5;241m.\u001b[39mmaps[\u001b[38;5;241m0\u001b[39m][key] \u001b[38;5;241m=\u001b[39m value\n",
      "\u001b[0;31mTypeError\u001b[0m: 'mappingproxy' object does not support item assignment"
     ]
    }
   ],
   "source": [
    "cm['zzz'] = 1"
   ]
  },
  {
   "cell_type": "markdown",
   "id": "ee0e6967-f433-44d3-b2a2-958f879e387d",
   "metadata": {},
   "source": [
    "### ChainMap reimplementation"
   ]
  },
  {
   "cell_type": "code",
   "execution_count": 50,
   "id": "a95c8ccd-d51f-4c37-8017-9cbea5f2efec",
   "metadata": {},
   "outputs": [
    {
     "ename": "SyntaxError",
     "evalue": "Missing parentheses in call to 'print'. Did you mean print(...)? (2950139134.py, line 33)",
     "output_type": "error",
     "traceback": [
      "\u001b[0;36m  Input \u001b[0;32mIn [50]\u001b[0;36m\u001b[0m\n\u001b[0;31m    print cm['f']\u001b[0m\n\u001b[0m    ^\u001b[0m\n\u001b[0;31mSyntaxError\u001b[0m\u001b[0;31m:\u001b[0m Missing parentheses in call to 'print'. Did you mean print(...)?\n"
     ]
    }
   ],
   "source": [
    "# https://code.activestate.com/recipes/305268/\n",
    "\n",
    "import UserDict\n",
    "\n",
    "class Chainmap(UserDict.DictMixin):\n",
    "    \"\"\"Combine multiple mappings for sequential lookup.\n",
    "\n",
    "    For example, to emulate Python's normal lookup sequence:\n",
    "\n",
    "        import __builtin__\n",
    "        pylookup = Chainmap(locals(), globals(), vars(__builtin__))        \n",
    "    \"\"\"\n",
    "\n",
    "    def __init__(self, *maps):\n",
    "        self._maps = maps\n",
    "\n",
    "    def __getitem__(self, key):\n",
    "        for mapping in self._maps:\n",
    "            try:\n",
    "                return mapping[key]\n",
    "            except KeyError:\n",
    "                pass\n",
    "        raise KeyError(key)\n",
    "\n",
    "if __name__ == \"__main__\":\n",
    "    d1 = {'a':1, 'b':2}\n",
    "    d2 = {'a':3, 'd':4}\n",
    "    cm = Chainmap(d1, d2)\n",
    "    assert cm['a'] == 1\n",
    "    assert cm['b'] == 2\n",
    "    assert cm['d'] == 4\n",
    "    try:\n",
    "        print cm['f']\n",
    "    except KeyError:\n",
    "        pass\n",
    "    else:\n",
    "        raise Exception('Did not raise KeyError for missing key')\n",
    "    assert 'a' in cm  and  'b' in cm  and  'd' in cm\n",
    "    assert cm.get('a', 10) == 1\n",
    "    assert cm.get('b', 20) == 2\n",
    "    assert cm.get('d', 30) == 4\n",
    "    assert cm.get('f', 40) == 40"
   ]
  },
  {
   "cell_type": "markdown",
   "id": "57436621-2b88-48bd-afb1-72f2a5af2504",
   "metadata": {},
   "source": [
    "### ChainMap iteration order\n",
    "Dictionariees in ChainMap are iterated in reverse order, items in them in normal order"
   ]
  },
  {
   "cell_type": "code",
   "execution_count": 49,
   "id": "864c8fe0-6dcd-4bcc-9144-3bf30a5a46f0",
   "metadata": {},
   "outputs": [
    {
     "name": "stdout",
     "output_type": "stream",
     "text": [
      "{'e': 5, 'f': 6, 'c': 3, 'd': 4, 'a': 1, 'b': 2}\n",
      "{'a': 1, 'b': 2, 'c': 3, 'd': 4, 'e': 5, 'f': 6}\n",
      "{'a': 1, 'b': 2, 'c': 3, 'd': 4, 'e': 5, 'f': 6}\n"
     ]
    }
   ],
   "source": [
    "dict1 = {'a': 1, 'b': 2}\n",
    "dict2 = {'c': 3, 'd': 4}\n",
    "dict3 = {'e': 5, 'f': 6}\n",
    "\n",
    "from collections import ChainMap\n",
    "\n",
    "cm = ChainMap(dict1, dict2, dict3)\n",
    "print(dict(cm))\n",
    "cm1 = ChainMap(*reversed(cm.maps))   # we can create a new map with reversed maps\n",
    "print(dict(cm1))\n",
    "\n",
    "cm.maps.reverse()                    # or we can reverse list of maps in-place\n",
    "print(dict(cm))"
   ]
  }
 ],
 "metadata": {
  "kernelspec": {
   "display_name": "Python 3 (ipykernel)",
   "language": "python",
   "name": "python3"
  },
  "language_info": {
   "codemirror_mode": {
    "name": "ipython",
    "version": 3
   },
   "file_extension": ".py",
   "mimetype": "text/x-python",
   "name": "python",
   "nbconvert_exporter": "python",
   "pygments_lexer": "ipython3",
   "version": "3.10.4"
  },
  "toc-autonumbering": false,
  "toc-showcode": false,
  "toc-showmarkdowntxt": false,
  "toc-showtags": false
 },
 "nbformat": 4,
 "nbformat_minor": 5
}
