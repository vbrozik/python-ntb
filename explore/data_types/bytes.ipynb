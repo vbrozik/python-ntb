{
 "cells": [
  {
   "cell_type": "markdown",
   "id": "482e7bf7-689b-418d-8b36-8c591486d372",
   "metadata": {},
   "source": [
    "# Bytes"
   ]
  },
  {
   "cell_type": "code",
   "execution_count": 1,
   "id": "d466bbde-3f59-41a4-86d2-8e46229ea302",
   "metadata": {},
   "outputs": [
    {
     "data": {
      "text/plain": [
       "b'\\x01\\x02\\x03'"
      ]
     },
     "execution_count": 1,
     "metadata": {},
     "output_type": "execute_result"
    }
   ],
   "source": [
    "# bytes from iterable\n",
    "bytes((1, 2, 3))"
   ]
  },
  {
   "cell_type": "code",
   "execution_count": 2,
   "id": "baf7c875-c649-4949-90f5-270879d57323",
   "metadata": {},
   "outputs": [
    {
     "data": {
      "text/plain": [
       "b'\\x00'"
      ]
     },
     "execution_count": 2,
     "metadata": {},
     "output_type": "execute_result"
    }
   ],
   "source": [
    "# bytes items are int, not single-element bytes!\n",
    "record = b'0.03\\r\\n\\x00'\n",
    "record[-1]    # this is int !\n",
    "record[-1:]   # this is single-element bytes"
   ]
  },
  {
   "cell_type": "code",
   "execution_count": 3,
   "id": "90d19081-e9b8-48b1-a927-0b48b2a84f3b",
   "metadata": {},
   "outputs": [
    {
     "data": {
      "text/plain": [
       "0.03"
      ]
     },
     "execution_count": 3,
     "metadata": {},
     "output_type": "execute_result"
    }
   ],
   "source": [
    "# float() accepts bytes\n",
    "float(b'0.03')"
   ]
  },
  {
   "cell_type": "code",
   "execution_count": 4,
   "id": "9aad64bd-3c93-4553-983b-01facdaf8d28",
   "metadata": {},
   "outputs": [
    {
     "data": {
      "text/plain": [
       "b'0.03'"
      ]
     },
     "execution_count": 4,
     "metadata": {},
     "output_type": "execute_result"
    }
   ],
   "source": [
    "# stripping null and newline characters\n",
    "b'0.03\\r\\n\\x00'.rstrip(b'\\x00\\r\\n')"
   ]
  },
  {
   "cell_type": "code",
   "execution_count": 5,
   "id": "13e79f07-4831-469f-bacb-9ec915a4aa90",
   "metadata": {},
   "outputs": [
    {
     "data": {
      "text/plain": [
       "b'a\\x00b'"
      ]
     },
     "execution_count": 5,
     "metadata": {},
     "output_type": "execute_result"
    }
   ],
   "source": [
    "# octal escape can be shortened\n",
    "b'a\\0b'"
   ]
  },
  {
   "cell_type": "code",
   "execution_count": 6,
   "id": "7e0bb995-1076-4a19-b182-ef6082eba900",
   "metadata": {},
   "outputs": [
    {
     "data": {
      "text/plain": [
       "b'a*b'"
      ]
     },
     "execution_count": 6,
     "metadata": {},
     "output_type": "execute_result"
    }
   ],
   "source": [
    "# if not followed by a digit 0-7\n",
    "b'a\\052b'"
   ]
  },
  {
   "cell_type": "markdown",
   "id": "c2d2459d-f83e-44b0-99df-77a51e71470b",
   "metadata": {},
   "source": [
    "## Representation"
   ]
  },
  {
   "cell_type": "code",
   "execution_count": 7,
   "id": "6d3b461b-2ee2-46f5-87ad-596e14811b7a",
   "metadata": {
    "tags": []
   },
   "outputs": [
    {
     "data": {
      "text/plain": [
       "'cd4c073dfc000020'"
      ]
     },
     "execution_count": 7,
     "metadata": {},
     "output_type": "execute_result"
    }
   ],
   "source": [
    "# as hexadecimal\n",
    "b'\\xcdL\\x07=\\xfc\\x00\\x00 '.hex()"
   ]
  },
  {
   "cell_type": "markdown",
   "id": "01c0fc56-fe2c-4677-a443-d175b884c2f6",
   "metadata": {},
   "source": [
    "## Any byte sequence in string for system interface\n",
    "* [PEP 383 – Non-decodable Bytes in System Character Interfaces](https://peps.python.org/pep-0383/)\n",
    "\n",
    "\"non-decodable bytes >= 128 will be represented as lone surrogate codes U+DC80..U+DCFF. Bytes below 128 will produce exceptions\"\n",
    "\n",
    "\"This PEP allows the possibility of “smuggling” bytes in character strings. This would be a security risk if the bytes are security-critical when interpreted as characters on a target system, such as path name separators. For this reason, the PEP rejects smuggling bytes below 128.\"\n",
    "\n",
    "https://discuss.python.org/t/drop-supporting-bytes-on-sys-path/17225/6?u=vbrozik"
   ]
  },
  {
   "cell_type": "code",
   "execution_count": 20,
   "id": "faec0602-93c7-4008-9428-6fdd052a943a",
   "metadata": {},
   "outputs": [
    {
     "data": {
      "text/plain": [
       "['\\udce5\\udce6']"
      ]
     },
     "execution_count": 20,
     "metadata": {},
     "output_type": "execute_result"
    }
   ],
   "source": [
    "import os\n",
    "open(b'\\xe5\\xe6', 'wb').close()\n",
    "[\n",
    "    name for name in os.listdir('.') # ['\\udce5\\udce6']\n",
    "    if not name[0].isprintable()]"
   ]
  },
  {
   "cell_type": "code",
   "execution_count": 21,
   "id": "87327083-0ac4-4b1a-aa91-0303f237301f",
   "metadata": {},
   "outputs": [],
   "source": [
    "os.remove(b'\\xe5\\xe6')"
   ]
  },
  {
   "cell_type": "code",
   "execution_count": 11,
   "id": "d4a27ad5-01fe-4666-8427-ccb70a8e0fc9",
   "metadata": {},
   "outputs": [
    {
     "ename": "UnicodeEncodeError",
     "evalue": "'utf-8' codec can't encode characters in position 0-1: surrogates not allowed",
     "output_type": "error",
     "traceback": [
      "\u001b[0;31m---------------------------------------------------------------------------\u001b[0m",
      "\u001b[0;31mUnicodeEncodeError\u001b[0m                        Traceback (most recent call last)",
      "Input \u001b[0;32mIn [11]\u001b[0m, in \u001b[0;36m<cell line: 2>\u001b[0;34m()\u001b[0m\n\u001b[1;32m      1\u001b[0m \u001b[38;5;66;03m# direct translation to bytes not possible\u001b[39;00m\n\u001b[0;32m----> 2\u001b[0m \u001b[38;5;28;43mbytes\u001b[39;49m\u001b[43m(\u001b[49m\u001b[38;5;124;43m'\u001b[39;49m\u001b[38;5;130;43;01m\\udce5\u001b[39;49;00m\u001b[38;5;130;43;01m\\udce6\u001b[39;49;00m\u001b[38;5;124;43m'\u001b[39;49m\u001b[43m,\u001b[49m\u001b[43m \u001b[49m\u001b[38;5;124;43m'\u001b[39;49m\u001b[38;5;124;43mutf-8\u001b[39;49m\u001b[38;5;124;43m'\u001b[39;49m\u001b[43m)\u001b[49m\n",
      "\u001b[0;31mUnicodeEncodeError\u001b[0m: 'utf-8' codec can't encode characters in position 0-1: surrogates not allowed"
     ]
    }
   ],
   "source": [
    "# direct translation to bytes not possible\n",
    "bytes('\\udce5\\udce6', 'utf-8')"
   ]
  },
  {
   "cell_type": "code",
   "execution_count": 23,
   "id": "66400649-391a-40d2-afed-1abea7bd9870",
   "metadata": {},
   "outputs": [
    {
     "ename": "UnicodeDecodeError",
     "evalue": "'utf-8' codec can't decode byte 0xe5 in position 0: invalid continuation byte",
     "output_type": "error",
     "traceback": [
      "\u001b[0;31m---------------------------------------------------------------------------\u001b[0m",
      "\u001b[0;31mUnicodeDecodeError\u001b[0m                        Traceback (most recent call last)",
      "Input \u001b[0;32mIn [23]\u001b[0m, in \u001b[0;36m<cell line: 2>\u001b[0;34m()\u001b[0m\n\u001b[1;32m      1\u001b[0m \u001b[38;5;66;03m# direct translation from bytes also not possible\u001b[39;00m\n\u001b[0;32m----> 2\u001b[0m \u001b[38;5;124;43mb\u001b[39;49m\u001b[38;5;124;43m'\u001b[39;49m\u001b[38;5;130;43;01m\\xe5\u001b[39;49;00m\u001b[38;5;130;43;01m\\xe6\u001b[39;49;00m\u001b[38;5;124;43m'\u001b[39;49m\u001b[38;5;241;43m.\u001b[39;49m\u001b[43mdecode\u001b[49m\u001b[43m(\u001b[49m\u001b[38;5;124;43m'\u001b[39;49m\u001b[38;5;124;43mutf-8\u001b[39;49m\u001b[38;5;124;43m'\u001b[39;49m\u001b[43m)\u001b[49m\n",
      "\u001b[0;31mUnicodeDecodeError\u001b[0m: 'utf-8' codec can't decode byte 0xe5 in position 0: invalid continuation byte"
     ]
    }
   ],
   "source": [
    "# direct translation from bytes also not possible\n",
    "b'\\xe5\\xe6'.decode('utf-8')"
   ]
  }
 ],
 "metadata": {
  "kernelspec": {
   "display_name": "Python 3 (ipykernel)",
   "language": "python",
   "name": "python3"
  },
  "language_info": {
   "codemirror_mode": {
    "name": "ipython",
    "version": 3
   },
   "file_extension": ".py",
   "mimetype": "text/x-python",
   "name": "python",
   "nbconvert_exporter": "python",
   "pygments_lexer": "ipython3",
   "version": "3.10.4"
  }
 },
 "nbformat": 4,
 "nbformat_minor": 5
}
