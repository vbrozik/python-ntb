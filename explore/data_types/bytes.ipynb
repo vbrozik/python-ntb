{
 "cells": [
  {
   "cell_type": "markdown",
   "id": "482e7bf7-689b-418d-8b36-8c591486d372",
   "metadata": {},
   "source": [
    "# Bytes"
   ]
  },
  {
   "cell_type": "code",
   "execution_count": 1,
   "id": "d466bbde-3f59-41a4-86d2-8e46229ea302",
   "metadata": {},
   "outputs": [
    {
     "data": {
      "text/plain": [
       "b'\\x01\\x02\\x03'"
      ]
     },
     "execution_count": 1,
     "metadata": {},
     "output_type": "execute_result"
    }
   ],
   "source": [
    "# bytes from iterable\n",
    "bytes((1, 2, 3))"
   ]
  },
  {
   "cell_type": "code",
   "execution_count": 2,
   "id": "baf7c875-c649-4949-90f5-270879d57323",
   "metadata": {},
   "outputs": [
    {
     "data": {
      "text/plain": [
       "b'\\x00'"
      ]
     },
     "execution_count": 2,
     "metadata": {},
     "output_type": "execute_result"
    }
   ],
   "source": [
    "# bytes items are int !\n",
    "record = b'0.03\\r\\n\\x00'\n",
    "record[-1]    # this is int !\n",
    "record[-1:]   # this is single-element bytes"
   ]
  },
  {
   "cell_type": "code",
   "execution_count": 3,
   "id": "90d19081-e9b8-48b1-a927-0b48b2a84f3b",
   "metadata": {},
   "outputs": [
    {
     "data": {
      "text/plain": [
       "0.03"
      ]
     },
     "execution_count": 3,
     "metadata": {},
     "output_type": "execute_result"
    }
   ],
   "source": [
    "# float() accepts bytes\n",
    "float(b'0.03')"
   ]
  },
  {
   "cell_type": "code",
   "execution_count": 4,
   "id": "9aad64bd-3c93-4553-983b-01facdaf8d28",
   "metadata": {},
   "outputs": [
    {
     "data": {
      "text/plain": [
       "b'0.03'"
      ]
     },
     "execution_count": 4,
     "metadata": {},
     "output_type": "execute_result"
    }
   ],
   "source": [
    "# stripping null and newline characters\n",
    "b'0.03\\r\\n\\x00'.rstrip(b'\\x00\\r\\n')"
   ]
  },
  {
   "cell_type": "code",
   "execution_count": 5,
   "id": "13e79f07-4831-469f-bacb-9ec915a4aa90",
   "metadata": {},
   "outputs": [
    {
     "data": {
      "text/plain": [
       "b'a\\x00b'"
      ]
     },
     "execution_count": 5,
     "metadata": {},
     "output_type": "execute_result"
    }
   ],
   "source": [
    "# octal escape can be shortened\n",
    "b'a\\0b'"
   ]
  }
 ],
 "metadata": {
  "kernelspec": {
   "display_name": "Python 3 (ipykernel)",
   "language": "python",
   "name": "python3"
  },
  "language_info": {
   "codemirror_mode": {
    "name": "ipython",
    "version": 3
   },
   "file_extension": ".py",
   "mimetype": "text/x-python",
   "name": "python",
   "nbconvert_exporter": "python",
   "pygments_lexer": "ipython3",
   "version": "3.10.4"
  }
 },
 "nbformat": 4,
 "nbformat_minor": 5
}
