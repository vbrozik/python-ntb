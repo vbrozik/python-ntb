{
 "cells": [
  {
   "cell_type": "markdown",
   "id": "e550fd97-626c-4828-b515-2429896d32a8",
   "metadata": {},
   "source": [
    "# Integer"
   ]
  },
  {
   "cell_type": "code",
   "execution_count": 13,
   "id": "b303d670-bf6b-4898-b5b4-8acf35540900",
   "metadata": {},
   "outputs": [],
   "source": [
    "from __future__ import annotations\n",
    "\n",
    "from sys import getsizeof"
   ]
  },
  {
   "cell_type": "code",
   "execution_count": 2,
   "id": "2ffe2d89-2e39-40e6-a8b7-d07d2ad4f827",
   "metadata": {},
   "outputs": [
    {
     "data": {
      "text/plain": [
       "24"
      ]
     },
     "execution_count": 2,
     "metadata": {},
     "output_type": "execute_result"
    }
   ],
   "source": [
    "getsizeof(0)"
   ]
  },
  {
   "cell_type": "code",
   "execution_count": 3,
   "id": "2bb301ae-ff27-47dc-acf1-59aaeea387a0",
   "metadata": {},
   "outputs": [
    {
     "data": {
      "text/plain": [
       "28"
      ]
     },
     "execution_count": 3,
     "metadata": {},
     "output_type": "execute_result"
    }
   ],
   "source": [
    "getsizeof(1)"
   ]
  },
  {
   "cell_type": "code",
   "execution_count": 17,
   "id": "7b3691ab-3ca5-4d02-ad81-bca310cd2742",
   "metadata": {},
   "outputs": [],
   "source": [
    "def sizeof_int_2exp_transition(exp: int) -> tuple(int, bool):\n",
    "    number = 2 ** exp\n",
    "    size = getsizeof(number)\n",
    "    return size, size != getsizeof(number - 1)"
   ]
  },
  {
   "cell_type": "markdown",
   "id": "1d054a91-4f1e-4d04-995f-433bf658d82c",
   "metadata": {},
   "source": [
    "The size of `int` grows in 4 byte steps. 4 byte for every 30 bits of an integer binary representation."
   ]
  },
  {
   "cell_type": "code",
   "execution_count": 44,
   "id": "6a63ba89-85bf-4955-974d-bfd26d7540fe",
   "metadata": {},
   "outputs": [
    {
     "name": "stdout",
     "output_type": "stream",
     "text": [
      "  exp  size rsize\n",
      " -inf    24     0\n",
      "    0    28    32\n",
      "   30    32    64\n",
      "   60    36    96\n",
      "   90    40   128\n",
      "  120    44   160\n",
      "  150    48   192\n",
      "  180    52   224\n",
      "  210    56   256\n",
      "  240    60   288\n",
      "  270    64   320\n",
      "  300    68   352\n",
      "  330    72   384\n",
      "  360    76   416\n",
      "  390    80   448\n"
     ]
    }
   ],
   "source": [
    "def printline(item1, item2, item3 = None):\n",
    "    base_size = getsizeof(0)\n",
    "    if item3 is None:\n",
    "        item3 = (item2 - base_size) * 8\n",
    "    print(f'{item1:>5} {item2:>5} {item3:>5}')\n",
    "\n",
    "printline('exp', 'size', 'rsize')\n",
    "size_previous = getsizeof(0)\n",
    "printline(float(\"-inf\"), size_previous)\n",
    "for exp in range(400):\n",
    "    size_new, changed = sizeof_int_2exp_transition(exp)\n",
    "    if size_new != size_previous:\n",
    "        assert changed\n",
    "        printline(exp, size_new)\n",
    "        size_previous = size_new"
   ]
  },
  {
   "cell_type": "code",
   "execution_count": 12,
   "id": "d173686f-73ac-4c87-a7a7-440487c07dcf",
   "metadata": {},
   "outputs": [
    {
     "name": "stdout",
     "output_type": "stream",
     "text": [
      "getsizeof(False) = 24; getsizeof(0) = 24\n",
      "getsizeof(True) =  28; getsizeof(1) = 28\n"
     ]
    }
   ],
   "source": [
    "# size of False and True is the same as 0 and 1\n",
    "print(f'{getsizeof(False) = }; {getsizeof(0) = }')\n",
    "print(f'{getsizeof(True) =  }; {getsizeof(1) = }')"
   ]
  },
  {
   "cell_type": "code",
   "execution_count": 8,
   "id": "7b44ce27-d254-4e34-8f9f-9a04bcdda93f",
   "metadata": {
    "tags": []
   },
   "outputs": [
    {
     "data": {
      "text/plain": [
       "72"
      ]
     },
     "execution_count": 8,
     "metadata": {},
     "output_type": "execute_result"
    }
   ],
   "source": [
    "# tuple seems to contain the immutable objects directly?\n",
    "getsizeof((True, False, False, True))"
   ]
  },
  {
   "cell_type": "code",
   "execution_count": 45,
   "id": "55c2b662-2ba8-425f-aa20-3605a8afb827",
   "metadata": {},
   "outputs": [
    {
     "data": {
      "text/plain": [
       "3"
      ]
     },
     "execution_count": 45,
     "metadata": {},
     "output_type": "execute_result"
    }
   ],
   "source": [
    "(25).bit_count()"
   ]
  },
  {
   "cell_type": "code",
   "execution_count": 40,
   "id": "a2a94b9f-0035-4e29-927c-f4a8cadc93b6",
   "metadata": {},
   "outputs": [
    {
     "data": {
      "text/plain": [
       "['__abs__',\n",
       " '__add__',\n",
       " '__and__',\n",
       " '__bool__',\n",
       " '__ceil__',\n",
       " '__class__',\n",
       " '__delattr__',\n",
       " '__dir__',\n",
       " '__divmod__',\n",
       " '__doc__',\n",
       " '__eq__',\n",
       " '__float__',\n",
       " '__floor__',\n",
       " '__floordiv__',\n",
       " '__format__',\n",
       " '__ge__',\n",
       " '__getattribute__',\n",
       " '__getnewargs__',\n",
       " '__gt__',\n",
       " '__hash__',\n",
       " '__index__',\n",
       " '__init__',\n",
       " '__init_subclass__',\n",
       " '__int__',\n",
       " '__invert__',\n",
       " '__le__',\n",
       " '__lshift__',\n",
       " '__lt__',\n",
       " '__mod__',\n",
       " '__mul__',\n",
       " '__ne__',\n",
       " '__neg__',\n",
       " '__new__',\n",
       " '__or__',\n",
       " '__pos__',\n",
       " '__pow__',\n",
       " '__radd__',\n",
       " '__rand__',\n",
       " '__rdivmod__',\n",
       " '__reduce__',\n",
       " '__reduce_ex__',\n",
       " '__repr__',\n",
       " '__rfloordiv__',\n",
       " '__rlshift__',\n",
       " '__rmod__',\n",
       " '__rmul__',\n",
       " '__ror__',\n",
       " '__round__',\n",
       " '__rpow__',\n",
       " '__rrshift__',\n",
       " '__rshift__',\n",
       " '__rsub__',\n",
       " '__rtruediv__',\n",
       " '__rxor__',\n",
       " '__setattr__',\n",
       " '__sizeof__',\n",
       " '__str__',\n",
       " '__sub__',\n",
       " '__subclasshook__',\n",
       " '__truediv__',\n",
       " '__trunc__',\n",
       " '__xor__',\n",
       " 'as_integer_ratio',\n",
       " 'bit_count',\n",
       " 'bit_length',\n",
       " 'conjugate',\n",
       " 'denominator',\n",
       " 'from_bytes',\n",
       " 'imag',\n",
       " 'numerator',\n",
       " 'real',\n",
       " 'to_bytes']"
      ]
     },
     "execution_count": 40,
     "metadata": {},
     "output_type": "execute_result"
    }
   ],
   "source": [
    "dir(0)"
   ]
  }
 ],
 "metadata": {
  "kernelspec": {
   "display_name": "Python 3 (ipykernel)",
   "language": "python",
   "name": "python3"
  },
  "language_info": {
   "codemirror_mode": {
    "name": "ipython",
    "version": 3
   },
   "file_extension": ".py",
   "mimetype": "text/x-python",
   "name": "python",
   "nbconvert_exporter": "python",
   "pygments_lexer": "ipython3",
   "version": "3.10.4"
  }
 },
 "nbformat": 4,
 "nbformat_minor": 5
}
