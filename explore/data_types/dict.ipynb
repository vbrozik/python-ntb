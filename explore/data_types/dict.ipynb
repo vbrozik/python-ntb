{
 "cells": [
  {
   "cell_type": "code",
   "execution_count": 1,
   "id": "b383d3fb-8a6e-45a4-9569-71eef71aff4d",
   "metadata": {},
   "outputs": [],
   "source": [
    "from typing import Any"
   ]
  },
  {
   "cell_type": "markdown",
   "id": "5024adb3-8f77-49f1-9793-24e45c791025",
   "metadata": {},
   "source": [
    "## Set operations on dict over keys\n",
    "\n",
    "AFAIK they must be implemented using iteration.\n",
    "* TODO: Examples.\n",
    "  * https://stackoverflow.com/questions/5352546/extract-subset-of-key-value-pairs-from-dictionary\n",
    "  * https://stackoverflow.com/questions/3953371/get-a-sub-set-of-a-python-dictionary\n",
    "  * <https://note.nkmk.me/en/python-dict-keys-items-set/#:~:text=In%20Python%2C%20the%20keys(),values)%20common%20to%20multiple%20dictionaries.>\n",
    "* TODO: Ideas for stdlib."
   ]
  },
  {
   "cell_type": "markdown",
   "id": "fed9bd5f-ce39-45e7-a98f-088a41c3c0ac",
   "metadata": {},
   "source": [
    "### Attempts"
   ]
  },
  {
   "cell_type": "code",
   "execution_count": 4,
   "id": "3d2ad23f-6d65-45ee-8b9b-454f6493b040",
   "metadata": {},
   "outputs": [],
   "source": [
    "dict1 = {\n",
    "    'a': 1,\n",
    "    'b': 2,\n",
    "    'c': 3,\n",
    "}\n",
    "dict2 = {\n",
    "    'a': 11,\n",
    "    'b': 12,\n",
    "    'c': 13,\n",
    "}\n",
    "set1 = {'a', 'b', 'd'}"
   ]
  },
  {
   "cell_type": "code",
   "execution_count": 5,
   "id": "2297ed79-264b-49f2-b110-130aeadd2562",
   "metadata": {},
   "outputs": [
    {
     "data": {
      "text/plain": [
       "{'a', 'b'}"
      ]
     },
     "execution_count": 5,
     "metadata": {},
     "output_type": "execute_result"
    }
   ],
   "source": [
    "# Set operations on keys are OK\n",
    "dict1.keys() & set1"
   ]
  },
  {
   "cell_type": "code",
   "execution_count": 6,
   "id": "95c32ab6-3246-4a29-b036-62759688523c",
   "metadata": {},
   "outputs": [
    {
     "data": {
      "text/plain": [
       "set()"
      ]
     },
     "execution_count": 6,
     "metadata": {},
     "output_type": "execute_result"
    }
   ],
   "source": [
    "# These operate on sets of (key, value) tuples\n",
    "dict1.items() & dict2.items()"
   ]
  },
  {
   "cell_type": "code",
   "execution_count": 8,
   "id": "494d6873-d3fb-49c4-be1f-e42f53003cba",
   "metadata": {},
   "outputs": [
    {
     "ename": "TypeError",
     "evalue": "unsupported operand type(s) for -: 'dict' and 'set'",
     "output_type": "error",
     "traceback": [
      "\u001b[0;31m---------------------------------------------------------------------------\u001b[0m",
      "\u001b[0;31mTypeError\u001b[0m                                 Traceback (most recent call last)",
      "Input \u001b[0;32mIn [8]\u001b[0m, in \u001b[0;36m<cell line: 2>\u001b[0;34m()\u001b[0m\n\u001b[1;32m      1\u001b[0m \u001b[38;5;66;03m# These do not work\u001b[39;00m\n\u001b[0;32m----> 2\u001b[0m \u001b[43mdict1\u001b[49m\u001b[43m \u001b[49m\u001b[38;5;241;43m-\u001b[39;49m\u001b[43m \u001b[49m\u001b[43mset1\u001b[49m\n",
      "\u001b[0;31mTypeError\u001b[0m: unsupported operand type(s) for -: 'dict' and 'set'"
     ]
    }
   ],
   "source": [
    "# These do not work\n",
    "dict1 - set1"
   ]
  },
  {
   "cell_type": "markdown",
   "id": "b9cb3836-843c-4a3f-a3c3-df244c0e9827",
   "metadata": {
    "tags": []
   },
   "source": [
    "## Dict sub-class whith keys accessible as object attributes"
   ]
  },
  {
   "cell_type": "code",
   "execution_count": 12,
   "id": "7990ad4d-a888-4349-b3b5-ce5c530a8e13",
   "metadata": {},
   "outputs": [],
   "source": [
    "class AttrDict(dict):\n",
    "    \"\"\"Provide dictionary with elements accessible as object attributes.\"\"\"\n",
    "    def __getattr__(self, attr: str) -> Any:\n",
    "        try:\n",
    "            return self[attr]\n",
    "        except KeyError as exception:\n",
    "            raise AttributeError(f'AttrDict has no key {attr!r}') from exception\n",
    "\n",
    "    def __setattr__(self, attr: str, value: Any) -> None:\n",
    "        self[attr] = value\n",
    "        \n",
    "    def __delattr__(self, attr: str) -> Any:\n",
    "        try:\n",
    "            del self[attr]\n",
    "        except KeyError as exception:\n",
    "            raise AttributeError(f'AttrDict has no key {attr!r}') from exception"
   ]
  },
  {
   "cell_type": "code",
   "execution_count": 3,
   "id": "34bb2c5f-28c6-4d8d-87b2-5976d9ebd256",
   "metadata": {},
   "outputs": [],
   "source": [
    "ad = AttrDict({'key1': 1, 'key2': 2})"
   ]
  },
  {
   "cell_type": "code",
   "execution_count": 4,
   "id": "8f44ad92-7291-4c77-ae97-762b6a5e52e8",
   "metadata": {},
   "outputs": [
    {
     "data": {
      "text/plain": [
       "{'key1': 1, 'key2': 2}"
      ]
     },
     "execution_count": 4,
     "metadata": {},
     "output_type": "execute_result"
    }
   ],
   "source": [
    "ad"
   ]
  },
  {
   "cell_type": "code",
   "execution_count": 5,
   "id": "aa47a6be-0b5e-4649-8e28-47d6c2173d50",
   "metadata": {},
   "outputs": [
    {
     "data": {
      "text/plain": [
       "{'key1': 11, 'key2': 2}"
      ]
     },
     "execution_count": 5,
     "metadata": {},
     "output_type": "execute_result"
    }
   ],
   "source": [
    "ad.key1 = 11\n",
    "ad"
   ]
  },
  {
   "cell_type": "code",
   "execution_count": 6,
   "id": "232303b6-c749-4017-9a32-1e6142c8ba5b",
   "metadata": {},
   "outputs": [
    {
     "data": {
      "text/plain": [
       "2"
      ]
     },
     "execution_count": 6,
     "metadata": {},
     "output_type": "execute_result"
    }
   ],
   "source": [
    "ad.key2"
   ]
  },
  {
   "cell_type": "code",
   "execution_count": 7,
   "id": "c364bb48-eecb-486c-aa8b-b26dbde4ed20",
   "metadata": {},
   "outputs": [
    {
     "data": {
      "text/plain": [
       "5"
      ]
     },
     "execution_count": 7,
     "metadata": {},
     "output_type": "execute_result"
    }
   ],
   "source": [
    "ad.xyz = 5\n",
    "ad.xyz"
   ]
  },
  {
   "cell_type": "code",
   "execution_count": 8,
   "id": "3c14e738-2f00-4519-a7b3-d97ab11671c4",
   "metadata": {},
   "outputs": [
    {
     "data": {
      "text/plain": [
       "{'key1': 11, 'key2': 2, 'xyz': 5}"
      ]
     },
     "execution_count": 8,
     "metadata": {},
     "output_type": "execute_result"
    }
   ],
   "source": [
    "ad"
   ]
  },
  {
   "cell_type": "code",
   "execution_count": 9,
   "id": "0830b69a-0895-4c10-a349-b562e6893cfd",
   "metadata": {},
   "outputs": [
    {
     "data": {
      "text/plain": [
       "{'key1': 11, 'key2': 2}"
      ]
     },
     "execution_count": 9,
     "metadata": {},
     "output_type": "execute_result"
    }
   ],
   "source": [
    "del ad.xyz\n",
    "ad"
   ]
  },
  {
   "cell_type": "code",
   "execution_count": 10,
   "id": "db2bdce6-e0c2-4191-9549-e918edad6e04",
   "metadata": {},
   "outputs": [
    {
     "data": {
      "text/plain": [
       "dict_items([('key1', 11), ('key2', 2)])"
      ]
     },
     "execution_count": 10,
     "metadata": {},
     "output_type": "execute_result"
    }
   ],
   "source": [
    "# original attributes still work\n",
    "ad.items()"
   ]
  },
  {
   "cell_type": "code",
   "execution_count": 11,
   "id": "2f0343a5-d17e-41a8-9b21-641c62f5fb49",
   "metadata": {},
   "outputs": [
    {
     "name": "stdout",
     "output_type": "stream",
     "text": [
      "dictn.a = 10, dictn.b = 11, dictn.d = '25'\n",
      "dictn.a = 42, dictn.b = 11, dictn.c = 'hello', dictn.d = '25'\n"
     ]
    }
   ],
   "source": [
    "dictn = AttrDict({\"a\":10,\"b\":11,\"d\":\"25\"})\n",
    "print(f\"{dictn.a = }, {dictn.b = }, {dictn.d = }\")\n",
    "dictn.a = 42\n",
    "dictn.c = 'hello'\n",
    "print(f\"{dictn.a = }, {dictn.b = }, {dictn.c = }, {dictn.d = }\")"
   ]
  }
 ],
 "metadata": {
  "kernelspec": {
   "display_name": "Python 3 (ipykernel)",
   "language": "python",
   "name": "python3"
  },
  "language_info": {
   "codemirror_mode": {
    "name": "ipython",
    "version": 3
   },
   "file_extension": ".py",
   "mimetype": "text/x-python",
   "name": "python",
   "nbconvert_exporter": "python",
   "pygments_lexer": "ipython3",
   "version": "3.10.4"
  }
 },
 "nbformat": 4,
 "nbformat_minor": 5
}
