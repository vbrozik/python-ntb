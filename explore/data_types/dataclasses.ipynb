{
 "cells": [
  {
   "cell_type": "markdown",
   "id": "da8c2bb0-1419-4f5c-9da1-f2513bb17e52",
   "metadata": {},
   "source": [
    "# Dataclasses\n",
    "* https://docs.python.org/3/library/dataclasses.html"
   ]
  },
  {
   "cell_type": "code",
   "execution_count": 1,
   "id": "46a02d6d-3cca-496e-9b2b-7119f5ad583f",
   "metadata": {},
   "outputs": [],
   "source": [
    "from dataclasses import dataclass, InitVar, field"
   ]
  },
  {
   "cell_type": "markdown",
   "id": "408cb189-c64c-4901-a8ce-9a928e24fe73",
   "metadata": {},
   "source": [
    "## Initialization"
   ]
  },
  {
   "cell_type": "markdown",
   "id": "a7bb0c68-e2a3-4bd6-a895-a3c753942537",
   "metadata": {},
   "source": [
    "### Optional attributes with defaults from other attributes."
   ]
  },
  {
   "cell_type": "code",
   "execution_count": 2,
   "id": "adcd63d5-249e-47ca-ace8-a9357443f832",
   "metadata": {},
   "outputs": [],
   "source": [
    "@dataclass\n",
    "class Timeouts:\n",
    "    \"\"\"Store timeouts for soft termination and hard termination.\n",
    "    \n",
    "    If `hard` is not specified, it is initialized by computation from\n",
    "    other attributes.\n",
    "    \"\"\"\n",
    "\n",
    "    soft: int\n",
    "    description: str = ''\n",
    "    hard: int = None\n",
    "    hard_init: InitVar[int] = None\n",
    "\n",
    "    def __post_init__(self, hard_init):\n",
    "        if self.hard is not None:\n",
    "            return\n",
    "        self.hard = self.soft * 2 if hard_init is None else hard_init"
   ]
  },
  {
   "cell_type": "code",
   "execution_count": 3,
   "id": "0c82dad3-7647-46f2-a345-f35e865d33c1",
   "metadata": {},
   "outputs": [
    {
     "data": {
      "text/plain": [
       "Timeouts(soft=2, description='', hard=4)"
      ]
     },
     "execution_count": 3,
     "metadata": {},
     "output_type": "execute_result"
    }
   ],
   "source": [
    "Timeouts(2)"
   ]
  },
  {
   "cell_type": "markdown",
   "id": "d63fcebe-6188-43e6-b85d-eaca106c2b33",
   "metadata": {},
   "source": [
    "With `frozen=True` we must change attributes a more complicated way:  \n",
    "`object.__setattr__(self, 'attribute_name', value)`"
   ]
  },
  {
   "cell_type": "code",
   "execution_count": 4,
   "id": "ec54dbe7-1fef-4cf7-91d2-acdd82e06b72",
   "metadata": {},
   "outputs": [],
   "source": [
    "@dataclass(frozen=True)\n",
    "class FrozenTimeouts:\n",
    "    \"\"\"Store timeouts for soft termination and hard termination.\n",
    "    \n",
    "    If `hard` is not specified, it is initialized by computation from\n",
    "    other attributes.\n",
    "    \"\"\"\n",
    "\n",
    "    soft: int\n",
    "    description: str = ''\n",
    "    hard: int = None\n",
    "    hard_init: InitVar[int] = None\n",
    "\n",
    "    def __post_init__(self, hard_init):\n",
    "        if self.hard is not None:\n",
    "            return\n",
    "        object.__setattr__(\n",
    "            self, 'hard', self.soft * 2 if hard_init is None else hard_init)"
   ]
  },
  {
   "cell_type": "code",
   "execution_count": 5,
   "id": "7334d010-7c40-4117-b083-2735bd21cb07",
   "metadata": {},
   "outputs": [
    {
     "data": {
      "text/plain": [
       "FrozenTimeouts(soft=2, description='', hard=4)"
      ]
     },
     "execution_count": 5,
     "metadata": {},
     "output_type": "execute_result"
    }
   ],
   "source": [
    "FrozenTimeouts(2)"
   ]
  }
 ],
 "metadata": {
  "kernelspec": {
   "display_name": "Python 3 (ipykernel)",
   "language": "python",
   "name": "python3"
  },
  "language_info": {
   "codemirror_mode": {
    "name": "ipython",
    "version": 3
   },
   "file_extension": ".py",
   "mimetype": "text/x-python",
   "name": "python",
   "nbconvert_exporter": "python",
   "pygments_lexer": "ipython3",
   "version": "3.10.4"
  }
 },
 "nbformat": 4,
 "nbformat_minor": 5
}
