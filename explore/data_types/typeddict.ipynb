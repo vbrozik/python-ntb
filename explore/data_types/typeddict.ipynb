{
 "cells": [
  {
   "cell_type": "markdown",
   "id": "ceaa4aad-e6ba-4165-a2d5-fad662229f17",
   "metadata": {},
   "source": [
    "* https://docs.python.org/3/library/typing.html#typing.TypedDict\n",
    "\n",
    "The initial design has a strong requirement for TypedDicts to be very fast and memory-efficient. This is why at runtime TypedDict instances are just normal dicts.\n",
    "\n",
    "* https://jdkandersson.com/2020/01/27/python-typeddict-arbitrary-key-names-with-totality/\n",
    "* https://www.pythonpool.com/python-typeddict/\n",
    "\n",
    "### TODO\n",
    "* converting values\n",
    "  * https://stackoverflow.com/questions/65196658/nice-way-to-turn-a-dict-into-a-typeddict"
   ]
  },
  {
   "cell_type": "code",
   "execution_count": 1,
   "id": "67d26d4e-3ad7-48f0-8ead-b7874dae2647",
   "metadata": {},
   "outputs": [],
   "source": [
    "from typing import TypedDict"
   ]
  },
  {
   "cell_type": "code",
   "execution_count": 14,
   "id": "30555128-6220-4c32-a232-89bf8fb4c111",
   "metadata": {},
   "outputs": [],
   "source": [
    "class Person(TypedDict):\n",
    "    given_name: str\n",
    "    family_name: str\n",
    "    birth_year: int\n",
    "    \n",
    "    # methods do not work, the created object is normal dict\n",
    "    def my_print(self):\n",
    "        print(self.given_name)"
   ]
  },
  {
   "cell_type": "code",
   "execution_count": 10,
   "id": "51a263ff-f421-4cdf-9d9b-3f589c6b4bf2",
   "metadata": {},
   "outputs": [
    {
     "data": {
      "text/plain": [
       "{'given_name': 'John', 'family_name': 'Neumann', 'birth_year': 1960}"
      ]
     },
     "execution_count": 10,
     "metadata": {},
     "output_type": "execute_result"
    }
   ],
   "source": [
    "p1 = Person(given_name='John', family_name='Neumann', birth_year=1960)\n",
    "p1"
   ]
  },
  {
   "cell_type": "code",
   "execution_count": 11,
   "id": "804f641f-dd1e-4e31-a1d4-993e9bf6a391",
   "metadata": {},
   "outputs": [
    {
     "data": {
      "text/plain": [
       "{'given_name': 'John', 'family_name': 'Neumann', 'birth_year': '1960'}"
      ]
     },
     "execution_count": 11,
     "metadata": {},
     "output_type": "execute_result"
    }
   ],
   "source": [
    "p2_dict = {\n",
    "    'given_name': 'John',\n",
    "    'family_name': 'Neumann',\n",
    "    'birth_year': '1960'\n",
    "}\n",
    "p2 = Person(p2_dict)   # no conversion is performed\n",
    "p2"
   ]
  },
  {
   "cell_type": "code",
   "execution_count": 19,
   "id": "93ee84dd-d614-4fda-8a48-bc946a3639e3",
   "metadata": {},
   "outputs": [],
   "source": [
    "# Also when sub-classed the created objects still will be a normal dict\n",
    "class Person2(Person):\n",
    "\n",
    "    # methods do not work, the created object is normal dict\n",
    "    def my_print2(self):\n",
    "        print(self.given_name)"
   ]
  },
  {
   "cell_type": "markdown",
   "id": "2e5e6466-f59a-4b41-838c-c625dae2c648",
   "metadata": {},
   "source": [
    "## Non-identifier keys"
   ]
  },
  {
   "cell_type": "code",
   "execution_count": 21,
   "id": "44c612c0-bac0-4ad3-9d4c-d6c308f2a49f",
   "metadata": {},
   "outputs": [],
   "source": [
    "_MoveBaseTotal = TypedDict(\n",
    "    '_MoveBaseTotal',\n",
    "    {'production-year': int},\n",
    "    total=True,\n",
    ")\n",
    "_MoveBaseNotTotal = TypedDict(\n",
    "    '_MoveBaseNotTotal',\n",
    "    {'resolution-4k': bool},\n",
    "    total=False,\n",
    ")\n",
    "\n",
    "class Movie(_MoveBaseTotal, _MoveBaseNotTotal):\n",
    "    name: str\n",
    "    year: int"
   ]
  },
  {
   "cell_type": "code",
   "execution_count": 22,
   "id": "52b05ce9-01b2-4538-a760-c3779817c8a2",
   "metadata": {},
   "outputs": [],
   "source": [
    "valid_with_resolution_4k: Movie = {\n",
    "    \"name\": \"movie 1\",\n",
    "    \"year\": 2000,\n",
    "    \"production-year\": 1999,\n",
    "    \"resolution-4k\": True,\n",
    "}"
   ]
  },
  {
   "cell_type": "code",
   "execution_count": 23,
   "id": "fd69c25d-8763-46f5-a963-217804ade3a7",
   "metadata": {
    "tags": []
   },
   "outputs": [
    {
     "data": {
      "text/plain": [
       "{'name': 'movie 1',\n",
       " 'year': 2000,\n",
       " 'production-year': 1999,\n",
       " 'resolution-4k': True}"
      ]
     },
     "execution_count": 23,
     "metadata": {},
     "output_type": "execute_result"
    }
   ],
   "source": [
    "valid_with_resolution_4k"
   ]
  },
  {
   "cell_type": "code",
   "execution_count": 24,
   "id": "ff601072-7483-494f-b62c-14f53e6ca216",
   "metadata": {},
   "outputs": [],
   "source": [
    "class Movie(\n",
    "    TypedDict(\n",
    "        '_MoveBaseTotal',\n",
    "        {'production-year': int},\n",
    "        total=True),\n",
    "    TypedDict(\n",
    "        '_MoveBaseNotTotal',\n",
    "        {'resolution-4k': bool},\n",
    "        total=False)):\n",
    "    name: str\n",
    "    year: int"
   ]
  },
  {
   "cell_type": "code",
   "execution_count": 25,
   "id": "0310f99e-2812-4b4c-bafc-132a4de28ab3",
   "metadata": {},
   "outputs": [],
   "source": [
    "valid_with_resolution_4k: Movie = {\n",
    "    \"name\": \"movie 1\",\n",
    "    \"year\": 2000,\n",
    "    \"production-year\": 1999,\n",
    "    \"resolution-4k\": True,\n",
    "}"
   ]
  }
 ],
 "metadata": {
  "kernelspec": {
   "display_name": "Python 3 (ipykernel)",
   "language": "python",
   "name": "python3"
  },
  "language_info": {
   "codemirror_mode": {
    "name": "ipython",
    "version": 3
   },
   "file_extension": ".py",
   "mimetype": "text/x-python",
   "name": "python",
   "nbconvert_exporter": "python",
   "pygments_lexer": "ipython3",
   "version": "3.10.4"
  }
 },
 "nbformat": 4,
 "nbformat_minor": 5
}
