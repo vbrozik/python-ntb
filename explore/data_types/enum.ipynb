{
 "cells": [
  {
   "cell_type": "markdown",
   "id": "512918cc-1bd3-4608-bb3c-5d805efdb7f8",
   "metadata": {},
   "source": [
    "# Enum\n",
    "* https://docs.python.org/3/library/enum.html"
   ]
  },
  {
   "cell_type": "code",
   "execution_count": 29,
   "id": "8096d89f-b0c0-4f32-87ab-64b352ee3a6c",
   "metadata": {},
   "outputs": [],
   "source": [
    "from enum import Enum, IntEnum, Flag, auto"
   ]
  },
  {
   "cell_type": "markdown",
   "id": "645fbcef-110a-45c3-98e2-91bfb69c6951",
   "metadata": {},
   "source": [
    "It is possible to change `auto()` functionality by defining `_generate_next_value_()` which takes 4 positional arguments:\n",
    "* name - member identifier name\n",
    "* start - start integer value\n",
    "* count - number of previously generated members\n",
    "* last_values - list of tuples of previous `_generate_next_value_()` arguments\n",
    "\n",
    "The method also works when not decorated by `@staticmethod`."
   ]
  },
  {
   "cell_type": "code",
   "execution_count": 14,
   "id": "8dbd092a-5bfa-490b-badc-84d0cd28e836",
   "metadata": {},
   "outputs": [],
   "source": [
    "class AutoName(Enum):\n",
    "    @staticmethod\n",
    "    def _generate_next_value_(*args):\n",
    "        return args\n",
    "    KEY1 = auto()\n",
    "    KEY2 = auto()\n",
    "    ABC = auto()"
   ]
  },
  {
   "cell_type": "code",
   "execution_count": 21,
   "id": "b955dd5a-36fa-419d-be5a-8d362e92dde1",
   "metadata": {},
   "outputs": [
    {
     "data": {
      "text/plain": [
       "<AutoName.KEY1: ('KEY1', 1, 0, [])>"
      ]
     },
     "execution_count": 21,
     "metadata": {},
     "output_type": "execute_result"
    }
   ],
   "source": [
    "AutoName.KEY1"
   ]
  },
  {
   "cell_type": "code",
   "execution_count": 22,
   "id": "1708ebe8-c922-45ee-84af-f5127ee14837",
   "metadata": {},
   "outputs": [
    {
     "data": {
      "text/plain": [
       "<AutoName.KEY2: ('KEY2', 1, 1, [('KEY1', 1, 0, [])])>"
      ]
     },
     "execution_count": 22,
     "metadata": {},
     "output_type": "execute_result"
    }
   ],
   "source": [
    "AutoName.KEY2"
   ]
  },
  {
   "cell_type": "code",
   "execution_count": 23,
   "id": "7652b848-3ac2-4583-b689-5913320b6786",
   "metadata": {},
   "outputs": [
    {
     "data": {
      "text/plain": [
       "<AutoName.ABC: ('ABC', 1, 2, [('KEY1', 1, 0, []), ('KEY2', 1, 1, [('KEY1', 1, 0, [])])])>"
      ]
     },
     "execution_count": 23,
     "metadata": {},
     "output_type": "execute_result"
    }
   ],
   "source": [
    "AutoName.ABC"
   ]
  },
  {
   "cell_type": "markdown",
   "id": "0a726023-e532-48bc-8757-89a0bdd86cbf",
   "metadata": {},
   "source": [
    "## Ordering\n",
    "IntEnum is needed for ordering comparison operations. FIXME: Is the definition order ordering guaranteed?"
   ]
  },
  {
   "cell_type": "code",
   "execution_count": 19,
   "id": "d73f0a4b-289b-45ab-9cfa-860bec230a59",
   "metadata": {},
   "outputs": [],
   "source": [
    "class OrdEnum(IntEnum):\n",
    "    A = auto()\n",
    "    H = auto()\n",
    "    B = auto()"
   ]
  },
  {
   "cell_type": "code",
   "execution_count": 20,
   "id": "ca6f04a4-8249-457e-a26f-252d7db5f39b",
   "metadata": {},
   "outputs": [
    {
     "data": {
      "text/plain": [
       "<OrdEnum.A: 1>"
      ]
     },
     "execution_count": 20,
     "metadata": {},
     "output_type": "execute_result"
    }
   ],
   "source": [
    "OrdEnum.A"
   ]
  },
  {
   "cell_type": "code",
   "execution_count": 24,
   "id": "dc581a65-da21-456c-83c3-c9a414881cbe",
   "metadata": {},
   "outputs": [
    {
     "data": {
      "text/plain": [
       "<OrdEnum.H: 2>"
      ]
     },
     "execution_count": 24,
     "metadata": {},
     "output_type": "execute_result"
    }
   ],
   "source": [
    "OrdEnum.H"
   ]
  },
  {
   "cell_type": "code",
   "execution_count": 25,
   "id": "3e8aee7a-2bd1-4e72-85da-5f8fe1863bb7",
   "metadata": {},
   "outputs": [
    {
     "data": {
      "text/plain": [
       "<OrdEnum.B: 3>"
      ]
     },
     "execution_count": 25,
     "metadata": {},
     "output_type": "execute_result"
    }
   ],
   "source": [
    "OrdEnum.B"
   ]
  },
  {
   "cell_type": "code",
   "execution_count": 26,
   "id": "90efe321-a6c1-4511-aaec-f2ff3078f644",
   "metadata": {},
   "outputs": [
    {
     "data": {
      "text/plain": [
       "True"
      ]
     },
     "execution_count": 26,
     "metadata": {},
     "output_type": "execute_result"
    }
   ],
   "source": [
    "OrdEnum.H < OrdEnum.B"
   ]
  },
  {
   "cell_type": "code",
   "execution_count": 27,
   "id": "0cf70fa9-def5-467f-a4a8-3795704f7849",
   "metadata": {},
   "outputs": [
    {
     "data": {
      "text/plain": [
       "[<OrdEnum.A: 1>, <OrdEnum.H: 2>, <OrdEnum.B: 3>]"
      ]
     },
     "execution_count": 27,
     "metadata": {},
     "output_type": "execute_result"
    }
   ],
   "source": [
    "sorted([OrdEnum.H, OrdEnum.B, OrdEnum.A])"
   ]
  },
  {
   "cell_type": "markdown",
   "id": "7072d081-d2c5-4b62-80b0-9bffbdf062dd",
   "metadata": {},
   "source": [
    "## Flag"
   ]
  },
  {
   "cell_type": "code",
   "execution_count": 30,
   "id": "161a3698-3755-4132-90d1-195866663e61",
   "metadata": {},
   "outputs": [],
   "source": [
    "class Color(Flag):\n",
    "    RED = auto()\n",
    "    GREEN = auto()\n",
    "    BLUE = auto()"
   ]
  },
  {
   "cell_type": "code",
   "execution_count": 32,
   "id": "8aabbabe-8b44-492b-926d-558b4300c1d9",
   "metadata": {},
   "outputs": [
    {
     "data": {
      "text/plain": [
       "mappingproxy({'RED': <Color.RED: 1>,\n",
       "              'GREEN': <Color.GREEN: 2>,\n",
       "              'BLUE': <Color.BLUE: 4>})"
      ]
     },
     "execution_count": 32,
     "metadata": {},
     "output_type": "execute_result"
    }
   ],
   "source": [
    "Color.__members__"
   ]
  },
  {
   "cell_type": "code",
   "execution_count": 33,
   "id": "fb763921-9854-4829-a768-ff3ceb207e98",
   "metadata": {},
   "outputs": [
    {
     "data": {
      "text/plain": [
       "<Color.BLUE|RED: 5>"
      ]
     },
     "execution_count": 33,
     "metadata": {},
     "output_type": "execute_result"
    }
   ],
   "source": [
    "Color.RED | Color.BLUE"
   ]
  },
  {
   "cell_type": "markdown",
   "id": "93e1ca19-d206-42e7-8a86-d958d6d7aeb6",
   "metadata": {},
   "source": [
    "## To be explored\n",
    "* ordered Enums\n",
    "* hierarchical enums"
   ]
  },
  {
   "cell_type": "markdown",
   "id": "5304909a-40b5-41c8-beff-1f8c0978ae24",
   "metadata": {},
   "source": [
    "## Related libraries\n",
    "\n",
    "* https://blog.yossarian.net/2020/03/02/Totally-ordered-enums-in-python-with-ordered_enum"
   ]
  }
 ],
 "metadata": {
  "kernelspec": {
   "display_name": "Python 3 (ipykernel)",
   "language": "python",
   "name": "python3"
  },
  "language_info": {
   "codemirror_mode": {
    "name": "ipython",
    "version": 3
   },
   "file_extension": ".py",
   "mimetype": "text/x-python",
   "name": "python",
   "nbconvert_exporter": "python",
   "pygments_lexer": "ipython3",
   "version": "3.10.4"
  }
 },
 "nbformat": 4,
 "nbformat_minor": 5
}
