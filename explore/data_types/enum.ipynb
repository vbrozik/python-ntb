{
 "cells": [
  {
   "cell_type": "markdown",
   "id": "512918cc-1bd3-4608-bb3c-5d805efdb7f8",
   "metadata": {},
   "source": [
    "# Enum\n",
    "* https://docs.python.org/3/library/enum.html"
   ]
  },
  {
   "cell_type": "code",
   "execution_count": 1,
   "id": "8096d89f-b0c0-4f32-87ab-64b352ee3a6c",
   "metadata": {},
   "outputs": [],
   "source": [
    "from enum import Enum, IntEnum, Flag, auto"
   ]
  },
  {
   "cell_type": "markdown",
   "id": "dca63050-f4ac-4bb9-8ca6-cfca0b66c265",
   "metadata": {},
   "source": [
    "## Aliases"
   ]
  },
  {
   "cell_type": "code",
   "execution_count": 2,
   "id": "69d68750-4b7d-41f7-8ad6-a96db64b829c",
   "metadata": {
    "tags": []
   },
   "outputs": [],
   "source": [
    "class EnumWithAliases(Enum):\n",
    "    A = 1\n",
    "    B = 2\n",
    "    C = 1\n",
    "    D = A"
   ]
  },
  {
   "cell_type": "code",
   "execution_count": 3,
   "id": "c0c045e6-03f4-49e1-884f-312f5c59c1a4",
   "metadata": {
    "tags": []
   },
   "outputs": [],
   "source": [
    "# C and D are aliases of A. They are names for the same object:\n",
    "assert EnumWithAliases.A is EnumWithAliases.C and EnumWithAliases.C is EnumWithAliases.D"
   ]
  },
  {
   "cell_type": "markdown",
   "id": "73fd9b2b-79c4-4a02-8c7a-5140191424e7",
   "metadata": {},
   "source": [
    "The name of the first definition of the value is used as the \"primary\" or \"canonical\" name."
   ]
  },
  {
   "cell_type": "code",
   "execution_count": 4,
   "id": "2d23dfd8-7981-4200-9553-cb5d4bd33e28",
   "metadata": {
    "tags": []
   },
   "outputs": [
    {
     "data": {
      "text/plain": [
       "<EnumWithAliases.A: 1>"
      ]
     },
     "execution_count": 4,
     "metadata": {},
     "output_type": "execute_result"
    }
   ],
   "source": [
    "EnumWithAliases.A"
   ]
  },
  {
   "cell_type": "code",
   "execution_count": 5,
   "id": "6a9ee616-b4f4-430a-a1f7-0ade430dc687",
   "metadata": {
    "tags": []
   },
   "outputs": [
    {
     "data": {
      "text/plain": [
       "<EnumWithAliases.A: 1>"
      ]
     },
     "execution_count": 5,
     "metadata": {},
     "output_type": "execute_result"
    }
   ],
   "source": [
    "EnumWithAliases.C"
   ]
  },
  {
   "cell_type": "code",
   "execution_count": 6,
   "id": "3939c4a4-7dea-4a84-940b-ed7f5e35781e",
   "metadata": {
    "tags": []
   },
   "outputs": [
    {
     "data": {
      "text/plain": [
       "'A'"
      ]
     },
     "execution_count": 6,
     "metadata": {},
     "output_type": "execute_result"
    }
   ],
   "source": [
    "EnumWithAliases.D.name"
   ]
  },
  {
   "cell_type": "code",
   "execution_count": 7,
   "id": "c05d1c7a-e8da-4078-8c3e-345b4401e098",
   "metadata": {
    "tags": []
   },
   "outputs": [
    {
     "data": {
      "text/plain": [
       "[<EnumWithAliases.A: 1>, <EnumWithAliases.B: 2>]"
      ]
     },
     "execution_count": 7,
     "metadata": {},
     "output_type": "execute_result"
    }
   ],
   "source": [
    "list(EnumWithAliases)   # Enumerates only primary items (not aliases)."
   ]
  },
  {
   "cell_type": "markdown",
   "id": "df3d9096-bec0-402b-8ee6-38c00b51d66b",
   "metadata": {},
   "source": [
    "## Types"
   ]
  },
  {
   "cell_type": "code",
   "execution_count": 8,
   "id": "cd937bfc-85c3-4389-959e-b054cb19371a",
   "metadata": {
    "tags": []
   },
   "outputs": [
    {
     "data": {
      "text/plain": [
       "<enum 'EnumWithAliases'>"
      ]
     },
     "execution_count": 8,
     "metadata": {},
     "output_type": "execute_result"
    }
   ],
   "source": [
    "type(EnumWithAliases.A)"
   ]
  },
  {
   "cell_type": "code",
   "execution_count": 9,
   "id": "c3b851c5-85a8-4277-a02e-2eed5c6a87c0",
   "metadata": {
    "tags": []
   },
   "outputs": [
    {
     "data": {
      "text/plain": [
       "enum.EnumMeta"
      ]
     },
     "execution_count": 9,
     "metadata": {},
     "output_type": "execute_result"
    }
   ],
   "source": [
    "EnumWithAliases.__class__"
   ]
  },
  {
   "cell_type": "code",
   "execution_count": 10,
   "id": "4c35c013-d80f-4a1d-9b86-2c74f74f24e4",
   "metadata": {
    "tags": []
   },
   "outputs": [
    {
     "data": {
      "text/plain": [
       "<enum 'EnumWithAliases'>"
      ]
     },
     "execution_count": 10,
     "metadata": {},
     "output_type": "execute_result"
    }
   ],
   "source": [
    "EnumWithAliases.A.__class__"
   ]
  },
  {
   "cell_type": "code",
   "execution_count": 11,
   "id": "8aa99854-344d-4796-b5fa-ef34d848ef04",
   "metadata": {
    "tags": []
   },
   "outputs": [
    {
     "data": {
      "text/plain": [
       "enum.EnumMeta"
      ]
     },
     "execution_count": 11,
     "metadata": {},
     "output_type": "execute_result"
    }
   ],
   "source": [
    "EnumWithAliases.A.__class__.__class__"
   ]
  },
  {
   "cell_type": "code",
   "execution_count": 12,
   "id": "8fabecee-6e51-4fc5-b448-e42ba8ca48cf",
   "metadata": {
    "tags": []
   },
   "outputs": [
    {
     "data": {
      "text/plain": [
       "type"
      ]
     },
     "execution_count": 12,
     "metadata": {},
     "output_type": "execute_result"
    }
   ],
   "source": [
    "EnumWithAliases.A.__class__.__class__.__class__"
   ]
  },
  {
   "cell_type": "code",
   "execution_count": 13,
   "id": "660195dc-11fe-4337-97a3-aef7d49ee6d5",
   "metadata": {
    "tags": []
   },
   "outputs": [
    {
     "data": {
      "text/plain": [
       "(<enum 'Enum'>,)"
      ]
     },
     "execution_count": 13,
     "metadata": {},
     "output_type": "execute_result"
    }
   ],
   "source": [
    "EnumWithAliases.A.__class__.__bases__"
   ]
  },
  {
   "cell_type": "markdown",
   "id": "37783bac-10d3-4377-88de-c0a291bad888",
   "metadata": {},
   "source": [
    "## Auto"
   ]
  },
  {
   "cell_type": "markdown",
   "id": "645fbcef-110a-45c3-98e2-91bfb69c6951",
   "metadata": {},
   "source": [
    "It is possible to change `auto()` functionality by defining `_generate_next_value_()` which takes 4 positional arguments:\n",
    "* name - member identifier name\n",
    "* start - start integer value\n",
    "* count - number of previously generated members\n",
    "* last_values - list of tuples of previous `_generate_next_value_()` arguments\n",
    "\n",
    "The method also works when not decorated by `@staticmethod`."
   ]
  },
  {
   "cell_type": "code",
   "execution_count": 14,
   "id": "8dbd092a-5bfa-490b-badc-84d0cd28e836",
   "metadata": {},
   "outputs": [],
   "source": [
    "class AutoName(Enum):\n",
    "    @staticmethod\n",
    "    def _generate_next_value_(*args):\n",
    "        return args\n",
    "    KEY1 = auto()\n",
    "    KEY2 = auto()\n",
    "    ABC = auto()"
   ]
  },
  {
   "cell_type": "code",
   "execution_count": 15,
   "id": "b955dd5a-36fa-419d-be5a-8d362e92dde1",
   "metadata": {},
   "outputs": [
    {
     "data": {
      "text/plain": [
       "<AutoName.KEY1: ('KEY1', 1, 0, [])>"
      ]
     },
     "execution_count": 15,
     "metadata": {},
     "output_type": "execute_result"
    }
   ],
   "source": [
    "AutoName.KEY1"
   ]
  },
  {
   "cell_type": "code",
   "execution_count": 16,
   "id": "1708ebe8-c922-45ee-84af-f5127ee14837",
   "metadata": {},
   "outputs": [
    {
     "data": {
      "text/plain": [
       "<AutoName.KEY2: ('KEY2', 1, 1, [('KEY1', 1, 0, [])])>"
      ]
     },
     "execution_count": 16,
     "metadata": {},
     "output_type": "execute_result"
    }
   ],
   "source": [
    "AutoName.KEY2"
   ]
  },
  {
   "cell_type": "code",
   "execution_count": 17,
   "id": "7652b848-3ac2-4583-b689-5913320b6786",
   "metadata": {},
   "outputs": [
    {
     "data": {
      "text/plain": [
       "<AutoName.ABC: ('ABC', 1, 2, [('KEY1', 1, 0, []), ('KEY2', 1, 1, [('KEY1', 1, 0, [])])])>"
      ]
     },
     "execution_count": 17,
     "metadata": {},
     "output_type": "execute_result"
    }
   ],
   "source": [
    "AutoName.ABC"
   ]
  },
  {
   "cell_type": "markdown",
   "id": "0a726023-e532-48bc-8757-89a0bdd86cbf",
   "metadata": {},
   "source": [
    "## Ordering\n",
    "IntEnum is needed for ordering comparison operations. FIXME: Is the definition order ordering guaranteed?"
   ]
  },
  {
   "cell_type": "code",
   "execution_count": 18,
   "id": "d73f0a4b-289b-45ab-9cfa-860bec230a59",
   "metadata": {},
   "outputs": [],
   "source": [
    "class OrdEnum(IntEnum):\n",
    "    A = auto()\n",
    "    H = auto()\n",
    "    B = auto()"
   ]
  },
  {
   "cell_type": "code",
   "execution_count": 19,
   "id": "ca6f04a4-8249-457e-a26f-252d7db5f39b",
   "metadata": {},
   "outputs": [
    {
     "data": {
      "text/plain": [
       "<OrdEnum.A: 1>"
      ]
     },
     "execution_count": 19,
     "metadata": {},
     "output_type": "execute_result"
    }
   ],
   "source": [
    "OrdEnum.A"
   ]
  },
  {
   "cell_type": "code",
   "execution_count": 20,
   "id": "dc581a65-da21-456c-83c3-c9a414881cbe",
   "metadata": {},
   "outputs": [
    {
     "data": {
      "text/plain": [
       "<OrdEnum.H: 2>"
      ]
     },
     "execution_count": 20,
     "metadata": {},
     "output_type": "execute_result"
    }
   ],
   "source": [
    "OrdEnum.H"
   ]
  },
  {
   "cell_type": "code",
   "execution_count": 21,
   "id": "3e8aee7a-2bd1-4e72-85da-5f8fe1863bb7",
   "metadata": {},
   "outputs": [
    {
     "data": {
      "text/plain": [
       "<OrdEnum.B: 3>"
      ]
     },
     "execution_count": 21,
     "metadata": {},
     "output_type": "execute_result"
    }
   ],
   "source": [
    "OrdEnum.B"
   ]
  },
  {
   "cell_type": "code",
   "execution_count": 22,
   "id": "90efe321-a6c1-4511-aaec-f2ff3078f644",
   "metadata": {},
   "outputs": [
    {
     "data": {
      "text/plain": [
       "True"
      ]
     },
     "execution_count": 22,
     "metadata": {},
     "output_type": "execute_result"
    }
   ],
   "source": [
    "OrdEnum.H < OrdEnum.B"
   ]
  },
  {
   "cell_type": "code",
   "execution_count": 23,
   "id": "0cf70fa9-def5-467f-a4a8-3795704f7849",
   "metadata": {},
   "outputs": [
    {
     "data": {
      "text/plain": [
       "[<OrdEnum.A: 1>, <OrdEnum.H: 2>, <OrdEnum.B: 3>]"
      ]
     },
     "execution_count": 23,
     "metadata": {},
     "output_type": "execute_result"
    }
   ],
   "source": [
    "sorted([OrdEnum.H, OrdEnum.B, OrdEnum.A])"
   ]
  },
  {
   "cell_type": "markdown",
   "id": "7072d081-d2c5-4b62-80b0-9bffbdf062dd",
   "metadata": {},
   "source": [
    "## Flag"
   ]
  },
  {
   "cell_type": "code",
   "execution_count": 24,
   "id": "161a3698-3755-4132-90d1-195866663e61",
   "metadata": {},
   "outputs": [],
   "source": [
    "class Color(Flag):\n",
    "    RED = auto()\n",
    "    GREEN = auto()\n",
    "    BLUE = auto()"
   ]
  },
  {
   "cell_type": "code",
   "execution_count": 25,
   "id": "8aabbabe-8b44-492b-926d-558b4300c1d9",
   "metadata": {},
   "outputs": [
    {
     "data": {
      "text/plain": [
       "mappingproxy({'RED': <Color.RED: 1>,\n",
       "              'GREEN': <Color.GREEN: 2>,\n",
       "              'BLUE': <Color.BLUE: 4>})"
      ]
     },
     "execution_count": 25,
     "metadata": {},
     "output_type": "execute_result"
    }
   ],
   "source": [
    "Color.__members__"
   ]
  },
  {
   "cell_type": "code",
   "execution_count": 26,
   "id": "fb763921-9854-4829-a768-ff3ceb207e98",
   "metadata": {},
   "outputs": [
    {
     "data": {
      "text/plain": [
       "<Color.BLUE|RED: 5>"
      ]
     },
     "execution_count": 26,
     "metadata": {},
     "output_type": "execute_result"
    }
   ],
   "source": [
    "violet = Color.RED | Color.BLUE\n",
    "violet"
   ]
  },
  {
   "cell_type": "code",
   "execution_count": 27,
   "id": "2b2593b2-eef6-4c07-a57a-2210c4d049bc",
   "metadata": {
    "tags": []
   },
   "outputs": [
    {
     "data": {
      "text/plain": [
       "True"
      ]
     },
     "execution_count": 27,
     "metadata": {},
     "output_type": "execute_result"
    }
   ],
   "source": [
    "Color.BLUE in violet"
   ]
  },
  {
   "cell_type": "code",
   "execution_count": 28,
   "id": "18d2da54-5b39-443c-a3ae-003d825dab90",
   "metadata": {
    "tags": []
   },
   "outputs": [
    {
     "data": {
      "text/plain": [
       "<Color.0: 0>"
      ]
     },
     "execution_count": 28,
     "metadata": {},
     "output_type": "execute_result"
    }
   ],
   "source": [
    "no_flags = Color(0)\n",
    "no_flags"
   ]
  },
  {
   "cell_type": "code",
   "execution_count": 29,
   "id": "99a39877-c447-458d-9250-108260763215",
   "metadata": {
    "tags": []
   },
   "outputs": [
    {
     "data": {
      "text/plain": [
       "False"
      ]
     },
     "execution_count": 29,
     "metadata": {},
     "output_type": "execute_result"
    }
   ],
   "source": [
    "Color.RED in no_flags"
   ]
  },
  {
   "cell_type": "markdown",
   "id": "1caf89ad-fa7f-44fd-95f8-321eb6c2083a",
   "metadata": {},
   "source": [
    "## Class variable\n",
    "\n",
    "Usual way of defining a class variable inside Enum will be treated as an Enum item."
   ]
  },
  {
   "cell_type": "code",
   "execution_count": 30,
   "id": "788bcfef-0837-48c7-9d00-fe243e3461c6",
   "metadata": {
    "tags": []
   },
   "outputs": [],
   "source": [
    "class Numbers(Enum):\n",
    "    @classmethod\n",
    "    @property\n",
    "    def my_class_var(cls):\n",
    "        return 'My class variable value'\n",
    "\n",
    "    ONE = 1\n",
    "    TWO = 2"
   ]
  },
  {
   "cell_type": "code",
   "execution_count": 31,
   "id": "30753d43-ed63-4890-9f5b-1dea41fc3f95",
   "metadata": {
    "tags": []
   },
   "outputs": [
    {
     "data": {
      "text/plain": [
       "[<Numbers.ONE: 1>, <Numbers.TWO: 2>]"
      ]
     },
     "execution_count": 31,
     "metadata": {},
     "output_type": "execute_result"
    }
   ],
   "source": [
    "list(Numbers)"
   ]
  },
  {
   "cell_type": "code",
   "execution_count": 32,
   "id": "6e0ad936-03e4-4201-ba37-de4b287424f0",
   "metadata": {
    "tags": []
   },
   "outputs": [
    {
     "data": {
      "text/plain": [
       "'My class variable value'"
      ]
     },
     "execution_count": 32,
     "metadata": {},
     "output_type": "execute_result"
    }
   ],
   "source": [
    "Numbers.my_class_var"
   ]
  },
  {
   "cell_type": "markdown",
   "id": "93e1ca19-d206-42e7-8a86-d958d6d7aeb6",
   "metadata": {},
   "source": [
    "## To be explored\n",
    "* ordered Enums\n",
    "* hierarchical enums"
   ]
  },
  {
   "cell_type": "markdown",
   "id": "5304909a-40b5-41c8-beff-1f8c0978ae24",
   "metadata": {},
   "source": [
    "## Related libraries\n",
    "\n",
    "* https://blog.yossarian.net/2020/03/02/Totally-ordered-enums-in-python-with-ordered_enum"
   ]
  }
 ],
 "metadata": {
  "kernelspec": {
   "display_name": "Python 3 (ipykernel)",
   "language": "python",
   "name": "python3"
  },
  "language_info": {
   "codemirror_mode": {
    "name": "ipython",
    "version": 3
   },
   "file_extension": ".py",
   "mimetype": "text/x-python",
   "name": "python",
   "nbconvert_exporter": "python",
   "pygments_lexer": "ipython3",
   "version": "3.10.6"
  }
 },
 "nbformat": 4,
 "nbformat_minor": 5
}
