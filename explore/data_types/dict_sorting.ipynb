{
 "cells": [
  {
   "cell_type": "markdown",
   "id": "97e103e1-4e44-4b27-be12-65f14bdf94ac",
   "metadata": {},
   "source": [
    "# Dict sorting"
   ]
  },
  {
   "cell_type": "code",
   "execution_count": 130,
   "id": "08c45063-5aec-4e41-bb6b-aa6047f14699",
   "metadata": {},
   "outputs": [
    {
     "data": {
      "text/plain": [
       "{'j': 0,\n",
       " 'k': 3,\n",
       " 'b': 6,\n",
       " 'i': 9,\n",
       " 'l': 2,\n",
       " 'h': 1,\n",
       " 'p': 7,\n",
       " 'q': 4,\n",
       " 'm': 8,\n",
       " 'n': 5}"
      ]
     },
     "execution_count": 130,
     "metadata": {},
     "output_type": "execute_result"
    }
   ],
   "source": [
    "import random\n",
    "import string\n",
    "import operator\n",
    "\n",
    "dict_length = 10\n",
    "random_dict = dict(zip(\n",
    "        random.sample(string.ascii_lowercase, dict_length),\n",
    "        random.sample(range(dict_length), dict_length)))\n",
    "random_dict"
   ]
  },
  {
   "cell_type": "code",
   "execution_count": 131,
   "id": "d8eb3a8f-c75d-44f2-a6cc-eb3a4eb90e12",
   "metadata": {},
   "outputs": [
    {
     "data": {
      "text/plain": [
       "[('b', 6),\n",
       " ('h', 1),\n",
       " ('i', 9),\n",
       " ('j', 0),\n",
       " ('k', 3),\n",
       " ('l', 2),\n",
       " ('m', 8),\n",
       " ('n', 5),\n",
       " ('p', 7),\n",
       " ('q', 4)]"
      ]
     },
     "execution_count": 131,
     "metadata": {},
     "output_type": "execute_result"
    }
   ],
   "source": [
    "sorted(random_dict.items(), key=operator.itemgetter(0))"
   ]
  },
  {
   "cell_type": "code",
   "execution_count": 132,
   "id": "f7fff624-9709-49cc-bb48-ca7dafa2df43",
   "metadata": {},
   "outputs": [
    {
     "data": {
      "text/plain": [
       "[('j', 0),\n",
       " ('h', 1),\n",
       " ('l', 2),\n",
       " ('k', 3),\n",
       " ('q', 4),\n",
       " ('n', 5),\n",
       " ('b', 6),\n",
       " ('p', 7),\n",
       " ('m', 8),\n",
       " ('i', 9)]"
      ]
     },
     "execution_count": 132,
     "metadata": {},
     "output_type": "execute_result"
    }
   ],
   "source": [
    "sorted(random_dict.items(), key=operator.itemgetter(1))"
   ]
  }
 ],
 "metadata": {
  "kernelspec": {
   "display_name": "Python 3 (ipykernel)",
   "language": "python",
   "name": "python3"
  },
  "language_info": {
   "codemirror_mode": {
    "name": "ipython",
    "version": 3
   },
   "file_extension": ".py",
   "mimetype": "text/x-python",
   "name": "python",
   "nbconvert_exporter": "python",
   "pygments_lexer": "ipython3",
   "version": "3.10.4"
  }
 },
 "nbformat": 4,
 "nbformat_minor": 5
}
