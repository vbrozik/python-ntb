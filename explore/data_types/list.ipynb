{
 "cells": [
  {
   "cell_type": "markdown",
   "id": "373c53b9-f138-471c-afff-ebc5605dba9c",
   "metadata": {},
   "source": [
    "# list"
   ]
  },
  {
   "cell_type": "code",
   "execution_count": 1,
   "id": "caec2a3c-a58d-4c70-8ac8-f8dcd177af45",
   "metadata": {},
   "outputs": [
    {
     "data": {
      "text/plain": [
       "[0, 1, 2, 3, 4, 5, 6, 7, 8, 9]"
      ]
     },
     "execution_count": 1,
     "metadata": {},
     "output_type": "execute_result"
    }
   ],
   "source": [
    "list1_template = list(range(10))\n",
    "list1_template"
   ]
  },
  {
   "cell_type": "code",
   "execution_count": 2,
   "id": "474492ba-0ee5-4583-88e4-aedc36e03d97",
   "metadata": {},
   "outputs": [
    {
     "data": {
      "text/plain": [
       "[0, 1, 2, 3, 4, 5, 6, 7, 8, 9]"
      ]
     },
     "execution_count": 2,
     "metadata": {},
     "output_type": "execute_result"
    }
   ],
   "source": [
    "list1 = list1_template[:]   # shallow copy of the list\n",
    "list1"
   ]
  },
  {
   "cell_type": "markdown",
   "id": "6c0b6007-1fda-4619-afdb-2262004c52e2",
   "metadata": {},
   "source": [
    "## list.pop()"
   ]
  },
  {
   "cell_type": "code",
   "execution_count": 7,
   "id": "7ec8a988-cbe5-4840-8ecb-0845ee913f41",
   "metadata": {},
   "outputs": [
    {
     "data": {
      "text/plain": [
       "9"
      ]
     },
     "execution_count": 7,
     "metadata": {},
     "output_type": "execute_result"
    }
   ],
   "source": [
    "list1 = list1_template[:]\n",
    "list1.pop()                 # removes and returns last item"
   ]
  },
  {
   "cell_type": "code",
   "execution_count": 6,
   "id": "b278fdd6-9d35-4d73-aa83-4ebbac92f286",
   "metadata": {},
   "outputs": [
    {
     "data": {
      "text/plain": [
       "[0, 1, 2, 3, 4, 5, 6, 7, 8]"
      ]
     },
     "execution_count": 6,
     "metadata": {},
     "output_type": "execute_result"
    }
   ],
   "source": [
    "list1"
   ]
  },
  {
   "cell_type": "code",
   "execution_count": 10,
   "id": "7da9e1d6-cb6d-4f09-82f6-6819e66576c8",
   "metadata": {},
   "outputs": [
    {
     "data": {
      "text/plain": [
       "0"
      ]
     },
     "execution_count": 10,
     "metadata": {},
     "output_type": "execute_result"
    }
   ],
   "source": [
    "list1 = list1_template[:]\n",
    "list1.pop(0)                # removes and returns first item"
   ]
  },
  {
   "cell_type": "code",
   "execution_count": 9,
   "id": "d4c61ca5-2f48-4b09-b9d9-af8fd1ba65cb",
   "metadata": {},
   "outputs": [
    {
     "data": {
      "text/plain": [
       "[1, 2, 3, 4, 5, 6, 7, 8, 9]"
      ]
     },
     "execution_count": 9,
     "metadata": {},
     "output_type": "execute_result"
    }
   ],
   "source": [
    "list1"
   ]
  },
  {
   "cell_type": "code",
   "execution_count": 16,
   "id": "9518c02a-eb46-4156-bf48-107251d99216",
   "metadata": {},
   "outputs": [
    {
     "data": {
      "text/plain": [
       "8"
      ]
     },
     "execution_count": 16,
     "metadata": {},
     "output_type": "execute_result"
    }
   ],
   "source": [
    "list1 = list1_template[:]\n",
    "list1.pop(-2)                # removes and returns second item from the end"
   ]
  },
  {
   "cell_type": "code",
   "execution_count": 15,
   "id": "e1dfd04c-a434-4458-a6c9-6be5071865c4",
   "metadata": {},
   "outputs": [
    {
     "data": {
      "text/plain": [
       "[0, 1, 2, 3, 4, 5, 6, 7, 9]"
      ]
     },
     "execution_count": 15,
     "metadata": {},
     "output_type": "execute_result"
    }
   ],
   "source": [
    "list1"
   ]
  }
 ],
 "metadata": {
  "kernelspec": {
   "display_name": "Python 3 (ipykernel)",
   "language": "python",
   "name": "python3"
  },
  "language_info": {
   "codemirror_mode": {
    "name": "ipython",
    "version": 3
   },
   "file_extension": ".py",
   "mimetype": "text/x-python",
   "name": "python",
   "nbconvert_exporter": "python",
   "pygments_lexer": "ipython3",
   "version": "3.10.4"
  }
 },
 "nbformat": 4,
 "nbformat_minor": 5
}
