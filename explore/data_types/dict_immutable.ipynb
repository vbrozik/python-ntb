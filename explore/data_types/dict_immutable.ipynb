{
 "cells": [
  {
   "cell_type": "markdown",
   "id": "d4ca46d0-e7b4-40be-a35a-0c53aa478c98",
   "metadata": {},
   "source": [
    "# Immutable dict\n",
    "\n",
    "* https://peps.python.org/pep-0416/ - rejected PEP from 2012"
   ]
  },
  {
   "cell_type": "markdown",
   "id": "151d08c4-50ae-40f8-8158-58ad83839e14",
   "metadata": {},
   "source": [
    "## types.MappingProxyType\n",
    "\n",
    "* https://stackoverflow.com/questions/41795116/difference-between-mappingproxytype-and-pep-416-frozendict\n",
    "* https://adamj.eu/tech/2022/01/05/how-to-make-immutable-dict-in-python/\n",
    "\n",
    "`types.MappingProxyType` can be used to create a read-only proxy while dropping access to the original dict."
   ]
  },
  {
   "cell_type": "code",
   "execution_count": 1,
   "id": "ef33e9dd-4381-4a94-90cf-ca7eb75e2d9c",
   "metadata": {},
   "outputs": [],
   "source": [
    "from types import MappingProxyType\n",
    "\n",
    "power_levels = MappingProxyType(\n",
    "    {\n",
    "        \"Kevin\": 9001,\n",
    "        \"Benny\": 8000,\n",
    "    }\n",
    ")"
   ]
  },
  {
   "cell_type": "code",
   "execution_count": 5,
   "id": "bd53e277-b097-4b46-ab4e-cf07beeb47c1",
   "metadata": {},
   "outputs": [
    {
     "data": {
      "text/plain": [
       "mappingproxy({'Kevin': 9001, 'Benny': 8000})"
      ]
     },
     "execution_count": 5,
     "metadata": {},
     "output_type": "execute_result"
    }
   ],
   "source": [
    "power_levels"
   ]
  },
  {
   "cell_type": "code",
   "execution_count": 6,
   "id": "ce998c2b-41e1-4b60-b2d9-d2d0189659b6",
   "metadata": {},
   "outputs": [
    {
     "data": {
      "text/plain": [
       "True"
      ]
     },
     "execution_count": 6,
     "metadata": {},
     "output_type": "execute_result"
    }
   ],
   "source": [
    "power_levels == {\n",
    "        \"Kevin\": 9001,\n",
    "        \"Benny\": 8000,\n",
    "    }"
   ]
  },
  {
   "cell_type": "code",
   "execution_count": 2,
   "id": "2b688894-47bd-497d-8b69-c056d3af2bd7",
   "metadata": {},
   "outputs": [
    {
     "data": {
      "text/plain": [
       "9001"
      ]
     },
     "execution_count": 2,
     "metadata": {},
     "output_type": "execute_result"
    }
   ],
   "source": [
    "power_levels['Kevin']"
   ]
  },
  {
   "cell_type": "code",
   "execution_count": 3,
   "id": "90ab57cc-d745-4b91-bee7-a44da8e79cb5",
   "metadata": {},
   "outputs": [
    {
     "ename": "TypeError",
     "evalue": "'mappingproxy' object does not support item assignment",
     "output_type": "error",
     "traceback": [
      "\u001b[0;31m---------------------------------------------------------------------------\u001b[0m",
      "\u001b[0;31mTypeError\u001b[0m                                 Traceback (most recent call last)",
      "Input \u001b[0;32mIn [3]\u001b[0m, in \u001b[0;36m<cell line: 1>\u001b[0;34m()\u001b[0m\n\u001b[0;32m----> 1\u001b[0m power_levels[\u001b[38;5;124m'\u001b[39m\u001b[38;5;124mKevin\u001b[39m\u001b[38;5;124m'\u001b[39m] \u001b[38;5;241m=\u001b[39m \u001b[38;5;241m10\u001b[39m\n",
      "\u001b[0;31mTypeError\u001b[0m: 'mappingproxy' object does not support item assignment"
     ]
    }
   ],
   "source": [
    "power_levels['Kevin'] = 10"
   ]
  },
  {
   "cell_type": "code",
   "execution_count": 9,
   "id": "2afd16d6-0e84-4924-b88e-f0a0c01a817b",
   "metadata": {},
   "outputs": [
    {
     "ename": "TypeError",
     "evalue": "unhashable type: 'mappingproxy'",
     "output_type": "error",
     "traceback": [
      "\u001b[0;31m---------------------------------------------------------------------------\u001b[0m",
      "\u001b[0;31mTypeError\u001b[0m                                 Traceback (most recent call last)",
      "Input \u001b[0;32mIn [9]\u001b[0m, in \u001b[0;36m<cell line: 3>\u001b[0;34m()\u001b[0m\n\u001b[1;32m      1\u001b[0m \u001b[38;5;66;03m# TODO make it hashable\u001b[39;00m\n\u001b[1;32m      2\u001b[0m \u001b[38;5;66;03m# unresolved: https://github.com/python/cpython/issues/87995 MappingProxyType cannot hash a hashable underlying mapping\u001b[39;00m\n\u001b[0;32m----> 3\u001b[0m \u001b[38;5;28;43mhash\u001b[39;49m\u001b[43m(\u001b[49m\u001b[43mpower_levels\u001b[49m\u001b[43m)\u001b[49m\n",
      "\u001b[0;31mTypeError\u001b[0m: unhashable type: 'mappingproxy'"
     ]
    }
   ],
   "source": [
    "# TODO make it hashable\n",
    "# unresolved: https://github.com/python/cpython/issues/87995 MappingProxyType cannot hash a hashable underlying mapping\n",
    "hash(power_levels)"
   ]
  }
 ],
 "metadata": {
  "kernelspec": {
   "display_name": "Python 3 (ipykernel)",
   "language": "python",
   "name": "python3"
  },
  "language_info": {
   "codemirror_mode": {
    "name": "ipython",
    "version": 3
   },
   "file_extension": ".py",
   "mimetype": "text/x-python",
   "name": "python",
   "nbconvert_exporter": "python",
   "pygments_lexer": "ipython3",
   "version": "3.10.4"
  }
 },
 "nbformat": 4,
 "nbformat_minor": 5
}
