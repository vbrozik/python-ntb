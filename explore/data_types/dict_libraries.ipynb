{
 "cells": [
  {
   "cell_type": "markdown",
   "id": "9333536f-b900-439b-9c5a-8d74dd6008ef",
   "metadata": {},
   "source": [
    "* https://github.com/pywbem/nocasedict\n",
    "  * Class NocaseDict is a case-insensitive ordered dictionary that preserves the original lexical case of its keys."
   ]
  }
 ],
 "metadata": {
  "kernelspec": {
   "display_name": "Python 3 (ipykernel)",
   "language": "python",
   "name": "python3"
  },
  "language_info": {
   "codemirror_mode": {
    "name": "ipython",
    "version": 3
   },
   "file_extension": ".py",
   "mimetype": "text/x-python",
   "name": "python",
   "nbconvert_exporter": "python",
   "pygments_lexer": "ipython3",
   "version": "3.10.4"
  }
 },
 "nbformat": 4,
 "nbformat_minor": 5
}
