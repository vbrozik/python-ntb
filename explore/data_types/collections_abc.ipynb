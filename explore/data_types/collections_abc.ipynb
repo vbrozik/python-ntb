{
 "cells": [
  {
   "cell_type": "markdown",
   "id": "9ca71295-0dd3-4cdb-a61b-09d4617884e9",
   "metadata": {},
   "source": [
    "# collections.abc\n",
    "Abstract base classes"
   ]
  },
  {
   "cell_type": "code",
   "execution_count": 1,
   "id": "8fe81b55-d3b7-4fd7-9aec-f6c556993f56",
   "metadata": {},
   "outputs": [],
   "source": [
    "from collections.abc import Container"
   ]
  },
  {
   "cell_type": "markdown",
   "id": "86b8974a-d520-4745-a3f9-c9ac8eebf8a9",
   "metadata": {},
   "source": [
    "## Container\n",
    "Has method `__contains__(item) -> bool`"
   ]
  },
  {
   "cell_type": "code",
   "execution_count": 2,
   "id": "11fb7f2b-4c25-49ff-b964-3e529c764b6f",
   "metadata": {},
   "outputs": [],
   "source": [
    "data_types = [str, tuple, list, dict, set]"
   ]
  },
  {
   "cell_type": "code",
   "execution_count": 7,
   "id": "695a1d0b-1666-4422-96ea-19aa8d91e6fc",
   "metadata": {},
   "outputs": [
    {
     "name": "stdout",
     "output_type": "stream",
     "text": [
      "str: issubclass(data_type, Container) = True\n",
      "tuple: issubclass(data_type, Container) = True\n",
      "list: issubclass(data_type, Container) = True\n",
      "dict: issubclass(data_type, Container) = True\n",
      "set: issubclass(data_type, Container) = True\n"
     ]
    }
   ],
   "source": [
    "for data_type in data_types:\n",
    "    print(\n",
    "            f'{data_type.__name__}: '\n",
    "            f'{issubclass(data_type, Container) = }')"
   ]
  }
 ],
 "metadata": {
  "kernelspec": {
   "display_name": "Python 3 (ipykernel)",
   "language": "python",
   "name": "python3"
  },
  "language_info": {
   "codemirror_mode": {
    "name": "ipython",
    "version": 3
   },
   "file_extension": ".py",
   "mimetype": "text/x-python",
   "name": "python",
   "nbconvert_exporter": "python",
   "pygments_lexer": "ipython3",
   "version": "3.10.4"
  }
 },
 "nbformat": 4,
 "nbformat_minor": 5
}
