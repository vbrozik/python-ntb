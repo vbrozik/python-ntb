{
 "cells": [
  {
   "cell_type": "markdown",
   "id": "9ca71295-0dd3-4cdb-a61b-09d4617884e9",
   "metadata": {
    "editable": true,
    "slideshow": {
     "slide_type": ""
    },
    "tags": []
   },
   "source": [
    "# collections.abc\n",
    "Abstract base classes"
   ]
  },
  {
   "cell_type": "code",
   "execution_count": 1,
   "id": "941763df-cb38-4e09-89a1-88185c985878",
   "metadata": {
    "editable": true,
    "slideshow": {
     "slide_type": ""
    },
    "tags": []
   },
   "outputs": [
    {
     "name": "stderr",
     "output_type": "stream",
     "text": [
      "Version 1.0.5\n"
     ]
    }
   ],
   "source": [
    "%load_ext nb_mypy"
   ]
  },
  {
   "cell_type": "code",
   "execution_count": 2,
   "id": "212ae95e-0cb3-4d9e-a65d-1baa3cb5ff90",
   "metadata": {
    "editable": true,
    "slideshow": {
     "slide_type": ""
    },
    "tags": []
   },
   "outputs": [
    {
     "name": "stderr",
     "output_type": "stream",
     "text": [
      "State: On DebugOff\n"
     ]
    }
   ],
   "source": [
    "%nb_mypy"
   ]
  },
  {
   "cell_type": "code",
   "execution_count": 23,
   "id": "8fe81b55-d3b7-4fd7-9aec-f6c556993f56",
   "metadata": {
    "editable": true,
    "slideshow": {
     "slide_type": ""
    },
    "tags": []
   },
   "outputs": [],
   "source": [
    "from collections.abc import Container, Collection\n",
    "\n",
    "from typing import Iterable"
   ]
  },
  {
   "cell_type": "markdown",
   "id": "86b8974a-d520-4745-a3f9-c9ac8eebf8a9",
   "metadata": {},
   "source": [
    "## Container\n",
    "Has method `__contains__(item) -> bool`"
   ]
  },
  {
   "cell_type": "code",
   "execution_count": 4,
   "id": "11fb7f2b-4c25-49ff-b964-3e529c764b6f",
   "metadata": {},
   "outputs": [],
   "source": [
    "data_types = [str, tuple, list, dict, set]"
   ]
  },
  {
   "cell_type": "code",
   "execution_count": 5,
   "id": "695a1d0b-1666-4422-96ea-19aa8d91e6fc",
   "metadata": {
    "editable": true,
    "scrolled": true,
    "slideshow": {
     "slide_type": ""
    },
    "tags": []
   },
   "outputs": [
    {
     "name": "stdout",
     "output_type": "stream",
     "text": [
      "str: issubclass(data_type, Container) = True\n",
      "tuple: issubclass(data_type, Container) = True\n",
      "list: issubclass(data_type, Container) = True\n",
      "dict: issubclass(data_type, Container) = True\n",
      "set: issubclass(data_type, Container) = True\n"
     ]
    }
   ],
   "source": [
    "for data_type in data_types:\n",
    "    print(\n",
    "            f'{data_type.__name__}: '\n",
    "            f'{issubclass(data_type, Container) = }')"
   ]
  },
  {
   "cell_type": "code",
   "execution_count": 30,
   "id": "e3870810-52f1-4ccd-9aef-782d4508c0f7",
   "metadata": {
    "editable": true,
    "slideshow": {
     "slide_type": ""
    },
    "tags": []
   },
   "outputs": [],
   "source": [
    "def concatenate_collections(*collections: Iterable) -> list:\n",
    "    # + operator is not supported on general collections\n",
    "    # For fixed number of collections we can use unpacking:\n",
    "    # return [*collections[0], *collections[1]]\n",
    "    return [item for collection in collections for item in collection]"
   ]
  },
  {
   "cell_type": "code",
   "execution_count": 31,
   "id": "361e9132-0435-4a1b-8868-f627608c3b40",
   "metadata": {
    "editable": true,
    "slideshow": {
     "slide_type": ""
    },
    "tags": []
   },
   "outputs": [
    {
     "data": {
      "text/plain": [
       "[1, 2, 'hello', 'bye']"
      ]
     },
     "execution_count": 31,
     "metadata": {},
     "output_type": "execute_result"
    }
   ],
   "source": [
    "test_dict = {\n",
    "    1: 'hello',\n",
    "    2: 'bye',\n",
    "}\n",
    "concatenate_collections(test_dict.keys(), test_dict.values())"
   ]
  }
 ],
 "metadata": {
  "kernelspec": {
   "display_name": "Python 3 (ipykernel)",
   "language": "python",
   "name": "python3"
  },
  "language_info": {
   "codemirror_mode": {
    "name": "ipython",
    "version": 3
   },
   "file_extension": ".py",
   "mimetype": "text/x-python",
   "name": "python",
   "nbconvert_exporter": "python",
   "pygments_lexer": "ipython3",
   "version": "3.10.12"
  }
 },
 "nbformat": 4,
 "nbformat_minor": 5
}
