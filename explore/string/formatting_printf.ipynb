{
 "cells": [
  {
   "cell_type": "markdown",
   "id": "28792183-2280-4682-baff-2e8ca66f5cc4",
   "metadata": {},
   "source": [
    "# Printf style formatting (percent formatting)\n",
    "\n",
    "Below are examples of printf-style string formatting followed by the same formatting in the usual format-style.\n",
    "\n",
    "* [printf-style String Formatting](https://docs.python.org/3/library/stdtypes.html#old-string-formatting)\n",
    "* [The String format() Method](https://docs.python.org/3/tutorial/inputoutput.html#the-string-format-method)\n",
    "* [Format String Syntax](https://docs.python.org/3/library/string.html#formatstrings)"
   ]
  },
  {
   "cell_type": "code",
   "execution_count": 1,
   "id": "03e3bef8-b5dc-4a09-a0ed-1bfb511f5244",
   "metadata": {
    "jupyter": {
     "source_hidden": true
    }
   },
   "outputs": [],
   "source": [
    "# Display all values in the following cells.\n",
    "get_ipython().ast_node_interactivity = 'all'"
   ]
  },
  {
   "cell_type": "code",
   "execution_count": 2,
   "id": "28be8671-4793-4555-a928-05f62517cdeb",
   "metadata": {},
   "outputs": [
    {
     "data": {
      "text/plain": [
       "''"
      ]
     },
     "execution_count": 2,
     "metadata": {},
     "output_type": "execute_result"
    },
    {
     "data": {
      "text/plain": [
       "''"
      ]
     },
     "execution_count": 2,
     "metadata": {},
     "output_type": "execute_result"
    }
   ],
   "source": [
    "# Empty formatting is possible\n",
    "'' % ()\n",
    "''.format()"
   ]
  },
  {
   "cell_type": "code",
   "execution_count": 3,
   "id": "2008ab72-696c-4fe2-aab9-8b2daae32915",
   "metadata": {},
   "outputs": [
    {
     "data": {
      "text/plain": [
       "'a b'"
      ]
     },
     "execution_count": 3,
     "metadata": {},
     "output_type": "execute_result"
    },
    {
     "data": {
      "text/plain": [
       "'a b'"
      ]
     },
     "execution_count": 3,
     "metadata": {},
     "output_type": "execute_result"
    }
   ],
   "source": [
    "# Arguments given by position\n",
    "'%s %s' % ('a', 'b')\n",
    "'{:s} {:s}'.format('a', 'b')"
   ]
  },
  {
   "cell_type": "code",
   "execution_count": 4,
   "id": "24759130-c299-4db2-ae21-bda0d25fb2eb",
   "metadata": {},
   "outputs": [
    {
     "data": {
      "text/plain": [
       "'a b'"
      ]
     },
     "execution_count": 4,
     "metadata": {},
     "output_type": "execute_result"
    },
    {
     "data": {
      "text/plain": [
       "'a b'"
      ]
     },
     "execution_count": 4,
     "metadata": {},
     "output_type": "execute_result"
    },
    {
     "data": {
      "text/plain": [
       "'a b'"
      ]
     },
     "execution_count": 4,
     "metadata": {},
     "output_type": "execute_result"
    }
   ],
   "source": [
    "# Arguments given by name (names must be strings)\n",
    "'%(arg_a)s %(arg_b)s' % {'arg_a': 'a', 'arg_b': 'b'}\n",
    "'{arg_a:s} {arg_b:s}'.format(**{'arg_a': 'a', 'arg_b': 'b'})\n",
    "'{arg_a:s} {arg_b:s}'.format_map({'arg_a': 'a', 'arg_b': 'b'})  # No need to unpack!"
   ]
  },
  {
   "cell_type": "code",
   "execution_count": 5,
   "id": "1b30eda8-1648-4f1b-871d-f48912a1e44c",
   "metadata": {},
   "outputs": [
    {
     "data": {
      "text/plain": [
       "'1 2'"
      ]
     },
     "execution_count": 5,
     "metadata": {},
     "output_type": "execute_result"
    },
    {
     "data": {
      "text/plain": [
       "'1 2'"
      ]
     },
     "execution_count": 5,
     "metadata": {},
     "output_type": "execute_result"
    },
    {
     "data": {
      "text/plain": [
       "'1 2'"
      ]
     },
     "execution_count": 5,
     "metadata": {},
     "output_type": "execute_result"
    }
   ],
   "source": [
    "# Accessing local variables and f-string\n",
    "var_a, var_b = 1, 2\n",
    "\n",
    "'%(var_a)d %(var_b)d' % vars()\n",
    "'{var_a:d} {var_b:d}'.format_map(vars())\n",
    "f'{var_a:d} {var_b:d}'"
   ]
  }
 ],
 "metadata": {
  "kernelspec": {
   "display_name": "Python 3 (ipykernel)",
   "language": "python",
   "name": "python3"
  },
  "language_info": {
   "codemirror_mode": {
    "name": "ipython",
    "version": 3
   },
   "file_extension": ".py",
   "mimetype": "text/x-python",
   "name": "python",
   "nbconvert_exporter": "python",
   "pygments_lexer": "ipython3",
   "version": "3.10.6"
  }
 },
 "nbformat": 4,
 "nbformat_minor": 5
}
