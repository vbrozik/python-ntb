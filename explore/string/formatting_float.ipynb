{
 "cells": [
  {
   "cell_type": "markdown",
   "id": "9cc89966-9f15-4007-b256-05fc0f08853a",
   "metadata": {
    "jp-MarkdownHeadingCollapsed": true,
    "tags": []
   },
   "source": [
    "## Table printer"
   ]
  },
  {
   "cell_type": "code",
   "execution_count": 54,
   "id": "b73b93b9-da4e-4fb1-81a0-2130eb7471b1",
   "metadata": {},
   "outputs": [],
   "source": [
    "from IPython.display import Markdown\n",
    "\n",
    "def ipy_table(iterable):\n",
    "    lines = ['||', '|--|']\n",
    "    for item in iterable:\n",
    "        lines.append(f'| `{item}` |')\n",
    "    # return '\\n'.join(lines)\n",
    "    return Markdown('\\n'.join(lines))"
   ]
  },
  {
   "cell_type": "markdown",
   "id": "2a6b21ea-84f3-4fd8-9bc7-4a0f300bb709",
   "metadata": {
    "jp-MarkdownHeadingCollapsed": true,
    "tags": []
   },
   "source": [
    "## Data and helper formatter"
   ]
  },
  {
   "cell_type": "code",
   "execution_count": 80,
   "id": "8cadf944-1ceb-4ad6-8a5a-9994fa1ab2b2",
   "metadata": {},
   "outputs": [],
   "source": [
    "floats = [\n",
    "    0.0,\n",
    "    1.0,\n",
    "    1.23456789,\n",
    "    0.123456789,\n",
    "    0.0123456789,\n",
    "    12.3456789,\n",
    "    2.0e15,\n",
    "    2.0e-15,\n",
    "    float('NaN'),\n",
    "    float('Inf'),\n",
    "]"
   ]
  },
  {
   "cell_type": "code",
   "execution_count": 81,
   "id": "0b925442-3bd3-464b-a370-2ca91211f754",
   "metadata": {},
   "outputs": [],
   "source": [
    "def test_format_spec(format_spec='', floats=floats):\n",
    "    for number in floats:\n",
    "        yield format(number, format_spec)"
   ]
  },
  {
   "cell_type": "markdown",
   "id": "1f76c11e-a173-423d-9e52-ccbadee33427",
   "metadata": {},
   "source": [
    "## Examples"
   ]
  },
  {
   "cell_type": "code",
   "execution_count": 82,
   "id": "8ad0a254-64de-484d-8e43-305ee451516d",
   "metadata": {},
   "outputs": [
    {
     "data": {
      "text/markdown": [
       "||\n",
       "|--|\n",
       "| `0.0` |\n",
       "| `1.0` |\n",
       "| `1.23456789` |\n",
       "| `0.123456789` |\n",
       "| `0.0123456789` |\n",
       "| `12.3456789` |\n",
       "| `2000000000000000.0` |\n",
       "| `2e-15` |\n",
       "| `nan` |\n",
       "| `inf` |"
      ],
      "text/plain": [
       "<IPython.core.display.Markdown object>"
      ]
     },
     "execution_count": 82,
     "metadata": {},
     "output_type": "execute_result"
    }
   ],
   "source": [
    "# no formatting\n",
    "ipy_table(test_format_spec())"
   ]
  },
  {
   "cell_type": "code",
   "execution_count": 83,
   "id": "bcad0cbd-655d-4407-9959-51e56fc4a953",
   "metadata": {},
   "outputs": [
    {
     "data": {
      "text/markdown": [
       "||\n",
       "|--|\n",
       "| `0.000000` |\n",
       "| `1.000000` |\n",
       "| `1.234568` |\n",
       "| `0.123457` |\n",
       "| `0.012346` |\n",
       "| `12.345679` |\n",
       "| `2000000000000000.000000` |\n",
       "| `0.000000` |\n",
       "| `nan` |\n",
       "| `inf` |"
      ],
      "text/plain": [
       "<IPython.core.display.Markdown object>"
      ]
     },
     "execution_count": 83,
     "metadata": {},
     "output_type": "execute_result"
    }
   ],
   "source": [
    "# f - by default 6 decimal places after the decimal point, values are rounded\n",
    "ipy_table(test_format_spec('f'))"
   ]
  },
  {
   "cell_type": "code",
   "execution_count": 84,
   "id": "03e3cd5a-ace7-41a0-aeaf-bc03552004f1",
   "metadata": {},
   "outputs": [
    {
     "data": {
      "text/markdown": [
       "||\n",
       "|--|\n",
       "| `0.00` |\n",
       "| `1.00` |\n",
       "| `1.23` |\n",
       "| `0.12` |\n",
       "| `0.01` |\n",
       "| `12.35` |\n",
       "| `2000000000000000.00` |\n",
       "| `0.00` |\n",
       "| `nan` |\n",
       "| `inf` |"
      ],
      "text/plain": [
       "<IPython.core.display.Markdown object>"
      ]
     },
     "execution_count": 84,
     "metadata": {},
     "output_type": "execute_result"
    }
   ],
   "source": [
    "# 2 decimal places after the decimal point\n",
    "ipy_table(test_format_spec('.2f'))"
   ]
  },
  {
   "cell_type": "code",
   "execution_count": 85,
   "id": "8196499b-8056-4266-a7ed-46cb73254760",
   "metadata": {},
   "outputs": [
    {
     "data": {
      "text/markdown": [
       "||\n",
       "|--|\n",
       "| ` 0.00` |\n",
       "| ` 1.00` |\n",
       "| ` 1.23` |\n",
       "| ` 0.12` |\n",
       "| ` 0.01` |\n",
       "| `12.35` |\n",
       "| `2000000000000000.00` |\n",
       "| ` 0.00` |\n",
       "| `  nan` |\n",
       "| `  inf` |"
      ],
      "text/plain": [
       "<IPython.core.display.Markdown object>"
      ]
     },
     "execution_count": 85,
     "metadata": {},
     "output_type": "execute_result"
    }
   ],
   "source": [
    "# 5 characters total, 2 decimal places after the decimal point\n",
    "ipy_table(test_format_spec('5.2f'))"
   ]
  }
 ],
 "metadata": {
  "kernelspec": {
   "display_name": "Python 3 (ipykernel)",
   "language": "python",
   "name": "python3"
  },
  "language_info": {
   "codemirror_mode": {
    "name": "ipython",
    "version": 3
   },
   "file_extension": ".py",
   "mimetype": "text/x-python",
   "name": "python",
   "nbconvert_exporter": "python",
   "pygments_lexer": "ipython3",
   "version": "3.10.4"
  }
 },
 "nbformat": 4,
 "nbformat_minor": 5
}
