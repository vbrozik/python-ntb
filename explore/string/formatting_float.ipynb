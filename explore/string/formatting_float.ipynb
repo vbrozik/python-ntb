{
 "cells": [
  {
   "cell_type": "markdown",
   "id": "9cc89966-9f15-4007-b256-05fc0f08853a",
   "metadata": {
    "editable": true,
    "slideshow": {
     "slide_type": ""
    },
    "tags": []
   },
   "source": [
    "## Demonstrate float formatting in strings"
   ]
  },
  {
   "cell_type": "code",
   "execution_count": 1,
   "id": "97f4e7d1-1fe8-4497-bbf3-4f47f33ad5c0",
   "metadata": {
    "jupyter": {
     "source_hidden": true
    }
   },
   "outputs": [],
   "source": [
    "# Imports\n",
    "from typing import Iterable, Sequence, Any\n",
    "import itertools\n",
    "from IPython.display import Markdown"
   ]
  },
  {
   "cell_type": "raw",
   "id": "9f991edd-ee16-4e70-809d-7995bdc66b9b",
   "metadata": {
    "editable": true,
    "jupyter": {
     "source_hidden": true
    },
    "raw_mimetype": "",
    "slideshow": {
     "slide_type": ""
    },
    "tags": []
   },
   "source": [
    "# Old functions\n",
    "def ipy_table(iterable: Iterable[str]):\n",
    "    lines = ['||', '|--|']\n",
    "    for item in iterable:\n",
    "        lines.append(f'| `{item}` |')\n",
    "    # return '\\n'.join(lines)\n",
    "    return Markdown('\\n'.join(lines))\n",
    "\n",
    "def test_format_spec(format_spec, floats):\n",
    "    for number in floats:\n",
    "        yield format(number, format_spec)"
   ]
  },
  {
   "cell_type": "code",
   "execution_count": 2,
   "id": "c09285ca-a11d-43af-82a5-b0ba29dc21e4",
   "metadata": {
    "editable": true,
    "jupyter": {
     "source_hidden": true
    },
    "slideshow": {
     "slide_type": ""
    },
    "tags": []
   },
   "outputs": [],
   "source": [
    "# Functions\n",
    "def ipy_table_2d(table: Sequence[Iterable[str]], header: bool = True):\n",
    "    \"\"\"Show table organized in columns formatted using Markdown.\"\"\"\n",
    "    column_iterators = [iter(column) for column in table]\n",
    "    lines = []\n",
    "    for line_no in itertools.count():\n",
    "        line_list = []\n",
    "        for column_iterator in column_iterators:\n",
    "            try:\n",
    "                line_list.append(f'`{next(column_iterator)}`')\n",
    "            except StopIteration:\n",
    "                break\n",
    "        if not line_list:\n",
    "            break   # empty line -> end of iteration\n",
    "        line = '|'.join(line_list)\n",
    "        lines.append(f'|{line}|')\n",
    "        if not line_no and header:\n",
    "            line = '|'.join(':--' for _ in column_iterators)\n",
    "            lines.append(f'|{line}|')\n",
    "    return Markdown('\\n'.join(lines))\n",
    "\n",
    "def formatters_table(\n",
    "        values: Iterable, formatters: Iterable[tuple[str, bool]]\n",
    "        ) -> list[list[str]]:\n",
    "    \"\"\"Demonstrate formatters in a table suitable for ipy_table_2d().\"\"\"\n",
    "    columns = []\n",
    "    for format_str, printf_type in formatters:\n",
    "        values_str = [\n",
    "            f'%{format_str}' if printf_type else f'{{:{format_str}}}']\n",
    "        values_str.extend(\n",
    "            f'%{format_str}' % value if printf_type else format(value, format_str)\n",
    "            for value in values)\n",
    "        columns.append(values_str)\n",
    "    return columns"
   ]
  },
  {
   "cell_type": "markdown",
   "id": "2a6b21ea-84f3-4fd8-9bc7-4a0f300bb709",
   "metadata": {
    "editable": true,
    "slideshow": {
     "slide_type": ""
    },
    "tags": []
   },
   "source": [
    "## Data for testing"
   ]
  },
  {
   "cell_type": "code",
   "execution_count": 3,
   "id": "8cadf944-1ceb-4ad6-8a5a-9994fa1ab2b2",
   "metadata": {
    "jupyter": {
     "source_hidden": true
    }
   },
   "outputs": [],
   "source": [
    "# Lists with testing data\n",
    "floats = [\n",
    "    0.0,\n",
    "    1.0,\n",
    "    1.23456789,\n",
    "    0.123456789,\n",
    "    0.0123456789,\n",
    "    12.3456789,\n",
    "    2.0e15,\n",
    "    2.0e-15,\n",
    "    float('NaN'),\n",
    "    float('Inf'),\n",
    "]\n",
    "formats_f = [\n",
    "    ('', False),\n",
    "    ('f', False),    # 6 decimal places after the decimal point, values are rounded\n",
    "    ('.2f', False),  # 2 decimal places after the decimal point\n",
    "    ('6.2f', False), # 6 characters total, 2 decimal places after the decimal point\n",
    "    ('10f', False),  # 10 characters total, 6 decimal places after the decimal point\n",
    "]\n",
    "formats_pf = [\n",
    "    ('s', True),\n",
    "    ('f', True),\n",
    "    ('.2f', True),\n",
    "    ('6.2f', True),\n",
    "    ('10f', True),\n",
    "]\n",
    "formats_g = [\n",
    "    ('', False),\n",
    "    ('g', False),\n",
    "    ('.2g', False),\n",
    "    ('6.2g', False),\n",
    "    ('10g', False),\n",
    "]\n",
    "formats_pg = [\n",
    "    ('s', True),\n",
    "    ('g', True),\n",
    "    ('.2g', True),\n",
    "    ('6.2g', True),\n",
    "    ('10g', True),\n",
    "]"
   ]
  },
  {
   "cell_type": "markdown",
   "id": "1f76c11e-a173-423d-9e52-ccbadee33427",
   "metadata": {},
   "source": [
    "## Examples"
   ]
  },
  {
   "cell_type": "code",
   "execution_count": 4,
   "id": "dd43e7d0-94a4-463f-8f9e-91a61ce7d6f0",
   "metadata": {
    "scrolled": true
   },
   "outputs": [
    {
     "data": {
      "text/markdown": [
       "|`{:}`|`{:f}`|`{:.2f}`|`{:6.2f}`|`{:10f}`|\n",
       "|:--|:--|:--|:--|:--|\n",
       "|`0.0`|`0.000000`|`0.00`|`  0.00`|`  0.000000`|\n",
       "|`1.0`|`1.000000`|`1.00`|`  1.00`|`  1.000000`|\n",
       "|`1.23456789`|`1.234568`|`1.23`|`  1.23`|`  1.234568`|\n",
       "|`0.123456789`|`0.123457`|`0.12`|`  0.12`|`  0.123457`|\n",
       "|`0.0123456789`|`0.012346`|`0.01`|`  0.01`|`  0.012346`|\n",
       "|`12.3456789`|`12.345679`|`12.35`|` 12.35`|` 12.345679`|\n",
       "|`2000000000000000.0`|`2000000000000000.000000`|`2000000000000000.00`|`2000000000000000.00`|`2000000000000000.000000`|\n",
       "|`2e-15`|`0.000000`|`0.00`|`  0.00`|`  0.000000`|\n",
       "|`nan`|`nan`|`nan`|`   nan`|`       nan`|\n",
       "|`inf`|`inf`|`inf`|`   inf`|`       inf`|"
      ],
      "text/plain": [
       "<IPython.core.display.Markdown object>"
      ]
     },
     "execution_count": 4,
     "metadata": {},
     "output_type": "execute_result"
    }
   ],
   "source": [
    "ipy_table_2d(formatters_table(floats, formats_f))"
   ]
  },
  {
   "cell_type": "code",
   "execution_count": 5,
   "id": "321341c9-ba1b-4f26-adc0-b62c6af696a0",
   "metadata": {
    "editable": true,
    "slideshow": {
     "slide_type": ""
    },
    "tags": []
   },
   "outputs": [
    {
     "data": {
      "text/markdown": [
       "|`%s`|`%f`|`%.2f`|`%6.2f`|`%10f`|\n",
       "|:--|:--|:--|:--|:--|\n",
       "|`0.0`|`0.000000`|`0.00`|`  0.00`|`  0.000000`|\n",
       "|`1.0`|`1.000000`|`1.00`|`  1.00`|`  1.000000`|\n",
       "|`1.23456789`|`1.234568`|`1.23`|`  1.23`|`  1.234568`|\n",
       "|`0.123456789`|`0.123457`|`0.12`|`  0.12`|`  0.123457`|\n",
       "|`0.0123456789`|`0.012346`|`0.01`|`  0.01`|`  0.012346`|\n",
       "|`12.3456789`|`12.345679`|`12.35`|` 12.35`|` 12.345679`|\n",
       "|`2000000000000000.0`|`2000000000000000.000000`|`2000000000000000.00`|`2000000000000000.00`|`2000000000000000.000000`|\n",
       "|`2e-15`|`0.000000`|`0.00`|`  0.00`|`  0.000000`|\n",
       "|`nan`|`nan`|`nan`|`   nan`|`       nan`|\n",
       "|`inf`|`inf`|`inf`|`   inf`|`       inf`|"
      ],
      "text/plain": [
       "<IPython.core.display.Markdown object>"
      ]
     },
     "execution_count": 5,
     "metadata": {},
     "output_type": "execute_result"
    }
   ],
   "source": [
    "ipy_table_2d(formatters_table(floats, formats_pf))"
   ]
  },
  {
   "cell_type": "code",
   "execution_count": 6,
   "id": "7dc4e135-6f33-41c9-8af9-35ca66dd560c",
   "metadata": {},
   "outputs": [
    {
     "data": {
      "text/markdown": [
       "|`{:}`|`{:g}`|`{:.2g}`|`{:6.2g}`|`{:10g}`|\n",
       "|:--|:--|:--|:--|:--|\n",
       "|`0.0`|`0`|`0`|`     0`|`         0`|\n",
       "|`1.0`|`1`|`1`|`     1`|`         1`|\n",
       "|`1.23456789`|`1.23457`|`1.2`|`   1.2`|`   1.23457`|\n",
       "|`0.123456789`|`0.123457`|`0.12`|`  0.12`|`  0.123457`|\n",
       "|`0.0123456789`|`0.0123457`|`0.012`|` 0.012`|` 0.0123457`|\n",
       "|`12.3456789`|`12.3457`|`12`|`    12`|`   12.3457`|\n",
       "|`2000000000000000.0`|`2e+15`|`2e+15`|` 2e+15`|`     2e+15`|\n",
       "|`2e-15`|`2e-15`|`2e-15`|` 2e-15`|`     2e-15`|\n",
       "|`nan`|`nan`|`nan`|`   nan`|`       nan`|\n",
       "|`inf`|`inf`|`inf`|`   inf`|`       inf`|"
      ],
      "text/plain": [
       "<IPython.core.display.Markdown object>"
      ]
     },
     "execution_count": 6,
     "metadata": {},
     "output_type": "execute_result"
    }
   ],
   "source": [
    "ipy_table_2d(formatters_table(floats, formats_g))"
   ]
  },
  {
   "cell_type": "code",
   "execution_count": 7,
   "id": "3b6e68f2-39de-4b66-ab3b-3f728cd185f8",
   "metadata": {},
   "outputs": [
    {
     "data": {
      "text/markdown": [
       "|`%s`|`%g`|`%.2g`|`%6.2g`|`%10g`|\n",
       "|:--|:--|:--|:--|:--|\n",
       "|`0.0`|`0`|`0`|`     0`|`         0`|\n",
       "|`1.0`|`1`|`1`|`     1`|`         1`|\n",
       "|`1.23456789`|`1.23457`|`1.2`|`   1.2`|`   1.23457`|\n",
       "|`0.123456789`|`0.123457`|`0.12`|`  0.12`|`  0.123457`|\n",
       "|`0.0123456789`|`0.0123457`|`0.012`|` 0.012`|` 0.0123457`|\n",
       "|`12.3456789`|`12.3457`|`12`|`    12`|`   12.3457`|\n",
       "|`2000000000000000.0`|`2e+15`|`2e+15`|` 2e+15`|`     2e+15`|\n",
       "|`2e-15`|`2e-15`|`2e-15`|` 2e-15`|`     2e-15`|\n",
       "|`nan`|`nan`|`nan`|`   nan`|`       nan`|\n",
       "|`inf`|`inf`|`inf`|`   inf`|`       inf`|"
      ],
      "text/plain": [
       "<IPython.core.display.Markdown object>"
      ]
     },
     "execution_count": 7,
     "metadata": {},
     "output_type": "execute_result"
    }
   ],
   "source": [
    "ipy_table_2d(formatters_table(floats, formats_pg))"
   ]
  }
 ],
 "metadata": {
  "kernelspec": {
   "display_name": "Python 3 (ipykernel)",
   "language": "python",
   "name": "python3"
  },
  "language_info": {
   "codemirror_mode": {
    "name": "ipython",
    "version": 3
   },
   "file_extension": ".py",
   "mimetype": "text/x-python",
   "name": "python",
   "nbconvert_exporter": "python",
   "pygments_lexer": "ipython3",
   "version": "3.10.6"
  }
 },
 "nbformat": 4,
 "nbformat_minor": 5
}
