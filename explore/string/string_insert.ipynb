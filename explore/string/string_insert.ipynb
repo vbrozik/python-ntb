{
 "cells": [
  {
   "cell_type": "code",
   "execution_count": 2,
   "id": "9bff493f-3395-4cfa-8c04-5298f98c3090",
   "metadata": {},
   "outputs": [
    {
     "name": "stdout",
     "output_type": "stream",
     "text": [
      "  0 'XXXahoj nazdárek'\n",
      "  1 'aXXXhoj nazdárek'\n",
      "  2 'ahXXXoj nazdárek'\n",
      "  3 'ahoXXXj nazdárek'\n",
      "  4 'ahojXXX nazdárek'\n",
      "  5 'ahoj XXXnazdárek'\n",
      "  6 'ahoj nXXXazdárek'\n",
      "  7 'ahoj naXXXzdárek'\n",
      "  8 'ahoj nazXXXdárek'\n",
      "  9 'ahoj nazdXXXárek'\n",
      " 10 'ahoj nazdáXXXrek'\n",
      " 11 'ahoj nazdárXXXek'\n",
      " 12 'ahoj nazdáreXXXk'\n",
      " 13 'ahoj nazdárekXXX'\n",
      " -1 'ahoj nazdáreXXXk'\n",
      " -2 'ahoj nazdárXXXek'\n",
      " -3 'ahoj nazdáXXXrek'\n",
      " -4 'ahoj nazdXXXárek'\n",
      " -5 'ahoj nazXXXdárek'\n",
      " -6 'ahoj naXXXzdárek'\n",
      " -7 'ahoj nXXXazdárek'\n",
      " -8 'ahoj XXXnazdárek'\n",
      " -9 'ahojXXX nazdárek'\n",
      "-10 'ahoXXXj nazdárek'\n",
      "-11 'ahXXXoj nazdárek'\n",
      "-12 'aXXXhoj nazdárek'\n",
      "-13 'XXXahoj nazdárek'\n"
     ]
    }
   ],
   "source": [
    "def insert(into_string, string, position):\n",
    "    return f\"{into_string[:position]}{string}{into_string[position:]}\"\n",
    "\n",
    "test_str = \"ahoj nazdárek\"\n",
    "for i in range(len(test_str) + 1):\n",
    "    print(f\"{i:3} {insert(test_str, 'XXX', i)!r}\")\n",
    "for i in range(1, len(test_str) + 1):\n",
    "    print(f\"{-i:3} {insert(test_str, 'XXX', -i)!r}\")"
   ]
  },
  {
   "cell_type": "code",
   "execution_count": 3,
   "id": "11835454-fdcd-450c-8119-6168f0849c79",
   "metadata": {},
   "outputs": [
    {
     "data": {
      "text/plain": [
       "['ahoj', 'nazdar', 'čau', 'vole']"
      ]
     },
     "execution_count": 3,
     "metadata": {},
     "output_type": "execute_result"
    }
   ],
   "source": [
    "\"ahoj nazdar čau vole\".split(' ', 5)"
   ]
  }
 ],
 "metadata": {
  "interpreter": {
   "hash": "0f0099f2dfb19da938846f42833d09412d61c0077c96597e17c2d07b6719e034"
  },
  "kernelspec": {
   "display_name": "Python 3 (ipykernel)",
   "language": "python",
   "name": "python3"
  },
  "language_info": {
   "codemirror_mode": {
    "name": "ipython",
    "version": 3
   },
   "file_extension": ".py",
   "mimetype": "text/x-python",
   "name": "python",
   "nbconvert_exporter": "python",
   "pygments_lexer": "ipython3",
   "version": "3.10.4"
  }
 },
 "nbformat": 4,
 "nbformat_minor": 5
}
