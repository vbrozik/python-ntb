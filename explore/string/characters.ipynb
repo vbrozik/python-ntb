{
 "cells": [
  {
   "cell_type": "code",
   "execution_count": 2,
   "id": "f31b7878-c158-4d9d-a42b-e022f3970bc8",
   "metadata": {},
   "outputs": [],
   "source": [
    "from __future__ import annotations\n",
    "from typing import Iterator"
   ]
  },
  {
   "cell_type": "code",
   "execution_count": 3,
   "id": "a2c6b9d3-d940-4f0c-82e4-440b2933e856",
   "metadata": {
    "tags": []
   },
   "outputs": [],
   "source": [
    "def char_interval(start: str, stop: str) -> Iterator[str]:\n",
    "    \"\"\"Generate inclusive sequence of characters.\"\"\"\n",
    "    return (chr(n) for n in range(ord(start), ord(stop) + 1))"
   ]
  },
  {
   "cell_type": "code",
   "execution_count": 4,
   "id": "313450ff-d0f3-4428-a54c-d7783eac87ee",
   "metadata": {},
   "outputs": [
    {
     "data": {
      "text/plain": [
       "{'c', 'd', 'e', 'f', 'g', 'h', 'i', 'j', 'k'}"
      ]
     },
     "execution_count": 4,
     "metadata": {},
     "output_type": "execute_result"
    }
   ],
   "source": [
    "set(char_interval('c', 'k'))"
   ]
  }
 ],
 "metadata": {
  "kernelspec": {
   "display_name": "Python 3 (ipykernel)",
   "language": "python",
   "name": "python3"
  },
  "language_info": {
   "codemirror_mode": {
    "name": "ipython",
    "version": 3
   },
   "file_extension": ".py",
   "mimetype": "text/x-python",
   "name": "python",
   "nbconvert_exporter": "python",
   "pygments_lexer": "ipython3",
   "version": "3.10.4"
  }
 },
 "nbformat": 4,
 "nbformat_minor": 5
}
