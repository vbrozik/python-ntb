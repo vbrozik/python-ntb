{
 "cells": [
  {
   "cell_type": "markdown",
   "id": "fc60fd31-41a0-416b-8644-ed7c9c5c8514",
   "metadata": {},
   "source": [
    "# Read records from a CSV to objects\n",
    "\n",
    "* https://docs.python.org/3/library/csv.html"
   ]
  },
  {
   "cell_type": "code",
   "execution_count": 1,
   "id": "3bfad9a5-aee9-43ab-8ce2-4246058e3dc4",
   "metadata": {},
   "outputs": [],
   "source": [
    "import csv\n",
    "import inspect\n",
    "import io"
   ]
  },
  {
   "cell_type": "code",
   "execution_count": 2,
   "id": "71461cef-dd0d-4262-be35-9c8ef8212df2",
   "metadata": {},
   "outputs": [],
   "source": [
    "my_csv1 = '''\n",
    "a,b,c\n",
    "d,e,f\n",
    "   x,  y  ,   z ,   a b   c    , 12\n",
    "'''"
   ]
  },
  {
   "cell_type": "code",
   "execution_count": 3,
   "id": "3f287291-51b5-4375-91d6-baef91a84f94",
   "metadata": {},
   "outputs": [],
   "source": [
    "csv_file1 = io.StringIO(inspect.cleandoc(my_csv1))"
   ]
  },
  {
   "cell_type": "code",
   "execution_count": 4,
   "id": "67bbc297-3cd8-4858-af46-6c3c5a90558b",
   "metadata": {},
   "outputs": [
    {
     "name": "stdout",
     "output_type": "stream",
     "text": [
      "a,b,c\n",
      "d,e,f\n",
      "   x,  y  ,   z ,   a b   c    , 12\n"
     ]
    }
   ],
   "source": [
    "csv_file1.seek(0)   # rewind for repeated runs\n",
    "for line in csv_file1:\n",
    "    print(line.rstrip('\\n'))"
   ]
  },
  {
   "cell_type": "code",
   "execution_count": 5,
   "id": "4a1d4e98-9c2a-4ab5-8733-cc6012046e17",
   "metadata": {},
   "outputs": [
    {
     "name": "stdout",
     "output_type": "stream",
     "text": [
      "['a', 'b', 'c']\n",
      "['d', 'e', 'f']\n",
      "['   x', '  y  ', '   z ', '   a b   c    ', ' 12']\n"
     ]
    }
   ],
   "source": [
    "# csv dialect unix - all whitespace is kept\n",
    "csv_file1.seek(0)   # rewind for repeated runs\n",
    "csv_reader = csv.reader(csv_file1, dialect='unix')\n",
    "for row in csv_reader:\n",
    "    print(row)"
   ]
  },
  {
   "cell_type": "code",
   "execution_count": 6,
   "id": "93d2bb28",
   "metadata": {},
   "outputs": [],
   "source": [
    "my_csv2 = '''\n",
    "    \"Time\",\"Blade\",\"Action\",\"Type\",\"Interface\",\"Origin\",\"Source\",\"Destination\",\"Protocol\",\"Service\",\"Destination Port\",\"Rule\",\"Access Rule Name\",\"Policy Name\",\"Description\"\n",
    "    \"Oct 11, 2023 1:20:49 AM\",Firewall,Drop,Connection,bond2.3355,czt-dc2-fw-tda1_czt-bank-tda1,s1s0068n.cz.srv.acc.sys (10.242.137.37),host_10.242.140.21 (10.242.140.21),TCP (6) (6),sqlnet2-1526,1526,4201,Cleanup rule,czt-tda_policy,\n",
    "    \"Oct 11, 2023 1:20:49 AM\",Firewall,Drop,Connection,bond2.3366,czt-dc2-fw-tda1_czt-bank-tda1,s28860ht.cz.srv.dev.sys (10.242.213.16),host_10.244.208.13 (10.244.208.13),TCP (6) (6),TCP_48000-48100,48002,4201,Cleanup rule,czt-tda_policy,\n",
    "    \"Oct 11, 2023 1:20:49 AM\",Firewall,Drop,Connection,bond2.3205,czt-dc2-fw-tda1_czt-bank-tda1,host_10.237.236.21 (10.237.236.21),s0ab0k4c.cz.srv.sys (10.215.255.17),TCP (6) (6),https,443,4201,Cleanup rule,czt-tda_policy,\n",
    "    \"Oct 11, 2023 1:20:49 AM\",Firewall,Drop,Connection,bond2.3359,czt-dc2-fw-tda1_czt-bank-tda1,host_10.242.149.12 (10.242.149.12),host_10.244.208.13 (10.244.208.13),TCP (6) (6),TCP_48000-48100,48002,4201,Cleanup rule,czt-tda_policy,\n",
    "    \"Oct 11, 2023 1:20:49 AM\",Firewall,Drop,Connection,bond2.3327,czt-dc2-fw-tda1_czt-bank-tda1,host_10.242.184.49 (10.242.184.49),10.242.184.255,UDP (17) (17),UDP_1024-65535,7474,4201,Cleanup rule,czt-tda_policy,\n",
    "    \"Oct 11, 2023 1:20:49 AM\",Firewall,Drop,Connection,bond2.1543,czt-dc2-fw-tda1_czt-bank-tda3,host_10.244.229.19 (10.244.229.19),10.244.229.255,UDP (17) (17),nbdatagram,138,4201,Cleanup rule,czt-tda_policy,\n",
    "    \"Oct 11, 2023 1:20:49 AM\",Firewall,Drop,Connection,bond2.3383,czt-dc2-fw-tda1_czt-bank-tda2,host_10.246.238.11 (10.246.238.11),10.246.238.255,UDP (17) (17),UDP_1024-65535,7474,4201,Cleanup rule,czt-tda_policy,\n",
    "    \"Oct 11, 2023 1:20:49 AM\",Firewall,Drop,Connection,bond2.3379,czt-dc2-fw-tda1_czt-bank-tda2,host_10.246.47.24 (10.246.47.24),s1s004te.cz.srv.acc.sys (10.244.208.20),TCP (6) (6),tcp_5002-5003,5002,4201,Cleanup rule,czt-tda_policy,\n",
    "    \"Oct 11, 2023 1:20:49 AM\",Firewall,Drop,Connection,bond2.3379,czt-dc2-fw-tda1_czt-bank-tda2,host_10.246.47.24 (10.246.47.24),s1s004te.cz.srv.acc.sys (10.244.208.20),TCP (6) (6),tcp_5002-5003,5002,4201,Cleanup rule,czt-tda_policy,\n",
    "    \"Oct 11, 2023 1:20:49 AM\",Firewall,Drop,Connection,bond2.3309,czt-dc2-fw-tda1_czt-bank-tda2,s1s00b3i.cz.srv.acc.sys (10.246.224.22),host_10.236.162.43 (10.236.162.43),TCP (6) (6),TCP_111,111,4201,Cleanup rule,czt-tda_policy,\n",
    "    \"Oct 11, 2023 1:20:49 AM\",Firewall,Drop,Connection,bond2.3327,czt-dc2-fw-tda1_czt-bank-tda1,host_10.242.184.49 (10.242.184.49),10.242.184.255,UDP (17) (17),UDP_1024-65535,7500,4201,Cleanup rule,czt-tda_policy,\n",
    "    \"Oct 11, 2023 1:20:49 AM\",Firewall,Drop,Connection,bond2.1514,czt-dc2-fw-tda1_czt-bank-tda3,s1s003cb.sk.srv.acc.sys (10.244.48.11),s160010l.sk.srv.acc.sys (10.244.31.21),TCP (6) (6),TCP_2500_5000,2588,4201,Cleanup rule,czt-tda_policy,\n",
    "    \"Oct 11, 2023 1:20:49 AM\",Firewall,Drop,Connection,bond2.3333,czt-dc2-fw-tda1_czt-bank-tda3,host_10.244.220.11 (10.244.220.11),s1s004te.cz.srv.acc.sys (10.244.208.20),TCP (6) (6),tcp_5002-5003,5002,4201,Cleanup rule,czt-tda_policy,\n",
    "    \"Oct 11, 2023 1:20:49 AM\",Firewall,Drop,Connection,bond2.3333,czt-dc2-fw-tda1_czt-bank-tda3,s1s00agt.cz.srv.acc.sys (10.244.220.26),s1s004te.cz.srv.acc.sys (10.244.208.20),TCP (6) (6),tcp_5002-5003,5002,4201,Cleanup rule,czt-tda_policy,\n",
    "    \"Oct 11, 2023 1:20:49 AM\",Firewall,Drop,Connection,bond2.3353,czt-dc2-fw-tda1_czt-bank-tda1,s2s0070j.cz.srv.dev.sys (10.242.135.30),host_10.244.208.13 (10.244.208.13),TCP (6) (6),TCP_48000-48100,48002,4201,Cleanup rule,czt-tda_policy,\n",
    "    \"Oct 11, 2023 1:20:49 AM\",Firewall,Drop,Connection,bond2.3492,czt-dc2-fw-tda1_czt-bank-tda1,host_10.237.145.12 (10.237.145.12),s1s004te.cz.srv.acc.sys (10.244.208.20),TCP (6) (6),tcp_5002-5003,5002,4201,Cleanup rule,czt-tda_policy,\n",
    "    \"Oct 11, 2023 1:20:49 AM\",Firewall,Drop,Connection,bond2.3492,czt-dc2-fw-tda1_czt-bank-tda1,host_10.237.145.12 (10.237.145.12),s1s004te.cz.srv.acc.sys (10.244.208.20),TCP (6) (6),tcp_5002-5003,5002,4201,Cleanup rule,czt-tda_policy,\n",
    "    \"Oct 11, 2023 1:20:49 AM\",Firewall,Drop,Connection,bond2.3492,czt-dc2-fw-tda1_czt-bank-tda1,host_10.237.145.12 (10.237.145.12),s1s004te.cz.srv.acc.sys (10.244.208.20),TCP (6) (6),tcp_5002-5003,5002,4201,Cleanup rule,czt-tda_policy,\n",
    "    \"Oct 11, 2023 1:20:49 AM\",Firewall,Drop,Connection,bond2.3492,czt-dc2-fw-tda1_czt-bank-tda1,host_10.237.145.12 (10.237.145.12),s1s004te.cz.srv.acc.sys (10.244.208.20),TCP (6) (6),tcp_5002-5003,5002,4201,Cleanup rule,czt-tda_policy,\n",
    "    \"Oct 11, 2023 1:20:49 AM\",Firewall,Drop,Connection,bond2.3379,czt-dc2-fw-tda1_czt-bank-tda2,host_10.246.47.16 (10.246.47.16),s1s004te.cz.srv.acc.sys (10.244.208.20),TCP (6) (6),tcp_5002-5003,5002,4201,Cleanup rule,czt-tda_policy,\n",
    "    \"Oct 11, 2023 1:20:48 AM\",Firewall,Drop,Connection,bond2.3333,czt-dc2-fw-tda1_czt-bank-tda3,s1s00agt.cz.srv.acc.sys (10.244.220.26),s1s004te.cz.srv.acc.sys (10.244.208.20),TCP (6) (6),tcp_5002-5003,5002,4201,Cleanup rule,czt-tda_policy,\n",
    "    \"Oct 11, 2023 1:20:48 AM\",Firewall,Drop,Connection,bond2.3492,czt-dc2-fw-tda1_czt-bank-tda1,host_10.237.145.12 (10.237.145.12),s1s004te.cz.srv.acc.sys (10.244.208.20),TCP (6) (6),tcp_5002-5003,5002,4201,Cleanup rule,czt-tda_policy,\n",
    "    \"Oct 11, 2023 1:20:48 AM\",Firewall,Drop,Connection,bond2.3333,czt-dc2-fw-tda1_czt-bank-tda3,s1s00agt.cz.srv.acc.sys (10.244.220.26),s1s004te.cz.srv.acc.sys (10.244.208.20),TCP (6) (6),tcp_5002-5003,5002,4201,Cleanup rule,czt-tda_policy,\n",
    "    '''\n",
    "csv_file2 = io.StringIO(inspect.cleandoc(my_csv2))"
   ]
  },
  {
   "cell_type": "code",
   "execution_count": 7,
   "id": "04205592-8e4b-44d4-ad4e-815776b23497",
   "metadata": {},
   "outputs": [
    {
     "data": {
      "text/plain": [
       "csv.Sniffer.sniff.<locals>.dialect"
      ]
     },
     "execution_count": 7,
     "metadata": {},
     "output_type": "execute_result"
    }
   ],
   "source": [
    "# detecting dialect\n",
    "csv_sniffer = csv.Sniffer()\n",
    "csv_file2.seek(0)   # rewind for repeated runs\n",
    "csv_file2_sample = csv_file2.read(1024)\n",
    "dialect = csv_sniffer.sniff(csv_file2_sample)\n",
    "dialect"
   ]
  },
  {
   "cell_type": "code",
   "execution_count": 8,
   "id": "93c029c7",
   "metadata": {},
   "outputs": [
    {
     "name": "stdout",
     "output_type": "stream",
     "text": [
      "delimiter: ','\n",
      "doublequote: False\n",
      "escapechar: None\n",
      "lineterminator: '\\r\\n'\n",
      "quotechar: '\"'\n",
      "quoting: 0\n",
      "skipinitialspace: False\n"
     ]
    }
   ],
   "source": [
    "# show the detected dialect properties\n",
    "for attr in dir(dialect):\n",
    "    if not attr.startswith('_'):\n",
    "        print(f'{attr}: {getattr(dialect, attr)!r}')"
   ]
  },
  {
   "cell_type": "code",
   "execution_count": 9,
   "id": "04d0f27c",
   "metadata": {},
   "outputs": [
    {
     "data": {
      "text/plain": [
       "True"
      ]
     },
     "execution_count": 9,
     "metadata": {},
     "output_type": "execute_result"
    }
   ],
   "source": [
    "csv_sniffer.has_header(csv_file2_sample)"
   ]
  },
  {
   "cell_type": "code",
   "execution_count": 10,
   "id": "e2e1947c",
   "metadata": {},
   "outputs": [
    {
     "data": {
      "text/plain": [
       "['Time',\n",
       " 'Blade',\n",
       " 'Action',\n",
       " 'Type',\n",
       " 'Interface',\n",
       " 'Origin',\n",
       " 'Source',\n",
       " 'Destination',\n",
       " 'Protocol',\n",
       " 'Service',\n",
       " 'Destination Port',\n",
       " 'Rule',\n",
       " 'Access Rule Name',\n",
       " 'Policy Name',\n",
       " 'Description']"
      ]
     },
     "execution_count": 10,
     "metadata": {},
     "output_type": "execute_result"
    }
   ],
   "source": [
    "next(csv.reader(csv_file2_sample.splitlines(), dialect=dialect))"
   ]
  },
  {
   "cell_type": "code",
   "execution_count": 11,
   "id": "0e1a2591-1340-4cda-b830-a56be434c99c",
   "metadata": {},
   "outputs": [],
   "source": [
    "# TODO: Add actual reading to an object"
   ]
  }
 ],
 "metadata": {
  "kernelspec": {
   "display_name": "Python 3 (ipykernel)",
   "language": "python",
   "name": "python3"
  },
  "language_info": {
   "codemirror_mode": {
    "name": "ipython",
    "version": 3
   },
   "file_extension": ".py",
   "mimetype": "text/x-python",
   "name": "python",
   "nbconvert_exporter": "python",
   "pygments_lexer": "ipython3",
   "version": "3.10.12"
  }
 },
 "nbformat": 4,
 "nbformat_minor": 5
}
