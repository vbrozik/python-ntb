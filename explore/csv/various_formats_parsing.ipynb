{
 "cells": [
  {
   "cell_type": "markdown",
   "metadata": {},
   "source": [
    "# Various formats parsing using csv module"
   ]
  },
  {
   "cell_type": "code",
   "execution_count": 3,
   "metadata": {},
   "outputs": [],
   "source": [
    "import csv"
   ]
  },
  {
   "cell_type": "code",
   "execution_count": 4,
   "metadata": {},
   "outputs": [],
   "source": [
    "example_multi_space = \"\"\"\n",
    "09:00:01        IFACE   rxerr/s   txerr/s    coll/s  rxdrop/s  txdrop/s  txcarr/s  rxfram/s  rxfifo/s  txfifo/s\n",
    "09:10:01        bond1      0.00      0.00      0.00      0.00      0.00      0.00      0.00      0.00      0.00\n",
    "09:10:01         Mgmt      0.00      0.00      0.00      0.00      0.00      0.00      0.00      0.00      0.00\n",
    "09:10:01         gre0      0.00      0.00      0.00      0.00      0.00      0.00      0.00      0.00      0.00\n",
    "09:10:01        bond0      0.00      0.00      0.00      0.00      0.00      0.00      0.00      0.00      0.00\n",
    "09:10:01           lo      0.00      0.00      0.00      0.00      0.00      0.00      0.00      0.00      0.00\n",
    "09:10:01      gretap0      0.00      0.00      0.00      0.00      0.00      0.00      0.00      0.00      0.00\n",
    "09:10:01      eth1-01      0.00      0.00      0.00      0.35      0.00      0.00      0.00      0.00      0.00\n",
    "09:10:01      eth1-02      0.00      0.00      0.00      0.42      0.00      0.00      0.00      0.00      0.00\n",
    "09:10:01      eth2-01      0.00      0.00      0.00      0.00      0.00      0.00      0.00      0.00      0.00\n",
    "\"\"\""
   ]
  },
  {
   "cell_type": "code",
   "execution_count": 5,
   "metadata": {},
   "outputs": [
    {
     "name": "stdout",
     "output_type": "stream",
     "text": [
      "[]\n",
      "['09:00:01', 'IFACE', 'rxerr/s', 'txerr/s', 'coll/s', 'rxdrop/s', 'txdrop/s', 'txcarr/s', 'rxfram/s', 'rxfifo/s', 'txfifo/s']\n",
      "['09:10:01', 'bond1', '0.00', '0.00', '0.00', '0.00', '0.00', '0.00', '0.00', '0.00', '0.00']\n",
      "['09:10:01', 'Mgmt', '0.00', '0.00', '0.00', '0.00', '0.00', '0.00', '0.00', '0.00', '0.00']\n",
      "['09:10:01', 'gre0', '0.00', '0.00', '0.00', '0.00', '0.00', '0.00', '0.00', '0.00', '0.00']\n",
      "['09:10:01', 'bond0', '0.00', '0.00', '0.00', '0.00', '0.00', '0.00', '0.00', '0.00', '0.00']\n",
      "['09:10:01', 'lo', '0.00', '0.00', '0.00', '0.00', '0.00', '0.00', '0.00', '0.00', '0.00']\n",
      "['09:10:01', 'gretap0', '0.00', '0.00', '0.00', '0.00', '0.00', '0.00', '0.00', '0.00', '0.00']\n",
      "['09:10:01', 'eth1-01', '0.00', '0.00', '0.00', '0.35', '0.00', '0.00', '0.00', '0.00', '0.00']\n",
      "['09:10:01', 'eth1-02', '0.00', '0.00', '0.00', '0.42', '0.00', '0.00', '0.00', '0.00', '0.00']\n",
      "['09:10:01', 'eth2-01', '0.00', '0.00', '0.00', '0.00', '0.00', '0.00', '0.00', '0.00', '0.00']\n"
     ]
    }
   ],
   "source": [
    "for line in csv.reader(example_multi_space.splitlines(), delimiter=' ', skipinitialspace=True):\n",
    "    print(line)"
   ]
  }
 ],
 "metadata": {
  "kernelspec": {
   "display_name": "Python 3 (ipykernel)",
   "language": "python",
   "name": "python3"
  },
  "language_info": {
   "codemirror_mode": {
    "name": "ipython",
    "version": 3
   },
   "file_extension": ".py",
   "mimetype": "text/x-python",
   "name": "python",
   "nbconvert_exporter": "python",
   "pygments_lexer": "ipython3",
   "version": "3.10.12"
  }
 },
 "nbformat": 4,
 "nbformat_minor": 4
}
