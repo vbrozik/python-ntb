{
 "cells": [
  {
   "cell_type": "markdown",
   "id": "8c127666-1f3d-4b0b-8a27-4d94dd5016b1",
   "metadata": {},
   "source": [
    "# unittest.mock.patch"
   ]
  },
  {
   "cell_type": "code",
   "execution_count": 8,
   "id": "ded52a64-5cea-4adf-92c8-88d9b11d9d50",
   "metadata": {},
   "outputs": [],
   "source": [
    "from unittest import mock\n",
    "\n",
    "class C1:\n",
    "    def __init__(self):\n",
    "        self.attr1 = 'attr1 original'\n",
    "    def method1(self, x):\n",
    "        return f'method1 original {x}'\n",
    "\n",
    "c1 = C1()"
   ]
  },
  {
   "cell_type": "code",
   "execution_count": 15,
   "id": "d2f8fe45-1cf7-41cd-b81e-e70d48a537ac",
   "metadata": {},
   "outputs": [
    {
     "name": "stdout",
     "output_type": "stream",
     "text": [
      "c1.attr1='attr1 patched'\n",
      "c1.method1(5)='method1 original 5'\n",
      "\n",
      "c1.attr1='attr1 original'\n",
      "c1.method1(5)='method1 patched 15'\n",
      "\n",
      "c1.attr1='attr1 original'\n",
      "c1.method1(7)='method1 patched constant'\n",
      "\n",
      "c1.attr1='attr1 original'\n",
      "c1.method1(7)='method1 patched later'\n"
     ]
    }
   ],
   "source": [
    "# patch.object\n",
    "\n",
    "with mock.patch.object(c1, 'attr1', 'attr1 patched'):\n",
    "    print(f'{c1.attr1=!r}')       # patched value\n",
    "    print(f'{c1.method1(5)=!r}')\n",
    "print()\n",
    "with mock.patch.object(c1, 'method1', lambda x: f'method1 patched {x+10}'):\n",
    "    print(f'{c1.attr1=!r}')\n",
    "    print(f'{c1.method1(5)=!r}')  # patched method called instead of the original, no self argument\n",
    "print()\n",
    "with mock.patch.object(c1, 'method1', return_value='method1 patched constant'):\n",
    "    print(f'{c1.attr1=!r}')\n",
    "    print(f'{c1.method1(7)=!r}')  # return value replaced, original method not called\n",
    "print()\n",
    "with mock.patch.object(c1, 'method1') as mock1:\n",
    "    mock1.return_value = 'method1 patched later'\n",
    "    print(f'{c1.attr1=!r}')\n",
    "    print(f'{c1.method1(7)=!r}')"
   ]
  }
 ],
 "metadata": {
  "kernelspec": {
   "display_name": "Python 3 (ipykernel)",
   "language": "python",
   "name": "python3"
  },
  "language_info": {
   "codemirror_mode": {
    "name": "ipython",
    "version": 3
   },
   "file_extension": ".py",
   "mimetype": "text/x-python",
   "name": "python",
   "nbconvert_exporter": "python",
   "pygments_lexer": "ipython3",
   "version": "3.10.4"
  }
 },
 "nbformat": 4,
 "nbformat_minor": 5
}
