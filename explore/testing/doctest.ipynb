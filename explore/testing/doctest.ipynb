{
 "cells": [
  {
   "cell_type": "markdown",
   "id": "32c790ee-3a23-4823-9a36-20c513750ee9",
   "metadata": {},
   "source": [
    "# Doctests\n",
    "\n",
    "* TODO: split information for Jupyter"
   ]
  },
  {
   "cell_type": "code",
   "execution_count": 9,
   "id": "470ebb85-ddb0-4994-94d1-234a667c2456",
   "metadata": {},
   "outputs": [],
   "source": [
    "def example_function() -> None:\n",
    "    \"\"\"Docstring.\n",
    "\n",
    "    >>> print('Here is a command')\n",
    "    Here is a command\n",
    "    \n",
    "    >>> 2\n",
    "    3\n",
    "    \"\"\""
   ]
  },
  {
   "cell_type": "markdown",
   "id": "c473e5f0-926a-4edf-8dd3-10f078f4b692",
   "metadata": {},
   "source": [
    "## Running doctests in the module / notebook\n",
    "\n",
    "* https://kolesnikov.ga/Testing_and_Debugging_Jupyter_Notebooks/\n",
    "* https://stackoverflow.com/a/48405555/320437"
   ]
  },
  {
   "cell_type": "code",
   "execution_count": 10,
   "id": "521b269b-82e8-40f4-886c-9caf85200895",
   "metadata": {},
   "outputs": [
    {
     "name": "stdout",
     "output_type": "stream",
     "text": [
      "Trying:\n",
      "    print('Here is a command')\n",
      "Expecting:\n",
      "    Here is a command\n",
      "ok\n",
      "Trying:\n",
      "    2\n",
      "Expecting:\n",
      "    3\n",
      "**********************************************************************\n",
      "File \"__main__\", line 7, in __main__.example_function\n",
      "Failed example:\n",
      "    2\n",
      "Expected:\n",
      "    3\n",
      "Got:\n",
      "    2\n",
      "1 items had no tests:\n",
      "    __main__\n",
      "**********************************************************************\n",
      "1 items had failures:\n",
      "   1 of   2 in __main__.example_function\n",
      "2 tests in 2 items.\n",
      "1 passed and 1 failed.\n",
      "***Test Failed*** 1 failures.\n"
     ]
    },
    {
     "data": {
      "text/plain": [
       "TestResults(failed=1, attempted=2)"
      ]
     },
     "execution_count": 10,
     "metadata": {},
     "output_type": "execute_result"
    }
   ],
   "source": [
    "import doctest\n",
    "doctest.testmod(verbose=True)"
   ]
  },
  {
   "cell_type": "markdown",
   "id": "1cf46499-8606-45b3-a1ed-e2afaf7fb9c7",
   "metadata": {},
   "source": [
    "Running doctests from a single function:"
   ]
  },
  {
   "cell_type": "code",
   "execution_count": 14,
   "id": "618fac07-d1ad-459d-8a22-d41ed53b499b",
   "metadata": {},
   "outputs": [
    {
     "name": "stdout",
     "output_type": "stream",
     "text": [
      "**********************************************************************\n",
      "File \"__main__\", line 7, in NoName\n",
      "Failed example:\n",
      "    2\n",
      "Expected:\n",
      "    3\n",
      "Got:\n",
      "    2\n"
     ]
    }
   ],
   "source": [
    "doctest.run_docstring_examples(example_function, globals())"
   ]
  },
  {
   "cell_type": "code",
   "execution_count": 3,
   "id": "5c36d01c-b410-4c97-85a1-9c62223832cf",
   "metadata": {},
   "outputs": [
    {
     "data": {
      "text/plain": [
       "'\\n<BLANKLINE>\\n'"
      ]
     },
     "execution_count": 3,
     "metadata": {},
     "output_type": "execute_result"
    }
   ],
   "source": [
    "# Empty line in optuput\n",
    "\"\"\"\n",
    "<BLANKLINE>\n",
    "\"\"\""
   ]
  },
  {
   "cell_type": "code",
   "execution_count": 4,
   "id": "e440c332-6d09-4acc-b88d-cd4553c21a0f",
   "metadata": {},
   "outputs": [
    {
     "data": {
      "text/plain": [
       "'\\n...\\n'"
      ]
     },
     "execution_count": 4,
     "metadata": {},
     "output_type": "execute_result"
    }
   ],
   "source": [
    "# Skipped (unchecked) part of optuput\n",
    "\"\"\"\n",
    "...\n",
    "\"\"\""
   ]
  },
  {
   "cell_type": "markdown",
   "id": "7b0b62d4-9c36-4eec-9f40-6fa7e9c0be5b",
   "metadata": {},
   "source": [
    "IPython's magic `%doctest_mode` probably does not have sense in JupyterLab\n",
    "\n",
    "In IPython it changes the appearance to resemple Python's REPL:\n",
    "```\n",
    "In [1]: %doctest_mode\n",
    "Exception reporting mode: Plain\n",
    "Doctest mode is: ON\n",
    ">>> 1+2\n",
    "3\n",
    "```"
   ]
  },
  {
   "cell_type": "code",
   "execution_count": 5,
   "id": "62527de5-9df0-48f5-ae92-3335118861bf",
   "metadata": {},
   "outputs": [
    {
     "name": "stdout",
     "output_type": "stream",
     "text": [
      "Exception reporting mode: Plain\n",
      "Doctest mode is: ON\n"
     ]
    }
   ],
   "source": [
    "%doctest_mode"
   ]
  },
  {
   "cell_type": "code",
   "execution_count": 6,
   "id": "d316100e-92ac-4764-b6bf-773b924883e1",
   "metadata": {},
   "outputs": [
    {
     "name": "stdout",
     "output_type": "stream",
     "text": [
      "hello\n"
     ]
    }
   ],
   "source": [
    "print('hello')"
   ]
  },
  {
   "cell_type": "markdown",
   "id": "d0bcd663-2ede-41ec-b688-65f261dd7acf",
   "metadata": {},
   "source": [
    "Jupyter automatically strips leading `>>> ` and `... ` used in Python REPL and doctests."
   ]
  },
  {
   "cell_type": "code",
   "execution_count": 13,
   "id": "5568ee77-9cb4-47b9-85a3-51abc1fc2101",
   "metadata": {},
   "outputs": [
    {
     "name": "stdout",
     "output_type": "stream",
     "text": [
      "0\n",
      "1\n",
      "2\n",
      "3\n",
      "4\n",
      "5\n",
      "6\n",
      "7\n",
      "8\n"
     ]
    }
   ],
   "source": [
    ">>> for i in range(9):\n",
    "...     print(i)"
   ]
  }
 ],
 "metadata": {
  "kernelspec": {
   "display_name": "Python 3 (ipykernel)",
   "language": "python",
   "name": "python3"
  },
  "language_info": {
   "codemirror_mode": {
    "name": "ipython",
    "version": 3
   },
   "file_extension": ".py",
   "mimetype": "text/x-python",
   "name": "python",
   "nbconvert_exporter": "python",
   "pygments_lexer": "ipython3",
   "version": "3.10.4"
  }
 },
 "nbformat": 4,
 "nbformat_minor": 5
}
