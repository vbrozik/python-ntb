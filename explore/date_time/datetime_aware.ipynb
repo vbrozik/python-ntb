{
 "cells": [
  {
   "cell_type": "markdown",
   "id": "11f2fe5c-2011-4000-b315-eb7b31c6ff89",
   "metadata": {},
   "source": [
    "https://discuss.python.org/t/how-can-i-enforce-aware-datetime-objects/15004/7?u=vbrozik"
   ]
  },
  {
   "cell_type": "code",
   "execution_count": 1,
   "id": "841fa19e-a64e-491f-b83b-319f0d382cd5",
   "metadata": {},
   "outputs": [],
   "source": [
    "import datetime as datetime_\n",
    "from typing import Any, TypeVar\n",
    "\n",
    "# FIXME: typing\n",
    "# Stolen from typeshed:\n",
    "# https://github.com/python/typeshed/blob/c987c78077dc21ef2b1fdb11b83eeb947c3b4276/stdlib/_typeshed/__init__.pyi#L22-L24\n",
    "_Self = TypeVar(\"_Self\")\n",
    "\n",
    "class datetime(datetime_.datetime):\n",
    "    def __new__(\n",
    "        cls: type[_Self],\n",
    "        year: int,\n",
    "        month: int = None,\n",
    "        day: int = None,\n",
    "        hour: int = 0,\n",
    "        minute: int = 0,\n",
    "        second: int = 0,\n",
    "        microsecond: int = 0,\n",
    "        tzinfo: datetime_.tzinfo | None = None,\n",
    "        *,\n",
    "        fold: int = 0) -> Any:\n",
    "        \"\"\"Allocate and initialize a new `datetime` objects.\"\"\"\n",
    "        return super().__new__(\n",
    "            cls, year, month, day, hour, minute, second, microsecond, tzinfo or datetime_.timezone.utc)"
   ]
  },
  {
   "cell_type": "code",
   "execution_count": 2,
   "id": "44553d44-60aa-4075-9a5c-9fb4a4a89c42",
   "metadata": {},
   "outputs": [
    {
     "data": {
      "text/plain": [
       "datetime(2022, 1, 1, 0, 0, tzinfo=datetime.timezone.utc)"
      ]
     },
     "execution_count": 2,
     "metadata": {},
     "output_type": "execute_result"
    }
   ],
   "source": [
    "datetime(2022, 1, 1)"
   ]
  }
 ],
 "metadata": {
  "kernelspec": {
   "display_name": "Python 3 (ipykernel)",
   "language": "python",
   "name": "python3"
  },
  "language_info": {
   "codemirror_mode": {
    "name": "ipython",
    "version": 3
   },
   "file_extension": ".py",
   "mimetype": "text/x-python",
   "name": "python",
   "nbconvert_exporter": "python",
   "pygments_lexer": "ipython3",
   "version": "3.10.6"
  }
 },
 "nbformat": 4,
 "nbformat_minor": 5
}
