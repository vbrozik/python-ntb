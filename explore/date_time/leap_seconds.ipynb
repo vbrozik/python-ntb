{
 "cells": [
  {
   "cell_type": "markdown",
   "id": "aad64c02-e996-4ca6-ad1e-c27c6217be98",
   "metadata": {
    "tags": []
   },
   "source": [
    "# Leap seconds\n",
    "* https://en.wikipedia.org/wiki/Leap_second\n",
    "* https://www.americanscientist.org/article/the-future-of-time-utc-and-the-leap-second\n",
    "* http://cr.yp.to/proto/utctai.html\n",
    "* https://github.com/python/cpython/issues/67762 datetime: support leap seconds\n",
    "* https://stackoverflow.com/questions/39686553/what-does-python-return-on-the-leap-second\n",
    "\n",
    "## Testing difference between `datetime` and UNIX time"
   ]
  },
  {
   "cell_type": "code",
   "execution_count": 1,
   "id": "460e4040-c322-42d3-a844-a46fae0f940c",
   "metadata": {},
   "outputs": [],
   "source": [
    "import datetime\n",
    "import calendar\n",
    "\n",
    "from typing import Iterable"
   ]
  },
  {
   "cell_type": "code",
   "execution_count": 2,
   "id": "b52f158b-40e4-49d3-9a08-908fc21c3f5d",
   "metadata": {},
   "outputs": [],
   "source": [
    "# Check epoch start\n",
    "assert (\n",
    "        datetime.datetime(1970, 1, 1, tzinfo=datetime.timezone.utc)\n",
    "        == datetime.datetime.fromtimestamp(0, tz=datetime.timezone.utc))\n",
    "\n",
    "# There should be 37 leap seconds in this time period\n",
    "start = datetime.datetime(1970, 1, 1, tzinfo=datetime.timezone.utc)\n",
    "end = datetime.datetime(2022, 1, 1, tzinfo=datetime.timezone.utc)\n",
    "\n",
    "datetime_seconds = (end - start).total_seconds()\n",
    "\n",
    "timestamp_seconds = end.timestamp() - start.timestamp()"
   ]
  },
  {
   "cell_type": "markdown",
   "id": "bbe52640-6745-40ef-826a-a355dcc75f4a",
   "metadata": {},
   "source": [
    "No difference"
   ]
  },
  {
   "cell_type": "code",
   "execution_count": 3,
   "id": "5c4599ca-003e-414b-8166-d64ca4a3102b",
   "metadata": {},
   "outputs": [
    {
     "data": {
      "text/plain": [
       "0.0"
      ]
     },
     "execution_count": 3,
     "metadata": {},
     "output_type": "execute_result"
    }
   ],
   "source": [
    "datetime_seconds - timestamp_seconds"
   ]
  },
  {
   "cell_type": "markdown",
   "id": "df9ddc12-c608-4924-a8cb-1a95f38a5eff",
   "metadata": {},
   "source": [
    "seconds without leap seconds: `60 * 60 * 24 * number_of_days`"
   ]
  },
  {
   "cell_type": "code",
   "execution_count": 4,
   "id": "a7388769-7e58-4354-ab3b-c1e888e4d226",
   "metadata": {
    "tags": []
   },
   "outputs": [],
   "source": [
    "def is_leap_year(year):\n",
    "    \"\"\"Determine whether a year is a leap year.\"\"\"\n",
    "\n",
    "    return year % 4 == 0 and (year % 100 != 0 or year % 400 == 0)\n",
    "\n",
    "\n",
    "def days_in_years(years: Iterable[int]) -> int:\n",
    "    days = 0\n",
    "    for year in years:\n",
    "        days += 365 + (1 if calendar.isleap(year) else 0)\n",
    "    return days\n",
    "\n",
    "SECONDS_IN_DAY = 60 * 60 * 24\n",
    "\n",
    "\n",
    "seconds_without_leap = days_in_years(range(start.year, end.year)) * SECONDS_IN_DAY"
   ]
  },
  {
   "cell_type": "code",
   "execution_count": 5,
   "id": "5f656c04-2147-448b-bae2-bcea04d4b0f0",
   "metadata": {
    "tags": []
   },
   "outputs": [
    {
     "name": "stdout",
     "output_type": "stream",
     "text": [
      "datetime_seconds =     1640995200.0\n",
      "timestamp_seconds =    1640995200.0\n",
      "seconds_without_leap = 1640995200\n"
     ]
    }
   ],
   "source": [
    "print(\n",
    "        f'{datetime_seconds =     }\\n'\n",
    "        f'{timestamp_seconds =    }\\n'\n",
    "        f'{seconds_without_leap = }'\n",
    "        )"
   ]
  },
  {
   "cell_type": "markdown",
   "id": "cbb21d43-a7b2-4d7a-93d2-8988a1be9b5f",
   "metadata": {},
   "source": [
    "## How to get leap seconds"
   ]
  },
  {
   "cell_type": "code",
   "execution_count": 33,
   "id": "21831b2d-4736-45fd-b44f-2c9b6788052f",
   "metadata": {},
   "outputs": [],
   "source": [
    "# https://stackoverflow.com/questions/65551924/how-many-seconds-elapsed-since-01-01-1970-leap-seconds-included\n",
    "\n",
    "import os\n",
    "import time\n",
    "import datetime\n",
    "\n",
    "tai_epoch = datetime.datetime(1970, 1, 1, 0, 0, 10)   # 10 seconds shift in 1972\n",
    "\n",
    "timezone = time.tzname[0]\n",
    "os.environ['TZ'] = 'right/UTC'    # special time zone without leap seconds\n",
    "time.tzset()\n",
    "\n",
    "now = datetime.datetime.utcnow()\n",
    "leap_seconds = int(now.timestamp()) -  int((now - tai_epoch).total_seconds())\n",
    "\n",
    "os.environ['TZ'] = timezone\n",
    "time.tzset()"
   ]
  },
  {
   "cell_type": "code",
   "execution_count": 34,
   "id": "3c6bcb79-bfdf-48d3-8a73-cb05324629b3",
   "metadata": {},
   "outputs": [
    {
     "data": {
      "text/plain": [
       "37"
      ]
     },
     "execution_count": 34,
     "metadata": {},
     "output_type": "execute_result"
    }
   ],
   "source": [
    "leap_seconds"
   ]
  },
  {
   "cell_type": "code",
   "execution_count": 35,
   "id": "bf783c1a-d5fc-4e16-a8fd-fbd8c9028f10",
   "metadata": {},
   "outputs": [
    {
     "name": "stdout",
     "output_type": "stream",
     "text": [
      "37\n"
     ]
    }
   ],
   "source": [
    "os.environ['TZ'] = 'right/UTC'\n",
    "time.tzset()\n",
    "now = datetime.datetime.utcnow()\n",
    "right_time = int(now.timestamp()) + leap_seconds\n",
    "os.environ['TZ'] = timezone\n",
    "time.tzset()\n",
    "\n",
    "utc_time = int(time.time())\n",
    "print(right_time - utc_time)"
   ]
  },
  {
   "cell_type": "markdown",
   "id": "f36d0f1f-1fd5-4dd0-b992-f734095b91ed",
   "metadata": {},
   "source": [
    "mktime leap second demonstration\n",
    "https://github.com/python/cpython/issues/67762#issuecomment-1093676668"
   ]
  },
  {
   "cell_type": "code",
   "execution_count": 36,
   "id": "c04fd030-eed3-4b67-b04f-2050e705a55e",
   "metadata": {},
   "outputs": [
    {
     "name": "stdout",
     "output_type": "stream",
     "text": [
      "1341100823.0\n",
      "1341100824.0\n",
      "1341100825.0\n"
     ]
    }
   ],
   "source": [
    "timezone = time.tzname[0]\n",
    "os.environ['TZ'] = 'right/UTC'    # special time zone without leap seconds\n",
    "time.tzset()\n",
    "\n",
    "print(time.mktime((2012, 6, 30, 23, 59, 59, -1, -1, -1)))\n",
    "print(time.mktime((2012, 6, 30, 23, 59, 60, -1, -1, -1)))\n",
    "print(time.mktime((2012, 7, 1, 0, 0, 0, -1, -1, -1)))\n",
    "\n",
    "os.environ['TZ'] = timezone\n",
    "time.tzset()"
   ]
  }
 ],
 "metadata": {
  "kernelspec": {
   "display_name": "Python 3 (ipykernel)",
   "language": "python",
   "name": "python3"
  },
  "language_info": {
   "codemirror_mode": {
    "name": "ipython",
    "version": 3
   },
   "file_extension": ".py",
   "mimetype": "text/x-python",
   "name": "python",
   "nbconvert_exporter": "python",
   "pygments_lexer": "ipython3",
   "version": "3.10.4"
  }
 },
 "nbformat": 4,
 "nbformat_minor": 5
}
