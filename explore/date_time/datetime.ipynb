{
 "cells": [
  {
   "cell_type": "code",
   "execution_count": 1,
   "id": "52fa3df0-5326-4c01-9fa0-9cbc78711f0e",
   "metadata": {},
   "outputs": [],
   "source": [
    "import datetime"
   ]
  },
  {
   "cell_type": "markdown",
   "id": "82176483-a1e5-4bb4-bf00-10950835fa42",
   "metadata": {},
   "source": [
    "## Rounding"
   ]
  },
  {
   "cell_type": "code",
   "execution_count": 13,
   "id": "0338fffa-524e-42a3-b955-7b2d06d7e521",
   "metadata": {
    "tags": []
   },
   "outputs": [
    {
     "name": "stdout",
     "output_type": "stream",
     "text": [
      "2020-01-01 19:30:33.996628\n"
     ]
    }
   ],
   "source": [
    "a = datetime.datetime.fromisoformat('2020-01-01 19:30:33.996628')\n",
    "print(a)"
   ]
  },
  {
   "cell_type": "code",
   "execution_count": 9,
   "id": "3b8050c5-8d56-4e25-b34b-533439d4d0cb",
   "metadata": {},
   "outputs": [
    {
     "name": "stdout",
     "output_type": "stream",
     "text": [
      "2020-01-01 19:30:34\n"
     ]
    }
   ],
   "source": [
    "def datetime_round_s(date_time: datetime.datetime) -> datetime.datetime:\n",
    "    return (date_time + datetime.timedelta(microseconds=(5e5))).replace(microsecond=0)\n",
    "print(datetime_round_s(a))"
   ]
  },
  {
   "cell_type": "code",
   "execution_count": 11,
   "id": "92558d1f-34d9-4099-9ba2-c4fcddcf8208",
   "metadata": {},
   "outputs": [
    {
     "name": "stdout",
     "output_type": "stream",
     "text": [
      "True\n"
     ]
    }
   ],
   "source": [
    "b = datetime.datetime.fromisoformat('2020-01-01 19:30:34')\n",
    "print(datetime_round_s(a) == b)"
   ]
  }
 ],
 "metadata": {
  "kernelspec": {
   "display_name": "Python 3 (ipykernel)",
   "language": "python",
   "name": "python3"
  },
  "language_info": {
   "codemirror_mode": {
    "name": "ipython",
    "version": 3
   },
   "file_extension": ".py",
   "mimetype": "text/x-python",
   "name": "python",
   "nbconvert_exporter": "python",
   "pygments_lexer": "ipython3",
   "version": "3.10.4"
  }
 },
 "nbformat": 4,
 "nbformat_minor": 5
}
