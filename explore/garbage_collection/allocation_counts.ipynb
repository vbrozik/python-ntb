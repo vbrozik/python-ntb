{
 "cells": [
  {
   "cell_type": "code",
   "execution_count": 1,
   "id": "0e4fc80b-a327-4536-a0e2-28e39b3b5876",
   "metadata": {},
   "outputs": [],
   "source": [
    "import gc"
   ]
  },
  {
   "cell_type": "markdown",
   "id": "257eb315-dc3b-468c-97ff-8afa36d44157",
   "metadata": {},
   "source": [
    "Thesholds for starting garbage collection"
   ]
  },
  {
   "cell_type": "code",
   "execution_count": 2,
   "id": "6635e90d-0834-4a58-8282-57fa3964ccb9",
   "metadata": {},
   "outputs": [
    {
     "data": {
      "text/plain": [
       "(700, 10, 10)"
      ]
     },
     "execution_count": 2,
     "metadata": {},
     "output_type": "execute_result"
    }
   ],
   "source": [
    "gc.get_threshold()"
   ]
  },
  {
   "cell_type": "markdown",
   "id": "b7908d00-36f5-48d5-9870-d71d3d6dd600",
   "metadata": {},
   "source": [
    "It is unclear how are allocation counts counted"
   ]
  },
  {
   "cell_type": "code",
   "execution_count": 3,
   "id": "75d00904-9793-433d-9321-50822cd88b82",
   "metadata": {},
   "outputs": [
    {
     "name": "stdout",
     "output_type": "stream",
     "text": [
      "(249, 7, 7)\n",
      "(293, 7, 7)\n",
      "(308, 7, 7)\n",
      "(309, 7, 7)\n",
      "(306, 7, 7)\n",
      "(312, 7, 7)\n",
      "(313, 7, 7)\n",
      "(309, 7, 7)\n",
      "(314, 7, 7)\n",
      "(328, 7, 7)\n",
      "(334, 7, 7)\n",
      "(330, 7, 7)\n",
      "(340, 7, 7)\n",
      "(341, 7, 7)\n",
      "(342, 7, 7)\n",
      "(343, 7, 7)\n",
      "(343, 7, 7)\n",
      "(340, 7, 7)\n",
      "(346, 7, 7)\n",
      "(332, 7, 7)\n"
     ]
    }
   ],
   "source": [
    "list1 = []\n",
    "for i in range(20):\n",
    "    print(gc.get_count())\n",
    "    # list1.append(object())   # does not increase allocations\n",
    "    # list1.append(i * 1000)   # does not increase allocations\n",
    "    # list1.append([])   # does not increase allocations\n",
    "    # list1.append(list())   # increases allocations by 1\n",
    "    list1.append(list(range(1000000)))   # increases allocations by 1, sometimes more"
   ]
  }
 ],
 "metadata": {
  "kernelspec": {
   "display_name": "Python 3 (ipykernel)",
   "language": "python",
   "name": "python3"
  },
  "language_info": {
   "codemirror_mode": {
    "name": "ipython",
    "version": 3
   },
   "file_extension": ".py",
   "mimetype": "text/x-python",
   "name": "python",
   "nbconvert_exporter": "python",
   "pygments_lexer": "ipython3",
   "version": "3.10.4"
  }
 },
 "nbformat": 4,
 "nbformat_minor": 5
}
