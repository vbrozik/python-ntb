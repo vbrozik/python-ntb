{
 "cells": [
  {
   "cell_type": "markdown",
   "metadata": {},
   "source": [
    "# PyYAML representation in the YAML output"
   ]
  },
  {
   "cell_type": "code",
   "execution_count": 1,
   "metadata": {},
   "outputs": [],
   "source": [
    "import yaml"
   ]
  },
  {
   "cell_type": "code",
   "execution_count": 2,
   "metadata": {},
   "outputs": [],
   "source": [
    "TEST_DATA1 = [\n",
    "    {'key1': 'value1', 'key2': 2, 'key3': 3.0},\n",
    "    {'key1': 'value2', 'key2': 3, 'key3': 4.0},\n",
    "]"
   ]
  },
  {
   "cell_type": "code",
   "execution_count": 3,
   "metadata": {},
   "outputs": [
    {
     "name": "stdout",
     "output_type": "stream",
     "text": [
      "- key1: value1\n",
      "  key2: 2\n",
      "  key3: 3.0\n",
      "- key1: value2\n",
      "  key2: 3\n",
      "  key3: 4.0\n",
      "\n"
     ]
    }
   ],
   "source": [
    "# Dump test date to a YAML string\n",
    "yaml_str = yaml.dump(TEST_DATA1)\n",
    "print(yaml_str)"
   ]
  },
  {
   "cell_type": "code",
   "execution_count": 4,
   "metadata": {},
   "outputs": [],
   "source": [
    "class DictCompact(dict):\n",
    "    pass"
   ]
  },
  {
   "cell_type": "code",
   "execution_count": 5,
   "metadata": {},
   "outputs": [],
   "source": [
    "TEST_DATA2 = [\n",
    "    DictCompact({'key1': 'value1', 'key2': 2, 'key3': 3.0}),\n",
    "    DictCompact({'key1': 'value2', 'key2': 3, 'key3': 4.0}),\n",
    "]"
   ]
  },
  {
   "cell_type": "code",
   "execution_count": 6,
   "metadata": {},
   "outputs": [
    {
     "name": "stdout",
     "output_type": "stream",
     "text": [
      "- !!python/object/new:__main__.DictCompact\n",
      "  dictitems:\n",
      "    key1: value1\n",
      "    key2: 2\n",
      "    key3: 3.0\n",
      "- !!python/object/new:__main__.DictCompact\n",
      "  dictitems:\n",
      "    key1: value2\n",
      "    key2: 3\n",
      "    key3: 4.0\n",
      "\n"
     ]
    }
   ],
   "source": [
    "yaml_str = yaml.dump(TEST_DATA2)\n",
    "print(yaml_str)"
   ]
  },
  {
   "cell_type": "code",
   "execution_count": 7,
   "metadata": {},
   "outputs": [],
   "source": [
    "# Create a custom representer\n",
    "# With dumper.represent_dict we get the default representation of a dictionary\n",
    "def dict_representer(dumper, data):\n",
    "    return dumper.represent_dict(data.items())\n",
    "\n",
    "yaml.add_representer(DictCompact, dict_representer)"
   ]
  },
  {
   "cell_type": "code",
   "execution_count": 8,
   "metadata": {},
   "outputs": [
    {
     "name": "stdout",
     "output_type": "stream",
     "text": [
      "- key1: value1\n",
      "  key2: 2\n",
      "  key3: 3.0\n",
      "- key1: value2\n",
      "  key2: 3\n",
      "  key3: 4.0\n",
      "\n"
     ]
    }
   ],
   "source": [
    "yaml_str = yaml.dump(TEST_DATA2)\n",
    "print(yaml_str)"
   ]
  },
  {
   "cell_type": "code",
   "execution_count": 9,
   "metadata": {},
   "outputs": [
    {
     "name": "stdout",
     "output_type": "stream",
     "text": [
      "- {key1: value1, key2: 2, key3: 3.0}\n",
      "- {key1: value2, key2: 3, key3: 4.0}\n",
      "\n"
     ]
    }
   ],
   "source": [
    "# Create a custom representer which will format the dictionary to a single line\n",
    "def dict_representer(dumper, data):\n",
    "    return dumper.represent_mapping('tag:yaml.org,2002:map', data.items(), flow_style=True)\n",
    "\n",
    "yaml.add_representer(DictCompact, dict_representer)\n",
    "\n",
    "yaml_str = yaml.dump(TEST_DATA2)\n",
    "print(yaml_str)"
   ]
  }
 ],
 "metadata": {
  "kernelspec": {
   "display_name": ".venv",
   "language": "python",
   "name": "python3"
  },
  "language_info": {
   "codemirror_mode": {
    "name": "ipython",
    "version": 3
   },
   "file_extension": ".py",
   "mimetype": "text/x-python",
   "name": "python",
   "nbconvert_exporter": "python",
   "pygments_lexer": "ipython3",
   "version": "3.10.12"
  }
 },
 "nbformat": 4,
 "nbformat_minor": 2
}
