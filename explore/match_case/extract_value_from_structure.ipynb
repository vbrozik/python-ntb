{
 "cells": [
  {
   "cell_type": "markdown",
   "id": "08e246db-4eef-4ad8-9b76-29ff280c5297",
   "metadata": {},
   "source": [
    "### Deeply nested structure with optionally missing components"
   ]
  },
  {
   "cell_type": "code",
   "execution_count": 1,
   "id": "07b041d6-a62b-4880-8efb-c8ebcd013c10",
   "metadata": {},
   "outputs": [],
   "source": [
    "structure = {\"data\": {\"key1\": {\n",
    "                                \"keyX\": 88,\n",
    "                                \"key2\": {\n",
    "                                        \"someKey\": 33,\n",
    "                                        \"keyN\": 25,\n",
    "            }}}}"
   ]
  },
  {
   "cell_type": "code",
   "execution_count": 2,
   "id": "d62ec68f-995e-48e7-a575-f46a30e1a4c6",
   "metadata": {},
   "outputs": [
    {
     "name": "stdout",
     "output_type": "stream",
     "text": [
      "25\n"
     ]
    }
   ],
   "source": [
    "# Matched\n",
    "value = None\n",
    "match structure:\n",
    "    case {\"data\": {\"key1\": {\"key2\": {\"keyN\": value}}}}:\n",
    "        pass\n",
    "print(value)"
   ]
  },
  {
   "cell_type": "code",
   "execution_count": 3,
   "id": "1cc2273e-4042-4a81-840a-6c1bde0ed8b3",
   "metadata": {},
   "outputs": [
    {
     "name": "stdout",
     "output_type": "stream",
     "text": [
      "None\n"
     ]
    }
   ],
   "source": [
    "# Not matched\n",
    "value = None   # sentinel value\n",
    "match structure:\n",
    "    case {\"data\": {\"key1\": {\"key2b\": {\"keyN\": value}}}}:\n",
    "        pass\n",
    "print(value)"
   ]
  },
  {
   "cell_type": "markdown",
   "id": "9e14ff21-f1a5-4fd0-ab93-7262f9ba3ded",
   "metadata": {},
   "source": [
    "### Extracting multiple values"
   ]
  },
  {
   "cell_type": "code",
   "execution_count": 19,
   "id": "bd66e692-e959-4597-8795-51ea9b09fcb6",
   "metadata": {},
   "outputs": [],
   "source": [
    "structure = {\n",
    "    'key1': 1,\n",
    "    'key2': 2,\n",
    "    'key3': 3,\n",
    "}"
   ]
  },
  {
   "cell_type": "code",
   "execution_count": 21,
   "id": "eb8eb572-2825-4a39-bb82-d41dd7da39c5",
   "metadata": {},
   "outputs": [
    {
     "name": "stdout",
     "output_type": "stream",
     "text": [
      "1 2\n"
     ]
    }
   ],
   "source": [
    "match structure:\n",
    "    case {'key1': int(v1), 'key2': int(v2)}:\n",
    "        print(v1, v2)"
   ]
  },
  {
   "cell_type": "code",
   "execution_count": 23,
   "id": "58bada18-6659-4036-96fa-46d282323580",
   "metadata": {},
   "outputs": [],
   "source": [
    "# the type must match\n",
    "match structure:\n",
    "    case {'key1': int(v1), 'key2': str(v2)}:\n",
    "        print(v1, v2)"
   ]
  },
  {
   "cell_type": "code",
   "execution_count": 24,
   "id": "07ad0dd2-4c70-476a-8d87-2ca93c49814f",
   "metadata": {},
   "outputs": [],
   "source": [
    "# as well as all elements must exist\n",
    "match structure:\n",
    "    case {'key1': int(v1), 'key4': int(v2)}:\n",
    "        print(v1, v2)"
   ]
  },
  {
   "cell_type": "markdown",
   "id": "e0ed8ee2-9e00-40af-8b94-9e41f3d894bd",
   "metadata": {},
   "source": [
    "### Iterating lists"
   ]
  },
  {
   "cell_type": "code",
   "execution_count": 25,
   "id": "2466b169-ef9e-4a74-987d-5ec9f898888b",
   "metadata": {},
   "outputs": [],
   "source": [
    "# https://discuss.python.org/t/how-to-filter-a-json/17104/2?u=vbrozik\n",
    "null = None\n",
    "reply = [\n",
    "  {\n",
    "    \"Id\": 111111,\n",
    "    \"description\": [\n",
    "      {\n",
    "        \"criteria\": \"Cache\",\n",
    "        \"measurement\": null,\n",
    "        \"comlexName\": null,\n",
    "        \"value\": \"32MB\",\n",
    "        \"criteriaId\": 907,\n",
    "        \"valueId\": null,\n",
    "        \"comlexId\": null,\n",
    "        \"lastUpdateDate\": \"2021-03-23T11:09:32.293\"\n",
    "      }]}]"
   ]
  },
  {
   "cell_type": "code",
   "execution_count": 26,
   "id": "1b17ce04-5ec1-4b9e-9bd4-abbfd569b52d",
   "metadata": {},
   "outputs": [
    {
     "name": "stdout",
     "output_type": "stream",
     "text": [
      "Cache 32MB\n"
     ]
    }
   ],
   "source": [
    "for reply_item in reply:\n",
    "    match reply_item:\n",
    "         case {\n",
    "                 \"description\": [\n",
    "                     {\"criteria\": str(criteria), \"value\": str(value)}\n",
    "                 ]}:\n",
    "              print(criteria, value)"
   ]
  },
  {
   "cell_type": "code",
   "execution_count": 27,
   "id": "104755f7-6c5c-40ae-9e1f-5954c1a51fa9",
   "metadata": {},
   "outputs": [
    {
     "name": "stdout",
     "output_type": "stream",
     "text": [
      "Cache 32MB\n"
     ]
    }
   ],
   "source": [
    "for reply_item in reply:\n",
    "    match reply_item:\n",
    "        case {\"description\": list(description_items)}:\n",
    "            for description_item in description_items:\n",
    "                match description_item:\n",
    "                    case {\"criteria\": str(criteria), \"value\": str(value)}:\n",
    "                        print(criteria, value)"
   ]
  }
 ],
 "metadata": {
  "kernelspec": {
   "display_name": "Python 3 (ipykernel)",
   "language": "python",
   "name": "python3"
  },
  "language_info": {
   "codemirror_mode": {
    "name": "ipython",
    "version": 3
   },
   "file_extension": ".py",
   "mimetype": "text/x-python",
   "name": "python",
   "nbconvert_exporter": "python",
   "pygments_lexer": "ipython3",
   "version": "3.10.4"
  }
 },
 "nbformat": 4,
 "nbformat_minor": 5
}
