{
 "cells": [
  {
   "cell_type": "code",
   "execution_count": 1,
   "id": "07b041d6-a62b-4880-8efb-c8ebcd013c10",
   "metadata": {},
   "outputs": [],
   "source": [
    "structure = {\"data\": {\"key1\": {\n",
    "                                \"keyX\": 88,\n",
    "                                \"key2\": {\n",
    "                                        \"someKey\": 33,\n",
    "                                        \"keyN\": 25,\n",
    "            }}}}"
   ]
  },
  {
   "cell_type": "code",
   "execution_count": 2,
   "id": "d62ec68f-995e-48e7-a575-f46a30e1a4c6",
   "metadata": {},
   "outputs": [
    {
     "name": "stdout",
     "output_type": "stream",
     "text": [
      "25\n"
     ]
    }
   ],
   "source": [
    "# Matched\n",
    "value = None\n",
    "match structure:\n",
    "    case {\"data\": {\"key1\": {\"key2\": {\"keyN\": value}}}}:\n",
    "        pass\n",
    "print(value)"
   ]
  },
  {
   "cell_type": "code",
   "execution_count": 3,
   "id": "1cc2273e-4042-4a81-840a-6c1bde0ed8b3",
   "metadata": {},
   "outputs": [
    {
     "name": "stdout",
     "output_type": "stream",
     "text": [
      "None\n"
     ]
    }
   ],
   "source": [
    "# Not matched\n",
    "value = None   # sentinel value\n",
    "match structure:\n",
    "    case {\"data\": {\"key1\": {\"key2b\": {\"keyN\": value}}}}:\n",
    "        pass\n",
    "print(value)"
   ]
  }
 ],
 "metadata": {
  "kernelspec": {
   "display_name": "Python 3 (ipykernel)",
   "language": "python",
   "name": "python3"
  },
  "language_info": {
   "codemirror_mode": {
    "name": "ipython",
    "version": 3
   },
   "file_extension": ".py",
   "mimetype": "text/x-python",
   "name": "python",
   "nbconvert_exporter": "python",
   "pygments_lexer": "ipython3",
   "version": "3.10.4"
  }
 },
 "nbformat": 4,
 "nbformat_minor": 5
}
