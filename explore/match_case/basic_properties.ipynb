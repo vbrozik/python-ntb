{
 "cells": [
  {
   "cell_type": "markdown",
   "id": "f5c3df6a-e838-44f6-b182-3df9d0c4ec57",
   "metadata": {},
   "source": [
    "# Basic properties of match case"
   ]
  },
  {
   "cell_type": "code",
   "execution_count": 11,
   "id": "052ad94a-44f5-4cd6-9b0b-4268224658df",
   "metadata": {},
   "outputs": [
    {
     "name": "stdout",
     "output_type": "stream",
     "text": [
      "--- testing [], matches:\n",
      "Default match: 'Underscore value'\n",
      "\n",
      "--- testing ['Crusoe'], matches:\n",
      "One item list match: 'Crusoe'\n",
      "Default match: 'Underscore value'\n",
      "\n",
      "--- testing ['Holmes', 'Watson'], matches:\n",
      "Two items list match: 'Holmes', 'Watson'\n",
      "Default match: 'Underscore value'\n",
      "\n",
      "--- testing ['Potter', 'Weasley', 'Granger'], matches:\n",
      "Default match: 'Underscore value'\n",
      "\n"
     ]
    }
   ],
   "source": [
    "test_lists = (\n",
    "        [],\n",
    "        ['Crusoe'],\n",
    "        ['Holmes', 'Watson'],\n",
    "        ['Potter', 'Weasley', 'Granger'],\n",
    "    )\n",
    "\n",
    "try:\n",
    "    _\n",
    "except NameError as exception:\n",
    "    print(exception)\n",
    "    \n",
    "_ = 'Underscore value'\n",
    "\n",
    "for test_list in test_lists:\n",
    "    print(f'--- testing {test_list}, matches:')\n",
    "    match test_list:\n",
    "        case [a]:\n",
    "            print(f'One item list match: {a!r}')\n",
    "    match test_list:\n",
    "        case [a, b]:\n",
    "            print(f'Two items list match: {a!r}, {b!r}')\n",
    "    match test_list:\n",
    "        case _:   # This does not set the _ variable!\n",
    "            print(f'Default match: {_!r}')\n",
    "    print()"
   ]
  }
 ],
 "metadata": {
  "kernelspec": {
   "display_name": "Python 3 (ipykernel)",
   "language": "python",
   "name": "python3"
  },
  "language_info": {
   "codemirror_mode": {
    "name": "ipython",
    "version": 3
   },
   "file_extension": ".py",
   "mimetype": "text/x-python",
   "name": "python",
   "nbconvert_exporter": "python",
   "pygments_lexer": "ipython3",
   "version": "3.10.4"
  }
 },
 "nbformat": 4,
 "nbformat_minor": 5
}
