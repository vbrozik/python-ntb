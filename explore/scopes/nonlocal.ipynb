{
 "cells": [
  {
   "cell_type": "markdown",
   "id": "08d047b1-9b92-4e07-b69b-2948cc1e9e0e",
   "metadata": {},
   "source": [
    "# Nonlocal\n",
    "Nonlocal variables"
   ]
  },
  {
   "cell_type": "code",
   "execution_count": 1,
   "id": "b96f4fb5-0ef2-41cd-b099-3e6d634e3e9f",
   "metadata": {},
   "outputs": [
    {
     "name": "stdout",
     "output_type": "stream",
     "text": [
      "hello 42\n"
     ]
    }
   ],
   "source": [
    "# Nested functions\n",
    "\n",
    "def outer():\n",
    "    def inner():\n",
    "        nonlocal var1, var2\n",
    "        var1 = \"hello\"\n",
    "        var2 = 42\n",
    "    # the variables must be assigned or declared in one of parent scopes\n",
    "    var1: str\n",
    "    var2: int\n",
    "    inner()\n",
    "    print(var1, var2)\n",
    "\n",
    "outer()"
   ]
  }
 ],
 "metadata": {
  "kernelspec": {
   "display_name": "Python 3 (ipykernel)",
   "language": "python",
   "name": "python3"
  },
  "language_info": {
   "codemirror_mode": {
    "name": "ipython",
    "version": 3
   },
   "file_extension": ".py",
   "mimetype": "text/x-python",
   "name": "python",
   "nbconvert_exporter": "python",
   "pygments_lexer": "ipython3",
   "version": "3.10.4"
  }
 },
 "nbformat": 4,
 "nbformat_minor": 5
}
