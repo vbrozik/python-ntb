{
 "cells": [
  {
   "cell_type": "markdown",
   "id": "00b644b0-58f8-4601-9f1a-b59420e847de",
   "metadata": {},
   "source": [
    "# Exec, code object\n",
    "* https://docs.python.org/3/library/functions.html\n",
    "  * https://docs.python.org/3/library/functions.html#exec\n",
    "* https://late.am/post/2012/03/26/exploring-python-code-objects\n",
    "* see also [custom_namespace](../namespaces/custom_namespace.ipynb)"
   ]
  },
  {
   "cell_type": "code",
   "execution_count": 1,
   "id": "e24814f2-a22d-47c2-93c8-e385549fc0ec",
   "metadata": {},
   "outputs": [],
   "source": [
    "code1 = \"\"\"\n",
    "a = 1\n",
    "b = 2\n",
    "print(a)\n",
    "print(b)\n",
    "\"\"\""
   ]
  },
  {
   "cell_type": "code",
   "execution_count": 2,
   "id": "3089fa81-846d-49de-af05-5d8fc085040a",
   "metadata": {},
   "outputs": [
    {
     "name": "stdout",
     "output_type": "stream",
     "text": [
      "1\n",
      "2\n"
     ]
    }
   ],
   "source": [
    "# We can exec Python code as a text\n",
    "exec(code1)"
   ]
  },
  {
   "cell_type": "code",
   "execution_count": 10,
   "id": "0fa2d295-2d76-497a-97d3-597467a8380e",
   "metadata": {},
   "outputs": [],
   "source": [
    "# We can compile it (all 3 arguments mandatory)\n",
    "code1_object = compile(code1, '<code1>', 'exec')"
   ]
  },
  {
   "cell_type": "code",
   "execution_count": 11,
   "id": "bb82301e-daa4-48da-a050-052b48dd6dab",
   "metadata": {},
   "outputs": [
    {
     "name": "stdout",
     "output_type": "stream",
     "text": [
      "1\n",
      "2\n"
     ]
    }
   ],
   "source": [
    "# Exec the compiled object\n",
    "exec(code1_object)"
   ]
  },
  {
   "cell_type": "code",
   "execution_count": 7,
   "id": "0e08e84a-e7af-426f-8d48-9b9b02df8b9a",
   "metadata": {},
   "outputs": [],
   "source": [
    "def code2():\n",
    "    a = 1\n",
    "    b = 2\n",
    "    print(a)\n",
    "    print(b)"
   ]
  },
  {
   "cell_type": "code",
   "execution_count": 13,
   "id": "c5447239-769e-4c6a-a2d8-214ce07b6f03",
   "metadata": {},
   "outputs": [],
   "source": [
    "# We can access code object of a function\n",
    "code2_object = code2.__code__"
   ]
  },
  {
   "cell_type": "code",
   "execution_count": 14,
   "id": "0e805494-242f-45bd-8224-3c678c8f9dc7",
   "metadata": {},
   "outputs": [
    {
     "name": "stdout",
     "output_type": "stream",
     "text": [
      "1\n",
      "2\n"
     ]
    }
   ],
   "source": [
    "exec(code2_object)"
   ]
  },
  {
   "cell_type": "code",
   "execution_count": 15,
   "id": "b47d8fb2-5b46-4c3e-a93c-ab0e2123f17a",
   "metadata": {},
   "outputs": [],
   "source": [
    "def code3(c):\n",
    "    a = 1\n",
    "    b = 2\n",
    "    print(a)\n",
    "    print(b)\n",
    "code3_object = code3.__code__"
   ]
  },
  {
   "cell_type": "code",
   "execution_count": 27,
   "id": "9eb0e74d-c563-4b4c-aa2f-c05072e49aba",
   "metadata": {},
   "outputs": [
    {
     "ename": "TypeError",
     "evalue": "code3() missing 1 required positional argument: 'c'",
     "output_type": "error",
     "traceback": [
      "\u001b[0;31m---------------------------------------------------------------------------\u001b[0m",
      "\u001b[0;31mTypeError\u001b[0m                                 Traceback (most recent call last)",
      "Input \u001b[0;32mIn [27]\u001b[0m, in \u001b[0;36m<cell line: 3>\u001b[0;34m()\u001b[0m\n\u001b[1;32m      1\u001b[0m \u001b[38;5;66;03m# FIXME: Can we execute a code object of a function with arguments?\u001b[39;00m\n\u001b[1;32m      2\u001b[0m \u001b[38;5;66;03m# This ends with an error:\u001b[39;00m\n\u001b[0;32m----> 3\u001b[0m \u001b[43mexec\u001b[49m\u001b[43m(\u001b[49m\u001b[43mcode3_object\u001b[49m\u001b[43m)\u001b[49m\n",
      "\u001b[0;31mTypeError\u001b[0m: code3() missing 1 required positional argument: 'c'"
     ]
    }
   ],
   "source": [
    "# FIXME: Can we execute a code object of a function with arguments?\n",
    "# https://stackoverflow.com/questions/5874558/how-to-pass-arguments-to-the-code-of-a-function\n",
    "# https://stackoverflow.com/questions/40505380/how-to-call-a-compiled-function-body\n",
    "# This ends with an error:\n",
    "exec(code3_object)"
   ]
  },
  {
   "cell_type": "code",
   "execution_count": 25,
   "id": "2325f671-1cc7-4d7b-8a94-35ee3a08ff6f",
   "metadata": {},
   "outputs": [
    {
     "name": "stdout",
     "output_type": "stream",
     "text": [
      "1\n",
      "2\n"
     ]
    }
   ],
   "source": [
    "# To execute a function code object, it can be encapsulated into a new function (the second argument is globals)\n",
    "import types\n",
    "\n",
    "code3_new = types.FunctionType(code3_object, {})\n",
    "code3_new(0)"
   ]
  },
  {
   "cell_type": "markdown",
   "id": "13955a2c-ce35-4c09-8b38-44e837129f34",
   "metadata": {},
   "source": [
    "## Code object\n",
    "\n",
    "* https://stackoverflow.com/questions/16064409/how-to-create-a-code-object-in-python\n",
    "* https://stackoverflow.com/questions/6612449/what-are-the-arguments-to-the-types-codetype-python-call\n",
    "* https://late.am/post/2012/03/26/exploring-python-code-objects\n",
    "\n",
    "* https://docs.python.org/3/library/functions.html#compile"
   ]
  }
 ],
 "metadata": {
  "kernelspec": {
   "display_name": "Python 3 (ipykernel)",
   "language": "python",
   "name": "python3"
  },
  "language_info": {
   "codemirror_mode": {
    "name": "ipython",
    "version": 3
   },
   "file_extension": ".py",
   "mimetype": "text/x-python",
   "name": "python",
   "nbconvert_exporter": "python",
   "pygments_lexer": "ipython3",
   "version": "3.10.4"
  }
 },
 "nbformat": 4,
 "nbformat_minor": 5
}
