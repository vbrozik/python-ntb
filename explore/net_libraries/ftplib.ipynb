{
 "cells": [
  {
   "cell_type": "markdown",
   "id": "853e7cd1-5352-489a-a8aa-d6ee0b4e6e02",
   "metadata": {},
   "source": [
    "# ftplib"
   ]
  },
  {
   "cell_type": "code",
   "execution_count": 6,
   "id": "1edbb14a-4708-4642-a490-eafe43452321",
   "metadata": {},
   "outputs": [],
   "source": [
    "import ftplib"
   ]
  },
  {
   "cell_type": "code",
   "execution_count": 12,
   "id": "76fb9931-e749-462f-bd17-c400dd2559bf",
   "metadata": {},
   "outputs": [],
   "source": [
    "# ftps = ftplib.FTP_TLS('ftp.pureftpd.org')\n",
    "ftps = ftplib.FTP_TLS('34.206.2.203')"
   ]
  },
  {
   "cell_type": "code",
   "execution_count": 13,
   "id": "baf19c03-4135-48d2-ba05-c848037da111",
   "metadata": {},
   "outputs": [
    {
     "ename": "error_perm",
     "evalue": "530 Login incorrect.",
     "output_type": "error",
     "traceback": [
      "\u001b[0;31m---------------------------------------------------------------------------\u001b[0m",
      "\u001b[0;31merror_perm\u001b[0m                                Traceback (most recent call last)",
      "Input \u001b[0;32mIn [13]\u001b[0m, in \u001b[0;36m<cell line: 1>\u001b[0;34m()\u001b[0m\n\u001b[0;32m----> 1\u001b[0m \u001b[43mftps\u001b[49m\u001b[38;5;241;43m.\u001b[39;49m\u001b[43mlogin\u001b[49m\u001b[43m(\u001b[49m\u001b[43m)\u001b[49m\n",
      "File \u001b[0;32m/usr/lib/python3.10/ftplib.py:746\u001b[0m, in \u001b[0;36mFTP_TLS.login\u001b[0;34m(self, user, passwd, acct, secure)\u001b[0m\n\u001b[1;32m    744\u001b[0m \u001b[38;5;28;01mif\u001b[39;00m secure \u001b[38;5;129;01mand\u001b[39;00m \u001b[38;5;129;01mnot\u001b[39;00m \u001b[38;5;28misinstance\u001b[39m(\u001b[38;5;28mself\u001b[39m\u001b[38;5;241m.\u001b[39msock, ssl\u001b[38;5;241m.\u001b[39mSSLSocket):\n\u001b[1;32m    745\u001b[0m     \u001b[38;5;28mself\u001b[39m\u001b[38;5;241m.\u001b[39mauth()\n\u001b[0;32m--> 746\u001b[0m \u001b[38;5;28;01mreturn\u001b[39;00m \u001b[38;5;28;43msuper\u001b[39;49m\u001b[43m(\u001b[49m\u001b[43m)\u001b[49m\u001b[38;5;241;43m.\u001b[39;49m\u001b[43mlogin\u001b[49m\u001b[43m(\u001b[49m\u001b[43muser\u001b[49m\u001b[43m,\u001b[49m\u001b[43m \u001b[49m\u001b[43mpasswd\u001b[49m\u001b[43m,\u001b[49m\u001b[43m \u001b[49m\u001b[43macct\u001b[49m\u001b[43m)\u001b[49m\n",
      "File \u001b[0;32m/usr/lib/python3.10/ftplib.py:414\u001b[0m, in \u001b[0;36mFTP.login\u001b[0;34m(self, user, passwd, acct)\u001b[0m\n\u001b[1;32m    412\u001b[0m resp \u001b[38;5;241m=\u001b[39m \u001b[38;5;28mself\u001b[39m\u001b[38;5;241m.\u001b[39msendcmd(\u001b[38;5;124m'\u001b[39m\u001b[38;5;124mUSER \u001b[39m\u001b[38;5;124m'\u001b[39m \u001b[38;5;241m+\u001b[39m user)\n\u001b[1;32m    413\u001b[0m \u001b[38;5;28;01mif\u001b[39;00m resp[\u001b[38;5;241m0\u001b[39m] \u001b[38;5;241m==\u001b[39m \u001b[38;5;124m'\u001b[39m\u001b[38;5;124m3\u001b[39m\u001b[38;5;124m'\u001b[39m:\n\u001b[0;32m--> 414\u001b[0m     resp \u001b[38;5;241m=\u001b[39m \u001b[38;5;28;43mself\u001b[39;49m\u001b[38;5;241;43m.\u001b[39;49m\u001b[43msendcmd\u001b[49m\u001b[43m(\u001b[49m\u001b[38;5;124;43m'\u001b[39;49m\u001b[38;5;124;43mPASS \u001b[39;49m\u001b[38;5;124;43m'\u001b[39;49m\u001b[43m \u001b[49m\u001b[38;5;241;43m+\u001b[39;49m\u001b[43m \u001b[49m\u001b[43mpasswd\u001b[49m\u001b[43m)\u001b[49m\n\u001b[1;32m    415\u001b[0m \u001b[38;5;28;01mif\u001b[39;00m resp[\u001b[38;5;241m0\u001b[39m] \u001b[38;5;241m==\u001b[39m \u001b[38;5;124m'\u001b[39m\u001b[38;5;124m3\u001b[39m\u001b[38;5;124m'\u001b[39m:\n\u001b[1;32m    416\u001b[0m     resp \u001b[38;5;241m=\u001b[39m \u001b[38;5;28mself\u001b[39m\u001b[38;5;241m.\u001b[39msendcmd(\u001b[38;5;124m'\u001b[39m\u001b[38;5;124mACCT \u001b[39m\u001b[38;5;124m'\u001b[39m \u001b[38;5;241m+\u001b[39m acct)\n",
      "File \u001b[0;32m/usr/lib/python3.10/ftplib.py:281\u001b[0m, in \u001b[0;36mFTP.sendcmd\u001b[0;34m(self, cmd)\u001b[0m\n\u001b[1;32m    279\u001b[0m \u001b[38;5;124;03m'''Send a command and return the response.'''\u001b[39;00m\n\u001b[1;32m    280\u001b[0m \u001b[38;5;28mself\u001b[39m\u001b[38;5;241m.\u001b[39mputcmd(cmd)\n\u001b[0;32m--> 281\u001b[0m \u001b[38;5;28;01mreturn\u001b[39;00m \u001b[38;5;28;43mself\u001b[39;49m\u001b[38;5;241;43m.\u001b[39;49m\u001b[43mgetresp\u001b[49m\u001b[43m(\u001b[49m\u001b[43m)\u001b[49m\n",
      "File \u001b[0;32m/usr/lib/python3.10/ftplib.py:254\u001b[0m, in \u001b[0;36mFTP.getresp\u001b[0;34m(self)\u001b[0m\n\u001b[1;32m    252\u001b[0m     \u001b[38;5;28;01mraise\u001b[39;00m error_temp(resp)\n\u001b[1;32m    253\u001b[0m \u001b[38;5;28;01mif\u001b[39;00m c \u001b[38;5;241m==\u001b[39m \u001b[38;5;124m'\u001b[39m\u001b[38;5;124m5\u001b[39m\u001b[38;5;124m'\u001b[39m:\n\u001b[0;32m--> 254\u001b[0m     \u001b[38;5;28;01mraise\u001b[39;00m error_perm(resp)\n\u001b[1;32m    255\u001b[0m \u001b[38;5;28;01mraise\u001b[39;00m error_proto(resp)\n",
      "\u001b[0;31merror_perm\u001b[0m: 530 Login incorrect."
     ]
    }
   ],
   "source": [
    "ftps.login()"
   ]
  },
  {
   "cell_type": "code",
   "execution_count": 10,
   "id": "5f7c8e6d-e602-437d-bbc7-70a83e93762e",
   "metadata": {},
   "outputs": [
    {
     "data": {
      "text/plain": [
       "'200 Data protection level set to \"private\"'"
      ]
     },
     "execution_count": 10,
     "metadata": {},
     "output_type": "execute_result"
    }
   ],
   "source": [
    "ftps.prot_p()"
   ]
  },
  {
   "cell_type": "code",
   "execution_count": 11,
   "id": "fad213cb-35cd-4f1b-add6-50a07d8e2705",
   "metadata": {},
   "outputs": [
    {
     "data": {
      "text/plain": [
       "['.',\n",
       " '..',\n",
       " '6jack',\n",
       " 'OpenBSD',\n",
       " 'blogbench',\n",
       " 'bsdcam',\n",
       " 'libpuzzle',\n",
       " 'minidentd',\n",
       " 'mysql-udf-global-user-variables',\n",
       " 'php-jenkins-hash',\n",
       " 'php-skein-hash',\n",
       " 'php-webdav',\n",
       " 'phpbench',\n",
       " 'pincaster',\n",
       " 'ping',\n",
       " 'posto',\n",
       " 'pub',\n",
       " 'public',\n",
       " 'qscan',\n",
       " 'qtc',\n",
       " 'sharedance',\n",
       " 'skycache',\n",
       " 'ucarp',\n",
       " 'antilink',\n",
       " 'clockspeed',\n",
       " 'djbdns-jedi',\n",
       " 'docs',\n",
       " 'eaccelerator-jedi',\n",
       " 'francotone',\n",
       " 'fugu',\n",
       " 'ignore',\n",
       " 'metalog',\n",
       " 'misc',\n",
       " 'phpaudit',\n",
       " 'piknik',\n",
       " 'public_keys',\n",
       " 'pure-ftpd',\n",
       " 'sound',\n",
       " 'tmp',\n",
       " 'favicon.ico']"
      ]
     },
     "execution_count": 11,
     "metadata": {},
     "output_type": "execute_result"
    }
   ],
   "source": [
    "ftps.nlst()"
   ]
  },
  {
   "cell_type": "code",
   "execution_count": 18,
   "id": "8ab14a22-34a4-419a-ae21-bdc26337a19b",
   "metadata": {},
   "outputs": [
    {
     "name": "stdout",
     "output_type": "stream",
     "text": [
      "*cmd* 'AUTH TLS'\n",
      "*put* 'AUTH TLS\\r\\n'\n",
      "*get* '234 AUTH TLS OK.\\n'\n",
      "*resp* '234 AUTH TLS OK.'\n",
      "*cmd* 'USER anonymous'\n",
      "*put* 'USER anonymous\\r\\n'\n",
      "*get* '230 Anonymous user logged in\\n'\n",
      "*resp* '230 Anonymous user logged in'\n",
      "*cmd* 'PBSZ 0'\n",
      "*put* 'PBSZ 0\\r\\n'\n",
      "*get* '200 PBSZ=0\\n'\n",
      "*resp* '200 PBSZ=0'\n",
      "*cmd* 'PROT P'\n",
      "*put* 'PROT P\\r\\n'\n",
      "*get* '200 Data protection level set to \"private\"\\n'\n",
      "*resp* '200 Data protection level set to \"private\"'\n",
      "*cmd* 'TYPE A'\n",
      "*put* 'TYPE A\\r\\n'\n",
      "*get* '200 TYPE is now ASCII\\n'\n",
      "*resp* '200 TYPE is now ASCII'\n",
      "*cmd* 'PASV'\n",
      "*put* 'PASV\\r\\n'\n",
      "*get* '227 Entering Passive Mode (37,59,238,213,154,109)\\n'\n",
      "*resp* '227 Entering Passive Mode (37,59,238,213,154,109)'\n",
      "*cmd* 'LIST'\n",
      "*put* 'LIST\\r\\n'\n",
      "*get* '150 Accepted data connection\\n'\n",
      "*resp* '150 Accepted data connection'\n",
      "drwxr-xr-x   18 1000       1008             1024 Jul 21  2016 .\n",
      "drwxr-xr-x   18 1000       1008             1024 Jul 21  2016 ..\n",
      "lrwxr-xr-x    1 1000       20                 20 Jun 20  2011 6jack -> pure-ftpd/misc/6jack\n",
      "lrwxr-xr-x    1 1000       1008               12 Jan 24  2012 OpenBSD -> misc/OpenBSD\n",
      "drwxr-xr-x    2 1000       1008              512 Feb 10  2015 antilink\n",
      "lrwxr-xr-x    1 0          1008               24 Feb  1  2006 blogbench -> pure-ftpd/misc/blogbench\n",
      "lrwxr-xr-x    1 0          1008               21 Feb  1  2006 bsdcam -> pure-ftpd/misc/bsdcam\n",
      "drwxr-xr-x    2 1000       1008              512 Feb  1  2006 clockspeed\n",
      "drwxr-xr-x    2 1000       1008              512 Feb  1  2006 djbdns-jedi\n",
      "drwxr-xr-x    2 1000       1008              512 Oct 13  2008 docs\n",
      "drwxr-xr-x    2 1000       1008              512 Apr  7  2006 eaccelerator-jedi\n",
      "-rw-r--r--    1 1000       1008                0 Aug  2  2009 favicon.ico\n",
      "drwxr-xr-x    2 1000       1008              512 Feb 10  2015 francotone\n",
      "drwxr-xr-x    2 1000       1008              512 Feb  1  2006 fugu\n",
      "drwxr-xr-x    2 1000       1008              512 Feb  1  2006 ignore\n",
      "lrwxr-xr-x    1 1000       20                 24 Sep 16  2007 libpuzzle -> pure-ftpd/misc/libpuzzle\n",
      "drwxr-xr-x    4 1000       1008              512 Feb  1  2006 metalog\n",
      "lrwxr-xr-x    1 0          1008               24 Feb  1  2006 minidentd -> pure-ftpd/misc/minidentd\n",
      "drwxr-xr-x   12 1000       1008             2560 Jan  4  2018 misc\n",
      "lrwxr-xr-x    1 1000       20                 46 Mar 12  2007 mysql-udf-global-user-variables -> pure-ftpd/misc/mysql-udf-global-user-variables\n",
      "lrwxr-xr-x    1 1000       20                 31 Dec  4  2007 php-jenkins-hash -> pure-ftpd/misc/php-jenkins-hash\n",
      "lrwxr-xr-x    1 1000       20                 29 Oct 31  2008 php-skein-hash -> pure-ftpd/misc/php-skein-hash\n",
      "lrwxr-xr-x    1 1000       20                 25 Mar  5  2007 php-webdav -> pure-ftpd/misc/php-webdav\n",
      "drwxr-xr-x    2 1000       1008              512 Feb  1  2006 phpaudit\n",
      "lrwxr-xr-x    1 0          1008               23 Feb  1  2006 phpbench -> pure-ftpd/misc/phpbench\n",
      "drwxr-xr-x    2 1000       1008              512 Jul 23  2016 piknik\n",
      "lrwxr-xr-x    1 1000       20                 24 May 10  2010 pincaster -> pure-ftpd/misc/pincaster\n",
      "lrwxr-xr-x    1 1000       20                 19 Mar 12  2007 ping -> pure-ftpd/misc/ping\n",
      "lrwxr-xr-x    1 1000       20                 10 Nov 12  2007 posto -> misc/posto\n",
      "lrwxr-xr-x    1 0          1008                1 Feb  1  2006 pub -> .\n",
      "lrwxr-xr-x    1 0          1008                3 Feb  1  2006 public -> pub\n",
      "drwxr-xr-x    3 1000       1008              512 Apr  4  2017 public_keys\n",
      "drwxr-xr-x   10 1000       1008              512 Apr 19  2011 pure-ftpd\n",
      "lrwxr-xr-x    1 0          1008               20 Feb  1  2006 qscan -> pure-ftpd/misc/qscan\n",
      "lrwxr-xr-x    1 1000       20                 18 Sep 16  2007 qtc -> pure-ftpd/misc/qtc\n",
      "lrwxr-xr-x    1 0          1008               25 Feb  1  2006 sharedance -> pure-ftpd/misc/sharedance\n",
      "lrwxr-xr-x    1 0          1008               23 Feb  1  2006 skycache -> pure-ftpd/misc/skycache\n",
      "drwxr-xr-x    2 1000       1008              512 Jan 16  2019 sound\n",
      "drwx--x--x    4 1000       1008              512 Sep  8 01:30 tmp\n",
      "lrwxr-xr-x    1 0          1008               15 Feb  1  2006 ucarp -> pure-ftpd/ucarp\n",
      "*get* '226-Options: -a -l \\n'\n",
      "*get* '226 40 matches total\\n'\n",
      "*resp* '226-Options: -a -l \\n226 40 matches total'\n",
      "*cmd* 'QUIT'\n",
      "*put* 'QUIT\\r\\n'\n",
      "*get* '221-Goodbye. You uploaded 0 and downloaded 0 kbytes.\\n'\n",
      "*get* '221 Logout.\\n'\n",
      "*resp* '221-Goodbye. You uploaded 0 and downloaded 0 kbytes.\\n221 Logout.'\n"
     ]
    }
   ],
   "source": [
    "import ftplib\n",
    "\n",
    "with ftplib.FTP_TLS('ftp.pureftpd.org') as ftp:\n",
    "    ftp.set_debuglevel(2)\n",
    "    ftp.login()\n",
    "    ftp.prot_p()\n",
    "    ftp.dir()"
   ]
  },
  {
   "cell_type": "code",
   "execution_count": 22,
   "id": "3a3f38d7-9471-411e-852e-47e88c9b2c2a",
   "metadata": {},
   "outputs": [
    {
     "name": "stdout",
     "output_type": "stream",
     "text": [
      "*cmd* 'AUTH TLS'\n",
      "*put* 'AUTH TLS\\r\\n'\n",
      "*get* '234 AUTH TLS OK.\\n'\n",
      "*resp* '234 AUTH TLS OK.'\n",
      "*cmd* 'USER anonymous'\n",
      "*put* 'USER anonymous\\r\\n'\n",
      "*get* '230 Anonymous user logged in\\n'\n",
      "*resp* '230 Anonymous user logged in'\n",
      "*cmd* 'PBSZ 0'\n",
      "*put* 'PBSZ 0\\r\\n'\n",
      "*get* '200 PBSZ=0\\n'\n",
      "*resp* '200 PBSZ=0'\n",
      "*cmd* 'PROT P'\n",
      "*put* 'PROT P\\r\\n'\n",
      "*get* '200 Data protection level set to \"private\"\\n'\n",
      "*resp* '200 Data protection level set to \"private\"'\n",
      "*cmd* 'QUIT'\n",
      "*put* 'QUIT\\r\\n'\n",
      "*get* '221-Goodbye. You uploaded 0 and downloaded 0 kbytes.\\n'\n",
      "*get* '221 Logout.\\n'\n",
      "*resp* '221-Goodbye. You uploaded 0 and downloaded 0 kbytes.\\n221 Logout.'\n"
     ]
    }
   ],
   "source": [
    "import ftplib\n",
    "\n",
    "with ftplib.FTP_TLS('ftp.pureftpd.org') as ftp:\n",
    "    ftp.trust_server_pasv_ipv4_address = True\n",
    "    ftp.set_debuglevel(2)\n",
    "    ftp.login()\n",
    "    ftp.prot_p()\n",
    "    ftp.mlsd()\n",
    "    # ftp.dir()"
   ]
  }
 ],
 "metadata": {
  "kernelspec": {
   "display_name": "Python 3 (ipykernel)",
   "language": "python",
   "name": "python3"
  },
  "language_info": {
   "codemirror_mode": {
    "name": "ipython",
    "version": 3
   },
   "file_extension": ".py",
   "mimetype": "text/x-python",
   "name": "python",
   "nbconvert_exporter": "python",
   "pygments_lexer": "ipython3",
   "version": "3.10.4"
  }
 },
 "nbformat": 4,
 "nbformat_minor": 5
}
