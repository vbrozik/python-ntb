{
 "cells": [
  {
   "cell_type": "markdown",
   "id": "64dbb851-a7aa-41a2-b29a-722e76b0f77b",
   "metadata": {},
   "source": [
    "# Last unique values\n",
    "\n",
    "Stack keeping the newest unique values\n",
    "\n",
    "TODO: Is something like this in the standard library?"
   ]
  },
  {
   "cell_type": "code",
   "execution_count": 1,
   "id": "6adb9b69-c128-4bff-91af-0352faab2e0c",
   "metadata": {},
   "outputs": [],
   "source": [
    "class LatestUnique(list):\n",
    "    \"\"\"Store unique values like a set but sorted by latest appearance.\n",
    "    \n",
    "    The latest seen values are closest to the beginning.\n",
    "    \"\"\"\n",
    "    def add(self, value) -> int:\n",
    "        \"\"\"Add a value - like set.add() but the value will be sorted first.\n",
    "        \n",
    "        New value is simply inserted to the beginning of the list.\n",
    "        Existing value is moved from the original place to the beginning.\n",
    "        \n",
    "        Returns:\n",
    "            Number of the first entries changed.\n",
    "        \"\"\"\n",
    "        try:\n",
    "            index = self.index(value)\n",
    "        except ValueError:\n",
    "            self.insert(0, value)\n",
    "            return len(self)\n",
    "        self.insert(0, self.pop(index))\n",
    "        return index + 1"
   ]
  },
  {
   "cell_type": "code",
   "execution_count": 2,
   "id": "04e442a6-ad6e-4f84-ac39-facc1e60a15d",
   "metadata": {},
   "outputs": [
    {
     "name": "stdout",
     "output_type": "stream",
     "text": [
      "[]\n",
      "\n",
      "changed first 1 items\n",
      "[1]\n",
      "\n",
      "changed first 2 items\n",
      "[2, 1]\n",
      "\n",
      "changed first 3 items\n",
      "[3, 2, 1]\n",
      "\n",
      "changed first 4 items\n",
      "[4, 3, 2, 1]\n",
      "\n",
      "changed first 5 items\n",
      "[5, 4, 3, 2, 1]\n",
      "\n",
      "changed first 5 items\n",
      "[1, 5, 4, 3, 2]\n",
      "\n",
      "changed first 5 items\n",
      "[2, 1, 5, 4, 3]\n",
      "\n",
      "changed first 5 items\n",
      "[3, 2, 1, 5, 4]\n",
      "\n",
      "changed first 3 items\n",
      "[1, 3, 2, 5, 4]\n",
      "\n",
      "changed first 3 items\n",
      "[2, 1, 3, 5, 4]\n",
      "\n",
      "changed first 3 items\n",
      "[3, 2, 1, 5, 4]\n"
     ]
    }
   ],
   "source": [
    "data = [1, 2, 3, 4, 5] + [1, 2, 3] * 2\n",
    "\n",
    "lu = LatestUnique()\n",
    "print(lu)\n",
    "for number in data:\n",
    "    print()\n",
    "    print(f'changed first {lu.add(number)} items')\n",
    "    print(lu)"
   ]
  }
 ],
 "metadata": {
  "kernelspec": {
   "display_name": "Python 3 (ipykernel)",
   "language": "python",
   "name": "python3"
  },
  "language_info": {
   "codemirror_mode": {
    "name": "ipython",
    "version": 3
   },
   "file_extension": ".py",
   "mimetype": "text/x-python",
   "name": "python",
   "nbconvert_exporter": "python",
   "pygments_lexer": "ipython3",
   "version": "3.10.6"
  }
 },
 "nbformat": 4,
 "nbformat_minor": 5
}
