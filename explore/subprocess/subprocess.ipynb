{
 "cells": [
  {
   "cell_type": "markdown",
   "id": "96433f96-95e7-4e2d-be3d-4804611a2444",
   "metadata": {},
   "source": [
    "# subprocess\n",
    "* https://docs.python.org/3/library/subprocess.html#subprocess.run\n",
    "* stdout of subprocess goes also to the stdout of the Jupyter server!\n",
    "  * same for `os.write(1, ...)`, `os.write(2, ...)` (but not `sys.stdout`, `sys.stderr`)"
   ]
  },
  {
   "cell_type": "code",
   "execution_count": 1,
   "id": "ae3edf4d-8769-4385-8d9e-663fe07f2a7a",
   "metadata": {},
   "outputs": [],
   "source": [
    "import subprocess"
   ]
  },
  {
   "cell_type": "markdown",
   "id": "e3b10e64-5605-4df6-92f3-1e1709b19017",
   "metadata": {},
   "source": [
    "## subprocess.run()\n",
    "* waits for finish\n",
    "* subset of functionality `subprocess.Popen()`\n",
    "* by default stdout and stderr throug pipe\n",
    "* returns `CompletedProcess` object\n",
    "* replaces old:\n",
    "  * `subprocess.call()` -> `run(...).returncode` - returns return code\n",
    "  * `subprocess.check_call()` -> `run(..., check=True)` - raises exceptions\n",
    "  * `subprocess.check_output()` -> `run(..., check=True, stdout=PIPE).stdout` - returns `stdout`\n",
    "  * `os.system()` -> `run(command_with_arguments_string, shell=True).returncode` - uses shell (splits arguments), returns code\n",
    "  * `os.spawnlp(os.P_WAIT, ...)` -> `run([...]).returncode`"
   ]
  },
  {
   "cell_type": "code",
   "execution_count": 29,
   "id": "4c888e41-935b-4af6-9bdd-febf2601ff28",
   "metadata": {},
   "outputs": [
    {
     "name": "stdout",
     "output_type": "stream",
     "text": [
      "Hello World!\n"
     ]
    }
   ],
   "source": [
    "process = subprocess.run(('echo', 'Hello World!'))"
   ]
  },
  {
   "cell_type": "code",
   "execution_count": 30,
   "id": "72814315-5aa0-44a4-9497-508a038c4654",
   "metadata": {},
   "outputs": [
    {
     "data": {
      "text/plain": [
       "'__class__, __class_getitem__, __delattr__, __dict__, __dir__, __doc__, __eq__, __format__, __ge__, __getattribute__, __gt__, __hash__, __init__, __init_subclass__, __le__, __lt__, __module__, __ne__, __new__, __reduce__, __reduce_ex__, __repr__, __setattr__, __sizeof__, __str__, __subclasshook__, __weakref__, args, check_returncode, returncode, stderr, stdout'"
      ]
     },
     "execution_count": 30,
     "metadata": {},
     "output_type": "execute_result"
    }
   ],
   "source": [
    "', '.join(dir(process))"
   ]
  },
  {
   "cell_type": "code",
   "execution_count": 31,
   "id": "4f318409-9ee8-4a99-9020-bbf6e7706b71",
   "metadata": {},
   "outputs": [
    {
     "data": {
      "text/plain": [
       "('echo', 'Hello World!')"
      ]
     },
     "execution_count": 31,
     "metadata": {},
     "output_type": "execute_result"
    }
   ],
   "source": [
    "process.args"
   ]
  },
  {
   "cell_type": "code",
   "execution_count": 32,
   "id": "ac9c7645-8276-4f6d-9fc7-99fe78d6f572",
   "metadata": {},
   "outputs": [],
   "source": [
    "process.check_returncode()"
   ]
  },
  {
   "cell_type": "code",
   "execution_count": 33,
   "id": "ce63e66f-aacb-4389-914f-6874468caa1b",
   "metadata": {},
   "outputs": [
    {
     "data": {
      "text/plain": [
       "0"
      ]
     },
     "execution_count": 33,
     "metadata": {},
     "output_type": "execute_result"
    }
   ],
   "source": [
    "process.returncode"
   ]
  },
  {
   "cell_type": "code",
   "execution_count": 34,
   "id": "79747fef-106b-4e28-94ea-6d5a68291c86",
   "metadata": {
    "tags": []
   },
   "outputs": [],
   "source": [
    "process.stdout"
   ]
  },
  {
   "cell_type": "code",
   "execution_count": 36,
   "id": "abd8b3dd-3bd2-4257-b3a9-68160572343f",
   "metadata": {},
   "outputs": [
    {
     "data": {
      "text/plain": [
       "CompletedProcess(args=('sleep', '5'), returncode=0)"
      ]
     },
     "execution_count": 36,
     "metadata": {},
     "output_type": "execute_result"
    }
   ],
   "source": [
    "process = subprocess.run(('sleep', '5'), stdout=subprocess.DEVNULL, stderr=subprocess.DEVNULL)\n",
    "process"
   ]
  },
  {
   "cell_type": "markdown",
   "id": "27148fd3-4713-4495-99e5-93710638f393",
   "metadata": {},
   "source": [
    "## subprocess.Popen()\n",
    "constructor creating a process"
   ]
  },
  {
   "cell_type": "code",
   "execution_count": 38,
   "id": "54149f0e-9d4f-4ba8-857a-ca73ee499f4d",
   "metadata": {},
   "outputs": [
    {
     "name": "stdout",
     "output_type": "stream",
     "text": [
      "Hello World!\n",
      "Hello World!\n"
     ]
    }
   ],
   "source": [
    "# This waits for the sub-process\n",
    "process = subprocess.Popen(('echo', 'Hello World!'))"
   ]
  },
  {
   "cell_type": "code",
   "execution_count": 39,
   "id": "8f8dd496-e465-43c3-9cc6-41203ff1ad37",
   "metadata": {},
   "outputs": [
    {
     "data": {
      "text/plain": [
       "-15"
      ]
     },
     "execution_count": 39,
     "metadata": {},
     "output_type": "execute_result"
    }
   ],
   "source": [
    "# This does not wait\n",
    "process = subprocess.Popen(('sleep', '5'), stdout=subprocess.DEVNULL, stderr=subprocess.DEVNULL)\n",
    "process.terminate()\n",
    "process.wait()"
   ]
  },
  {
   "cell_type": "code",
   "execution_count": 41,
   "id": "990cbf8e-67fa-4892-8a63-6dfd9573a9c6",
   "metadata": {},
   "outputs": [
    {
     "name": "stdout",
     "output_type": "stream",
     "text": [
      "Hello World!\n"
     ]
    }
   ],
   "source": [
    "process = subprocess.Popen(('sh', '-c', 'echo Hello World!'))"
   ]
  },
  {
   "cell_type": "code",
   "execution_count": 42,
   "id": "dbf1cbe0-a9b1-4466-95c4-7417a1bc1991",
   "metadata": {},
   "outputs": [
    {
     "data": {
      "text/plain": [
       "<Popen: returncode: None args: ('sh', '-c', 'for i in $(seq 5) ; do echo $i ...>"
      ]
     },
     "execution_count": 42,
     "metadata": {},
     "output_type": "execute_result"
    },
    {
     "name": "stdout",
     "output_type": "stream",
     "text": [
      "1\n",
      "2\n",
      "3\n",
      "4\n",
      "5\n"
     ]
    }
   ],
   "source": [
    "# Does not wait\n",
    "process = subprocess.Popen(('sh', '-c', 'for i in $(seq 5) ; do echo $i ; sleep 1 ; done'))\n",
    "process"
   ]
  },
  {
   "cell_type": "markdown",
   "id": "e55df2b9-6149-4acc-96f5-82edcb640c5e",
   "metadata": {},
   "source": [
    "## Async\n",
    "* https://stackoverflow.com/a/34572974/320437"
   ]
  }
 ],
 "metadata": {
  "kernelspec": {
   "display_name": "Python 3 (ipykernel)",
   "language": "python",
   "name": "python3"
  },
  "language_info": {
   "codemirror_mode": {
    "name": "ipython",
    "version": 3
   },
   "file_extension": ".py",
   "mimetype": "text/x-python",
   "name": "python",
   "nbconvert_exporter": "python",
   "pygments_lexer": "ipython3",
   "version": "3.10.4"
  }
 },
 "nbformat": 4,
 "nbformat_minor": 5
}
