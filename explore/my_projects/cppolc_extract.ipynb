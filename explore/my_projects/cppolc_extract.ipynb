{
 "cells": [
  {
   "cell_type": "code",
   "execution_count": 99,
   "id": "492318c4-3a2d-4251-a56d-313a6aed5100",
   "metadata": {},
   "outputs": [],
   "source": [
    "from __future__ import annotations\n",
    "\n",
    "import re\n",
    "\n",
    "from typing import Any, Final\n",
    "\n",
    "RE_L_S_BOUNDARY: Final[str] = r\"(?<!\\S)\"\n",
    "\"\"\"regex left whitespace boundary\"\"\"\n",
    "RE_R_S_BOUNDARY: Final[str] = r\"(?!\\S)\"\n",
    "\"\"\"regex right whitespace boundary\"\"\"\n",
    "\n",
    "class SelfObj:\n",
    "    def __init__(self) -> None:\n",
    "        self.START_STRING = \"[cppolc \"\n",
    "        self.END_STRING = \"]\"\n",
    "        self.start_string_re = re.escape(self.START_STRING)\n",
    "        self.end_string_re = re.escape(self.END_STRING)\n",
    "\n",
    "self = SelfObj()\n",
    "        \n",
    "def _parse_string(string: str):\n",
    "    \"\"\"Parse the meta information from string.\n",
    "\n",
    "    Example:\n",
    "        >>> obj = RuleMetainfo()\n",
    "        >>> obj._parse_string(\"[cppolc]\")\n",
    "        ''\n",
    "    \"\"\"\n",
    "    metainfo_re = (\n",
    "        fr\"{RE_L_S_BOUNDARY}{self.start_string_re}(?P<content>.*?)\"\n",
    "        fr\"{self.end_string_re}{RE_R_S_BOUNDARY}\")\n",
    "    matches = list(re.finditer(metainfo_re, string))\n",
    "    print(f\"{len(string)=}\")\n",
    "    print(f\"{len(matches)=}\")\n",
    "    if matches:\n",
    "        distances = (matches[0].start(), len(string) - matches[-1].end())\n",
    "        split_index = matches[0].start() if distances[0] < distances[1] else matches[-1].end()\n",
    "        print(f\"{distances=} {split_index=}\")\n",
    "        strings_extr = [string[:split_index], string[split_index:]]\n",
    "        print('; '.join(f\"{m.start()}:{m.end()} {m['content']}\" for m in matches))\n",
    "    for index, string_extr in enumerate(strings_extr):\n",
    "        strings_extr[index] = re.sub(fr\"\\s*{metainfo_re}\\s*\", ' ', string_extr).strip()\n",
    "    print(f\"{strings_extr=}\")\n",
    "    statements = []\n",
    "    for match in matches:\n",
    "        statements.extend(match[\"content\"].split())\n",
    "    print(f\"{statements=}\")\n",
    "\n",
    "    if statements:\n",
    "        statements_str = f\"{self.START_STRING}{' '.join(statements)}{self.END_STRING}\"\n",
    "    composed_string = ' '.join(filter(None, (strings_extr[0], statements_str, strings_extr[1])))\n",
    "    print(f\"{composed_string=}\")"
   ]
  },
  {
   "cell_type": "code",
   "execution_count": 105,
   "id": "5008db3b-f638-45e0-9423-dd17d3a48031",
   "metadata": {},
   "outputs": [
    {
     "name": "stdout",
     "output_type": "stream",
     "text": [
      "len(string)=60\n",
      "len(matches)=2\n",
      "distances=(13, 0) split_index=60\n",
      "13:36 ahoj    nazdar; 45:60 sdkjsd\n",
      "strings_extr=['tohle   je comment', '']\n",
      "statements=['ahoj', 'nazdar', 'sdkjsd']\n",
      "composed_string='tohle   je comment [cppolc ahoj nazdar sdkjsd]'\n"
     ]
    }
   ],
   "source": [
    "_parse_string(\"tohle   je   [cppolc ahoj    nazdar] comment [cppolc sdkjsd]\")"
   ]
  }
 ],
 "metadata": {
  "kernelspec": {
   "display_name": "Python 3 (ipykernel)",
   "language": "python",
   "name": "python3"
  },
  "language_info": {
   "codemirror_mode": {
    "name": "ipython",
    "version": 3
   },
   "file_extension": ".py",
   "mimetype": "text/x-python",
   "name": "python",
   "nbconvert_exporter": "python",
   "pygments_lexer": "ipython3",
   "version": "3.10.4"
  }
 },
 "nbformat": 4,
 "nbformat_minor": 5
}
