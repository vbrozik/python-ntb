{
 "cells": [
  {
   "cell_type": "markdown",
   "id": "6436db95-dd39-4b92-960f-da1de336c8ad",
   "metadata": {},
   "source": [
    "# Function definition"
   ]
  },
  {
   "cell_type": "markdown",
   "id": "b9f35990-b665-4d11-9d59-8a68215dd15f",
   "metadata": {},
   "source": [
    "## Argument types\n",
    "\n",
    "* https://docs.python.org/3/tutorial/controlflow.html#more-on-defining-functions\n",
    "* specification type\n",
    "  * positional\n",
    "  * positional only - before `/` mark - https://peps.python.org/pep-0570/\n",
    "  * keyword\n",
    "  * keyword only - after `*` mark - \n",
    "* x\n",
    "  * optional\n",
    "  * required"
   ]
  },
  {
   "cell_type": "code",
   "execution_count": 2,
   "id": "4b2bdff7-c2f4-4b0f-bebd-c81d11fc2308",
   "metadata": {},
   "outputs": [],
   "source": [
    "def name(positional_only_arguments, /, positional_or_keyword_arguments, *, keyword_only_arguments): ..."
   ]
  },
  {
   "cell_type": "markdown",
   "id": "7f7bbbb0-cccd-491b-8726-19f30e206ca5",
   "metadata": {},
   "source": [
    "Use of `/` make the positional argument name completely hiddent for the caller. The name can be even used for another keyword argument:"
   ]
  },
  {
   "cell_type": "code",
   "execution_count": 1,
   "id": "6fec7fa6-442e-46ec-b850-bbf1f0f019f0",
   "metadata": {},
   "outputs": [
    {
     "data": {
      "text/plain": [
       "True"
      ]
     },
     "execution_count": 1,
     "metadata": {},
     "output_type": "execute_result"
    }
   ],
   "source": [
    "def foo(name, /, **kwds):\n",
    "    return 'name' in kwds\n",
    "\n",
    "foo(None, name=None)"
   ]
  },
  {
   "cell_type": "code",
   "execution_count": 3,
   "id": "2ba67f88-b545-4017-ab41-d21a6d610733",
   "metadata": {},
   "outputs": [],
   "source": [
    "def function1(*args, **kwargs): ..."
   ]
  },
  {
   "cell_type": "code",
   "execution_count": 4,
   "id": "a9ca061a-d512-4818-9a56-e857b521fa28",
   "metadata": {},
   "outputs": [],
   "source": [
    "def function1(positional_mandatory, positional_optional=None): ..."
   ]
  }
 ],
 "metadata": {
  "kernelspec": {
   "display_name": "Python 3 (ipykernel)",
   "language": "python",
   "name": "python3"
  },
  "language_info": {
   "codemirror_mode": {
    "name": "ipython",
    "version": 3
   },
   "file_extension": ".py",
   "mimetype": "text/x-python",
   "name": "python",
   "nbconvert_exporter": "python",
   "pygments_lexer": "ipython3",
   "version": "3.10.4"
  }
 },
 "nbformat": 4,
 "nbformat_minor": 5
}
