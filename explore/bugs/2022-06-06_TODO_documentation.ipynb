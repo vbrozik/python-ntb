{
 "cells": [
  {
   "cell_type": "markdown",
   "id": "738d0728-fd45-4f11-9456-93a3ca92c76c",
   "metadata": {},
   "source": [
    "https://github.com/python/cpython/blob/main/Doc/faq/design.rst#why-does-python-allow-commas-at-the-end-of-lists-and-tuples\n",
    "\n",
    "reason - consistency with single member tuple"
   ]
  }
 ],
 "metadata": {
  "kernelspec": {
   "display_name": "Python 3 (ipykernel)",
   "language": "python",
   "name": "python3"
  },
  "language_info": {
   "codemirror_mode": {
    "name": "ipython",
    "version": 3
   },
   "file_extension": ".py",
   "mimetype": "text/x-python",
   "name": "python",
   "nbconvert_exporter": "python",
   "pygments_lexer": "ipython3",
   "version": "3.10.4"
  }
 },
 "nbformat": 4,
 "nbformat_minor": 5
}
