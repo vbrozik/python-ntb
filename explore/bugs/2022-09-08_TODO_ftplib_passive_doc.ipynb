{
 "cells": [
  {
   "cell_type": "markdown",
   "id": "b59a4276-f6b5-4ba8-89ff-74388f6c95e7",
   "metadata": {},
   "source": [
    "# ftplib documentation - missing passive mode nonstandard behaviour description\n",
    "\n",
    "* https://www.rfc-editor.org/rfc/rfc959\n",
    "* https://www.rfc-editor.org/rfc/rfc1123.html#page-31 - details about PASV implementation\n",
    "* https://www.rfc-editor.org/rfc/rfc2577 - FTP Security Considerations - mentions only bounce attack\n",
    "\n",
    "* https://www.kb.cert.org/vuls/id/2558\n",
    "* https://nvd.nist.gov/vuln/detail/CVE-2021-4189\n",
    "By default ftplib ignores the IP address returned by the FTP server which the client is supposed to connect to. It is a workaround for security vulnerability in the FTP protocol.\n",
    "\n",
    "Fix created by https://github.com/gpshead\n",
    "\n",
    "* The issue: https://github.com/python/cpython/issues/87451\n",
    "* The PR (master for 3.10): https://github.com/python/cpython/pull/24838\n",
    "  * The commit (master for 3.10): https://github.com/python/cpython/commit/0ab152c6b5d95caa2dc1a30fa96e10258b5f188e\n",
    "  \n",
    "* The Changelog entry (the only \"documentation\"): https://docs.python.org/3.10/whatsnew/changelog.html#id105\n",
    "\n",
    "It was intentionaly undocumented. The arguments:\n",
    "> ftplib docs... I don't actually want to document the attribute that people can set for the old behavior beyond the notes in NEWS or What's New. It is something I anticipate nobody in the world ever actually setting so I'd rather not imply that anyone even should by giving it more prominent doc space.\n",
    "\n",
    "## Examples of other FTP clients:\n",
    "\n",
    "* curl https://curl.se/docs/CVE-2020-8284.html - documented"
   ]
  }
 ],
 "metadata": {
  "kernelspec": {
   "display_name": "Python 3 (ipykernel)",
   "language": "python",
   "name": "python3"
  },
  "language_info": {
   "codemirror_mode": {
    "name": "ipython",
    "version": 3
   },
   "file_extension": ".py",
   "mimetype": "text/x-python",
   "name": "python",
   "nbconvert_exporter": "python",
   "pygments_lexer": "ipython3",
   "version": "3.10.4"
  }
 },
 "nbformat": 4,
 "nbformat_minor": 5
}
