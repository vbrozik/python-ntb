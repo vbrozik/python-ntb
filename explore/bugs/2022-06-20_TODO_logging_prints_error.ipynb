{
 "cells": [
  {
   "cell_type": "markdown",
   "id": "64ad8635-f10c-45f4-8a86-8a4c2fbd92af",
   "metadata": {},
   "source": [
    "* https://discuss.python.org/t/win32com-client/16617/4\n",
    "* https://github.com/python/cpython/blob/3.10/Lib/logging/handlers.py#L1075\n",
    "* https://github.com/python/cpython/blob/main/Lib/logging/handlers.py#L1088"
   ]
  },
  {
   "cell_type": "code",
   "execution_count": 2,
   "id": "0063f43a-5dcb-4270-9292-401dfac4d259",
   "metadata": {
    "tags": []
   },
   "outputs": [],
   "source": [
    "import logging\n",
    "...\n",
    "\n",
    "class NTEventLogHandler(logging.Handler):\n",
    "    ...\n",
    "    def __init__(self, appname, dllname=None, logtype=\"Application\"):\n",
    "        ...\n",
    "        try:\n",
    "            import win32evtlogutil, win32evtlog\n",
    "            ...\n",
    "        except ImportError:\n",
    "            print(\"The Python Win32 extensions for NT (service, event \"\\\n",
    "                        \"logging) appear not to be available.\")\n",
    "            ..."
   ]
  },
  {
   "cell_type": "markdown",
   "id": "1bab8800-dd6e-48fb-8d0a-c78844d5ac06",
   "metadata": {},
   "source": [
    "The class `NTEventLogHandler` is the only one in the module `logging.handlers` which:\n",
    "* Imports 3rd party modules\n",
    "* uses `print(error_message)` and prints error message to stdout\n",
    "\n",
    "It does not notify the caller about the error."
   ]
  }
 ],
 "metadata": {
  "kernelspec": {
   "display_name": "Python 3 (ipykernel)",
   "language": "python",
   "name": "python3"
  },
  "language_info": {
   "codemirror_mode": {
    "name": "ipython",
    "version": 3
   },
   "file_extension": ".py",
   "mimetype": "text/x-python",
   "name": "python",
   "nbconvert_exporter": "python",
   "pygments_lexer": "ipython3",
   "version": "3.10.4"
  }
 },
 "nbformat": 4,
 "nbformat_minor": 5
}
