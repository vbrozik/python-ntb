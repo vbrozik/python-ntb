{
 "cells": [
  {
   "cell_type": "markdown",
   "id": "64d40a20-055f-45ac-a8da-418ec43abf47",
   "metadata": {},
   "source": [
    "## Assignment to a variable\n",
    "In Python\n",
    "* Everything is an object.\n",
    "* Variables are labels for objects. Objects is assigned to a variable.\n",
    "* Variable does not represent a place in memory (like in C), it represents a name for an object."
   ]
  },
  {
   "cell_type": "code",
   "execution_count": 1,
   "id": "f441d872-97a1-4ab5-947a-a128dc6231dd",
   "metadata": {},
   "outputs": [
    {
     "data": {
      "text/plain": [
       "139941830017264"
      ]
     },
     "execution_count": 1,
     "metadata": {},
     "output_type": "execute_result"
    }
   ],
   "source": [
    "# assignment assigns an object to a name:\n",
    "a = 1\n",
    "# unique identifier of the object (unique during object lifetime)\n",
    "id(a)"
   ]
  },
  {
   "cell_type": "code",
   "execution_count": 2,
   "id": "db27f377-c189-4151-a29a-4bf3f2b3a588",
   "metadata": {},
   "outputs": [
    {
     "data": {
      "text/plain": [
       "139941830017264"
      ]
     },
     "execution_count": 2,
     "metadata": {},
     "output_type": "execute_result"
    }
   ],
   "source": [
    "b = a\n",
    "# b points to the same object!\n",
    "id(b)"
   ]
  },
  {
   "cell_type": "code",
   "execution_count": 3,
   "id": "79181480-8d6c-4422-976e-18ebdc9e9613",
   "metadata": {},
   "outputs": [
    {
     "data": {
      "text/plain": [
       "True"
      ]
     },
     "execution_count": 3,
     "metadata": {},
     "output_type": "execute_result"
    }
   ],
   "source": [
    "# we can check this using the operator is\n",
    "a is b"
   ]
  },
  {
   "cell_type": "code",
   "execution_count": 49,
   "id": "caee27db-bd8f-4091-82ae-16fd45a04fe9",
   "metadata": {},
   "outputs": [
    {
     "data": {
      "text/plain": [
       "False"
      ]
     },
     "execution_count": 49,
     "metadata": {},
     "output_type": "execute_result"
    }
   ],
   "source": [
    "# some common immutable object values can be represented by a single instance of the object (similar to singleton object)\n",
    "# So even c can point to the same object!\n",
    "c = 1\n",
    "c is a"
   ]
  },
  {
   "cell_type": "code",
   "execution_count": 7,
   "id": "28d94720-ff08-4d5d-88ae-ed11abf55d67",
   "metadata": {},
   "outputs": [
    {
     "data": {
      "text/plain": [
       "True"
      ]
     },
     "execution_count": 7,
     "metadata": {},
     "output_type": "execute_result"
    }
   ],
   "source": [
    "# even d where the value is a result of computation\n",
    "d = 4 // 4\n",
    "d is a"
   ]
  },
  {
   "cell_type": "code",
   "execution_count": 8,
   "id": "7a681aad-4548-4893-abf6-c85a1a830453",
   "metadata": {},
   "outputs": [
    {
     "data": {
      "text/plain": [
       "False"
      ]
     },
     "execution_count": 8,
     "metadata": {},
     "output_type": "execute_result"
    }
   ],
   "source": [
    "# assigning a new value does not mutate the object\n",
    "b = 2\n",
    "# b now contains a different object\n",
    "b is a"
   ]
  },
  {
   "cell_type": "code",
   "execution_count": 11,
   "id": "bf965b2d-93ed-4a7c-8a34-b759c014315b",
   "metadata": {},
   "outputs": [
    {
     "data": {
      "text/plain": [
       "False"
      ]
     },
     "execution_count": 11,
     "metadata": {},
     "output_type": "execute_result"
    }
   ],
   "source": [
    "# Also augmented assignment is an assignment.\n",
    "# When applied to an immutable object the variable will normaly point to a different object after the operation.\n",
    "c += 1\n",
    "c is a"
   ]
  },
  {
   "cell_type": "markdown",
   "id": "bc03363a-65c3-4d64-a2e4-9ae4d3f10b5e",
   "metadata": {},
   "source": [
    "## Augmented assignment\n",
    "The operation can differ between mutable and immutable arguments."
   ]
  },
  {
   "cell_type": "code",
   "execution_count": 14,
   "id": "9218504f-bbc3-4a02-9c1a-85d4e08fda53",
   "metadata": {},
   "outputs": [
    {
     "data": {
      "text/plain": [
       "[1, 2, 3, 4]"
      ]
     },
     "execution_count": 14,
     "metadata": {},
     "output_type": "execute_result"
    }
   ],
   "source": [
    "a = [1, 2]\n",
    "b = [3, 4]\n",
    "c = a   # c labels the same object\n",
    "a += b\n",
    "c       # the augmented assignment mutated the object labeled both by a and c"
   ]
  },
  {
   "cell_type": "code",
   "execution_count": 43,
   "id": "b2f5a954-6ad7-4a29-a912-4b95002cfdbb",
   "metadata": {},
   "outputs": [],
   "source": [
    "a = (1, 2)\n",
    "b = (3, 4)\n",
    "c = a           # c labels the same object\n",
    "id_a_1 = id(a)  # let's store the object's id for later comparison\n",
    "a += b"
   ]
  },
  {
   "cell_type": "code",
   "execution_count": 47,
   "id": "5b8b9924-cdd2-474e-a848-f069a85116f7",
   "metadata": {},
   "outputs": [
    {
     "data": {
      "text/plain": [
       "(1, 2)"
      ]
     },
     "execution_count": 47,
     "metadata": {},
     "output_type": "execute_result"
    }
   ],
   "source": [
    "c               # the original object could not have been changed, tuple is immutable"
   ]
  },
  {
   "cell_type": "code",
   "execution_count": 44,
   "id": "d63e8708-5b32-4311-84eb-c1b7d4059c75",
   "metadata": {},
   "outputs": [
    {
     "data": {
      "text/plain": [
       "True"
      ]
     },
     "execution_count": 44,
     "metadata": {},
     "output_type": "execute_result"
    }
   ],
   "source": [
    "id_a_1 == id(c)  # c still labels the object which was originally also labeled by a"
   ]
  },
  {
   "cell_type": "code",
   "execution_count": 45,
   "id": "137e21a3-2186-4c8e-82d0-76409eb79f99",
   "metadata": {},
   "outputs": [
    {
     "data": {
      "text/plain": [
       "(1, 2, 3, 4)"
      ]
     },
     "execution_count": 45,
     "metadata": {},
     "output_type": "execute_result"
    }
   ],
   "source": [
    "a                # a contains the concatenation of tuples"
   ]
  },
  {
   "cell_type": "code",
   "execution_count": 23,
   "id": "ad4f55e3-e6f0-418e-a92c-d8b1a4051fa3",
   "metadata": {},
   "outputs": [
    {
     "data": {
      "text/plain": [
       "False"
      ]
     },
     "execution_count": 23,
     "metadata": {},
     "output_type": "execute_result"
    }
   ],
   "source": [
    "id_a_1 == id(a)   # but it is a newly created object"
   ]
  },
  {
   "cell_type": "code",
   "execution_count": 30,
   "id": "993da4ae-78f3-43b2-a4ba-bdbf580a43dd",
   "metadata": {},
   "outputs": [
    {
     "data": {
      "text/plain": [
       "([1], [])"
      ]
     },
     "execution_count": 30,
     "metadata": {},
     "output_type": "execute_result"
    }
   ],
   "source": [
    "a = ([], [])\n",
    "a[0].append(1)   # elements of immutable object can be mutated\n",
    "a"
   ]
  },
  {
   "cell_type": "code",
   "execution_count": 32,
   "id": "a9d054b2-8947-4b10-b62c-2d327f1398d1",
   "metadata": {},
   "outputs": [
    {
     "ename": "TypeError",
     "evalue": "'tuple' object does not support item assignment",
     "output_type": "error",
     "traceback": [
      "\u001b[0;31m---------------------------------------------------------------------------\u001b[0m",
      "\u001b[0;31mTypeError\u001b[0m                                 Traceback (most recent call last)",
      "Input \u001b[0;32mIn [32]\u001b[0m, in \u001b[0;36m<cell line: 2>\u001b[0;34m()\u001b[0m\n\u001b[1;32m      1\u001b[0m \u001b[38;5;66;03m# but you cannot assign a new object to them\u001b[39;00m\n\u001b[0;32m----> 2\u001b[0m a[\u001b[38;5;241m0\u001b[39m] \u001b[38;5;241m=\u001b[39m [\u001b[38;5;241m2\u001b[39m]\n",
      "\u001b[0;31mTypeError\u001b[0m: 'tuple' object does not support item assignment"
     ]
    }
   ],
   "source": [
    "# but you cannot assign a new object to them\n",
    "a[0] = [2]"
   ]
  },
  {
   "cell_type": "code",
   "execution_count": 35,
   "id": "179c346f-5613-40da-98c1-52fda0e407c7",
   "metadata": {},
   "outputs": [
    {
     "ename": "TypeError",
     "evalue": "'tuple' object does not support item assignment",
     "output_type": "error",
     "traceback": [
      "\u001b[0;31m---------------------------------------------------------------------------\u001b[0m",
      "\u001b[0;31mTypeError\u001b[0m                                 Traceback (most recent call last)",
      "Input \u001b[0;32mIn [35]\u001b[0m, in \u001b[0;36m<cell line: 2>\u001b[0;34m()\u001b[0m\n\u001b[1;32m      1\u001b[0m \u001b[38;5;66;03m# augmented assignment fails:\u001b[39;00m\n\u001b[0;32m----> 2\u001b[0m a[\u001b[38;5;241m0\u001b[39m] \u001b[38;5;241m+\u001b[39m\u001b[38;5;241m=\u001b[39m [\u001b[38;5;241m2\u001b[39m]\n",
      "\u001b[0;31mTypeError\u001b[0m: 'tuple' object does not support item assignment"
     ]
    }
   ],
   "source": [
    "# augmented assignment fails:\n",
    "a[0] += [2]"
   ]
  },
  {
   "cell_type": "code",
   "execution_count": 37,
   "id": "bd835d8b-732d-4015-8013-c7a23d921d98",
   "metadata": {},
   "outputs": [
    {
     "data": {
      "text/plain": [
       "([1, 2, 2, 2], [])"
      ]
     },
     "execution_count": 37,
     "metadata": {},
     "output_type": "execute_result"
    }
   ],
   "source": [
    "# but the object in a[0] is mutated!!!\n",
    "a"
   ]
  },
  {
   "cell_type": "markdown",
   "id": "4b0b10f2-047a-4dc8-913d-ec884c9a6d11",
   "metadata": {},
   "source": [
    "because augmented assignment:\n",
    "1. calls `__iadd__()` which successfuly mutates the object\n",
    "2. performs assignment which fails"
   ]
  },
  {
   "cell_type": "code",
   "execution_count": 48,
   "id": "7397afc7-abd6-4cfe-b6fa-a20d564ec3d3",
   "metadata": {},
   "outputs": [
    {
     "data": {
      "text/plain": [
       "[1, 2, 3, 4]"
      ]
     },
     "execution_count": 48,
     "metadata": {},
     "output_type": "execute_result"
    }
   ],
   "source": [
    "a = [1, 2]\n",
    "a.__iadd__([3, 4])\n",
    "a"
   ]
  },
  {
   "cell_type": "markdown",
   "id": "6a8cf1b6-b18c-4381-bca9-aff4d4a95e4d",
   "metadata": {},
   "source": [
    "## Built in singleton-like obje\n",
    "These are required to be singletons."
   ]
  },
  {
   "cell_type": "code",
   "execution_count": 42,
   "id": "d22e9f34-cab0-4cac-8888-a3dde0c0f2ea",
   "metadata": {},
   "outputs": [
    {
     "name": "stdout",
     "output_type": "stream",
     "text": [
      "None is None =    True\n",
      "True is True =    True\n",
      "False is False =  True\n",
      "\n"
     ]
    }
   ],
   "source": [
    "print(\n",
    "    f'{None is None =    }\\n'\n",
    "    f'{True is True =    }\\n'\n",
    "    f'{False is False =  }\\n'\n",
    ")"
   ]
  }
 ],
 "metadata": {
  "kernelspec": {
   "display_name": "Python 3 (ipykernel)",
   "language": "python",
   "name": "python3"
  },
  "language_info": {
   "codemirror_mode": {
    "name": "ipython",
    "version": 3
   },
   "file_extension": ".py",
   "mimetype": "text/x-python",
   "name": "python",
   "nbconvert_exporter": "python",
   "pygments_lexer": "ipython3",
   "version": "3.10.4"
  }
 },
 "nbformat": 4,
 "nbformat_minor": 5
}
