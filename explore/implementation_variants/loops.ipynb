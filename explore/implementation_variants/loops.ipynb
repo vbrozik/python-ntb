{
 "cells": [
  {
   "cell_type": "markdown",
   "id": "19a84ba7-7178-4caf-b073-8a022577dd8d",
   "metadata": {},
   "source": [
    "## Loop with end condition and counter"
   ]
  },
  {
   "cell_type": "code",
   "execution_count": 1,
   "id": "e7a06187-72b9-4140-9e0d-7d2892478ea5",
   "metadata": {},
   "outputs": [],
   "source": [
    "# common loop body\n",
    "def do_something(money):\n",
    "    return money - 2"
   ]
  },
  {
   "cell_type": "markdown",
   "id": "4b9777da-2c9a-4848-9c19-d8d544e13e1d",
   "metadata": {},
   "source": [
    "### While loop"
   ]
  },
  {
   "cell_type": "code",
   "execution_count": 5,
   "id": "bbd0be70-c269-4bb4-9a2f-174240925cff",
   "metadata": {},
   "outputs": [
    {
     "data": {
      "text/plain": [
       "5"
      ]
     },
     "execution_count": 5,
     "metadata": {},
     "output_type": "execute_result"
    }
   ],
   "source": [
    "current_money = 10\n",
    "count = 0\n",
    "while current_money != 0:\n",
    "    current_money = do_something(current_money)\n",
    "    count += 1\n",
    "count"
   ]
  },
  {
   "cell_type": "markdown",
   "id": "ac6f6faa-31a7-4e6f-8976-39632e82d638",
   "metadata": {},
   "source": [
    "### For loop"
   ]
  },
  {
   "cell_type": "code",
   "execution_count": 6,
   "id": "6002cb3e-a4e3-434d-84ec-07906fc4df47",
   "metadata": {},
   "outputs": [
    {
     "data": {
      "text/plain": [
       "5"
      ]
     },
     "execution_count": 6,
     "metadata": {},
     "output_type": "execute_result"
    }
   ],
   "source": [
    "import itertools\n",
    "\n",
    "current_money = 10\n",
    "for count in itertools.count(start=1):\n",
    "    current_money = do_something(current_money)\n",
    "    if current_money <= 0:\n",
    "        break\n",
    "count"
   ]
  },
  {
   "cell_type": "markdown",
   "id": "4cb77fc1-afd8-4094-afdf-cc4f0d8d2da2",
   "metadata": {},
   "source": [
    "### Functional"
   ]
  },
  {
   "cell_type": "code",
   "execution_count": 7,
   "id": "3feb53bd-8a72-410b-af89-48bd6b1ca9d5",
   "metadata": {},
   "outputs": [
    {
     "data": {
      "text/plain": [
       "5"
      ]
     },
     "execution_count": 7,
     "metadata": {},
     "output_type": "execute_result"
    }
   ],
   "source": [
    "def looper(data, operation, end_condition, count):\n",
    "    return (\n",
    "            (data, count) if end_condition(data)\n",
    "            else looper(operation(data), operation, end_condition, count + 1))\n",
    "\n",
    "looper(10, do_something, lambda x: x <= 0, 0)[1]"
   ]
  }
 ],
 "metadata": {
  "kernelspec": {
   "display_name": "Python 3 (ipykernel)",
   "language": "python",
   "name": "python3"
  },
  "language_info": {
   "codemirror_mode": {
    "name": "ipython",
    "version": 3
   },
   "file_extension": ".py",
   "mimetype": "text/x-python",
   "name": "python",
   "nbconvert_exporter": "python",
   "pygments_lexer": "ipython3",
   "version": "3.10.4"
  }
 },
 "nbformat": 4,
 "nbformat_minor": 5
}
