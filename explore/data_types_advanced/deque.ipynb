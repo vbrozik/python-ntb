{
 "cells": [
  {
   "cell_type": "markdown",
   "id": "f270418d-a2dc-453c-a704-73c1f477701c",
   "metadata": {},
   "source": [
    "# Deque\n",
    "* [Double-ended queue](https://en.wikipedia.org/wiki/Double-ended_queue)\n",
    "* https://docs.python.org/3/library/collections.html#collections.deque"
   ]
  },
  {
   "cell_type": "code",
   "execution_count": 1,
   "id": "61775dac-5573-462f-9e82-0f68023c7dd2",
   "metadata": {},
   "outputs": [],
   "source": [
    "from collections import deque"
   ]
  },
  {
   "cell_type": "code",
   "execution_count": 12,
   "id": "d8fce95a-f79c-4077-8fd5-b3d4fc513edb",
   "metadata": {},
   "outputs": [
    {
     "data": {
      "text/plain": [
       "deque([0, 1, 2, 3, 4, 5, 6, 7, 8, 9])"
      ]
     },
     "execution_count": 12,
     "metadata": {},
     "output_type": "execute_result"
    }
   ],
   "source": [
    "d = deque(range(10), 10)\n",
    "d"
   ]
  },
  {
   "cell_type": "code",
   "execution_count": 3,
   "id": "db84702c-5d6a-4cf0-87a6-9dd6682e2893",
   "metadata": {},
   "outputs": [
    {
     "data": {
      "text/plain": [
       "0"
      ]
     },
     "execution_count": 3,
     "metadata": {},
     "output_type": "execute_result"
    }
   ],
   "source": [
    "d[0]"
   ]
  },
  {
   "cell_type": "code",
   "execution_count": 13,
   "id": "f008246f-8b3b-47d3-b546-3d461b7524c4",
   "metadata": {},
   "outputs": [
    {
     "data": {
      "text/plain": [
       "1"
      ]
     },
     "execution_count": 13,
     "metadata": {},
     "output_type": "execute_result"
    }
   ],
   "source": [
    "d[1]"
   ]
  },
  {
   "cell_type": "code",
   "execution_count": 14,
   "id": "55dac200-e3e9-4ce8-a85e-962c166e8f01",
   "metadata": {},
   "outputs": [
    {
     "data": {
      "text/plain": [
       "deque([1, 2, 3, 4, 5, 6, 7, 8, 9, 3])"
      ]
     },
     "execution_count": 14,
     "metadata": {},
     "output_type": "execute_result"
    }
   ],
   "source": [
    "d.append(3)\n",
    "d"
   ]
  },
  {
   "cell_type": "markdown",
   "id": "14a960af-a32b-4e98-9914-cb348c815534",
   "metadata": {},
   "source": [
    "## Example: worker schedule\n",
    "* sequence of working / nonworking days\n",
    "* deque assures maintaining the sequence length"
   ]
  },
  {
   "cell_type": "code",
   "execution_count": 1,
   "id": "4fd9168f-8792-4fb4-84c5-97e287c07e5b",
   "metadata": {},
   "outputs": [],
   "source": [
    "from itertools import chain\n",
    "from collections import deque\n",
    "\n",
    "worker_A_schedule_weeks = (\n",
    "        [0,0,1,1,1,1,0], [0,0,0,0,0,0,1], [1,1,1,0,0,0,1], [1,1,0,1,1,1,0])"
   ]
  },
  {
   "cell_type": "code",
   "execution_count": 2,
   "id": "38bcd8e2-6d2c-4a22-9d02-ad671b1eff1a",
   "metadata": {},
   "outputs": [],
   "source": [
    "# FIFO using deque\n",
    "SCHEDULE_LENGTH = 28\n",
    "worker_A_schedule_days = deque(\n",
    "        chain.from_iterable(worker_A_schedule_weeks), SCHEDULE_LENGTH)\n",
    "\n",
    "worker_A_today = worker_A_schedule_days.popleft()\n",
    "worker_A_schedule_days.append(1)"
   ]
  },
  {
   "cell_type": "code",
   "execution_count": 3,
   "id": "9e6f3c3c-dc6f-4400-9343-3c8a3d68a0a9",
   "metadata": {},
   "outputs": [],
   "source": [
    "# FIFO using a normal list\n",
    "worker_A_schedule_days = list(chain.from_iterable(worker_A_schedule_weeks))\n",
    "\n",
    "worker_A_today = worker_A_schedule_days.pop(0)\n",
    "worker_A_schedule_days.append(1)"
   ]
  }
 ],
 "metadata": {
  "kernelspec": {
   "display_name": "Python 3 (ipykernel)",
   "language": "python",
   "name": "python3"
  },
  "language_info": {
   "codemirror_mode": {
    "name": "ipython",
    "version": 3
   },
   "file_extension": ".py",
   "mimetype": "text/x-python",
   "name": "python",
   "nbconvert_exporter": "python",
   "pygments_lexer": "ipython3",
   "version": "3.10.4"
  }
 },
 "nbformat": 4,
 "nbformat_minor": 5
}
